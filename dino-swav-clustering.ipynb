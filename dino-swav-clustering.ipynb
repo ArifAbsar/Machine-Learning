{
 "cells": [
  {
   "cell_type": "code",
   "execution_count": null,
   "metadata": {
    "_cell_guid": "b1076dfc-b9ad-4769-8c92-a6c4dae69d19",
    "_uuid": "8f2839f25d086af736a60e9eeb907d3b93b6e0e5",
    "execution": {
     "iopub.execute_input": "2024-12-13T15:48:56.260958Z",
     "iopub.status.busy": "2024-12-13T15:48:56.260550Z",
     "iopub.status.idle": "2024-12-13T15:49:13.076511Z",
     "shell.execute_reply": "2024-12-13T15:49:13.075524Z",
     "shell.execute_reply.started": "2024-12-13T15:48:56.260881Z"
    },
    "trusted": true
   },
   "outputs": [],
   "source": [
    "#!pip -q install lightly\n",
    "#!pip -q install tqdm\n"
   ]
  },
  {
   "cell_type": "code",
   "execution_count": 1,
   "metadata": {
    "execution": {
     "iopub.execute_input": "2024-12-13T15:49:13.079502Z",
     "iopub.status.busy": "2024-12-13T15:49:13.078808Z",
     "iopub.status.idle": "2024-12-13T15:49:17.393263Z",
     "shell.execute_reply": "2024-12-13T15:49:17.392328Z",
     "shell.execute_reply.started": "2024-12-13T15:49:13.079456Z"
    },
    "trusted": true
   },
   "outputs": [
    {
     "name": "stderr",
     "output_type": "stream",
     "text": [
      "f:\\Machine learning\\.venv\\Lib\\site-packages\\tqdm\\auto.py:21: TqdmWarning: IProgress not found. Please update jupyter and ipywidgets. See https://ipywidgets.readthedocs.io/en/stable/user_install.html\n",
      "  from .autonotebook import tqdm as notebook_tqdm\n",
      "f:\\Machine learning\\.venv\\Lib\\site-packages\\torchvision\\transforms\\v2\\_deprecated.py:42: UserWarning: The transform `ToTensor()` is deprecated and will be removed in a future release. Instead, please use `v2.Compose([v2.ToImage(), v2.ToDtype(torch.float32, scale=True)])`.Output is equivalent up to float precision.\n",
      "  warnings.warn(\n"
     ]
    }
   ],
   "source": [
    "import copy\n",
    "from torch.utils.data import Dataset, DataLoader\n",
    "import torch\n",
    "import torchvision\n",
    "from torch import nn\n",
    "from PIL import Image\n",
    "import os\n",
    "\n",
    "# Set the environment variable\n",
    "#os.environ['PYTORCH_CUDA_ALLOC_CONF'] = 'expandable_segments=True'\n",
    "\n",
    "from lightly.loss import DINOLoss\n",
    "from lightly.models.modules import DINOProjectionHead\n",
    "from lightly.models.utils import deactivate_requires_grad, update_momentum\n",
    "from lightly.transforms.dino_transform import DINOTransform\n",
    "from lightly.utils.scheduler import cosine_schedule\n",
    "from lightly.models.modules import SwaVProjectionHead, SwaVPrototypes\n",
    "\n",
    "class DINO(torch.nn.Module):\n",
    "    def __init__(self, backbone, input_dim):\n",
    "        super().__init__()\n",
    "        self.student_backbone = backbone\n",
    "        self.student_head = DINOProjectionHead(\n",
    "            input_dim, 512, 64, 2048, freeze_last_layer=1\n",
    "        )\n",
    "        self.teacher_backbone = copy.deepcopy(backbone)\n",
    "        self.teacher_head = DINOProjectionHead(input_dim, 512, 64, 512)\n",
    "        deactivate_requires_grad(self.teacher_backbone)\n",
    "        deactivate_requires_grad(self.teacher_head)\n",
    "\n",
    "    def forward(self, x):\n",
    "        y = self.student_backbone(x).flatten(start_dim=1)\n",
    "        z = self.student_head(y)\n",
    "        return z\n",
    "\n",
    "    def forward_teacher(self, x):\n",
    "        y = self.teacher_backbone(x).flatten(start_dim=1)\n",
    "        z = self.teacher_head(y)\n",
    "        return z\n"
   ]
  },
  {
   "cell_type": "code",
   "execution_count": 3,
   "metadata": {
    "execution": {
     "iopub.execute_input": "2024-12-13T15:49:17.394647Z",
     "iopub.status.busy": "2024-12-13T15:49:17.394374Z",
     "iopub.status.idle": "2024-12-13T15:49:17.398891Z",
     "shell.execute_reply": "2024-12-13T15:49:17.397958Z",
     "shell.execute_reply.started": "2024-12-13T15:49:17.394621Z"
    },
    "trusted": true
   },
   "outputs": [],
   "source": [
    "torch.cuda.empty_cache()\n"
   ]
  },
  {
   "cell_type": "code",
   "execution_count": 4,
   "metadata": {
    "execution": {
     "iopub.execute_input": "2024-12-13T15:49:17.400540Z",
     "iopub.status.busy": "2024-12-13T15:49:17.400199Z",
     "iopub.status.idle": "2024-12-13T15:49:17.414423Z",
     "shell.execute_reply": "2024-12-13T15:49:17.413600Z",
     "shell.execute_reply.started": "2024-12-13T15:49:17.400502Z"
    },
    "trusted": true
   },
   "outputs": [],
   "source": [
    "import torch\n",
    "import torchvision\n",
    "from torch import nn\n",
    "\n",
    "from lightly.loss import SwaVLoss\n",
    "from lightly.models.modules import SwaVProjectionHead, SwaVPrototypes\n",
    "from lightly.transforms.swav_transform import SwaVTransform\n",
    "\n",
    "class SwAVModel(torch.nn.Module):\n",
    "    def __init__(self, backbone, n_prototypes=3000):\n",
    "        super(SwAVModel, self).__init__()\n",
    "        self.backbone = backbone\n",
    "        self.projection_head = SwaVProjectionHead(input_dim=2048, hidden_dim=512, output_dim=128)\n",
    "        self.prototypes = SwaVPrototypes(input_dim=128, n_prototypes=n_prototypes)\n",
    "\n",
    "    def forward(self, x):\n",
    "        features = self.backbone(x).flatten(start_dim=1)\n",
    "        projections = self.projection_head(features)\n",
    "        projections = torch.nn.functional.normalize(projections, dim=1)\n",
    "        assignments = self.prototypes(projections)\n",
    "        return assignments\n",
    "\n",
    "    def get_features(self, x):\n",
    "        features = self.backbone(x).flatten(start_dim=1)\n",
    "        projections = self.projection_head(features)\n",
    "        projections = torch.nn.functional.normalize(projections, dim=1)\n",
    "        return projections\n"
   ]
  },
  {
   "cell_type": "code",
   "execution_count": 5,
   "metadata": {
    "execution": {
     "iopub.execute_input": "2024-12-13T15:49:17.417533Z",
     "iopub.status.busy": "2024-12-13T15:49:17.416971Z",
     "iopub.status.idle": "2024-12-13T15:49:17.798883Z",
     "shell.execute_reply": "2024-12-13T15:49:17.797981Z",
     "shell.execute_reply.started": "2024-12-13T15:49:17.417483Z"
    },
    "trusted": true
   },
   "outputs": [
    {
     "name": "stderr",
     "output_type": "stream",
     "text": [
      "Using cache found in /root/.cache/torch/hub/facebookresearch_dino_main\n"
     ]
    }
   ],
   "source": [
    "backbone = torch.hub.load('facebookresearch/dino:main', 'dino_vits16', pretrained=False)\n",
    "input_dim = backbone.embed_dim"
   ]
  },
  {
   "cell_type": "code",
   "execution_count": 6,
   "metadata": {
    "execution": {
     "iopub.execute_input": "2024-12-13T15:49:17.800598Z",
     "iopub.status.busy": "2024-12-13T15:49:17.800261Z",
     "iopub.status.idle": "2024-12-13T15:49:17.901829Z",
     "shell.execute_reply": "2024-12-13T15:49:17.900790Z",
     "shell.execute_reply.started": "2024-12-13T15:49:17.800564Z"
    },
    "trusted": true
   },
   "outputs": [
    {
     "name": "stderr",
     "output_type": "stream",
     "text": [
      "/opt/conda/lib/python3.10/site-packages/torch/nn/utils/weight_norm.py:134: FutureWarning: `torch.nn.utils.weight_norm` is deprecated in favor of `torch.nn.utils.parametrizations.weight_norm`.\n",
      "  WeightNorm.apply(module, name, dim)\n"
     ]
    }
   ],
   "source": [
    "DINO_model = DINO(backbone,input_dim)\n",
    "Swav_model = SwAVModel(DINO_model)"
   ]
  },
  {
   "cell_type": "code",
   "execution_count": 7,
   "metadata": {
    "execution": {
     "iopub.execute_input": "2024-12-13T15:49:17.903299Z",
     "iopub.status.busy": "2024-12-13T15:49:17.902993Z",
     "iopub.status.idle": "2024-12-13T15:49:17.960139Z",
     "shell.execute_reply": "2024-12-13T15:49:17.959463Z",
     "shell.execute_reply.started": "2024-12-13T15:49:17.903270Z"
    },
    "trusted": true
   },
   "outputs": [
    {
     "name": "stdout",
     "output_type": "stream",
     "text": [
      "Using device: cuda\n"
     ]
    }
   ],
   "source": [
    "device = \"cuda\" if torch.cuda.is_available() else \"cpu\"\n",
    "print(f\"Using device: {device}\")"
   ]
  },
  {
   "cell_type": "code",
   "execution_count": 8,
   "metadata": {
    "execution": {
     "iopub.execute_input": "2024-12-13T15:49:17.961292Z",
     "iopub.status.busy": "2024-12-13T15:49:17.960984Z",
     "iopub.status.idle": "2024-12-13T15:49:18.174097Z",
     "shell.execute_reply": "2024-12-13T15:49:18.173192Z",
     "shell.execute_reply.started": "2024-12-13T15:49:17.961261Z"
    },
    "trusted": true
   },
   "outputs": [
    {
     "data": {
      "text/plain": [
       "SwAVModel(\n",
       "  (backbone): DINO(\n",
       "    (student_backbone): VisionTransformer(\n",
       "      (patch_embed): PatchEmbed(\n",
       "        (proj): Conv2d(3, 384, kernel_size=(16, 16), stride=(16, 16))\n",
       "      )\n",
       "      (pos_drop): Dropout(p=0.0, inplace=False)\n",
       "      (blocks): ModuleList(\n",
       "        (0-11): 12 x Block(\n",
       "          (norm1): LayerNorm((384,), eps=1e-06, elementwise_affine=True)\n",
       "          (attn): Attention(\n",
       "            (qkv): Linear(in_features=384, out_features=1152, bias=True)\n",
       "            (attn_drop): Dropout(p=0.0, inplace=False)\n",
       "            (proj): Linear(in_features=384, out_features=384, bias=True)\n",
       "            (proj_drop): Dropout(p=0.0, inplace=False)\n",
       "          )\n",
       "          (drop_path): Identity()\n",
       "          (norm2): LayerNorm((384,), eps=1e-06, elementwise_affine=True)\n",
       "          (mlp): Mlp(\n",
       "            (fc1): Linear(in_features=384, out_features=1536, bias=True)\n",
       "            (act): GELU(approximate='none')\n",
       "            (fc2): Linear(in_features=1536, out_features=384, bias=True)\n",
       "            (drop): Dropout(p=0.0, inplace=False)\n",
       "          )\n",
       "        )\n",
       "      )\n",
       "      (norm): LayerNorm((384,), eps=1e-06, elementwise_affine=True)\n",
       "      (head): Identity()\n",
       "    )\n",
       "    (student_head): DINOProjectionHead(\n",
       "      (layers): Sequential(\n",
       "        (0): Linear(in_features=384, out_features=512, bias=True)\n",
       "        (1): GELU(approximate='none')\n",
       "        (2): Linear(in_features=512, out_features=512, bias=True)\n",
       "        (3): GELU(approximate='none')\n",
       "        (4): Linear(in_features=512, out_features=64, bias=True)\n",
       "      )\n",
       "      (last_layer): Linear(in_features=64, out_features=2048, bias=False)\n",
       "    )\n",
       "    (teacher_backbone): VisionTransformer(\n",
       "      (patch_embed): PatchEmbed(\n",
       "        (proj): Conv2d(3, 384, kernel_size=(16, 16), stride=(16, 16))\n",
       "      )\n",
       "      (pos_drop): Dropout(p=0.0, inplace=False)\n",
       "      (blocks): ModuleList(\n",
       "        (0-11): 12 x Block(\n",
       "          (norm1): LayerNorm((384,), eps=1e-06, elementwise_affine=True)\n",
       "          (attn): Attention(\n",
       "            (qkv): Linear(in_features=384, out_features=1152, bias=True)\n",
       "            (attn_drop): Dropout(p=0.0, inplace=False)\n",
       "            (proj): Linear(in_features=384, out_features=384, bias=True)\n",
       "            (proj_drop): Dropout(p=0.0, inplace=False)\n",
       "          )\n",
       "          (drop_path): Identity()\n",
       "          (norm2): LayerNorm((384,), eps=1e-06, elementwise_affine=True)\n",
       "          (mlp): Mlp(\n",
       "            (fc1): Linear(in_features=384, out_features=1536, bias=True)\n",
       "            (act): GELU(approximate='none')\n",
       "            (fc2): Linear(in_features=1536, out_features=384, bias=True)\n",
       "            (drop): Dropout(p=0.0, inplace=False)\n",
       "          )\n",
       "        )\n",
       "      )\n",
       "      (norm): LayerNorm((384,), eps=1e-06, elementwise_affine=True)\n",
       "      (head): Identity()\n",
       "    )\n",
       "    (teacher_head): DINOProjectionHead(\n",
       "      (layers): Sequential(\n",
       "        (0): Linear(in_features=384, out_features=512, bias=True)\n",
       "        (1): GELU(approximate='none')\n",
       "        (2): Linear(in_features=512, out_features=512, bias=True)\n",
       "        (3): GELU(approximate='none')\n",
       "        (4): Linear(in_features=512, out_features=64, bias=True)\n",
       "      )\n",
       "      (last_layer): Linear(in_features=64, out_features=512, bias=False)\n",
       "    )\n",
       "  )\n",
       "  (projection_head): SwaVProjectionHead(\n",
       "    (layers): Sequential(\n",
       "      (0): Linear(in_features=2048, out_features=512, bias=False)\n",
       "      (1): BatchNorm1d(512, eps=1e-05, momentum=0.1, affine=True, track_running_stats=True)\n",
       "      (2): ReLU()\n",
       "      (3): Linear(in_features=512, out_features=128, bias=True)\n",
       "    )\n",
       "  )\n",
       "  (prototypes): SwaVPrototypes(\n",
       "    (heads): ModuleList(\n",
       "      (0): Linear(in_features=128, out_features=3000, bias=True)\n",
       "    )\n",
       "  )\n",
       ")"
      ]
     },
     "execution_count": 8,
     "metadata": {},
     "output_type": "execute_result"
    }
   ],
   "source": [
    "device = \"cuda\" if torch.cuda.is_available() else \"cpu\"\n",
    "Swav_model.to(device)"
   ]
  },
  {
   "cell_type": "code",
   "execution_count": 9,
   "metadata": {
    "execution": {
     "iopub.execute_input": "2024-12-13T15:49:18.175414Z",
     "iopub.status.busy": "2024-12-13T15:49:18.175106Z",
     "iopub.status.idle": "2024-12-13T15:49:18.182528Z",
     "shell.execute_reply": "2024-12-13T15:49:18.181585Z",
     "shell.execute_reply.started": "2024-12-13T15:49:18.175386Z"
    },
    "trusted": true
   },
   "outputs": [],
   "source": [
    "class CustomImageDataset(Dataset):\n",
    "    def __init__(self, image_dir, transform=None, n_views=1):\n",
    "        self.image_dir = image_dir\n",
    "        self.image_paths = [\n",
    "            os.path.join(image_dir, f) for f in os.listdir(image_dir)\n",
    "            if f.lower().endswith(('.jpg', '.png', '.tif'))\n",
    "        ]\n",
    "        self.transform = transform\n",
    "        self.n_views = n_views\n",
    "\n",
    "    def __len__(self):\n",
    "        return len(self.image_paths)\n",
    "\n",
    "    def __getitem__(self, idx):\n",
    "        img_path = self.image_paths[idx]\n",
    "        image = Image.open(img_path).convert(\"RGB\")  # Ensure 3 channels\n",
    "\n",
    "        if self.transform:\n",
    "            if self.n_views > 1:\n",
    "                views = [self.transform(image) for _ in range(self.n_views)]\n",
    "            else:\n",
    "                image = self.transform(image)\n",
    "        else:\n",
    "            if self.n_views > 1:\n",
    "                views = [image for _ in range(self.n_views)]\n",
    "            else:\n",
    "                pass  # image is already loaded\n",
    "\n",
    "        dummy_label = 0  # Dummy label (not used)\n",
    "\n",
    "        if self.n_views > 1:\n",
    "            return views, dummy_label  # List of views and dummy label\n",
    "        else:\n",
    "            return image, dummy_label  # Single image and dummy label\n"
   ]
  },
  {
   "cell_type": "code",
   "execution_count": 10,
   "metadata": {
    "execution": {
     "iopub.execute_input": "2024-12-13T15:49:18.184132Z",
     "iopub.status.busy": "2024-12-13T15:49:18.183801Z",
     "iopub.status.idle": "2024-12-13T15:49:18.252279Z",
     "shell.execute_reply": "2024-12-13T15:49:18.251429Z",
     "shell.execute_reply.started": "2024-12-13T15:49:18.184095Z"
    },
    "trusted": true
   },
   "outputs": [
    {
     "name": "stdout",
     "output_type": "stream",
     "text": [
      "DataLoader Ready!\n"
     ]
    }
   ],
   "source": [
    "from torchvision import transforms\n",
    "import os\n",
    "# Define Image Augmentation (Random Crop, Horizontal Flip, etc.)\n",
    "train_transforms = transforms.Compose([\n",
    "    transforms.RandomResizedCrop(224),\n",
    "    transforms.RandomHorizontalFlip(),\n",
    "    transforms.ColorJitter(0.4, 0.4, 0.4, 0.1),\n",
    "    transforms.RandomGrayscale(p=0.2),\n",
    "    transforms.ToTensor(),\n",
    "    transforms.Normalize(mean=[0.485, 0.456, 0.406],\n",
    "                         std=[0.229, 0.224, 0.225]),\n",
    "])\n",
    "\n",
    "feature_transforms = transforms.Compose([\n",
    "    transforms.Resize((224, 224)),\n",
    "    transforms.ToTensor(),\n",
    "    transforms.Normalize(mean=[0.485, 0.456, 0.406],\n",
    "                         std=[0.229, 0.224, 0.225]),\n",
    "])\n",
    "\n",
    "# Example Dataset (COCO, CIFAR10, ImageNet, or WSI patches)\n",
    "#train_dataset = datasets.CIFAR10(root='./data', train=True, download=True, transform=train_transforms)\n",
    "#train_dataset = CustomImageDataset(image_dir='/kaggle/input/tilers/basic_normalized_tiles', transform=train_transforms)# DataLoader\n",
    "train_dataset = CustomImageDataset(\n",
    "    image_dir='/kaggle/input/tcga-stad/TCGA_INFORMATIVE_TILES',\n",
    "    transform=train_transforms,\n",
    "    n_views=8  # 2 high-res and 6 low-res views\n",
    ")\n",
    "feature_dataset = CustomImageDataset(\n",
    "    image_dir='/kaggle/input/tcga-stad/TCGA_INFORMATIVE_TILES',\n",
    "    transform=feature_transforms,\n",
    "    n_views=1\n",
    ")\n",
    "feature_loader = DataLoader(\n",
    "    feature_dataset,\n",
    "    batch_size=32,\n",
    "    shuffle=True,\n",
    "    num_workers=4,\n",
    ")\n",
    "train_loader = DataLoader(train_dataset, batch_size=8, shuffle=True, num_workers=4)\n",
    "\n",
    "print(\"DataLoader Ready!\")\n"
   ]
  },
  {
   "cell_type": "code",
   "execution_count": 11,
   "metadata": {
    "execution": {
     "iopub.execute_input": "2024-12-13T15:49:18.253599Z",
     "iopub.status.busy": "2024-12-13T15:49:18.253313Z",
     "iopub.status.idle": "2024-12-13T15:49:21.553601Z",
     "shell.execute_reply": "2024-12-13T15:49:21.552451Z",
     "shell.execute_reply.started": "2024-12-13T15:49:18.253573Z"
    },
    "trusted": true
   },
   "outputs": [
    {
     "name": "stdout",
     "output_type": "stream",
     "text": [
      "Training Batch 1\n",
      "Type of views: <class 'list'>\n",
      "Number of views: 8\n",
      "Shape of first view: torch.Size([8, 3, 224, 224])\n",
      "Feature Extraction Batch 1\n",
      "Type of images: <class 'torch.Tensor'>\n",
      "Shape of images: torch.Size([32, 3, 224, 224])\n"
     ]
    }
   ],
   "source": [
    "for batch_idx, (views, labels) in enumerate(train_loader):\n",
    "    print(f\"Training Batch {batch_idx+1}\")\n",
    "    print(f\"Type of views: {type(views)}\")  # Should be <class 'list'>\n",
    "    print(f\"Number of views: {len(views)}\")  # Should be 8\n",
    "    print(f\"Shape of first view: {views[0].shape}\")  # [32, 3, 224, 224]\n",
    "    break\n",
    "\n",
    "# Verify subset_feature_loader\n",
    "for batch_idx, (images, labels) in enumerate(feature_loader):\n",
    "    print(f\"Feature Extraction Batch {batch_idx+1}\")\n",
    "    print(f\"Type of images: {type(images)}\")  # <class 'torch.Tensor'>\n",
    "    print(f\"Shape of images: {images.shape}\")  # [20, 3, 224, 224]\n",
    "    break"
   ]
  },
  {
   "cell_type": "code",
   "execution_count": 12,
   "metadata": {
    "execution": {
     "iopub.execute_input": "2024-12-13T15:49:21.556304Z",
     "iopub.status.busy": "2024-12-13T15:49:21.555884Z",
     "iopub.status.idle": "2024-12-13T15:49:21.563737Z",
     "shell.execute_reply": "2024-12-13T15:49:21.562877Z",
     "shell.execute_reply.started": "2024-12-13T15:49:21.556261Z"
    },
    "trusted": true
   },
   "outputs": [],
   "source": [
    "criterion = SwaVLoss()\n",
    "optimizer = torch.optim.Adam(Swav_model.parameters(), lr=0.001)"
   ]
  },
  {
   "cell_type": "code",
   "execution_count": 13,
   "metadata": {
    "execution": {
     "iopub.execute_input": "2024-12-13T15:49:21.565189Z",
     "iopub.status.busy": "2024-12-13T15:49:21.564861Z",
     "iopub.status.idle": "2024-12-13T15:49:21.576096Z",
     "shell.execute_reply": "2024-12-13T15:49:21.575326Z",
     "shell.execute_reply.started": "2024-12-13T15:49:21.565143Z"
    },
    "trusted": true
   },
   "outputs": [],
   "source": [
    "from tqdm import tqdm"
   ]
  },
  {
   "cell_type": "code",
   "execution_count": null,
   "metadata": {
    "execution": {
     "iopub.execute_input": "2024-12-13T15:49:21.580053Z",
     "iopub.status.busy": "2024-12-13T15:49:21.579363Z"
    },
    "trusted": true
   },
   "outputs": [
    {
     "name": "stdout",
     "output_type": "stream",
     "text": [
      "Starting Training\n"
     ]
    },
    {
     "name": "stderr",
     "output_type": "stream",
     "text": [
      "Epochs:   0%|          | 0/10 [00:00<?, ?it/s]\n",
      "Epoch 1:   0%|          | 0/2252 [00:00<?, ?it/s]\u001b[A"
     ]
    },
    {
     "name": "stdout",
     "output_type": "stream",
     "text": [
      "Processed batch 1/2252\n"
     ]
    },
    {
     "name": "stderr",
     "output_type": "stream",
     "text": [
      "\n",
      "Epoch 1:   0%|          | 1/2252 [00:02<1:44:50,  2.79s/it]\u001b[A\n",
      "Epoch 1:   0%|          | 2/2252 [00:03<55:33,  1.48s/it]  \u001b[A\n",
      "Epoch 1:   0%|          | 3/2252 [00:03<40:39,  1.08s/it]\u001b[A\n",
      "Epoch 1:   0%|          | 4/2252 [00:04<33:50,  1.11it/s]\u001b[A\n",
      "Epoch 1:   0%|          | 5/2252 [00:05<29:49,  1.26it/s]\u001b[A\n",
      "Epoch 1:   0%|          | 6/2252 [00:05<27:33,  1.36it/s]\u001b[A\n",
      "Epoch 1:   0%|          | 7/2252 [00:06<26:05,  1.43it/s]\u001b[A\n",
      "Epoch 1:   0%|          | 8/2252 [00:07<25:09,  1.49it/s]\u001b[A\n",
      "Epoch 1:   0%|          | 9/2252 [00:07<24:32,  1.52it/s]\u001b[A\n",
      "Epoch 1:   0%|          | 10/2252 [00:08<24:06,  1.55it/s]\u001b[A"
     ]
    },
    {
     "name": "stdout",
     "output_type": "stream",
     "text": [
      "Processed batch 11/2252\n"
     ]
    },
    {
     "name": "stderr",
     "output_type": "stream",
     "text": [
      "\n",
      "Epoch 1:   0%|          | 11/2252 [00:08<23:47,  1.57it/s]\u001b[A\n",
      "Epoch 1:   1%|          | 12/2252 [00:09<23:39,  1.58it/s]\u001b[A\n",
      "Epoch 1:   1%|          | 13/2252 [00:10<23:29,  1.59it/s]\u001b[A\n",
      "Epoch 1:   1%|          | 14/2252 [00:10<23:22,  1.60it/s]\u001b[A\n",
      "Epoch 1:   1%|          | 15/2252 [00:11<23:21,  1.60it/s]\u001b[A\n",
      "Epoch 1:   1%|          | 16/2252 [00:12<23:16,  1.60it/s]\u001b[A\n",
      "Epoch 1:   1%|          | 17/2252 [00:12<23:15,  1.60it/s]\u001b[A\n",
      "Epoch 1:   1%|          | 18/2252 [00:13<23:18,  1.60it/s]\u001b[A\n",
      "Epoch 1:   1%|          | 19/2252 [00:13<23:14,  1.60it/s]\u001b[A\n",
      "Epoch 1:   1%|          | 20/2252 [00:14<23:15,  1.60it/s]\u001b[A"
     ]
    },
    {
     "name": "stdout",
     "output_type": "stream",
     "text": [
      "Processed batch 21/2252\n"
     ]
    },
    {
     "name": "stderr",
     "output_type": "stream",
     "text": [
      "\n",
      "Epoch 1:   1%|          | 21/2252 [00:15<23:15,  1.60it/s]\u001b[A\n",
      "Epoch 1:   1%|          | 22/2252 [00:15<23:22,  1.59it/s]\u001b[A\n",
      "Epoch 1:   1%|          | 23/2252 [00:16<23:13,  1.60it/s]\u001b[A\n",
      "Epoch 1:   1%|          | 24/2252 [00:17<23:14,  1.60it/s]\u001b[A\n",
      "Epoch 1:   1%|          | 25/2252 [00:17<23:15,  1.60it/s]\u001b[A\n",
      "Epoch 1:   1%|          | 26/2252 [00:18<23:18,  1.59it/s]\u001b[A\n",
      "Epoch 1:   1%|          | 27/2252 [00:18<23:16,  1.59it/s]\u001b[A\n",
      "Epoch 1:   1%|          | 28/2252 [00:19<23:23,  1.59it/s]\u001b[A\n",
      "Epoch 1:   1%|▏         | 29/2252 [00:20<23:20,  1.59it/s]\u001b[A\n",
      "Epoch 1:   1%|▏         | 30/2252 [00:20<23:16,  1.59it/s]\u001b[A"
     ]
    },
    {
     "name": "stdout",
     "output_type": "stream",
     "text": [
      "Processed batch 31/2252\n"
     ]
    },
    {
     "name": "stderr",
     "output_type": "stream",
     "text": [
      "\n",
      "Epoch 1:   1%|▏         | 31/2252 [00:21<23:20,  1.59it/s]\u001b[A\n",
      "Epoch 1:   1%|▏         | 32/2252 [00:22<23:25,  1.58it/s]\u001b[A\n",
      "Epoch 1:   1%|▏         | 33/2252 [00:22<23:20,  1.58it/s]\u001b[A\n",
      "Epoch 1:   2%|▏         | 34/2252 [00:23<23:21,  1.58it/s]\u001b[A\n",
      "Epoch 1:   2%|▏         | 35/2252 [00:23<23:21,  1.58it/s]\u001b[A\n",
      "Epoch 1:   2%|▏         | 36/2252 [00:24<23:21,  1.58it/s]\u001b[A\n",
      "Epoch 1:   2%|▏         | 37/2252 [00:25<23:23,  1.58it/s]\u001b[A\n",
      "Epoch 1:   2%|▏         | 38/2252 [00:25<23:20,  1.58it/s]\u001b[A\n",
      "Epoch 1:   2%|▏         | 39/2252 [00:26<23:25,  1.57it/s]\u001b[A\n",
      "Epoch 1:   2%|▏         | 40/2252 [00:27<23:21,  1.58it/s]\u001b[A"
     ]
    },
    {
     "name": "stdout",
     "output_type": "stream",
     "text": [
      "Processed batch 41/2252\n"
     ]
    },
    {
     "name": "stderr",
     "output_type": "stream",
     "text": [
      "\n",
      "Epoch 1:   2%|▏         | 41/2252 [00:27<23:25,  1.57it/s]\u001b[A\n",
      "Epoch 1:   2%|▏         | 42/2252 [00:28<23:21,  1.58it/s]\u001b[A\n",
      "Epoch 1:   2%|▏         | 43/2252 [00:29<23:24,  1.57it/s]\u001b[A\n",
      "Epoch 1:   2%|▏         | 44/2252 [00:29<23:28,  1.57it/s]\u001b[A\n",
      "Epoch 1:   2%|▏         | 45/2252 [00:30<23:25,  1.57it/s]\u001b[A\n",
      "Epoch 1:   2%|▏         | 46/2252 [00:30<23:24,  1.57it/s]\u001b[A\n",
      "Epoch 1:   2%|▏         | 47/2252 [00:31<23:26,  1.57it/s]\u001b[A\n",
      "Epoch 1:   2%|▏         | 48/2252 [00:32<23:34,  1.56it/s]\u001b[A\n",
      "Epoch 1:   2%|▏         | 49/2252 [00:32<23:24,  1.57it/s]\u001b[A\n",
      "Epoch 1:   2%|▏         | 50/2252 [00:33<23:26,  1.57it/s]\u001b[A"
     ]
    },
    {
     "name": "stdout",
     "output_type": "stream",
     "text": [
      "Processed batch 51/2252\n"
     ]
    },
    {
     "name": "stderr",
     "output_type": "stream",
     "text": [
      "\n",
      "Epoch 1:   2%|▏         | 51/2252 [00:34<23:28,  1.56it/s]\u001b[A\n",
      "Epoch 1:   2%|▏         | 52/2252 [00:34<23:30,  1.56it/s]\u001b[A\n",
      "Epoch 1:   2%|▏         | 53/2252 [00:35<23:31,  1.56it/s]\u001b[A\n",
      "Epoch 1:   2%|▏         | 54/2252 [00:36<23:32,  1.56it/s]\u001b[A\n",
      "Epoch 1:   2%|▏         | 55/2252 [00:36<23:32,  1.55it/s]\u001b[A\n",
      "Epoch 1:   2%|▏         | 56/2252 [00:37<23:33,  1.55it/s]\u001b[A\n",
      "Epoch 1:   3%|▎         | 57/2252 [00:38<23:34,  1.55it/s]\u001b[A\n",
      "Epoch 1:   3%|▎         | 58/2252 [00:38<23:36,  1.55it/s]\u001b[A\n",
      "Epoch 1:   3%|▎         | 59/2252 [00:39<23:37,  1.55it/s]\u001b[A\n",
      "Epoch 1:   3%|▎         | 60/2252 [00:39<23:37,  1.55it/s]\u001b[A"
     ]
    },
    {
     "name": "stdout",
     "output_type": "stream",
     "text": [
      "Processed batch 61/2252\n"
     ]
    },
    {
     "name": "stderr",
     "output_type": "stream",
     "text": [
      "\n",
      "Epoch 1:   3%|▎         | 61/2252 [00:40<23:39,  1.54it/s]\u001b[A\n",
      "Epoch 1:   3%|▎         | 62/2252 [00:41<23:38,  1.54it/s]\u001b[A\n",
      "Epoch 1:   3%|▎         | 63/2252 [00:41<23:38,  1.54it/s]\u001b[A\n",
      "Epoch 1:   3%|▎         | 64/2252 [00:42<23:39,  1.54it/s]\u001b[A\n",
      "Epoch 1:   3%|▎         | 65/2252 [00:43<23:39,  1.54it/s]\u001b[A\n",
      "Epoch 1:   3%|▎         | 66/2252 [00:43<23:40,  1.54it/s]\u001b[A\n",
      "Epoch 1:   3%|▎         | 67/2252 [00:44<23:41,  1.54it/s]\u001b[A\n",
      "Epoch 1:   3%|▎         | 68/2252 [00:45<23:41,  1.54it/s]\u001b[A\n",
      "Epoch 1:   3%|▎         | 69/2252 [00:45<23:41,  1.54it/s]\u001b[A\n",
      "Epoch 1:   3%|▎         | 70/2252 [00:46<23:49,  1.53it/s]\u001b[A"
     ]
    },
    {
     "name": "stdout",
     "output_type": "stream",
     "text": [
      "Processed batch 71/2252\n"
     ]
    },
    {
     "name": "stderr",
     "output_type": "stream",
     "text": [
      "\n",
      "Epoch 1:   3%|▎         | 71/2252 [00:47<23:41,  1.53it/s]\u001b[A\n",
      "Epoch 1:   3%|▎         | 72/2252 [00:47<23:43,  1.53it/s]\u001b[A\n",
      "Epoch 1:   3%|▎         | 73/2252 [00:48<23:43,  1.53it/s]\u001b[A\n",
      "Epoch 1:   3%|▎         | 74/2252 [00:49<23:44,  1.53it/s]\u001b[A\n",
      "Epoch 1:   3%|▎         | 75/2252 [00:49<23:45,  1.53it/s]\u001b[A\n",
      "Epoch 1:   3%|▎         | 76/2252 [00:50<23:50,  1.52it/s]\u001b[A\n",
      "Epoch 1:   3%|▎         | 77/2252 [00:51<23:44,  1.53it/s]\u001b[A\n",
      "Epoch 1:   3%|▎         | 78/2252 [00:51<23:46,  1.52it/s]\u001b[A\n",
      "Epoch 1:   4%|▎         | 79/2252 [00:52<23:47,  1.52it/s]\u001b[A\n",
      "Epoch 1:   4%|▎         | 80/2252 [00:53<23:54,  1.51it/s]\u001b[A"
     ]
    },
    {
     "name": "stdout",
     "output_type": "stream",
     "text": [
      "Processed batch 81/2252\n"
     ]
    },
    {
     "name": "stderr",
     "output_type": "stream",
     "text": [
      "\n",
      "Epoch 1:   4%|▎         | 81/2252 [00:53<23:51,  1.52it/s]\u001b[A\n",
      "Epoch 1:   4%|▎         | 82/2252 [00:54<23:54,  1.51it/s]\u001b[A\n",
      "Epoch 1:   4%|▎         | 83/2252 [00:55<23:58,  1.51it/s]\u001b[A\n",
      "Epoch 1:   4%|▎         | 84/2252 [00:55<23:50,  1.52it/s]\u001b[A\n",
      "Epoch 1:   4%|▍         | 85/2252 [00:56<23:53,  1.51it/s]\u001b[A\n",
      "Epoch 1:   4%|▍         | 86/2252 [00:57<23:54,  1.51it/s]\u001b[A\n",
      "Epoch 1:   4%|▍         | 87/2252 [00:57<23:56,  1.51it/s]\u001b[A\n",
      "Epoch 1:   4%|▍         | 88/2252 [00:58<23:57,  1.51it/s]\u001b[A\n",
      "Epoch 1:   4%|▍         | 89/2252 [00:59<24:00,  1.50it/s]\u001b[A\n",
      "Epoch 1:   4%|▍         | 90/2252 [00:59<24:06,  1.49it/s]\u001b[A"
     ]
    },
    {
     "name": "stdout",
     "output_type": "stream",
     "text": [
      "Processed batch 91/2252\n"
     ]
    },
    {
     "name": "stderr",
     "output_type": "stream",
     "text": [
      "\n",
      "Epoch 1:   4%|▍         | 91/2252 [01:00<23:59,  1.50it/s]\u001b[A\n",
      "Epoch 1:   4%|▍         | 92/2252 [01:01<24:01,  1.50it/s]\u001b[A\n",
      "Epoch 1:   4%|▍         | 93/2252 [01:01<24:03,  1.50it/s]\u001b[A\n",
      "Epoch 1:   4%|▍         | 94/2252 [01:02<24:09,  1.49it/s]\u001b[A\n",
      "Epoch 1:   4%|▍         | 95/2252 [01:03<24:05,  1.49it/s]\u001b[A\n",
      "Epoch 1:   4%|▍         | 96/2252 [01:03<24:07,  1.49it/s]\u001b[A\n",
      "Epoch 1:   4%|▍         | 97/2252 [01:04<24:09,  1.49it/s]\u001b[A\n",
      "Epoch 1:   4%|▍         | 98/2252 [01:05<24:10,  1.48it/s]\u001b[A\n",
      "Epoch 1:   4%|▍         | 99/2252 [01:05<24:10,  1.48it/s]\u001b[A\n",
      "Epoch 1:   4%|▍         | 100/2252 [01:06<24:11,  1.48it/s]\u001b[A"
     ]
    },
    {
     "name": "stdout",
     "output_type": "stream",
     "text": [
      "Processed batch 101/2252\n"
     ]
    },
    {
     "name": "stderr",
     "output_type": "stream",
     "text": [
      "\n",
      "Epoch 1:   4%|▍         | 101/2252 [01:07<24:15,  1.48it/s]\u001b[A\n",
      "Epoch 1:   5%|▍         | 102/2252 [01:07<24:11,  1.48it/s]\u001b[A\n",
      "Epoch 1:   5%|▍         | 103/2252 [01:08<24:11,  1.48it/s]\u001b[A\n",
      "Epoch 1:   5%|▍         | 104/2252 [01:09<24:13,  1.48it/s]\u001b[A\n",
      "Epoch 1:   5%|▍         | 105/2252 [01:09<24:16,  1.47it/s]\u001b[A\n",
      "Epoch 1:   5%|▍         | 106/2252 [01:10<24:16,  1.47it/s]\u001b[A\n",
      "Epoch 1:   5%|▍         | 107/2252 [01:11<24:18,  1.47it/s]\u001b[A\n",
      "Epoch 1:   5%|▍         | 108/2252 [01:11<24:23,  1.46it/s]\u001b[A\n",
      "Epoch 1:   5%|▍         | 109/2252 [01:12<24:18,  1.47it/s]\u001b[A\n",
      "Epoch 1:   5%|▍         | 110/2252 [01:13<24:18,  1.47it/s]\u001b[A"
     ]
    },
    {
     "name": "stdout",
     "output_type": "stream",
     "text": [
      "Processed batch 111/2252\n"
     ]
    },
    {
     "name": "stderr",
     "output_type": "stream",
     "text": [
      "\n",
      "Epoch 1:   5%|▍         | 111/2252 [01:13<24:19,  1.47it/s]\u001b[A\n",
      "Epoch 1:   5%|▍         | 112/2252 [01:14<24:21,  1.46it/s]\u001b[A\n",
      "Epoch 1:   5%|▌         | 113/2252 [01:15<24:23,  1.46it/s]\u001b[A\n",
      "Epoch 1:   5%|▌         | 114/2252 [01:15<24:24,  1.46it/s]\u001b[A\n",
      "Epoch 1:   5%|▌         | 115/2252 [01:16<24:25,  1.46it/s]\u001b[A\n",
      "Epoch 1:   5%|▌         | 116/2252 [01:17<24:25,  1.46it/s]\u001b[A\n",
      "Epoch 1:   5%|▌         | 117/2252 [01:18<24:26,  1.46it/s]\u001b[A\n",
      "Epoch 1:   5%|▌         | 118/2252 [01:18<24:27,  1.45it/s]\u001b[A\n",
      "Epoch 1:   5%|▌         | 119/2252 [01:19<24:29,  1.45it/s]\u001b[A\n",
      "Epoch 1:   5%|▌         | 120/2252 [01:20<24:31,  1.45it/s]\u001b[A"
     ]
    },
    {
     "name": "stdout",
     "output_type": "stream",
     "text": [
      "Processed batch 121/2252\n"
     ]
    },
    {
     "name": "stderr",
     "output_type": "stream",
     "text": [
      "\n",
      "Epoch 1:   5%|▌         | 121/2252 [01:20<24:38,  1.44it/s]\u001b[A\n",
      "Epoch 1:   5%|▌         | 122/2252 [01:21<24:32,  1.45it/s]\u001b[A\n",
      "Epoch 1:   5%|▌         | 123/2252 [01:22<24:31,  1.45it/s]\u001b[A\n",
      "Epoch 1:   6%|▌         | 124/2252 [01:22<24:36,  1.44it/s]\u001b[A\n",
      "Epoch 1:   6%|▌         | 125/2252 [01:23<24:37,  1.44it/s]\u001b[A\n",
      "Epoch 1:   6%|▌         | 126/2252 [01:24<24:39,  1.44it/s]\u001b[A\n",
      "Epoch 1:   6%|▌         | 127/2252 [01:25<24:41,  1.43it/s]\u001b[A\n",
      "Epoch 1:   6%|▌         | 128/2252 [01:25<24:44,  1.43it/s]\u001b[A\n",
      "Epoch 1:   6%|▌         | 129/2252 [01:26<24:52,  1.42it/s]\u001b[A\n",
      "Epoch 1:   6%|▌         | 130/2252 [01:27<24:42,  1.43it/s]\u001b[A"
     ]
    },
    {
     "name": "stdout",
     "output_type": "stream",
     "text": [
      "Processed batch 131/2252\n"
     ]
    },
    {
     "name": "stderr",
     "output_type": "stream",
     "text": [
      "\n",
      "Epoch 1:   6%|▌         | 131/2252 [01:27<24:45,  1.43it/s]\u001b[A\n",
      "Epoch 1:   6%|▌         | 132/2252 [01:28<24:49,  1.42it/s]\u001b[A\n",
      "Epoch 1:   6%|▌         | 133/2252 [01:29<24:52,  1.42it/s]\u001b[A\n",
      "Epoch 1:   6%|▌         | 134/2252 [01:29<24:54,  1.42it/s]\u001b[A\n",
      "Epoch 1:   6%|▌         | 135/2252 [01:30<24:57,  1.41it/s]\u001b[A\n",
      "Epoch 1:   6%|▌         | 136/2252 [01:31<25:01,  1.41it/s]\u001b[A\n",
      "Epoch 1:   6%|▌         | 137/2252 [01:32<25:04,  1.41it/s]\u001b[A\n",
      "Epoch 1:   6%|▌         | 138/2252 [01:32<25:07,  1.40it/s]\u001b[A\n",
      "Epoch 1:   6%|▌         | 139/2252 [01:33<25:13,  1.40it/s]\u001b[A\n",
      "Epoch 1:   6%|▌         | 140/2252 [01:34<25:17,  1.39it/s]\u001b[A"
     ]
    },
    {
     "name": "stdout",
     "output_type": "stream",
     "text": [
      "Processed batch 141/2252\n"
     ]
    },
    {
     "name": "stderr",
     "output_type": "stream",
     "text": [
      "\n",
      "Epoch 1:   6%|▋         | 141/2252 [01:34<25:18,  1.39it/s]\u001b[A\n",
      "Epoch 1:   6%|▋         | 142/2252 [01:35<25:20,  1.39it/s]\u001b[A\n",
      "Epoch 1:   6%|▋         | 143/2252 [01:36<25:22,  1.39it/s]\u001b[A\n",
      "Epoch 1:   6%|▋         | 144/2252 [01:37<25:25,  1.38it/s]\u001b[A\n",
      "Epoch 1:   6%|▋         | 145/2252 [01:37<25:25,  1.38it/s]\u001b[A\n",
      "Epoch 1:   6%|▋         | 146/2252 [01:38<25:28,  1.38it/s]\u001b[A\n",
      "Epoch 1:   7%|▋         | 147/2252 [01:39<25:32,  1.37it/s]\u001b[A\n",
      "Epoch 1:   7%|▋         | 148/2252 [01:40<25:32,  1.37it/s]\u001b[A\n",
      "Epoch 1:   7%|▋         | 149/2252 [01:40<25:36,  1.37it/s]\u001b[A\n",
      "Epoch 1:   7%|▋         | 150/2252 [01:41<25:39,  1.37it/s]\u001b[A"
     ]
    },
    {
     "name": "stdout",
     "output_type": "stream",
     "text": [
      "Processed batch 151/2252\n"
     ]
    },
    {
     "name": "stderr",
     "output_type": "stream",
     "text": [
      "\n",
      "Epoch 1:   7%|▋         | 151/2252 [01:42<25:43,  1.36it/s]\u001b[A\n",
      "Epoch 1:   7%|▋         | 152/2252 [01:43<25:42,  1.36it/s]\u001b[A\n",
      "Epoch 1:   7%|▋         | 153/2252 [01:43<25:48,  1.36it/s]\u001b[A\n",
      "Epoch 1:   7%|▋         | 154/2252 [01:44<25:48,  1.36it/s]\u001b[A\n",
      "Epoch 1:   7%|▋         | 155/2252 [01:45<25:47,  1.36it/s]\u001b[A\n",
      "Epoch 1:   7%|▋         | 156/2252 [01:45<25:51,  1.35it/s]\u001b[A\n",
      "Epoch 1:   7%|▋         | 157/2252 [01:46<25:54,  1.35it/s]\u001b[A\n",
      "Epoch 1:   7%|▋         | 158/2252 [01:47<25:57,  1.34it/s]\u001b[A\n",
      "Epoch 1:   7%|▋         | 159/2252 [01:48<25:57,  1.34it/s]\u001b[A\n",
      "Epoch 1:   7%|▋         | 160/2252 [01:48<26:00,  1.34it/s]\u001b[A"
     ]
    },
    {
     "name": "stdout",
     "output_type": "stream",
     "text": [
      "Processed batch 161/2252\n"
     ]
    },
    {
     "name": "stderr",
     "output_type": "stream",
     "text": [
      "\n",
      "Epoch 1:   7%|▋         | 161/2252 [01:49<26:01,  1.34it/s]\u001b[A\n",
      "Epoch 1:   7%|▋         | 162/2252 [01:50<26:00,  1.34it/s]\u001b[A\n",
      "Epoch 1:   7%|▋         | 163/2252 [01:51<26:00,  1.34it/s]\u001b[A\n",
      "Epoch 1:   7%|▋         | 164/2252 [01:51<26:01,  1.34it/s]\u001b[A\n",
      "Epoch 1:   7%|▋         | 165/2252 [01:52<26:01,  1.34it/s]\u001b[A\n",
      "Epoch 1:   7%|▋         | 166/2252 [01:53<25:59,  1.34it/s]\u001b[A\n",
      "Epoch 1:   7%|▋         | 167/2252 [01:54<25:52,  1.34it/s]\u001b[A\n",
      "Epoch 1:   7%|▋         | 168/2252 [01:54<25:50,  1.34it/s]\u001b[A\n",
      "Epoch 1:   8%|▊         | 169/2252 [01:55<25:50,  1.34it/s]\u001b[A\n",
      "Epoch 1:   8%|▊         | 170/2252 [01:56<25:43,  1.35it/s]\u001b[A"
     ]
    },
    {
     "name": "stdout",
     "output_type": "stream",
     "text": [
      "Processed batch 171/2252\n"
     ]
    },
    {
     "name": "stderr",
     "output_type": "stream",
     "text": [
      "\n",
      "Epoch 1:   8%|▊         | 171/2252 [01:57<25:35,  1.36it/s]\u001b[A\n",
      "Epoch 1:   8%|▊         | 172/2252 [01:57<25:33,  1.36it/s]\u001b[A\n",
      "Epoch 1:   8%|▊         | 173/2252 [01:58<25:29,  1.36it/s]\u001b[A\n",
      "Epoch 1:   8%|▊         | 174/2252 [01:59<25:23,  1.36it/s]\u001b[A\n",
      "Epoch 1:   8%|▊         | 175/2252 [02:00<25:14,  1.37it/s]\u001b[A\n",
      "Epoch 1:   8%|▊         | 176/2252 [02:00<25:06,  1.38it/s]\u001b[A\n",
      "Epoch 1:   8%|▊         | 177/2252 [02:01<25:05,  1.38it/s]\u001b[A\n",
      "Epoch 1:   8%|▊         | 178/2252 [02:02<25:01,  1.38it/s]\u001b[A\n",
      "Epoch 1:   8%|▊         | 179/2252 [02:02<24:57,  1.38it/s]\u001b[A\n",
      "Epoch 1:   8%|▊         | 180/2252 [02:03<24:53,  1.39it/s]\u001b[A"
     ]
    },
    {
     "name": "stdout",
     "output_type": "stream",
     "text": [
      "Processed batch 181/2252\n"
     ]
    },
    {
     "name": "stderr",
     "output_type": "stream",
     "text": [
      "\n",
      "Epoch 1:   8%|▊         | 181/2252 [02:04<24:49,  1.39it/s]\u001b[A\n",
      "Epoch 1:   8%|▊         | 182/2252 [02:05<24:45,  1.39it/s]\u001b[A\n",
      "Epoch 1:   8%|▊         | 183/2252 [02:05<24:41,  1.40it/s]\u001b[A\n",
      "Epoch 1:   8%|▊         | 184/2252 [02:06<24:39,  1.40it/s]\u001b[A\n",
      "Epoch 1:   8%|▊         | 185/2252 [02:07<24:34,  1.40it/s]\u001b[A\n",
      "Epoch 1:   8%|▊         | 186/2252 [02:07<24:32,  1.40it/s]\u001b[A\n",
      "Epoch 1:   8%|▊         | 187/2252 [02:08<24:30,  1.40it/s]\u001b[A\n",
      "Epoch 1:   8%|▊         | 188/2252 [02:09<24:27,  1.41it/s]\u001b[A\n",
      "Epoch 1:   8%|▊         | 189/2252 [02:10<24:24,  1.41it/s]\u001b[A\n",
      "Epoch 1:   8%|▊         | 190/2252 [02:10<24:23,  1.41it/s]\u001b[A"
     ]
    },
    {
     "name": "stdout",
     "output_type": "stream",
     "text": [
      "Processed batch 191/2252\n"
     ]
    },
    {
     "name": "stderr",
     "output_type": "stream",
     "text": [
      "\n",
      "Epoch 1:   8%|▊         | 191/2252 [02:11<24:20,  1.41it/s]\u001b[A\n",
      "Epoch 1:   9%|▊         | 192/2252 [02:12<24:17,  1.41it/s]\u001b[A\n",
      "Epoch 1:   9%|▊         | 193/2252 [02:12<24:15,  1.41it/s]\u001b[A\n",
      "Epoch 1:   9%|▊         | 194/2252 [02:13<24:14,  1.42it/s]\u001b[A\n",
      "Epoch 1:   9%|▊         | 195/2252 [02:14<24:10,  1.42it/s]\u001b[A\n",
      "Epoch 1:   9%|▊         | 196/2252 [02:14<24:07,  1.42it/s]\u001b[A\n",
      "Epoch 1:   9%|▊         | 197/2252 [02:15<24:04,  1.42it/s]\u001b[A\n",
      "Epoch 1:   9%|▉         | 198/2252 [02:16<24:04,  1.42it/s]\u001b[A\n",
      "Epoch 1:   9%|▉         | 199/2252 [02:17<24:01,  1.42it/s]\u001b[A\n",
      "Epoch 1:   9%|▉         | 200/2252 [02:17<23:58,  1.43it/s]\u001b[A"
     ]
    },
    {
     "name": "stdout",
     "output_type": "stream",
     "text": [
      "Processed batch 201/2252\n"
     ]
    },
    {
     "name": "stderr",
     "output_type": "stream",
     "text": [
      "\n",
      "Epoch 1:   9%|▉         | 201/2252 [02:18<23:55,  1.43it/s]\u001b[A\n",
      "Epoch 1:   9%|▉         | 202/2252 [02:19<23:55,  1.43it/s]\u001b[A\n",
      "Epoch 1:   9%|▉         | 203/2252 [02:19<23:52,  1.43it/s]\u001b[A\n",
      "Epoch 1:   9%|▉         | 204/2252 [02:20<23:49,  1.43it/s]\u001b[A\n",
      "Epoch 1:   9%|▉         | 205/2252 [02:21<23:47,  1.43it/s]\u001b[A\n",
      "Epoch 1:   9%|▉         | 206/2252 [02:21<23:51,  1.43it/s]\u001b[A\n",
      "Epoch 1:   9%|▉         | 207/2252 [02:22<23:44,  1.44it/s]\u001b[A\n",
      "Epoch 1:   9%|▉         | 208/2252 [02:23<23:43,  1.44it/s]\u001b[A\n",
      "Epoch 1:   9%|▉         | 209/2252 [02:24<23:42,  1.44it/s]\u001b[A\n",
      "Epoch 1:   9%|▉         | 210/2252 [02:24<23:41,  1.44it/s]\u001b[A"
     ]
    },
    {
     "name": "stdout",
     "output_type": "stream",
     "text": [
      "Processed batch 211/2252\n"
     ]
    },
    {
     "name": "stderr",
     "output_type": "stream",
     "text": [
      "\n",
      "Epoch 1:   9%|▉         | 211/2252 [02:25<23:41,  1.44it/s]\u001b[A\n",
      "Epoch 1:   9%|▉         | 212/2252 [02:26<23:38,  1.44it/s]\u001b[A\n",
      "Epoch 1:   9%|▉         | 213/2252 [02:26<23:37,  1.44it/s]\u001b[A\n",
      "Epoch 1:  10%|▉         | 214/2252 [02:27<23:35,  1.44it/s]\u001b[A\n",
      "Epoch 1:  10%|▉         | 215/2252 [02:28<23:34,  1.44it/s]\u001b[A\n",
      "Epoch 1:  10%|▉         | 216/2252 [02:28<23:35,  1.44it/s]\u001b[A\n",
      "Epoch 1:  10%|▉         | 217/2252 [02:29<23:35,  1.44it/s]\u001b[A\n",
      "Epoch 1:  10%|▉         | 218/2252 [02:30<23:34,  1.44it/s]\u001b[A\n",
      "Epoch 1:  10%|▉         | 219/2252 [02:31<23:30,  1.44it/s]\u001b[A\n",
      "Epoch 1:  10%|▉         | 220/2252 [02:31<23:30,  1.44it/s]\u001b[A"
     ]
    },
    {
     "name": "stdout",
     "output_type": "stream",
     "text": [
      "Processed batch 221/2252\n"
     ]
    },
    {
     "name": "stderr",
     "output_type": "stream",
     "text": [
      "\n",
      "Epoch 1:  10%|▉         | 221/2252 [02:32<23:30,  1.44it/s]\u001b[A\n",
      "Epoch 1:  10%|▉         | 222/2252 [02:33<23:28,  1.44it/s]\u001b[A\n",
      "Epoch 1:  10%|▉         | 223/2252 [02:33<23:28,  1.44it/s]\u001b[A\n",
      "Epoch 1:  10%|▉         | 224/2252 [02:34<23:29,  1.44it/s]\u001b[A\n",
      "Epoch 1:  10%|▉         | 225/2252 [02:35<23:30,  1.44it/s]\u001b[A\n",
      "Epoch 1:  10%|█         | 226/2252 [02:35<23:31,  1.44it/s]\u001b[A\n",
      "Epoch 1:  10%|█         | 227/2252 [02:36<23:30,  1.44it/s]\u001b[A\n",
      "Epoch 1:  10%|█         | 228/2252 [02:37<23:29,  1.44it/s]\u001b[A\n",
      "Epoch 1:  10%|█         | 229/2252 [02:37<23:28,  1.44it/s]\u001b[A\n",
      "Epoch 1:  10%|█         | 230/2252 [02:38<23:28,  1.44it/s]\u001b[A"
     ]
    },
    {
     "name": "stdout",
     "output_type": "stream",
     "text": [
      "Processed batch 231/2252\n"
     ]
    },
    {
     "name": "stderr",
     "output_type": "stream",
     "text": [
      "\n",
      "Epoch 1:  10%|█         | 231/2252 [02:39<23:29,  1.43it/s]\u001b[A\n",
      "Epoch 1:  10%|█         | 232/2252 [02:40<23:29,  1.43it/s]\u001b[A\n",
      "Epoch 1:  10%|█         | 233/2252 [02:40<23:28,  1.43it/s]\u001b[A\n",
      "Epoch 1:  10%|█         | 234/2252 [02:41<23:27,  1.43it/s]\u001b[A\n",
      "Epoch 1:  10%|█         | 235/2252 [02:42<23:27,  1.43it/s]\u001b[A\n",
      "Epoch 1:  10%|█         | 236/2252 [02:42<23:25,  1.43it/s]\u001b[A\n",
      "Epoch 1:  11%|█         | 237/2252 [02:43<23:25,  1.43it/s]\u001b[A\n",
      "Epoch 1:  11%|█         | 238/2252 [02:44<23:24,  1.43it/s]\u001b[A\n",
      "Epoch 1:  11%|█         | 239/2252 [02:44<23:25,  1.43it/s]\u001b[A\n",
      "Epoch 1:  11%|█         | 240/2252 [02:45<23:26,  1.43it/s]\u001b[A"
     ]
    },
    {
     "name": "stdout",
     "output_type": "stream",
     "text": [
      "Processed batch 241/2252\n"
     ]
    },
    {
     "name": "stderr",
     "output_type": "stream",
     "text": [
      "\n",
      "Epoch 1:  11%|█         | 241/2252 [02:46<23:25,  1.43it/s]\u001b[A\n",
      "Epoch 1:  11%|█         | 242/2252 [02:47<23:26,  1.43it/s]\u001b[A\n",
      "Epoch 1:  11%|█         | 243/2252 [02:47<23:27,  1.43it/s]\u001b[A\n",
      "Epoch 1:  11%|█         | 244/2252 [02:48<23:26,  1.43it/s]\u001b[A\n",
      "Epoch 1:  11%|█         | 245/2252 [02:49<23:28,  1.43it/s]\u001b[A\n",
      "Epoch 1:  11%|█         | 246/2252 [02:49<23:28,  1.42it/s]\u001b[A\n",
      "Epoch 1:  11%|█         | 247/2252 [02:50<23:28,  1.42it/s]\u001b[A\n",
      "Epoch 1:  11%|█         | 248/2252 [02:51<23:30,  1.42it/s]\u001b[A\n",
      "Epoch 1:  11%|█         | 249/2252 [02:51<23:31,  1.42it/s]\u001b[A\n",
      "Epoch 1:  11%|█         | 250/2252 [02:52<23:33,  1.42it/s]\u001b[A"
     ]
    },
    {
     "name": "stdout",
     "output_type": "stream",
     "text": [
      "Processed batch 251/2252\n"
     ]
    },
    {
     "name": "stderr",
     "output_type": "stream",
     "text": [
      "\n",
      "Epoch 1:  11%|█         | 251/2252 [02:53<23:34,  1.41it/s]\u001b[A\n",
      "Epoch 1:  11%|█         | 252/2252 [02:54<23:34,  1.41it/s]\u001b[A\n",
      "Epoch 1:  11%|█         | 253/2252 [02:54<23:34,  1.41it/s]\u001b[A\n",
      "Epoch 1:  11%|█▏        | 254/2252 [02:55<23:34,  1.41it/s]\u001b[A\n",
      "Epoch 1:  11%|█▏        | 255/2252 [02:56<23:34,  1.41it/s]\u001b[A\n",
      "Epoch 1:  11%|█▏        | 256/2252 [02:56<23:36,  1.41it/s]\u001b[A\n",
      "Epoch 1:  11%|█▏        | 257/2252 [02:57<23:36,  1.41it/s]\u001b[A\n",
      "Epoch 1:  11%|█▏        | 258/2252 [02:58<23:34,  1.41it/s]\u001b[A\n",
      "Epoch 1:  12%|█▏        | 259/2252 [02:59<23:35,  1.41it/s]\u001b[A\n",
      "Epoch 1:  12%|█▏        | 260/2252 [02:59<23:36,  1.41it/s]\u001b[A"
     ]
    },
    {
     "name": "stdout",
     "output_type": "stream",
     "text": [
      "Processed batch 261/2252\n"
     ]
    },
    {
     "name": "stderr",
     "output_type": "stream",
     "text": [
      "\n",
      "Epoch 1:  12%|█▏        | 261/2252 [03:00<23:40,  1.40it/s]\u001b[A\n",
      "Epoch 1:  12%|█▏        | 262/2252 [03:01<23:36,  1.40it/s]\u001b[A\n",
      "Epoch 1:  12%|█▏        | 263/2252 [03:01<23:37,  1.40it/s]\u001b[A\n",
      "Epoch 1:  12%|█▏        | 264/2252 [03:02<23:40,  1.40it/s]\u001b[A\n",
      "Epoch 1:  12%|█▏        | 265/2252 [03:03<23:38,  1.40it/s]\u001b[A\n",
      "Epoch 1:  12%|█▏        | 266/2252 [03:04<23:37,  1.40it/s]\u001b[A\n",
      "Epoch 1:  12%|█▏        | 267/2252 [03:04<23:37,  1.40it/s]\u001b[A\n",
      "Epoch 1:  12%|█▏        | 268/2252 [03:05<23:38,  1.40it/s]\u001b[A\n",
      "Epoch 1:  12%|█▏        | 269/2252 [03:06<23:37,  1.40it/s]\u001b[A\n",
      "Epoch 1:  12%|█▏        | 270/2252 [03:06<23:35,  1.40it/s]\u001b[A"
     ]
    },
    {
     "name": "stdout",
     "output_type": "stream",
     "text": [
      "Processed batch 271/2252\n"
     ]
    },
    {
     "name": "stderr",
     "output_type": "stream",
     "text": [
      "\n",
      "Epoch 1:  12%|█▏        | 271/2252 [03:07<23:37,  1.40it/s]\u001b[A\n",
      "Epoch 1:  12%|█▏        | 272/2252 [03:08<23:37,  1.40it/s]\u001b[A\n",
      "Epoch 1:  12%|█▏        | 273/2252 [03:09<23:36,  1.40it/s]\u001b[A\n",
      "Epoch 1:  12%|█▏        | 274/2252 [03:09<23:41,  1.39it/s]\u001b[A\n",
      "Epoch 1:  12%|█▏        | 275/2252 [03:10<23:36,  1.40it/s]\u001b[A\n",
      "Epoch 1:  12%|█▏        | 276/2252 [03:11<23:35,  1.40it/s]\u001b[A\n",
      "Epoch 1:  12%|█▏        | 277/2252 [03:11<23:35,  1.39it/s]\u001b[A\n",
      "Epoch 1:  12%|█▏        | 278/2252 [03:12<23:33,  1.40it/s]\u001b[A\n",
      "Epoch 1:  12%|█▏        | 279/2252 [03:13<23:34,  1.39it/s]\u001b[A\n",
      "Epoch 1:  12%|█▏        | 280/2252 [03:14<23:32,  1.40it/s]\u001b[A"
     ]
    },
    {
     "name": "stdout",
     "output_type": "stream",
     "text": [
      "Processed batch 281/2252\n"
     ]
    },
    {
     "name": "stderr",
     "output_type": "stream",
     "text": [
      "\n",
      "Epoch 1:  12%|█▏        | 281/2252 [03:14<23:32,  1.40it/s]\u001b[A\n",
      "Epoch 1:  13%|█▎        | 282/2252 [03:15<23:33,  1.39it/s]\u001b[A\n",
      "Epoch 1:  13%|█▎        | 283/2252 [03:16<23:29,  1.40it/s]\u001b[A\n",
      "Epoch 1:  13%|█▎        | 284/2252 [03:16<23:28,  1.40it/s]\u001b[A\n",
      "Epoch 1:  13%|█▎        | 285/2252 [03:17<23:26,  1.40it/s]\u001b[A\n",
      "Epoch 1:  13%|█▎        | 286/2252 [03:18<23:29,  1.39it/s]\u001b[A\n",
      "Epoch 1:  13%|█▎        | 287/2252 [03:19<23:22,  1.40it/s]\u001b[A\n",
      "Epoch 1:  13%|█▎        | 288/2252 [03:19<23:21,  1.40it/s]\u001b[A\n",
      "Epoch 1:  13%|█▎        | 289/2252 [03:20<23:20,  1.40it/s]\u001b[A\n",
      "Epoch 1:  13%|█▎        | 290/2252 [03:21<23:17,  1.40it/s]\u001b[A"
     ]
    },
    {
     "name": "stdout",
     "output_type": "stream",
     "text": [
      "Processed batch 291/2252\n"
     ]
    },
    {
     "name": "stderr",
     "output_type": "stream",
     "text": [
      "\n",
      "Epoch 1:  13%|█▎        | 291/2252 [03:21<23:17,  1.40it/s]\u001b[A\n",
      "Epoch 1:  13%|█▎        | 292/2252 [03:22<23:14,  1.41it/s]\u001b[A\n",
      "Epoch 1:  13%|█▎        | 293/2252 [03:23<23:19,  1.40it/s]\u001b[A\n",
      "Epoch 1:  13%|█▎        | 294/2252 [03:24<23:13,  1.41it/s]\u001b[A\n",
      "Epoch 1:  13%|█▎        | 295/2252 [03:24<23:08,  1.41it/s]\u001b[A\n",
      "Epoch 1:  13%|█▎        | 296/2252 [03:25<23:04,  1.41it/s]\u001b[A\n",
      "Epoch 1:  13%|█▎        | 297/2252 [03:26<23:05,  1.41it/s]\u001b[A\n",
      "Epoch 1:  13%|█▎        | 298/2252 [03:26<23:05,  1.41it/s]\u001b[A\n",
      "Epoch 1:  13%|█▎        | 299/2252 [03:27<23:05,  1.41it/s]\u001b[A\n",
      "Epoch 1:  13%|█▎        | 300/2252 [03:28<23:03,  1.41it/s]\u001b[A"
     ]
    },
    {
     "name": "stdout",
     "output_type": "stream",
     "text": [
      "Processed batch 301/2252\n"
     ]
    },
    {
     "name": "stderr",
     "output_type": "stream",
     "text": [
      "\n",
      "Epoch 1:  13%|█▎        | 301/2252 [03:29<23:02,  1.41it/s]\u001b[A\n",
      "Epoch 1:  13%|█▎        | 302/2252 [03:29<23:01,  1.41it/s]\u001b[A\n",
      "Epoch 1:  13%|█▎        | 303/2252 [03:30<23:02,  1.41it/s]\u001b[A\n",
      "Epoch 1:  13%|█▎        | 304/2252 [03:31<23:01,  1.41it/s]\u001b[A\n",
      "Epoch 1:  14%|█▎        | 305/2252 [03:31<23:01,  1.41it/s]\u001b[A\n",
      "Epoch 1:  14%|█▎        | 306/2252 [03:32<22:58,  1.41it/s]\u001b[A\n",
      "Epoch 1:  14%|█▎        | 307/2252 [03:33<22:57,  1.41it/s]\u001b[A\n",
      "Epoch 1:  14%|█▎        | 308/2252 [03:34<22:58,  1.41it/s]\u001b[A\n",
      "Epoch 1:  14%|█▎        | 309/2252 [03:34<22:51,  1.42it/s]\u001b[A\n",
      "Epoch 1:  14%|█▍        | 310/2252 [03:35<22:51,  1.42it/s]\u001b[A"
     ]
    },
    {
     "name": "stdout",
     "output_type": "stream",
     "text": [
      "Processed batch 311/2252\n"
     ]
    },
    {
     "name": "stderr",
     "output_type": "stream",
     "text": [
      "\n",
      "Epoch 1:  14%|█▍        | 311/2252 [03:36<22:52,  1.41it/s]\u001b[A\n",
      "Epoch 1:  14%|█▍        | 312/2252 [03:36<22:51,  1.41it/s]\u001b[A\n",
      "Epoch 1:  14%|█▍        | 313/2252 [03:37<22:50,  1.41it/s]\u001b[A\n",
      "Epoch 1:  14%|█▍        | 314/2252 [03:38<22:52,  1.41it/s]\u001b[A\n",
      "Epoch 1:  14%|█▍        | 315/2252 [03:38<22:46,  1.42it/s]\u001b[A\n",
      "Epoch 1:  14%|█▍        | 316/2252 [03:39<22:47,  1.42it/s]\u001b[A\n",
      "Epoch 1:  14%|█▍        | 317/2252 [03:40<22:46,  1.42it/s]\u001b[A\n",
      "Epoch 1:  14%|█▍        | 318/2252 [03:41<22:45,  1.42it/s]\u001b[A\n",
      "Epoch 1:  14%|█▍        | 319/2252 [03:41<22:44,  1.42it/s]\u001b[A\n",
      "Epoch 1:  14%|█▍        | 320/2252 [03:42<22:44,  1.42it/s]\u001b[A"
     ]
    },
    {
     "name": "stdout",
     "output_type": "stream",
     "text": [
      "Processed batch 321/2252\n"
     ]
    },
    {
     "name": "stderr",
     "output_type": "stream",
     "text": [
      "\n",
      "Epoch 1:  14%|█▍        | 321/2252 [03:43<22:43,  1.42it/s]\u001b[A\n",
      "Epoch 1:  14%|█▍        | 322/2252 [03:43<22:41,  1.42it/s]\u001b[A\n",
      "Epoch 1:  14%|█▍        | 323/2252 [03:44<22:39,  1.42it/s]\u001b[A\n",
      "Epoch 1:  14%|█▍        | 324/2252 [03:45<22:40,  1.42it/s]\u001b[A\n",
      "Epoch 1:  14%|█▍        | 325/2252 [03:46<22:39,  1.42it/s]\u001b[A\n",
      "Epoch 1:  14%|█▍        | 326/2252 [03:46<22:38,  1.42it/s]\u001b[A\n",
      "Epoch 1:  15%|█▍        | 327/2252 [03:47<22:35,  1.42it/s]\u001b[A\n",
      "Epoch 1:  15%|█▍        | 328/2252 [03:48<22:34,  1.42it/s]\u001b[A\n",
      "Epoch 1:  15%|█▍        | 329/2252 [03:48<22:35,  1.42it/s]\u001b[A\n",
      "Epoch 1:  15%|█▍        | 330/2252 [03:49<22:35,  1.42it/s]\u001b[A"
     ]
    },
    {
     "name": "stdout",
     "output_type": "stream",
     "text": [
      "Processed batch 331/2252\n"
     ]
    },
    {
     "name": "stderr",
     "output_type": "stream",
     "text": [
      "\n",
      "Epoch 1:  15%|█▍        | 331/2252 [03:50<22:33,  1.42it/s]\u001b[A\n",
      "Epoch 1:  15%|█▍        | 332/2252 [03:50<22:32,  1.42it/s]\u001b[A\n",
      "Epoch 1:  15%|█▍        | 333/2252 [03:51<22:31,  1.42it/s]\u001b[A\n",
      "Epoch 1:  15%|█▍        | 334/2252 [03:52<22:28,  1.42it/s]\u001b[A\n",
      "Epoch 1:  15%|█▍        | 335/2252 [03:53<22:29,  1.42it/s]\u001b[A\n",
      "Epoch 1:  15%|█▍        | 336/2252 [03:53<22:29,  1.42it/s]\u001b[A\n",
      "Epoch 1:  15%|█▍        | 337/2252 [03:54<22:28,  1.42it/s]\u001b[A\n",
      "Epoch 1:  15%|█▌        | 338/2252 [03:55<22:29,  1.42it/s]\u001b[A\n",
      "Epoch 1:  15%|█▌        | 339/2252 [03:55<22:25,  1.42it/s]\u001b[A\n",
      "Epoch 1:  15%|█▌        | 340/2252 [03:56<22:24,  1.42it/s]\u001b[A"
     ]
    },
    {
     "name": "stdout",
     "output_type": "stream",
     "text": [
      "Processed batch 341/2252\n"
     ]
    },
    {
     "name": "stderr",
     "output_type": "stream",
     "text": [
      "\n",
      "Epoch 1:  15%|█▌        | 341/2252 [03:57<22:22,  1.42it/s]\u001b[A\n",
      "Epoch 1:  15%|█▌        | 342/2252 [03:57<22:21,  1.42it/s]\u001b[A\n",
      "Epoch 1:  15%|█▌        | 343/2252 [03:58<22:21,  1.42it/s]\u001b[A\n",
      "Epoch 1:  15%|█▌        | 344/2252 [03:59<22:23,  1.42it/s]\u001b[A\n",
      "Epoch 1:  15%|█▌        | 345/2252 [04:00<22:25,  1.42it/s]\u001b[A\n",
      "Epoch 1:  15%|█▌        | 346/2252 [04:00<22:17,  1.42it/s]\u001b[A\n",
      "Epoch 1:  15%|█▌        | 347/2252 [04:01<22:16,  1.43it/s]\u001b[A\n",
      "Epoch 1:  15%|█▌        | 348/2252 [04:02<22:15,  1.43it/s]\u001b[A\n",
      "Epoch 1:  15%|█▌        | 349/2252 [04:02<22:15,  1.42it/s]\u001b[A\n",
      "Epoch 1:  16%|█▌        | 350/2252 [04:03<22:16,  1.42it/s]\u001b[A"
     ]
    },
    {
     "name": "stdout",
     "output_type": "stream",
     "text": [
      "Processed batch 351/2252\n"
     ]
    },
    {
     "name": "stderr",
     "output_type": "stream",
     "text": [
      "\n",
      "Epoch 1:  16%|█▌        | 351/2252 [04:04<22:16,  1.42it/s]\u001b[A\n",
      "Epoch 1:  16%|█▌        | 352/2252 [04:05<22:15,  1.42it/s]\u001b[A\n",
      "Epoch 1:  16%|█▌        | 353/2252 [04:05<22:15,  1.42it/s]\u001b[A\n",
      "Epoch 1:  16%|█▌        | 354/2252 [04:06<22:15,  1.42it/s]\u001b[A\n",
      "Epoch 1:  16%|█▌        | 355/2252 [04:07<22:15,  1.42it/s]\u001b[A\n",
      "Epoch 1:  16%|█▌        | 356/2252 [04:07<22:14,  1.42it/s]\u001b[A\n",
      "Epoch 1:  16%|█▌        | 357/2252 [04:08<22:12,  1.42it/s]\u001b[A\n",
      "Epoch 1:  16%|█▌        | 358/2252 [04:09<22:13,  1.42it/s]\u001b[A\n",
      "Epoch 1:  16%|█▌        | 359/2252 [04:09<22:15,  1.42it/s]\u001b[A\n",
      "Epoch 1:  16%|█▌        | 360/2252 [04:10<22:14,  1.42it/s]\u001b[A"
     ]
    },
    {
     "name": "stdout",
     "output_type": "stream",
     "text": [
      "Processed batch 361/2252\n"
     ]
    },
    {
     "name": "stderr",
     "output_type": "stream",
     "text": [
      "\n",
      "Epoch 1:  16%|█▌        | 361/2252 [04:11<22:15,  1.42it/s]\u001b[A\n",
      "Epoch 1:  16%|█▌        | 362/2252 [04:12<22:12,  1.42it/s]\u001b[A\n",
      "Epoch 1:  16%|█▌        | 363/2252 [04:12<22:12,  1.42it/s]\u001b[A\n",
      "Epoch 1:  16%|█▌        | 364/2252 [04:13<22:11,  1.42it/s]\u001b[A\n",
      "Epoch 1:  16%|█▌        | 365/2252 [04:14<22:09,  1.42it/s]\u001b[A\n",
      "Epoch 1:  16%|█▋        | 366/2252 [04:14<22:10,  1.42it/s]\u001b[A\n",
      "Epoch 1:  16%|█▋        | 367/2252 [04:15<22:10,  1.42it/s]\u001b[A\n",
      "Epoch 1:  16%|█▋        | 368/2252 [04:16<22:10,  1.42it/s]\u001b[A\n",
      "Epoch 1:  16%|█▋        | 369/2252 [04:17<22:14,  1.41it/s]\u001b[A\n",
      "Epoch 1:  16%|█▋        | 370/2252 [04:17<22:06,  1.42it/s]\u001b[A"
     ]
    },
    {
     "name": "stdout",
     "output_type": "stream",
     "text": [
      "Processed batch 371/2252\n"
     ]
    },
    {
     "name": "stderr",
     "output_type": "stream",
     "text": [
      "\n",
      "Epoch 1:  16%|█▋        | 371/2252 [04:18<22:05,  1.42it/s]\u001b[A\n",
      "Epoch 1:  17%|█▋        | 372/2252 [04:19<22:09,  1.41it/s]\u001b[A\n",
      "Epoch 1:  17%|█▋        | 373/2252 [04:19<22:10,  1.41it/s]\u001b[A\n",
      "Epoch 1:  17%|█▋        | 374/2252 [04:20<22:04,  1.42it/s]\u001b[A\n",
      "Epoch 1:  17%|█▋        | 375/2252 [04:21<22:03,  1.42it/s]\u001b[A\n",
      "Epoch 1:  17%|█▋        | 376/2252 [04:21<22:03,  1.42it/s]\u001b[A\n",
      "Epoch 1:  17%|█▋        | 377/2252 [04:22<22:00,  1.42it/s]\u001b[A\n",
      "Epoch 1:  17%|█▋        | 378/2252 [04:23<21:59,  1.42it/s]\u001b[A\n",
      "Epoch 1:  17%|█▋        | 379/2252 [04:24<22:00,  1.42it/s]\u001b[A\n",
      "Epoch 1:  17%|█▋        | 380/2252 [04:24<22:01,  1.42it/s]\u001b[A"
     ]
    },
    {
     "name": "stdout",
     "output_type": "stream",
     "text": [
      "Processed batch 381/2252\n"
     ]
    },
    {
     "name": "stderr",
     "output_type": "stream",
     "text": [
      "\n",
      "Epoch 1:  17%|█▋        | 381/2252 [04:25<22:00,  1.42it/s]\u001b[A\n",
      "Epoch 1:  17%|█▋        | 382/2252 [04:26<22:00,  1.42it/s]\u001b[A\n",
      "Epoch 1:  17%|█▋        | 383/2252 [04:26<21:59,  1.42it/s]\u001b[A\n",
      "Epoch 1:  17%|█▋        | 384/2252 [04:27<22:00,  1.41it/s]\u001b[A\n",
      "Epoch 1:  17%|█▋        | 385/2252 [04:28<21:58,  1.42it/s]\u001b[A\n",
      "Epoch 1:  17%|█▋        | 386/2252 [04:28<21:59,  1.41it/s]\u001b[A\n",
      "Epoch 1:  17%|█▋        | 387/2252 [04:29<21:57,  1.42it/s]\u001b[A\n",
      "Epoch 1:  17%|█▋        | 388/2252 [04:30<21:56,  1.42it/s]\u001b[A\n",
      "Epoch 1:  17%|█▋        | 389/2252 [04:31<21:57,  1.41it/s]\u001b[A\n",
      "Epoch 1:  17%|█▋        | 390/2252 [04:31<21:55,  1.42it/s]\u001b[A"
     ]
    },
    {
     "name": "stdout",
     "output_type": "stream",
     "text": [
      "Processed batch 391/2252\n"
     ]
    },
    {
     "name": "stderr",
     "output_type": "stream",
     "text": [
      "\n",
      "Epoch 1:  17%|█▋        | 391/2252 [04:32<21:54,  1.42it/s]\u001b[A\n",
      "Epoch 1:  17%|█▋        | 392/2252 [04:33<21:53,  1.42it/s]\u001b[A\n",
      "Epoch 1:  17%|█▋        | 393/2252 [04:33<21:54,  1.41it/s]\u001b[A\n",
      "Epoch 1:  17%|█▋        | 394/2252 [04:34<21:52,  1.42it/s]\u001b[A\n",
      "Epoch 1:  18%|█▊        | 395/2252 [04:35<21:51,  1.42it/s]\u001b[A\n",
      "Epoch 1:  18%|█▊        | 396/2252 [04:36<21:51,  1.41it/s]\u001b[A\n",
      "Epoch 1:  18%|█▊        | 397/2252 [04:36<21:52,  1.41it/s]\u001b[A\n",
      "Epoch 1:  18%|█▊        | 398/2252 [04:37<21:51,  1.41it/s]\u001b[A\n",
      "Epoch 1:  18%|█▊        | 399/2252 [04:38<21:50,  1.41it/s]\u001b[A\n",
      "Epoch 1:  18%|█▊        | 400/2252 [04:38<21:49,  1.41it/s]\u001b[A"
     ]
    },
    {
     "name": "stdout",
     "output_type": "stream",
     "text": [
      "Processed batch 401/2252\n"
     ]
    },
    {
     "name": "stderr",
     "output_type": "stream",
     "text": [
      "\n",
      "Epoch 1:  18%|█▊        | 401/2252 [04:39<21:52,  1.41it/s]\u001b[A\n",
      "Epoch 1:  18%|█▊        | 402/2252 [04:40<21:46,  1.42it/s]\u001b[A\n",
      "Epoch 1:  18%|█▊        | 403/2252 [04:41<21:44,  1.42it/s]\u001b[A\n",
      "Epoch 1:  18%|█▊        | 404/2252 [04:41<21:45,  1.42it/s]\u001b[A\n",
      "Epoch 1:  18%|█▊        | 405/2252 [04:42<21:43,  1.42it/s]\u001b[A\n",
      "Epoch 1:  18%|█▊        | 406/2252 [04:43<21:43,  1.42it/s]\u001b[A\n",
      "Epoch 1:  18%|█▊        | 407/2252 [04:43<21:46,  1.41it/s]\u001b[A\n",
      "Epoch 1:  18%|█▊        | 408/2252 [04:44<21:44,  1.41it/s]\u001b[A\n",
      "Epoch 1:  18%|█▊        | 409/2252 [04:45<21:42,  1.42it/s]\u001b[A\n",
      "Epoch 1:  18%|█▊        | 410/2252 [04:45<21:42,  1.41it/s]\u001b[A"
     ]
    },
    {
     "name": "stdout",
     "output_type": "stream",
     "text": [
      "Processed batch 411/2252\n"
     ]
    },
    {
     "name": "stderr",
     "output_type": "stream",
     "text": [
      "\n",
      "Epoch 1:  18%|█▊        | 411/2252 [04:46<21:42,  1.41it/s]\u001b[A\n",
      "Epoch 1:  18%|█▊        | 412/2252 [04:47<21:40,  1.41it/s]\u001b[A\n",
      "Epoch 1:  18%|█▊        | 413/2252 [04:48<21:40,  1.41it/s]\u001b[A\n",
      "Epoch 1:  18%|█▊        | 414/2252 [04:48<21:38,  1.42it/s]\u001b[A\n",
      "Epoch 1:  18%|█▊        | 415/2252 [04:49<21:38,  1.42it/s]\u001b[A\n",
      "Epoch 1:  18%|█▊        | 416/2252 [04:50<21:37,  1.41it/s]\u001b[A\n",
      "Epoch 1:  19%|█▊        | 417/2252 [04:50<21:36,  1.42it/s]\u001b[A\n",
      "Epoch 1:  19%|█▊        | 418/2252 [04:51<21:36,  1.41it/s]\u001b[A\n",
      "Epoch 1:  19%|█▊        | 419/2252 [04:52<21:36,  1.41it/s]\u001b[A\n",
      "Epoch 1:  19%|█▊        | 420/2252 [04:53<21:34,  1.42it/s]\u001b[A"
     ]
    },
    {
     "name": "stdout",
     "output_type": "stream",
     "text": [
      "Processed batch 421/2252\n"
     ]
    },
    {
     "name": "stderr",
     "output_type": "stream",
     "text": [
      "\n",
      "Epoch 1:  19%|█▊        | 421/2252 [04:53<21:34,  1.41it/s]\u001b[A\n",
      "Epoch 1:  19%|█▊        | 422/2252 [04:54<21:35,  1.41it/s]\u001b[A\n",
      "Epoch 1:  19%|█▉        | 423/2252 [04:55<21:34,  1.41it/s]\u001b[A\n",
      "Epoch 1:  19%|█▉        | 424/2252 [04:55<21:32,  1.41it/s]\u001b[A\n",
      "Epoch 1:  19%|█▉        | 425/2252 [04:56<21:32,  1.41it/s]\u001b[A\n",
      "Epoch 1:  19%|█▉        | 426/2252 [04:57<21:31,  1.41it/s]\u001b[A\n",
      "Epoch 1:  19%|█▉        | 427/2252 [04:57<21:29,  1.42it/s]\u001b[A\n",
      "Epoch 1:  19%|█▉        | 428/2252 [04:58<21:33,  1.41it/s]\u001b[A\n",
      "Epoch 1:  19%|█▉        | 429/2252 [04:59<21:28,  1.41it/s]\u001b[A\n",
      "Epoch 1:  19%|█▉        | 430/2252 [05:00<21:27,  1.41it/s]\u001b[A"
     ]
    },
    {
     "name": "stdout",
     "output_type": "stream",
     "text": [
      "Processed batch 431/2252\n"
     ]
    },
    {
     "name": "stderr",
     "output_type": "stream",
     "text": [
      "\n",
      "Epoch 1:  19%|█▉        | 431/2252 [05:00<21:26,  1.42it/s]\u001b[A\n",
      "Epoch 1:  19%|█▉        | 432/2252 [05:01<21:27,  1.41it/s]\u001b[A\n",
      "Epoch 1:  19%|█▉        | 433/2252 [05:02<21:25,  1.41it/s]\u001b[A\n",
      "Epoch 1:  19%|█▉        | 434/2252 [05:02<21:25,  1.41it/s]\u001b[A\n",
      "Epoch 1:  19%|█▉        | 435/2252 [05:03<21:24,  1.41it/s]\u001b[A\n",
      "Epoch 1:  19%|█▉        | 436/2252 [05:04<21:22,  1.42it/s]\u001b[A\n",
      "Epoch 1:  19%|█▉        | 437/2252 [05:05<21:21,  1.42it/s]\u001b[A\n",
      "Epoch 1:  19%|█▉        | 438/2252 [05:05<21:22,  1.41it/s]\u001b[A\n",
      "Epoch 1:  19%|█▉        | 439/2252 [05:06<21:22,  1.41it/s]\u001b[A\n",
      "Epoch 1:  20%|█▉        | 440/2252 [05:07<21:20,  1.42it/s]\u001b[A"
     ]
    },
    {
     "name": "stdout",
     "output_type": "stream",
     "text": [
      "Processed batch 441/2252\n"
     ]
    },
    {
     "name": "stderr",
     "output_type": "stream",
     "text": [
      "\n",
      "Epoch 1:  20%|█▉        | 441/2252 [05:07<21:21,  1.41it/s]\u001b[A\n",
      "Epoch 1:  20%|█▉        | 442/2252 [05:08<21:19,  1.41it/s]\u001b[A\n",
      "Epoch 1:  20%|█▉        | 443/2252 [05:09<21:19,  1.41it/s]\u001b[A\n",
      "Epoch 1:  20%|█▉        | 444/2252 [05:09<21:19,  1.41it/s]\u001b[A\n",
      "Epoch 1:  20%|█▉        | 445/2252 [05:10<21:17,  1.41it/s]\u001b[A\n",
      "Epoch 1:  20%|█▉        | 446/2252 [05:11<21:20,  1.41it/s]\u001b[A\n",
      "Epoch 1:  20%|█▉        | 447/2252 [05:12<21:20,  1.41it/s]\u001b[A\n",
      "Epoch 1:  20%|█▉        | 448/2252 [05:12<21:15,  1.41it/s]\u001b[A\n",
      "Epoch 1:  20%|█▉        | 449/2252 [05:13<21:13,  1.42it/s]\u001b[A\n",
      "Epoch 1:  20%|█▉        | 450/2252 [05:14<21:14,  1.41it/s]\u001b[A"
     ]
    },
    {
     "name": "stdout",
     "output_type": "stream",
     "text": [
      "Processed batch 451/2252\n"
     ]
    },
    {
     "name": "stderr",
     "output_type": "stream",
     "text": [
      "\n",
      "Epoch 1:  20%|██        | 451/2252 [05:14<21:13,  1.41it/s]\u001b[A\n",
      "Epoch 1:  20%|██        | 452/2252 [05:15<21:12,  1.41it/s]\u001b[A\n",
      "Epoch 1:  20%|██        | 453/2252 [05:16<21:11,  1.41it/s]\u001b[A\n",
      "Epoch 1:  20%|██        | 454/2252 [05:17<21:11,  1.41it/s]\u001b[A\n",
      "Epoch 1:  20%|██        | 455/2252 [05:17<21:10,  1.41it/s]\u001b[A\n",
      "Epoch 1:  20%|██        | 456/2252 [05:18<21:09,  1.42it/s]\u001b[A\n",
      "Epoch 1:  20%|██        | 457/2252 [05:19<21:08,  1.41it/s]\u001b[A\n",
      "Epoch 1:  20%|██        | 458/2252 [05:19<21:08,  1.41it/s]\u001b[A\n",
      "Epoch 1:  20%|██        | 459/2252 [05:20<21:08,  1.41it/s]\u001b[A\n",
      "Epoch 1:  20%|██        | 460/2252 [05:21<21:06,  1.41it/s]\u001b[A"
     ]
    },
    {
     "name": "stdout",
     "output_type": "stream",
     "text": [
      "Processed batch 461/2252\n"
     ]
    },
    {
     "name": "stderr",
     "output_type": "stream",
     "text": [
      "\n",
      "Epoch 1:  20%|██        | 461/2252 [05:22<21:06,  1.41it/s]\u001b[A\n",
      "Epoch 1:  21%|██        | 462/2252 [05:22<21:06,  1.41it/s]\u001b[A\n",
      "Epoch 1:  21%|██        | 463/2252 [05:23<21:04,  1.41it/s]\u001b[A\n",
      "Epoch 1:  21%|██        | 464/2252 [05:24<21:04,  1.41it/s]\u001b[A\n",
      "Epoch 1:  21%|██        | 465/2252 [05:24<21:03,  1.41it/s]\u001b[A\n",
      "Epoch 1:  21%|██        | 466/2252 [05:25<21:03,  1.41it/s]\u001b[A\n",
      "Epoch 1:  21%|██        | 467/2252 [05:26<21:03,  1.41it/s]\u001b[A\n",
      "Epoch 1:  21%|██        | 468/2252 [05:26<21:02,  1.41it/s]\u001b[A\n",
      "Epoch 1:  21%|██        | 469/2252 [05:27<20:59,  1.42it/s]\u001b[A\n",
      "Epoch 1:  21%|██        | 470/2252 [05:28<20:59,  1.41it/s]\u001b[A"
     ]
    },
    {
     "name": "stdout",
     "output_type": "stream",
     "text": [
      "Processed batch 471/2252\n"
     ]
    },
    {
     "name": "stderr",
     "output_type": "stream",
     "text": [
      "\n",
      "Epoch 1:  21%|██        | 471/2252 [05:29<20:59,  1.41it/s]\u001b[A\n",
      "Epoch 1:  21%|██        | 472/2252 [05:29<20:58,  1.41it/s]\u001b[A\n",
      "Epoch 1:  21%|██        | 473/2252 [05:30<20:57,  1.41it/s]\u001b[A\n",
      "Epoch 1:  21%|██        | 474/2252 [05:31<20:57,  1.41it/s]\u001b[A\n",
      "Epoch 1:  21%|██        | 475/2252 [05:31<20:57,  1.41it/s]\u001b[A\n",
      "Epoch 1:  21%|██        | 476/2252 [05:32<20:55,  1.41it/s]\u001b[A\n",
      "Epoch 1:  21%|██        | 477/2252 [05:33<20:55,  1.41it/s]\u001b[A\n",
      "Epoch 1:  21%|██        | 478/2252 [05:34<20:54,  1.41it/s]\u001b[A\n",
      "Epoch 1:  21%|██▏       | 479/2252 [05:34<20:53,  1.41it/s]\u001b[A\n",
      "Epoch 1:  21%|██▏       | 480/2252 [05:35<20:52,  1.41it/s]\u001b[A"
     ]
    },
    {
     "name": "stdout",
     "output_type": "stream",
     "text": [
      "Processed batch 481/2252\n"
     ]
    },
    {
     "name": "stderr",
     "output_type": "stream",
     "text": [
      "\n",
      "Epoch 1:  21%|██▏       | 481/2252 [05:36<20:51,  1.41it/s]\u001b[A\n",
      "Epoch 1:  21%|██▏       | 482/2252 [05:36<20:51,  1.41it/s]\u001b[A\n",
      "Epoch 1:  21%|██▏       | 483/2252 [05:37<20:50,  1.41it/s]\u001b[A\n",
      "Epoch 1:  21%|██▏       | 484/2252 [05:38<20:50,  1.41it/s]\u001b[A\n",
      "Epoch 1:  22%|██▏       | 485/2252 [05:38<20:49,  1.41it/s]\u001b[A\n",
      "Epoch 1:  22%|██▏       | 486/2252 [05:39<20:49,  1.41it/s]\u001b[A\n",
      "Epoch 1:  22%|██▏       | 487/2252 [05:40<20:46,  1.42it/s]\u001b[A\n",
      "Epoch 1:  22%|██▏       | 488/2252 [05:41<20:48,  1.41it/s]\u001b[A\n",
      "Epoch 1:  22%|██▏       | 489/2252 [05:41<20:47,  1.41it/s]\u001b[A\n",
      "Epoch 1:  22%|██▏       | 490/2252 [05:42<20:46,  1.41it/s]\u001b[A"
     ]
    },
    {
     "name": "stdout",
     "output_type": "stream",
     "text": [
      "Processed batch 491/2252\n"
     ]
    },
    {
     "name": "stderr",
     "output_type": "stream",
     "text": [
      "\n",
      "Epoch 1:  22%|██▏       | 491/2252 [05:43<20:46,  1.41it/s]\u001b[A\n",
      "Epoch 1:  22%|██▏       | 492/2252 [05:43<20:44,  1.41it/s]\u001b[A\n",
      "Epoch 1:  22%|██▏       | 493/2252 [05:44<20:46,  1.41it/s]\u001b[A\n",
      "Epoch 1:  22%|██▏       | 494/2252 [05:45<20:43,  1.41it/s]\u001b[A\n",
      "Epoch 1:  22%|██▏       | 495/2252 [05:46<20:42,  1.41it/s]\u001b[A\n",
      "Epoch 1:  22%|██▏       | 496/2252 [05:46<20:42,  1.41it/s]\u001b[A\n",
      "Epoch 1:  22%|██▏       | 497/2252 [05:47<20:41,  1.41it/s]\u001b[A\n",
      "Epoch 1:  22%|██▏       | 498/2252 [05:48<20:40,  1.41it/s]\u001b[A\n",
      "Epoch 1:  22%|██▏       | 499/2252 [05:48<20:39,  1.41it/s]\u001b[A\n",
      "Epoch 1:  22%|██▏       | 500/2252 [05:49<20:42,  1.41it/s]\u001b[A"
     ]
    },
    {
     "name": "stdout",
     "output_type": "stream",
     "text": [
      "Processed batch 501/2252\n"
     ]
    },
    {
     "name": "stderr",
     "output_type": "stream",
     "text": [
      "\n",
      "Epoch 1:  22%|██▏       | 501/2252 [05:50<20:36,  1.42it/s]\u001b[A\n",
      "Epoch 1:  22%|██▏       | 502/2252 [05:51<20:37,  1.41it/s]\u001b[A\n",
      "Epoch 1:  22%|██▏       | 503/2252 [05:51<20:36,  1.41it/s]\u001b[A\n",
      "Epoch 1:  22%|██▏       | 504/2252 [05:52<20:35,  1.41it/s]\u001b[A\n",
      "Epoch 1:  22%|██▏       | 505/2252 [05:53<20:33,  1.42it/s]\u001b[A\n",
      "Epoch 1:  22%|██▏       | 506/2252 [05:53<20:33,  1.42it/s]\u001b[A\n",
      "Epoch 1:  23%|██▎       | 507/2252 [05:54<20:33,  1.41it/s]\u001b[A\n",
      "Epoch 1:  23%|██▎       | 508/2252 [05:55<20:32,  1.41it/s]\u001b[A\n",
      "Epoch 1:  23%|██▎       | 509/2252 [05:55<20:32,  1.41it/s]\u001b[A\n",
      "Epoch 1:  23%|██▎       | 510/2252 [05:56<20:31,  1.41it/s]\u001b[A"
     ]
    },
    {
     "name": "stdout",
     "output_type": "stream",
     "text": [
      "Processed batch 511/2252\n"
     ]
    },
    {
     "name": "stderr",
     "output_type": "stream",
     "text": [
      "\n",
      "Epoch 1:  23%|██▎       | 511/2252 [05:57<20:31,  1.41it/s]\u001b[A\n",
      "Epoch 1:  23%|██▎       | 512/2252 [05:58<20:29,  1.41it/s]\u001b[A\n",
      "Epoch 1:  23%|██▎       | 513/2252 [05:58<20:30,  1.41it/s]\u001b[A\n",
      "Epoch 1:  23%|██▎       | 514/2252 [05:59<20:28,  1.41it/s]\u001b[A\n",
      "Epoch 1:  23%|██▎       | 515/2252 [06:00<20:26,  1.42it/s]\u001b[A\n",
      "Epoch 1:  23%|██▎       | 516/2252 [06:00<20:27,  1.41it/s]\u001b[A\n",
      "Epoch 1:  23%|██▎       | 517/2252 [06:01<20:26,  1.41it/s]\u001b[A\n",
      "Epoch 1:  23%|██▎       | 518/2252 [06:02<20:26,  1.41it/s]\u001b[A\n",
      "Epoch 1:  23%|██▎       | 519/2252 [06:03<20:24,  1.42it/s]\u001b[A\n",
      "Epoch 1:  23%|██▎       | 520/2252 [06:03<20:23,  1.42it/s]\u001b[A"
     ]
    },
    {
     "name": "stdout",
     "output_type": "stream",
     "text": [
      "Processed batch 521/2252\n"
     ]
    },
    {
     "name": "stderr",
     "output_type": "stream",
     "text": [
      "\n",
      "Epoch 1:  23%|██▎       | 521/2252 [06:04<20:23,  1.42it/s]\u001b[A\n",
      "Epoch 1:  23%|██▎       | 522/2252 [06:05<20:23,  1.41it/s]\u001b[A\n",
      "Epoch 1:  23%|██▎       | 523/2252 [06:05<20:24,  1.41it/s]\u001b[A\n",
      "Epoch 1:  23%|██▎       | 524/2252 [06:06<20:21,  1.41it/s]\u001b[A\n",
      "Epoch 1:  23%|██▎       | 525/2252 [06:07<20:22,  1.41it/s]\u001b[A\n",
      "Epoch 1:  23%|██▎       | 526/2252 [06:07<20:20,  1.41it/s]\u001b[A\n",
      "Epoch 1:  23%|██▎       | 527/2252 [06:08<20:19,  1.41it/s]\u001b[A\n",
      "Epoch 1:  23%|██▎       | 528/2252 [06:09<20:17,  1.42it/s]\u001b[A\n",
      "Epoch 1:  23%|██▎       | 529/2252 [06:10<20:17,  1.42it/s]\u001b[A\n",
      "Epoch 1:  24%|██▎       | 530/2252 [06:10<20:15,  1.42it/s]\u001b[A"
     ]
    },
    {
     "name": "stdout",
     "output_type": "stream",
     "text": [
      "Processed batch 531/2252\n"
     ]
    },
    {
     "name": "stderr",
     "output_type": "stream",
     "text": [
      "\n",
      "Epoch 1:  24%|██▎       | 531/2252 [06:11<20:17,  1.41it/s]\u001b[A\n",
      "Epoch 1:  24%|██▎       | 532/2252 [06:12<20:16,  1.41it/s]\u001b[A\n",
      "Epoch 1:  24%|██▎       | 533/2252 [06:12<20:15,  1.41it/s]\u001b[A\n",
      "Epoch 1:  24%|██▎       | 534/2252 [06:13<20:15,  1.41it/s]\u001b[A\n",
      "Epoch 1:  24%|██▍       | 535/2252 [06:14<20:14,  1.41it/s]\u001b[A\n",
      "Epoch 1:  24%|██▍       | 536/2252 [06:15<20:13,  1.41it/s]\u001b[A\n",
      "Epoch 1:  24%|██▍       | 537/2252 [06:15<20:14,  1.41it/s]\u001b[A\n",
      "Epoch 1:  24%|██▍       | 538/2252 [06:16<20:19,  1.41it/s]\u001b[A\n",
      "Epoch 1:  24%|██▍       | 539/2252 [06:17<20:09,  1.42it/s]\u001b[A\n",
      "Epoch 1:  24%|██▍       | 540/2252 [06:17<20:09,  1.42it/s]\u001b[A"
     ]
    },
    {
     "name": "stdout",
     "output_type": "stream",
     "text": [
      "Processed batch 541/2252\n"
     ]
    },
    {
     "name": "stderr",
     "output_type": "stream",
     "text": [
      "\n",
      "Epoch 1:  24%|██▍       | 541/2252 [06:18<20:09,  1.41it/s]\u001b[A\n",
      "Epoch 1:  24%|██▍       | 542/2252 [06:19<20:10,  1.41it/s]\u001b[A\n",
      "Epoch 1:  24%|██▍       | 543/2252 [06:20<20:09,  1.41it/s]\u001b[A\n",
      "Epoch 1:  24%|██▍       | 544/2252 [06:20<20:08,  1.41it/s]\u001b[A\n",
      "Epoch 1:  24%|██▍       | 545/2252 [06:21<20:07,  1.41it/s]\u001b[A\n",
      "Epoch 1:  24%|██▍       | 546/2252 [06:22<20:05,  1.41it/s]\u001b[A\n",
      "Epoch 1:  24%|██▍       | 547/2252 [06:22<20:06,  1.41it/s]\u001b[A\n",
      "Epoch 1:  24%|██▍       | 548/2252 [06:23<20:06,  1.41it/s]\u001b[A\n",
      "Epoch 1:  24%|██▍       | 549/2252 [06:24<20:06,  1.41it/s]\u001b[A\n",
      "Epoch 1:  24%|██▍       | 550/2252 [06:24<20:04,  1.41it/s]\u001b[A"
     ]
    },
    {
     "name": "stdout",
     "output_type": "stream",
     "text": [
      "Processed batch 551/2252\n"
     ]
    },
    {
     "name": "stderr",
     "output_type": "stream",
     "text": [
      "\n",
      "Epoch 1:  24%|██▍       | 551/2252 [06:25<20:03,  1.41it/s]\u001b[A\n",
      "Epoch 1:  25%|██▍       | 552/2252 [06:26<20:03,  1.41it/s]\u001b[A\n",
      "Epoch 1:  25%|██▍       | 553/2252 [06:27<20:02,  1.41it/s]\u001b[A\n",
      "Epoch 1:  25%|██▍       | 554/2252 [06:27<20:01,  1.41it/s]\u001b[A\n",
      "Epoch 1:  25%|██▍       | 555/2252 [06:28<20:00,  1.41it/s]\u001b[A\n",
      "Epoch 1:  25%|██▍       | 556/2252 [06:29<20:04,  1.41it/s]\u001b[A\n",
      "Epoch 1:  25%|██▍       | 557/2252 [06:29<19:58,  1.41it/s]\u001b[A\n",
      "Epoch 1:  25%|██▍       | 558/2252 [06:30<19:58,  1.41it/s]\u001b[A\n",
      "Epoch 1:  25%|██▍       | 559/2252 [06:31<19:59,  1.41it/s]\u001b[A\n",
      "Epoch 1:  25%|██▍       | 560/2252 [06:32<19:57,  1.41it/s]\u001b[A"
     ]
    },
    {
     "name": "stdout",
     "output_type": "stream",
     "text": [
      "Processed batch 561/2252\n"
     ]
    },
    {
     "name": "stderr",
     "output_type": "stream",
     "text": [
      "\n",
      "Epoch 1:  25%|██▍       | 561/2252 [06:32<19:56,  1.41it/s]\u001b[A\n",
      "Epoch 1:  25%|██▍       | 562/2252 [06:33<19:57,  1.41it/s]\u001b[A\n",
      "Epoch 1:  25%|██▌       | 563/2252 [06:34<19:59,  1.41it/s]\u001b[A\n",
      "Epoch 1:  25%|██▌       | 564/2252 [06:34<19:53,  1.41it/s]\u001b[A\n",
      "Epoch 1:  25%|██▌       | 565/2252 [06:35<19:52,  1.42it/s]\u001b[A\n",
      "Epoch 1:  25%|██▌       | 566/2252 [06:36<19:51,  1.42it/s]\u001b[A\n",
      "Epoch 1:  25%|██▌       | 567/2252 [06:36<19:51,  1.41it/s]\u001b[A\n",
      "Epoch 1:  25%|██▌       | 568/2252 [06:37<19:52,  1.41it/s]\u001b[A\n",
      "Epoch 1:  25%|██▌       | 569/2252 [06:38<19:50,  1.41it/s]\u001b[A\n",
      "Epoch 1:  25%|██▌       | 570/2252 [06:39<19:49,  1.41it/s]\u001b[A"
     ]
    },
    {
     "name": "stdout",
     "output_type": "stream",
     "text": [
      "Processed batch 571/2252\n"
     ]
    },
    {
     "name": "stderr",
     "output_type": "stream",
     "text": [
      "\n",
      "Epoch 1:  25%|██▌       | 571/2252 [06:39<19:49,  1.41it/s]\u001b[A\n",
      "Epoch 1:  25%|██▌       | 572/2252 [06:40<19:51,  1.41it/s]\u001b[A\n",
      "Epoch 1:  25%|██▌       | 573/2252 [06:41<19:50,  1.41it/s]\u001b[A\n",
      "Epoch 1:  25%|██▌       | 574/2252 [06:41<19:48,  1.41it/s]\u001b[A\n",
      "Epoch 1:  26%|██▌       | 575/2252 [06:42<19:48,  1.41it/s]\u001b[A\n",
      "Epoch 1:  26%|██▌       | 576/2252 [06:43<19:48,  1.41it/s]\u001b[A\n",
      "Epoch 1:  26%|██▌       | 577/2252 [06:44<19:46,  1.41it/s]\u001b[A\n",
      "Epoch 1:  26%|██▌       | 578/2252 [06:44<19:45,  1.41it/s]\u001b[A\n",
      "Epoch 1:  26%|██▌       | 579/2252 [06:45<19:45,  1.41it/s]\u001b[A\n",
      "Epoch 1:  26%|██▌       | 580/2252 [06:46<19:45,  1.41it/s]\u001b[A"
     ]
    },
    {
     "name": "stdout",
     "output_type": "stream",
     "text": [
      "Processed batch 581/2252\n"
     ]
    },
    {
     "name": "stderr",
     "output_type": "stream",
     "text": [
      "\n",
      "Epoch 1:  26%|██▌       | 581/2252 [06:46<19:42,  1.41it/s]\u001b[A\n",
      "Epoch 1:  26%|██▌       | 582/2252 [06:47<19:44,  1.41it/s]\u001b[A\n",
      "Epoch 1:  26%|██▌       | 583/2252 [06:48<19:39,  1.41it/s]\u001b[A\n",
      "Epoch 1:  26%|██▌       | 584/2252 [06:49<19:43,  1.41it/s]\u001b[A\n",
      "Epoch 1:  26%|██▌       | 585/2252 [06:49<19:40,  1.41it/s]\u001b[A\n",
      "Epoch 1:  26%|██▌       | 586/2252 [06:50<19:40,  1.41it/s]\u001b[A\n",
      "Epoch 1:  26%|██▌       | 587/2252 [06:51<19:39,  1.41it/s]\u001b[A\n",
      "Epoch 1:  26%|██▌       | 588/2252 [06:51<19:39,  1.41it/s]\u001b[A\n",
      "Epoch 1:  26%|██▌       | 589/2252 [06:52<19:39,  1.41it/s]\u001b[A\n",
      "Epoch 1:  26%|██▌       | 590/2252 [06:53<19:37,  1.41it/s]\u001b[A"
     ]
    },
    {
     "name": "stdout",
     "output_type": "stream",
     "text": [
      "Processed batch 591/2252\n"
     ]
    },
    {
     "name": "stderr",
     "output_type": "stream",
     "text": [
      "\n",
      "Epoch 1:  26%|██▌       | 591/2252 [06:53<19:35,  1.41it/s]\u001b[A\n",
      "Epoch 1:  26%|██▋       | 592/2252 [06:54<19:35,  1.41it/s]\u001b[A\n",
      "Epoch 1:  26%|██▋       | 593/2252 [06:55<19:36,  1.41it/s]\u001b[A\n",
      "Epoch 1:  26%|██▋       | 594/2252 [06:56<19:36,  1.41it/s]\u001b[A\n",
      "Epoch 1:  26%|██▋       | 595/2252 [06:56<19:34,  1.41it/s]\u001b[A\n",
      "Epoch 1:  26%|██▋       | 596/2252 [06:57<19:32,  1.41it/s]\u001b[A\n",
      "Epoch 1:  27%|██▋       | 597/2252 [06:58<19:31,  1.41it/s]\u001b[A\n",
      "Epoch 1:  27%|██▋       | 598/2252 [06:58<19:29,  1.41it/s]\u001b[A\n",
      "Epoch 1:  27%|██▋       | 599/2252 [06:59<19:34,  1.41it/s]\u001b[A\n",
      "Epoch 1:  27%|██▋       | 600/2252 [07:00<19:27,  1.41it/s]\u001b[A"
     ]
    },
    {
     "name": "stdout",
     "output_type": "stream",
     "text": [
      "Processed batch 601/2252\n"
     ]
    },
    {
     "name": "stderr",
     "output_type": "stream",
     "text": [
      "\n",
      "Epoch 1:  27%|██▋       | 601/2252 [07:01<19:27,  1.41it/s]\u001b[A\n",
      "Epoch 1:  27%|██▋       | 602/2252 [07:01<19:30,  1.41it/s]\u001b[A\n",
      "Epoch 1:  27%|██▋       | 603/2252 [07:02<19:27,  1.41it/s]\u001b[A\n",
      "Epoch 1:  27%|██▋       | 604/2252 [07:03<19:26,  1.41it/s]\u001b[A\n",
      "Epoch 1:  27%|██▋       | 605/2252 [07:03<19:25,  1.41it/s]\u001b[A\n",
      "Epoch 1:  27%|██▋       | 606/2252 [07:04<19:24,  1.41it/s]\u001b[A\n",
      "Epoch 1:  27%|██▋       | 607/2252 [07:05<19:24,  1.41it/s]\u001b[A\n",
      "Epoch 1:  27%|██▋       | 608/2252 [07:06<19:24,  1.41it/s]\u001b[A\n",
      "Epoch 1:  27%|██▋       | 609/2252 [07:06<19:22,  1.41it/s]\u001b[A\n",
      "Epoch 1:  27%|██▋       | 610/2252 [07:07<19:23,  1.41it/s]\u001b[A"
     ]
    },
    {
     "name": "stdout",
     "output_type": "stream",
     "text": [
      "Processed batch 611/2252\n"
     ]
    },
    {
     "name": "stderr",
     "output_type": "stream",
     "text": [
      "\n",
      "Epoch 1:  27%|██▋       | 611/2252 [07:08<19:21,  1.41it/s]\u001b[A\n",
      "Epoch 1:  27%|██▋       | 612/2252 [07:08<19:19,  1.41it/s]\u001b[A\n",
      "Epoch 1:  27%|██▋       | 613/2252 [07:09<19:23,  1.41it/s]\u001b[A\n",
      "Epoch 1:  27%|██▋       | 614/2252 [07:10<19:20,  1.41it/s]\u001b[A\n",
      "Epoch 1:  27%|██▋       | 615/2252 [07:11<19:21,  1.41it/s]\u001b[A\n",
      "Epoch 1:  27%|██▋       | 616/2252 [07:11<19:22,  1.41it/s]\u001b[A\n",
      "Epoch 1:  27%|██▋       | 617/2252 [07:12<19:21,  1.41it/s]\u001b[A\n",
      "Epoch 1:  27%|██▋       | 618/2252 [07:13<19:22,  1.41it/s]\u001b[A\n",
      "Epoch 1:  27%|██▋       | 619/2252 [07:13<19:15,  1.41it/s]\u001b[A\n",
      "Epoch 1:  28%|██▊       | 620/2252 [07:14<19:14,  1.41it/s]\u001b[A"
     ]
    },
    {
     "name": "stdout",
     "output_type": "stream",
     "text": [
      "Processed batch 621/2252\n"
     ]
    },
    {
     "name": "stderr",
     "output_type": "stream",
     "text": [
      "\n",
      "Epoch 1:  28%|██▊       | 621/2252 [07:15<19:15,  1.41it/s]\u001b[A\n",
      "Epoch 1:  28%|██▊       | 622/2252 [07:15<19:12,  1.41it/s]\u001b[A\n",
      "Epoch 1:  28%|██▊       | 623/2252 [07:16<19:12,  1.41it/s]\u001b[A\n",
      "Epoch 1:  28%|██▊       | 624/2252 [07:17<19:12,  1.41it/s]\u001b[A\n",
      "Epoch 1:  28%|██▊       | 625/2252 [07:18<19:12,  1.41it/s]\u001b[A\n",
      "Epoch 1:  28%|██▊       | 626/2252 [07:18<19:09,  1.41it/s]\u001b[A\n",
      "Epoch 1:  28%|██▊       | 627/2252 [07:19<19:08,  1.42it/s]\u001b[A\n",
      "Epoch 1:  28%|██▊       | 628/2252 [07:20<19:12,  1.41it/s]\u001b[A\n",
      "Epoch 1:  28%|██▊       | 629/2252 [07:20<19:07,  1.41it/s]\u001b[A\n",
      "Epoch 1:  28%|██▊       | 630/2252 [07:21<19:05,  1.42it/s]\u001b[A"
     ]
    },
    {
     "name": "stdout",
     "output_type": "stream",
     "text": [
      "Processed batch 631/2252\n"
     ]
    },
    {
     "name": "stderr",
     "output_type": "stream",
     "text": [
      "\n",
      "Epoch 1:  28%|██▊       | 631/2252 [07:22<19:05,  1.41it/s]\u001b[A\n",
      "Epoch 1:  28%|██▊       | 632/2252 [07:23<19:05,  1.41it/s]\u001b[A\n",
      "Epoch 1:  28%|██▊       | 633/2252 [07:23<19:05,  1.41it/s]\u001b[A\n",
      "Epoch 1:  28%|██▊       | 634/2252 [07:24<19:05,  1.41it/s]\u001b[A\n",
      "Epoch 1:  28%|██▊       | 635/2252 [07:25<19:05,  1.41it/s]\u001b[A\n",
      "Epoch 1:  28%|██▊       | 636/2252 [07:25<19:04,  1.41it/s]\u001b[A\n",
      "Epoch 1:  28%|██▊       | 637/2252 [07:26<19:03,  1.41it/s]\u001b[A\n",
      "Epoch 1:  28%|██▊       | 638/2252 [07:27<19:01,  1.41it/s]\u001b[A\n",
      "Epoch 1:  28%|██▊       | 639/2252 [07:27<19:00,  1.41it/s]\u001b[A\n",
      "Epoch 1:  28%|██▊       | 640/2252 [07:28<18:59,  1.41it/s]\u001b[A"
     ]
    },
    {
     "name": "stdout",
     "output_type": "stream",
     "text": [
      "Processed batch 641/2252\n"
     ]
    },
    {
     "name": "stderr",
     "output_type": "stream",
     "text": [
      "\n",
      "Epoch 1:  28%|██▊       | 641/2252 [07:29<19:01,  1.41it/s]\u001b[A\n",
      "Epoch 1:  29%|██▊       | 642/2252 [07:30<18:57,  1.41it/s]\u001b[A\n",
      "Epoch 1:  29%|██▊       | 643/2252 [07:30<18:57,  1.41it/s]\u001b[A\n",
      "Epoch 1:  29%|██▊       | 644/2252 [07:31<18:59,  1.41it/s]\u001b[A\n",
      "Epoch 1:  29%|██▊       | 645/2252 [07:32<18:57,  1.41it/s]\u001b[A\n",
      "Epoch 1:  29%|██▊       | 646/2252 [07:32<18:55,  1.41it/s]\u001b[A\n",
      "Epoch 1:  29%|██▊       | 647/2252 [07:33<18:55,  1.41it/s]\u001b[A\n",
      "Epoch 1:  29%|██▉       | 648/2252 [07:34<18:55,  1.41it/s]\u001b[A\n",
      "Epoch 1:  29%|██▉       | 649/2252 [07:35<18:55,  1.41it/s]\u001b[A\n",
      "Epoch 1:  29%|██▉       | 650/2252 [07:35<18:54,  1.41it/s]\u001b[A"
     ]
    },
    {
     "name": "stdout",
     "output_type": "stream",
     "text": [
      "Processed batch 651/2252\n"
     ]
    },
    {
     "name": "stderr",
     "output_type": "stream",
     "text": [
      "\n",
      "Epoch 1:  29%|██▉       | 651/2252 [07:36<18:56,  1.41it/s]\u001b[A\n",
      "Epoch 1:  29%|██▉       | 652/2252 [07:37<18:55,  1.41it/s]\u001b[A\n",
      "Epoch 1:  29%|██▉       | 653/2252 [07:37<18:54,  1.41it/s]\u001b[A\n",
      "Epoch 1:  29%|██▉       | 654/2252 [07:38<18:53,  1.41it/s]\u001b[A\n",
      "Epoch 1:  29%|██▉       | 655/2252 [07:39<18:54,  1.41it/s]\u001b[A\n",
      "Epoch 1:  29%|██▉       | 656/2252 [07:40<18:52,  1.41it/s]\u001b[A\n",
      "Epoch 1:  29%|██▉       | 657/2252 [07:40<18:52,  1.41it/s]\u001b[A\n",
      "Epoch 1:  29%|██▉       | 658/2252 [07:41<18:50,  1.41it/s]\u001b[A\n",
      "Epoch 1:  29%|██▉       | 659/2252 [07:42<18:48,  1.41it/s]\u001b[A\n",
      "Epoch 1:  29%|██▉       | 660/2252 [07:42<18:48,  1.41it/s]\u001b[A"
     ]
    },
    {
     "name": "stdout",
     "output_type": "stream",
     "text": [
      "Processed batch 661/2252\n"
     ]
    },
    {
     "name": "stderr",
     "output_type": "stream",
     "text": [
      "\n",
      "Epoch 1:  29%|██▉       | 661/2252 [07:43<18:45,  1.41it/s]\u001b[A\n",
      "Epoch 1:  29%|██▉       | 662/2252 [07:44<18:45,  1.41it/s]\u001b[A\n",
      "Epoch 1:  29%|██▉       | 663/2252 [07:44<18:44,  1.41it/s]\u001b[A\n",
      "Epoch 1:  29%|██▉       | 664/2252 [07:45<18:43,  1.41it/s]\u001b[A\n",
      "Epoch 1:  30%|██▉       | 665/2252 [07:46<18:45,  1.41it/s]\u001b[A\n",
      "Epoch 1:  30%|██▉       | 666/2252 [07:47<18:45,  1.41it/s]\u001b[A\n",
      "Epoch 1:  30%|██▉       | 667/2252 [07:47<18:46,  1.41it/s]\u001b[A\n",
      "Epoch 1:  30%|██▉       | 668/2252 [07:48<18:45,  1.41it/s]\u001b[A\n",
      "Epoch 1:  30%|██▉       | 669/2252 [07:49<18:43,  1.41it/s]\u001b[A\n",
      "Epoch 1:  30%|██▉       | 670/2252 [07:49<18:41,  1.41it/s]\u001b[A"
     ]
    },
    {
     "name": "stdout",
     "output_type": "stream",
     "text": [
      "Processed batch 671/2252\n"
     ]
    },
    {
     "name": "stderr",
     "output_type": "stream",
     "text": [
      "\n",
      "Epoch 1:  30%|██▉       | 671/2252 [07:50<18:40,  1.41it/s]\u001b[A\n",
      "Epoch 1:  30%|██▉       | 672/2252 [07:51<18:42,  1.41it/s]\u001b[A\n",
      "Epoch 1:  30%|██▉       | 673/2252 [07:52<18:40,  1.41it/s]\u001b[A\n",
      "Epoch 1:  30%|██▉       | 674/2252 [07:52<18:39,  1.41it/s]\u001b[A\n",
      "Epoch 1:  30%|██▉       | 675/2252 [07:53<18:40,  1.41it/s]\u001b[A\n",
      "Epoch 1:  30%|███       | 676/2252 [07:54<18:39,  1.41it/s]\u001b[A\n",
      "Epoch 1:  30%|███       | 677/2252 [07:54<18:37,  1.41it/s]\u001b[A\n",
      "Epoch 1:  30%|███       | 678/2252 [07:55<18:35,  1.41it/s]\u001b[A\n",
      "Epoch 1:  30%|███       | 679/2252 [07:56<18:33,  1.41it/s]\u001b[A\n",
      "Epoch 1:  30%|███       | 680/2252 [07:57<18:32,  1.41it/s]\u001b[A"
     ]
    },
    {
     "name": "stdout",
     "output_type": "stream",
     "text": [
      "Processed batch 681/2252\n"
     ]
    },
    {
     "name": "stderr",
     "output_type": "stream",
     "text": [
      "\n",
      "Epoch 1:  30%|███       | 681/2252 [07:57<18:32,  1.41it/s]\u001b[A\n",
      "Epoch 1:  30%|███       | 682/2252 [07:58<18:31,  1.41it/s]\u001b[A\n",
      "Epoch 1:  30%|███       | 683/2252 [07:59<18:32,  1.41it/s]\u001b[A\n",
      "Epoch 1:  30%|███       | 684/2252 [07:59<18:32,  1.41it/s]\u001b[A\n",
      "Epoch 1:  30%|███       | 685/2252 [08:00<18:31,  1.41it/s]\u001b[A\n",
      "Epoch 1:  30%|███       | 686/2252 [08:01<18:32,  1.41it/s]\u001b[A\n",
      "Epoch 1:  31%|███       | 687/2252 [08:02<18:31,  1.41it/s]\u001b[A\n",
      "Epoch 1:  31%|███       | 688/2252 [08:02<18:30,  1.41it/s]\u001b[A\n",
      "Epoch 1:  31%|███       | 689/2252 [08:03<18:28,  1.41it/s]\u001b[A\n",
      "Epoch 1:  31%|███       | 690/2252 [08:04<18:28,  1.41it/s]\u001b[A"
     ]
    },
    {
     "name": "stdout",
     "output_type": "stream",
     "text": [
      "Processed batch 691/2252\n"
     ]
    },
    {
     "name": "stderr",
     "output_type": "stream",
     "text": [
      "\n",
      "Epoch 1:  31%|███       | 691/2252 [08:04<18:27,  1.41it/s]\u001b[A\n",
      "Epoch 1:  31%|███       | 692/2252 [08:05<18:27,  1.41it/s]\u001b[A\n",
      "Epoch 1:  31%|███       | 693/2252 [08:06<18:27,  1.41it/s]\u001b[A\n",
      "Epoch 1:  31%|███       | 694/2252 [08:06<18:26,  1.41it/s]\u001b[A\n",
      "Epoch 1:  31%|███       | 695/2252 [08:07<18:24,  1.41it/s]\u001b[A\n",
      "Epoch 1:  31%|███       | 696/2252 [08:08<18:24,  1.41it/s]\u001b[A\n",
      "Epoch 1:  31%|███       | 697/2252 [08:09<18:25,  1.41it/s]\u001b[A\n",
      "Epoch 1:  31%|███       | 698/2252 [08:09<18:24,  1.41it/s]\u001b[A\n",
      "Epoch 1:  31%|███       | 699/2252 [08:10<18:22,  1.41it/s]\u001b[A\n",
      "Epoch 1:  31%|███       | 700/2252 [08:11<18:22,  1.41it/s]\u001b[A"
     ]
    },
    {
     "name": "stdout",
     "output_type": "stream",
     "text": [
      "Processed batch 701/2252\n"
     ]
    },
    {
     "name": "stderr",
     "output_type": "stream",
     "text": [
      "\n",
      "Epoch 1:  31%|███       | 701/2252 [08:11<18:22,  1.41it/s]\u001b[A\n",
      "Epoch 1:  31%|███       | 702/2252 [08:12<18:21,  1.41it/s]\u001b[A\n",
      "Epoch 1:  31%|███       | 703/2252 [08:13<18:20,  1.41it/s]\u001b[A\n",
      "Epoch 1:  31%|███▏      | 704/2252 [08:14<18:18,  1.41it/s]\u001b[A\n",
      "Epoch 1:  31%|███▏      | 705/2252 [08:14<18:17,  1.41it/s]\u001b[A\n",
      "Epoch 1:  31%|███▏      | 706/2252 [08:15<18:17,  1.41it/s]\u001b[A\n",
      "Epoch 1:  31%|███▏      | 707/2252 [08:16<18:16,  1.41it/s]\u001b[A\n",
      "Epoch 1:  31%|███▏      | 708/2252 [08:16<18:14,  1.41it/s]\u001b[A\n",
      "Epoch 1:  31%|███▏      | 709/2252 [08:17<18:13,  1.41it/s]\u001b[A\n",
      "Epoch 1:  32%|███▏      | 710/2252 [08:18<18:12,  1.41it/s]\u001b[A"
     ]
    },
    {
     "name": "stdout",
     "output_type": "stream",
     "text": [
      "Processed batch 711/2252\n"
     ]
    },
    {
     "name": "stderr",
     "output_type": "stream",
     "text": [
      "\n",
      "Epoch 1:  32%|███▏      | 711/2252 [08:19<18:11,  1.41it/s]\u001b[A\n",
      "Epoch 1:  32%|███▏      | 712/2252 [08:19<18:10,  1.41it/s]\u001b[A\n",
      "Epoch 1:  32%|███▏      | 713/2252 [08:20<18:09,  1.41it/s]\u001b[A\n",
      "Epoch 1:  32%|███▏      | 714/2252 [08:21<18:09,  1.41it/s]\u001b[A\n",
      "Epoch 1:  32%|███▏      | 715/2252 [08:21<18:10,  1.41it/s]\u001b[A\n",
      "Epoch 1:  32%|███▏      | 716/2252 [08:22<18:10,  1.41it/s]\u001b[A\n",
      "Epoch 1:  32%|███▏      | 717/2252 [08:23<18:12,  1.41it/s]\u001b[A\n",
      "Epoch 1:  32%|███▏      | 718/2252 [08:24<18:10,  1.41it/s]\u001b[A\n",
      "Epoch 1:  32%|███▏      | 719/2252 [08:24<18:08,  1.41it/s]\u001b[A\n",
      "Epoch 1:  32%|███▏      | 720/2252 [08:25<18:06,  1.41it/s]\u001b[A"
     ]
    },
    {
     "name": "stdout",
     "output_type": "stream",
     "text": [
      "Processed batch 721/2252\n"
     ]
    },
    {
     "name": "stderr",
     "output_type": "stream",
     "text": [
      "\n",
      "Epoch 1:  32%|███▏      | 721/2252 [08:26<18:03,  1.41it/s]\u001b[A\n",
      "Epoch 1:  32%|███▏      | 722/2252 [08:26<18:02,  1.41it/s]\u001b[A\n",
      "Epoch 1:  32%|███▏      | 723/2252 [08:27<18:01,  1.41it/s]\u001b[A\n",
      "Epoch 1:  32%|███▏      | 724/2252 [08:28<18:00,  1.41it/s]\u001b[A\n",
      "Epoch 1:  32%|███▏      | 725/2252 [08:28<18:00,  1.41it/s]\u001b[A\n",
      "Epoch 1:  32%|███▏      | 726/2252 [08:29<18:00,  1.41it/s]\u001b[A\n",
      "Epoch 1:  32%|███▏      | 727/2252 [08:30<18:00,  1.41it/s]\u001b[A\n",
      "Epoch 1:  32%|███▏      | 728/2252 [08:31<17:58,  1.41it/s]\u001b[A\n",
      "Epoch 1:  32%|███▏      | 729/2252 [08:31<17:59,  1.41it/s]\u001b[A\n",
      "Epoch 1:  32%|███▏      | 730/2252 [08:32<17:59,  1.41it/s]\u001b[A"
     ]
    },
    {
     "name": "stdout",
     "output_type": "stream",
     "text": [
      "Processed batch 731/2252\n"
     ]
    },
    {
     "name": "stderr",
     "output_type": "stream",
     "text": [
      "\n",
      "Epoch 1:  32%|███▏      | 731/2252 [08:33<17:59,  1.41it/s]\u001b[A\n",
      "Epoch 1:  33%|███▎      | 732/2252 [08:33<17:58,  1.41it/s]\u001b[A\n",
      "Epoch 1:  33%|███▎      | 733/2252 [08:34<17:58,  1.41it/s]\u001b[A\n",
      "Epoch 1:  33%|███▎      | 734/2252 [08:35<17:59,  1.41it/s]\u001b[A\n",
      "Epoch 1:  33%|███▎      | 735/2252 [08:36<17:57,  1.41it/s]\u001b[A\n",
      "Epoch 1:  33%|███▎      | 736/2252 [08:36<17:55,  1.41it/s]\u001b[A\n",
      "Epoch 1:  33%|███▎      | 737/2252 [08:37<17:55,  1.41it/s]\u001b[A\n",
      "Epoch 1:  33%|███▎      | 738/2252 [08:38<17:55,  1.41it/s]\u001b[A\n",
      "Epoch 1:  33%|███▎      | 739/2252 [08:38<17:55,  1.41it/s]\u001b[A\n",
      "Epoch 1:  33%|███▎      | 740/2252 [08:39<17:53,  1.41it/s]\u001b[A"
     ]
    },
    {
     "name": "stdout",
     "output_type": "stream",
     "text": [
      "Processed batch 741/2252\n"
     ]
    },
    {
     "name": "stderr",
     "output_type": "stream",
     "text": [
      "\n",
      "Epoch 1:  33%|███▎      | 741/2252 [08:40<17:52,  1.41it/s]\u001b[A\n",
      "Epoch 1:  33%|███▎      | 742/2252 [08:41<17:54,  1.40it/s]\u001b[A\n",
      "Epoch 1:  33%|███▎      | 743/2252 [08:41<17:53,  1.41it/s]\u001b[A\n",
      "Epoch 1:  33%|███▎      | 744/2252 [08:42<17:52,  1.41it/s]\u001b[A\n",
      "Epoch 1:  33%|███▎      | 745/2252 [08:43<17:49,  1.41it/s]\u001b[A\n",
      "Epoch 1:  33%|███▎      | 746/2252 [08:43<17:46,  1.41it/s]\u001b[A\n",
      "Epoch 1:  33%|███▎      | 747/2252 [08:44<17:45,  1.41it/s]\u001b[A\n",
      "Epoch 1:  33%|███▎      | 748/2252 [08:45<17:45,  1.41it/s]\u001b[A\n",
      "Epoch 1:  33%|███▎      | 749/2252 [08:46<17:44,  1.41it/s]\u001b[A\n",
      "Epoch 1:  33%|███▎      | 750/2252 [08:46<17:43,  1.41it/s]\u001b[A"
     ]
    },
    {
     "name": "stdout",
     "output_type": "stream",
     "text": [
      "Processed batch 751/2252\n"
     ]
    },
    {
     "name": "stderr",
     "output_type": "stream",
     "text": [
      "\n",
      "Epoch 1:  33%|███▎      | 751/2252 [08:47<17:43,  1.41it/s]\u001b[A\n",
      "Epoch 1:  33%|███▎      | 752/2252 [08:48<17:44,  1.41it/s]\u001b[A\n",
      "Epoch 1:  33%|███▎      | 753/2252 [08:48<17:43,  1.41it/s]\u001b[A\n",
      "Epoch 1:  33%|███▎      | 754/2252 [08:49<17:45,  1.41it/s]\u001b[A\n",
      "Epoch 1:  34%|███▎      | 755/2252 [08:50<17:46,  1.40it/s]\u001b[A\n",
      "Epoch 1:  34%|███▎      | 756/2252 [08:50<17:40,  1.41it/s]\u001b[A\n",
      "Epoch 1:  34%|███▎      | 757/2252 [08:51<17:38,  1.41it/s]\u001b[A\n",
      "Epoch 1:  34%|███▎      | 758/2252 [08:52<17:36,  1.41it/s]\u001b[A\n",
      "Epoch 1:  34%|███▎      | 759/2252 [08:53<17:36,  1.41it/s]\u001b[A\n",
      "Epoch 1:  34%|███▎      | 760/2252 [08:53<17:37,  1.41it/s]\u001b[A"
     ]
    },
    {
     "name": "stdout",
     "output_type": "stream",
     "text": [
      "Processed batch 761/2252\n"
     ]
    },
    {
     "name": "stderr",
     "output_type": "stream",
     "text": [
      "\n",
      "Epoch 1:  34%|███▍      | 761/2252 [08:54<17:39,  1.41it/s]\u001b[A\n",
      "Epoch 1:  34%|███▍      | 762/2252 [08:55<17:39,  1.41it/s]\u001b[A\n",
      "Epoch 1:  34%|███▍      | 763/2252 [08:55<17:40,  1.40it/s]\u001b[A\n",
      "Epoch 1:  34%|███▍      | 764/2252 [08:56<17:38,  1.41it/s]\u001b[A\n",
      "Epoch 1:  34%|███▍      | 765/2252 [08:57<17:36,  1.41it/s]\u001b[A\n",
      "Epoch 1:  34%|███▍      | 766/2252 [08:58<17:35,  1.41it/s]\u001b[A\n",
      "Epoch 1:  34%|███▍      | 767/2252 [08:58<17:33,  1.41it/s]\u001b[A\n",
      "Epoch 1:  34%|███▍      | 768/2252 [08:59<17:35,  1.41it/s]\u001b[A\n",
      "Epoch 1:  34%|███▍      | 769/2252 [09:00<17:34,  1.41it/s]\u001b[A\n",
      "Epoch 1:  34%|███▍      | 770/2252 [09:00<17:34,  1.41it/s]\u001b[A"
     ]
    },
    {
     "name": "stdout",
     "output_type": "stream",
     "text": [
      "Processed batch 771/2252\n"
     ]
    },
    {
     "name": "stderr",
     "output_type": "stream",
     "text": [
      "\n",
      "Epoch 1:  34%|███▍      | 771/2252 [09:01<17:33,  1.41it/s]\u001b[A\n",
      "Epoch 1:  34%|███▍      | 772/2252 [09:02<17:33,  1.40it/s]\u001b[A\n",
      "Epoch 1:  34%|███▍      | 773/2252 [09:03<17:30,  1.41it/s]\u001b[A\n",
      "Epoch 1:  34%|███▍      | 774/2252 [09:03<17:28,  1.41it/s]\u001b[A\n",
      "Epoch 1:  34%|███▍      | 775/2252 [09:04<17:26,  1.41it/s]\u001b[A\n",
      "Epoch 1:  34%|███▍      | 776/2252 [09:05<17:25,  1.41it/s]\u001b[A\n",
      "Epoch 1:  35%|███▍      | 777/2252 [09:05<17:24,  1.41it/s]\u001b[A\n",
      "Epoch 1:  35%|███▍      | 778/2252 [09:06<17:24,  1.41it/s]\u001b[A\n",
      "Epoch 1:  35%|███▍      | 779/2252 [09:07<17:24,  1.41it/s]\u001b[A\n",
      "Epoch 1:  35%|███▍      | 780/2252 [09:08<17:25,  1.41it/s]\u001b[A"
     ]
    },
    {
     "name": "stdout",
     "output_type": "stream",
     "text": [
      "Processed batch 781/2252\n"
     ]
    },
    {
     "name": "stderr",
     "output_type": "stream",
     "text": [
      "\n",
      "Epoch 1:  35%|███▍      | 781/2252 [09:08<17:26,  1.41it/s]\u001b[A\n",
      "Epoch 1:  35%|███▍      | 782/2252 [09:09<17:25,  1.41it/s]\u001b[A\n",
      "Epoch 1:  35%|███▍      | 783/2252 [09:10<17:22,  1.41it/s]\u001b[A\n",
      "Epoch 1:  35%|███▍      | 784/2252 [09:10<17:20,  1.41it/s]\u001b[A\n",
      "Epoch 1:  35%|███▍      | 785/2252 [09:11<17:19,  1.41it/s]\u001b[A\n",
      "Epoch 1:  35%|███▍      | 786/2252 [09:12<17:20,  1.41it/s]\u001b[A\n",
      "Epoch 1:  35%|███▍      | 787/2252 [09:12<17:20,  1.41it/s]\u001b[A\n",
      "Epoch 1:  35%|███▍      | 788/2252 [09:13<17:21,  1.41it/s]\u001b[A\n",
      "Epoch 1:  35%|███▌      | 789/2252 [09:14<17:19,  1.41it/s]\u001b[A\n",
      "Epoch 1:  35%|███▌      | 790/2252 [09:15<17:22,  1.40it/s]\u001b[A"
     ]
    },
    {
     "name": "stdout",
     "output_type": "stream",
     "text": [
      "Processed batch 791/2252\n"
     ]
    },
    {
     "name": "stderr",
     "output_type": "stream",
     "text": [
      "\n",
      "Epoch 1:  35%|███▌      | 791/2252 [09:15<17:17,  1.41it/s]\u001b[A\n",
      "Epoch 1:  35%|███▌      | 792/2252 [09:16<17:17,  1.41it/s]\u001b[A\n",
      "Epoch 1:  35%|███▌      | 793/2252 [09:17<17:17,  1.41it/s]\u001b[A\n",
      "Epoch 1:  35%|███▌      | 794/2252 [09:17<17:15,  1.41it/s]\u001b[A\n",
      "Epoch 1:  35%|███▌      | 795/2252 [09:18<17:15,  1.41it/s]\u001b[A\n",
      "Epoch 1:  35%|███▌      | 796/2252 [09:19<17:15,  1.41it/s]\u001b[A\n",
      "Epoch 1:  35%|███▌      | 797/2252 [09:20<17:18,  1.40it/s]\u001b[A\n",
      "Epoch 1:  35%|███▌      | 798/2252 [09:20<17:13,  1.41it/s]\u001b[A\n",
      "Epoch 1:  35%|███▌      | 799/2252 [09:21<17:10,  1.41it/s]\u001b[A\n",
      "Epoch 1:  36%|███▌      | 800/2252 [09:22<17:10,  1.41it/s]\u001b[A"
     ]
    },
    {
     "name": "stdout",
     "output_type": "stream",
     "text": [
      "Processed batch 801/2252\n"
     ]
    },
    {
     "name": "stderr",
     "output_type": "stream",
     "text": [
      "\n",
      "Epoch 1:  36%|███▌      | 801/2252 [09:22<17:09,  1.41it/s]\u001b[A\n",
      "Epoch 1:  36%|███▌      | 802/2252 [09:23<17:08,  1.41it/s]\u001b[A\n",
      "Epoch 1:  36%|███▌      | 803/2252 [09:24<17:09,  1.41it/s]\u001b[A\n",
      "Epoch 1:  36%|███▌      | 804/2252 [09:25<17:08,  1.41it/s]\u001b[A\n",
      "Epoch 1:  36%|███▌      | 805/2252 [09:25<17:07,  1.41it/s]\u001b[A\n",
      "Epoch 1:  36%|███▌      | 806/2252 [09:26<17:07,  1.41it/s]\u001b[A\n",
      "Epoch 1:  36%|███▌      | 807/2252 [09:27<17:05,  1.41it/s]\u001b[A\n",
      "Epoch 1:  36%|███▌      | 808/2252 [09:27<17:04,  1.41it/s]\u001b[A\n",
      "Epoch 1:  36%|███▌      | 809/2252 [09:28<17:05,  1.41it/s]\u001b[A\n",
      "Epoch 1:  36%|███▌      | 810/2252 [09:29<16:59,  1.41it/s]\u001b[A"
     ]
    },
    {
     "name": "stdout",
     "output_type": "stream",
     "text": [
      "Processed batch 811/2252\n"
     ]
    },
    {
     "name": "stderr",
     "output_type": "stream",
     "text": [
      "\n",
      "Epoch 1:  36%|███▌      | 811/2252 [09:30<17:01,  1.41it/s]\u001b[A\n",
      "Epoch 1:  36%|███▌      | 812/2252 [09:30<17:01,  1.41it/s]\u001b[A\n",
      "Epoch 1:  36%|███▌      | 813/2252 [09:31<17:02,  1.41it/s]\u001b[A\n",
      "Epoch 1:  36%|███▌      | 814/2252 [09:32<17:01,  1.41it/s]\u001b[A\n",
      "Epoch 1:  36%|███▌      | 815/2252 [09:32<16:59,  1.41it/s]\u001b[A\n",
      "Epoch 1:  36%|███▌      | 816/2252 [09:33<16:59,  1.41it/s]\u001b[A\n",
      "Epoch 1:  36%|███▋      | 817/2252 [09:34<16:58,  1.41it/s]\u001b[A\n",
      "Epoch 1:  36%|███▋      | 818/2252 [09:35<16:57,  1.41it/s]\u001b[A\n",
      "Epoch 1:  36%|███▋      | 819/2252 [09:35<16:56,  1.41it/s]\u001b[A\n",
      "Epoch 1:  36%|███▋      | 820/2252 [09:36<16:55,  1.41it/s]\u001b[A"
     ]
    },
    {
     "name": "stdout",
     "output_type": "stream",
     "text": [
      "Processed batch 821/2252\n"
     ]
    },
    {
     "name": "stderr",
     "output_type": "stream",
     "text": [
      "\n",
      "Epoch 1:  36%|███▋      | 821/2252 [09:37<16:55,  1.41it/s]\u001b[A\n",
      "Epoch 1:  37%|███▋      | 822/2252 [09:37<16:54,  1.41it/s]\u001b[A\n",
      "Epoch 1:  37%|███▋      | 823/2252 [09:38<16:55,  1.41it/s]\u001b[A\n",
      "Epoch 1:  37%|███▋      | 824/2252 [09:39<16:53,  1.41it/s]\u001b[A\n",
      "Epoch 1:  37%|███▋      | 825/2252 [09:39<16:53,  1.41it/s]\u001b[A\n",
      "Epoch 1:  37%|███▋      | 826/2252 [09:40<16:52,  1.41it/s]\u001b[A\n",
      "Epoch 1:  37%|███▋      | 827/2252 [09:41<16:50,  1.41it/s]\u001b[A\n",
      "Epoch 1:  37%|███▋      | 828/2252 [09:42<16:48,  1.41it/s]\u001b[A\n",
      "Epoch 1:  37%|███▋      | 829/2252 [09:42<16:47,  1.41it/s]\u001b[A\n",
      "Epoch 1:  37%|███▋      | 830/2252 [09:43<16:47,  1.41it/s]\u001b[A"
     ]
    },
    {
     "name": "stdout",
     "output_type": "stream",
     "text": [
      "Processed batch 831/2252\n"
     ]
    },
    {
     "name": "stderr",
     "output_type": "stream",
     "text": [
      "\n",
      "Epoch 1:  37%|███▋      | 831/2252 [09:44<16:47,  1.41it/s]\u001b[A\n",
      "Epoch 1:  37%|███▋      | 832/2252 [09:44<16:45,  1.41it/s]\u001b[A\n",
      "Epoch 1:  37%|███▋      | 833/2252 [09:45<16:44,  1.41it/s]\u001b[A\n",
      "Epoch 1:  37%|███▋      | 834/2252 [09:46<16:44,  1.41it/s]\u001b[A\n",
      "Epoch 1:  37%|███▋      | 835/2252 [09:47<16:43,  1.41it/s]\u001b[A\n",
      "Epoch 1:  37%|███▋      | 836/2252 [09:47<16:43,  1.41it/s]\u001b[A\n",
      "Epoch 1:  37%|███▋      | 837/2252 [09:48<16:44,  1.41it/s]\u001b[A\n",
      "Epoch 1:  37%|███▋      | 838/2252 [09:49<16:43,  1.41it/s]\u001b[A\n",
      "Epoch 1:  37%|███▋      | 839/2252 [09:49<16:43,  1.41it/s]\u001b[A\n",
      "Epoch 1:  37%|███▋      | 840/2252 [09:50<16:44,  1.41it/s]\u001b[A"
     ]
    },
    {
     "name": "stdout",
     "output_type": "stream",
     "text": [
      "Processed batch 841/2252\n"
     ]
    },
    {
     "name": "stderr",
     "output_type": "stream",
     "text": [
      "\n",
      "Epoch 1:  37%|███▋      | 841/2252 [09:51<16:42,  1.41it/s]\u001b[A\n",
      "Epoch 1:  37%|███▋      | 842/2252 [09:52<16:41,  1.41it/s]\u001b[A\n",
      "Epoch 1:  37%|███▋      | 843/2252 [09:52<16:40,  1.41it/s]\u001b[A\n",
      "Epoch 1:  37%|███▋      | 844/2252 [09:53<16:40,  1.41it/s]\u001b[A\n",
      "Epoch 1:  38%|███▊      | 845/2252 [09:54<16:38,  1.41it/s]\u001b[A\n",
      "Epoch 1:  38%|███▊      | 846/2252 [09:54<16:39,  1.41it/s]\u001b[A\n",
      "Epoch 1:  38%|███▊      | 847/2252 [09:55<16:38,  1.41it/s]\u001b[A\n",
      "Epoch 1:  38%|███▊      | 848/2252 [09:56<16:37,  1.41it/s]\u001b[A\n",
      "Epoch 1:  38%|███▊      | 849/2252 [09:56<16:35,  1.41it/s]\u001b[A\n",
      "Epoch 1:  38%|███▊      | 850/2252 [09:57<16:34,  1.41it/s]\u001b[A"
     ]
    },
    {
     "name": "stdout",
     "output_type": "stream",
     "text": [
      "Processed batch 851/2252\n"
     ]
    },
    {
     "name": "stderr",
     "output_type": "stream",
     "text": [
      "\n",
      "Epoch 1:  38%|███▊      | 851/2252 [09:58<16:33,  1.41it/s]\u001b[A\n",
      "Epoch 1:  38%|███▊      | 852/2252 [09:59<16:31,  1.41it/s]\u001b[A\n",
      "Epoch 1:  38%|███▊      | 853/2252 [09:59<16:31,  1.41it/s]\u001b[A\n",
      "Epoch 1:  38%|███▊      | 854/2252 [10:00<16:31,  1.41it/s]\u001b[A\n",
      "Epoch 1:  38%|███▊      | 855/2252 [10:01<16:30,  1.41it/s]\u001b[A\n",
      "Epoch 1:  38%|███▊      | 856/2252 [10:01<16:29,  1.41it/s]\u001b[A\n",
      "Epoch 1:  38%|███▊      | 857/2252 [10:02<16:27,  1.41it/s]\u001b[A\n",
      "Epoch 1:  38%|███▊      | 858/2252 [10:03<16:27,  1.41it/s]\u001b[A\n",
      "Epoch 1:  38%|███▊      | 859/2252 [10:04<16:27,  1.41it/s]\u001b[A\n",
      "Epoch 1:  38%|███▊      | 860/2252 [10:04<16:28,  1.41it/s]\u001b[A"
     ]
    },
    {
     "name": "stdout",
     "output_type": "stream",
     "text": [
      "Processed batch 861/2252\n"
     ]
    },
    {
     "name": "stderr",
     "output_type": "stream",
     "text": [
      "\n",
      "Epoch 1:  38%|███▊      | 861/2252 [10:05<16:28,  1.41it/s]\u001b[A\n",
      "Epoch 1:  38%|███▊      | 862/2252 [10:06<16:27,  1.41it/s]\u001b[A\n",
      "Epoch 1:  38%|███▊      | 863/2252 [10:06<16:25,  1.41it/s]\u001b[A\n",
      "Epoch 1:  38%|███▊      | 864/2252 [10:07<16:25,  1.41it/s]\u001b[A\n",
      "Epoch 1:  38%|███▊      | 865/2252 [10:08<16:24,  1.41it/s]\u001b[A\n",
      "Epoch 1:  38%|███▊      | 866/2252 [10:09<16:22,  1.41it/s]\u001b[A\n",
      "Epoch 1:  38%|███▊      | 867/2252 [10:09<16:22,  1.41it/s]\u001b[A\n",
      "Epoch 1:  39%|███▊      | 868/2252 [10:10<16:23,  1.41it/s]\u001b[A\n",
      "Epoch 1:  39%|███▊      | 869/2252 [10:11<16:21,  1.41it/s]\u001b[A\n",
      "Epoch 1:  39%|███▊      | 870/2252 [10:11<16:20,  1.41it/s]\u001b[A"
     ]
    },
    {
     "name": "stdout",
     "output_type": "stream",
     "text": [
      "Processed batch 871/2252\n"
     ]
    },
    {
     "name": "stderr",
     "output_type": "stream",
     "text": [
      "\n",
      "Epoch 1:  39%|███▊      | 871/2252 [10:12<16:19,  1.41it/s]\u001b[A\n",
      "Epoch 1:  39%|███▊      | 872/2252 [10:13<16:16,  1.41it/s]\u001b[A\n",
      "Epoch 1:  39%|███▉      | 873/2252 [10:14<16:17,  1.41it/s]\u001b[A\n",
      "Epoch 1:  39%|███▉      | 874/2252 [10:14<16:15,  1.41it/s]\u001b[A\n",
      "Epoch 1:  39%|███▉      | 875/2252 [10:15<16:15,  1.41it/s]\u001b[A\n",
      "Epoch 1:  39%|███▉      | 876/2252 [10:16<16:15,  1.41it/s]\u001b[A\n",
      "Epoch 1:  39%|███▉      | 877/2252 [10:16<16:16,  1.41it/s]\u001b[A\n",
      "Epoch 1:  39%|███▉      | 878/2252 [10:17<16:16,  1.41it/s]\u001b[A\n",
      "Epoch 1:  39%|███▉      | 879/2252 [10:18<16:14,  1.41it/s]\u001b[A\n",
      "Epoch 1:  39%|███▉      | 880/2252 [10:18<16:12,  1.41it/s]\u001b[A"
     ]
    },
    {
     "name": "stdout",
     "output_type": "stream",
     "text": [
      "Processed batch 881/2252\n"
     ]
    },
    {
     "name": "stderr",
     "output_type": "stream",
     "text": [
      "\n",
      "Epoch 1:  39%|███▉      | 881/2252 [10:19<16:12,  1.41it/s]\u001b[A\n",
      "Epoch 1:  39%|███▉      | 882/2252 [10:20<16:10,  1.41it/s]\u001b[A\n",
      "Epoch 1:  39%|███▉      | 883/2252 [10:21<16:10,  1.41it/s]\u001b[A\n",
      "Epoch 1:  39%|███▉      | 884/2252 [10:21<16:10,  1.41it/s]\u001b[A\n",
      "Epoch 1:  39%|███▉      | 885/2252 [10:22<16:09,  1.41it/s]\u001b[A\n",
      "Epoch 1:  39%|███▉      | 886/2252 [10:23<16:08,  1.41it/s]\u001b[A\n",
      "Epoch 1:  39%|███▉      | 887/2252 [10:23<16:08,  1.41it/s]\u001b[A\n",
      "Epoch 1:  39%|███▉      | 888/2252 [10:24<16:07,  1.41it/s]\u001b[A\n",
      "Epoch 1:  39%|███▉      | 889/2252 [10:25<16:06,  1.41it/s]\u001b[A\n",
      "Epoch 1:  40%|███▉      | 890/2252 [10:26<16:05,  1.41it/s]\u001b[A"
     ]
    },
    {
     "name": "stdout",
     "output_type": "stream",
     "text": [
      "Processed batch 891/2252\n"
     ]
    },
    {
     "name": "stderr",
     "output_type": "stream",
     "text": [
      "\n",
      "Epoch 1:  40%|███▉      | 891/2252 [10:26<16:04,  1.41it/s]\u001b[A\n",
      "Epoch 1:  40%|███▉      | 892/2252 [10:27<16:04,  1.41it/s]\u001b[A\n",
      "Epoch 1:  40%|███▉      | 893/2252 [10:28<16:04,  1.41it/s]\u001b[A\n",
      "Epoch 1:  40%|███▉      | 894/2252 [10:28<16:05,  1.41it/s]\u001b[A\n",
      "Epoch 1:  40%|███▉      | 895/2252 [10:29<16:05,  1.41it/s]\u001b[A\n",
      "Epoch 1:  40%|███▉      | 896/2252 [10:30<16:00,  1.41it/s]\u001b[A\n",
      "Epoch 1:  40%|███▉      | 897/2252 [10:31<15:59,  1.41it/s]\u001b[A\n",
      "Epoch 1:  40%|███▉      | 898/2252 [10:31<16:02,  1.41it/s]\u001b[A\n",
      "Epoch 1:  40%|███▉      | 899/2252 [10:32<15:58,  1.41it/s]\u001b[A\n",
      "Epoch 1:  40%|███▉      | 900/2252 [10:33<16:01,  1.41it/s]\u001b[A"
     ]
    },
    {
     "name": "stdout",
     "output_type": "stream",
     "text": [
      "Processed batch 901/2252\n"
     ]
    },
    {
     "name": "stderr",
     "output_type": "stream",
     "text": [
      "\n",
      "Epoch 1:  40%|████      | 901/2252 [10:33<15:55,  1.41it/s]\u001b[A\n",
      "Epoch 1:  40%|████      | 902/2252 [10:34<15:55,  1.41it/s]\u001b[A\n",
      "Epoch 1:  40%|████      | 903/2252 [10:35<15:56,  1.41it/s]\u001b[A\n",
      "Epoch 1:  40%|████      | 904/2252 [10:36<15:56,  1.41it/s]\u001b[A\n",
      "Epoch 1:  40%|████      | 905/2252 [10:36<15:53,  1.41it/s]\u001b[A\n",
      "Epoch 1:  40%|████      | 906/2252 [10:37<15:53,  1.41it/s]\u001b[A\n",
      "Epoch 1:  40%|████      | 907/2252 [10:38<15:52,  1.41it/s]\u001b[A\n",
      "Epoch 1:  40%|████      | 908/2252 [10:38<15:49,  1.42it/s]\u001b[A\n",
      "Epoch 1:  40%|████      | 909/2252 [10:39<15:50,  1.41it/s]\u001b[A\n",
      "Epoch 1:  40%|████      | 910/2252 [10:40<15:49,  1.41it/s]\u001b[A"
     ]
    },
    {
     "name": "stdout",
     "output_type": "stream",
     "text": [
      "Processed batch 911/2252\n"
     ]
    },
    {
     "name": "stderr",
     "output_type": "stream",
     "text": [
      "\n",
      "Epoch 1:  40%|████      | 911/2252 [10:40<15:49,  1.41it/s]\u001b[A\n",
      "Epoch 1:  40%|████      | 912/2252 [10:41<15:47,  1.41it/s]\u001b[A\n",
      "Epoch 1:  41%|████      | 913/2252 [10:42<15:48,  1.41it/s]\u001b[A\n",
      "Epoch 1:  41%|████      | 914/2252 [10:43<15:48,  1.41it/s]\u001b[A\n",
      "Epoch 1:  41%|████      | 915/2252 [10:43<15:49,  1.41it/s]\u001b[A\n",
      "Epoch 1:  41%|████      | 916/2252 [10:44<15:48,  1.41it/s]\u001b[A\n",
      "Epoch 1:  41%|████      | 917/2252 [10:45<15:49,  1.41it/s]\u001b[A\n",
      "Epoch 1:  41%|████      | 918/2252 [10:45<15:46,  1.41it/s]\u001b[A\n",
      "Epoch 1:  41%|████      | 919/2252 [10:46<15:44,  1.41it/s]\u001b[A\n",
      "Epoch 1:  41%|████      | 920/2252 [10:47<15:46,  1.41it/s]\u001b[A"
     ]
    },
    {
     "name": "stdout",
     "output_type": "stream",
     "text": [
      "Processed batch 921/2252\n"
     ]
    },
    {
     "name": "stderr",
     "output_type": "stream",
     "text": [
      "\n",
      "Epoch 1:  41%|████      | 921/2252 [10:48<15:44,  1.41it/s]\u001b[A\n",
      "Epoch 1:  41%|████      | 922/2252 [10:48<15:41,  1.41it/s]\u001b[A\n",
      "Epoch 1:  41%|████      | 923/2252 [10:49<15:41,  1.41it/s]\u001b[A\n",
      "Epoch 1:  41%|████      | 924/2252 [10:50<15:40,  1.41it/s]\u001b[A\n",
      "Epoch 1:  41%|████      | 925/2252 [10:50<15:39,  1.41it/s]\u001b[A\n",
      "Epoch 1:  41%|████      | 926/2252 [10:51<15:39,  1.41it/s]\u001b[A\n",
      "Epoch 1:  41%|████      | 927/2252 [10:52<15:38,  1.41it/s]\u001b[A\n",
      "Epoch 1:  41%|████      | 928/2252 [10:53<15:37,  1.41it/s]\u001b[A\n",
      "Epoch 1:  41%|████▏     | 929/2252 [10:53<15:35,  1.41it/s]\u001b[A\n",
      "Epoch 1:  41%|████▏     | 930/2252 [10:54<15:35,  1.41it/s]\u001b[A"
     ]
    },
    {
     "name": "stdout",
     "output_type": "stream",
     "text": [
      "Processed batch 931/2252\n"
     ]
    },
    {
     "name": "stderr",
     "output_type": "stream",
     "text": [
      "\n",
      "Epoch 1:  41%|████▏     | 931/2252 [10:55<15:35,  1.41it/s]\u001b[A\n",
      "Epoch 1:  41%|████▏     | 932/2252 [10:55<15:34,  1.41it/s]\u001b[A\n",
      "Epoch 1:  41%|████▏     | 933/2252 [10:56<15:34,  1.41it/s]\u001b[A\n",
      "Epoch 1:  41%|████▏     | 934/2252 [10:57<15:33,  1.41it/s]\u001b[A\n",
      "Epoch 1:  42%|████▏     | 935/2252 [10:57<15:32,  1.41it/s]\u001b[A\n",
      "Epoch 1:  42%|████▏     | 936/2252 [10:58<15:31,  1.41it/s]\u001b[A\n",
      "Epoch 1:  42%|████▏     | 937/2252 [10:59<15:30,  1.41it/s]\u001b[A\n",
      "Epoch 1:  42%|████▏     | 938/2252 [11:00<15:30,  1.41it/s]\u001b[A\n",
      "Epoch 1:  42%|████▏     | 939/2252 [11:00<15:29,  1.41it/s]\u001b[A\n",
      "Epoch 1:  42%|████▏     | 940/2252 [11:01<15:30,  1.41it/s]\u001b[A"
     ]
    },
    {
     "name": "stdout",
     "output_type": "stream",
     "text": [
      "Processed batch 941/2252\n"
     ]
    },
    {
     "name": "stderr",
     "output_type": "stream",
     "text": [
      "\n",
      "Epoch 1:  42%|████▏     | 941/2252 [11:02<15:28,  1.41it/s]\u001b[A\n",
      "Epoch 1:  42%|████▏     | 942/2252 [11:02<15:28,  1.41it/s]\u001b[A\n",
      "Epoch 1:  42%|████▏     | 943/2252 [11:03<15:26,  1.41it/s]\u001b[A\n",
      "Epoch 1:  42%|████▏     | 944/2252 [11:04<15:24,  1.41it/s]\u001b[A\n",
      "Epoch 1:  42%|████▏     | 945/2252 [11:05<15:26,  1.41it/s]\u001b[A\n",
      "Epoch 1:  42%|████▏     | 946/2252 [11:05<15:22,  1.42it/s]\u001b[A\n",
      "Epoch 1:  42%|████▏     | 947/2252 [11:06<15:21,  1.42it/s]\u001b[A\n",
      "Epoch 1:  42%|████▏     | 948/2252 [11:07<15:20,  1.42it/s]\u001b[A\n",
      "Epoch 1:  42%|████▏     | 949/2252 [11:07<15:21,  1.41it/s]\u001b[A\n",
      "Epoch 1:  42%|████▏     | 950/2252 [11:08<15:20,  1.41it/s]\u001b[A"
     ]
    },
    {
     "name": "stdout",
     "output_type": "stream",
     "text": [
      "Processed batch 951/2252\n"
     ]
    },
    {
     "name": "stderr",
     "output_type": "stream",
     "text": [
      "\n",
      "Epoch 1:  42%|████▏     | 951/2252 [11:09<15:20,  1.41it/s]\u001b[A\n",
      "Epoch 1:  42%|████▏     | 952/2252 [11:09<15:19,  1.41it/s]\u001b[A\n",
      "Epoch 1:  42%|████▏     | 953/2252 [11:10<15:18,  1.41it/s]\u001b[A\n",
      "Epoch 1:  42%|████▏     | 954/2252 [11:11<15:18,  1.41it/s]\u001b[A\n",
      "Epoch 1:  42%|████▏     | 955/2252 [11:12<15:19,  1.41it/s]\u001b[A\n",
      "Epoch 1:  42%|████▏     | 956/2252 [11:12<15:19,  1.41it/s]\u001b[A\n",
      "Epoch 1:  42%|████▏     | 957/2252 [11:13<15:20,  1.41it/s]\u001b[A\n",
      "Epoch 1:  43%|████▎     | 958/2252 [11:14<15:18,  1.41it/s]\u001b[A\n",
      "Epoch 1:  43%|████▎     | 959/2252 [11:14<15:17,  1.41it/s]\u001b[A\n",
      "Epoch 1:  43%|████▎     | 960/2252 [11:15<15:16,  1.41it/s]\u001b[A"
     ]
    },
    {
     "name": "stdout",
     "output_type": "stream",
     "text": [
      "Processed batch 961/2252\n"
     ]
    },
    {
     "name": "stderr",
     "output_type": "stream",
     "text": [
      "\n",
      "Epoch 1:  43%|████▎     | 961/2252 [11:16<15:13,  1.41it/s]\u001b[A\n",
      "Epoch 1:  43%|████▎     | 962/2252 [11:17<15:13,  1.41it/s]\u001b[A\n",
      "Epoch 1:  43%|████▎     | 963/2252 [11:17<15:13,  1.41it/s]\u001b[A\n",
      "Epoch 1:  43%|████▎     | 964/2252 [11:18<15:10,  1.41it/s]\u001b[A\n",
      "Epoch 1:  43%|████▎     | 965/2252 [11:19<15:11,  1.41it/s]\u001b[A\n",
      "Epoch 1:  43%|████▎     | 966/2252 [11:19<15:11,  1.41it/s]\u001b[A\n",
      "Epoch 1:  43%|████▎     | 967/2252 [11:20<15:11,  1.41it/s]\u001b[A\n",
      "Epoch 1:  43%|████▎     | 968/2252 [11:21<15:10,  1.41it/s]\u001b[A\n",
      "Epoch 1:  43%|████▎     | 969/2252 [11:22<15:10,  1.41it/s]\u001b[A\n",
      "Epoch 1:  43%|████▎     | 970/2252 [11:22<15:08,  1.41it/s]\u001b[A"
     ]
    },
    {
     "name": "stdout",
     "output_type": "stream",
     "text": [
      "Processed batch 971/2252\n"
     ]
    },
    {
     "name": "stderr",
     "output_type": "stream",
     "text": [
      "\n",
      "Epoch 1:  43%|████▎     | 971/2252 [11:23<15:08,  1.41it/s]\u001b[A\n",
      "Epoch 1:  43%|████▎     | 972/2252 [11:24<15:09,  1.41it/s]\u001b[A\n",
      "Epoch 1:  43%|████▎     | 973/2252 [11:24<15:07,  1.41it/s]\u001b[A\n",
      "Epoch 1:  43%|████▎     | 974/2252 [11:25<15:06,  1.41it/s]\u001b[A\n",
      "Epoch 1:  43%|████▎     | 975/2252 [11:26<15:05,  1.41it/s]\u001b[A\n",
      "Epoch 1:  43%|████▎     | 976/2252 [11:27<15:05,  1.41it/s]\u001b[A\n",
      "Epoch 1:  43%|████▎     | 977/2252 [11:27<15:04,  1.41it/s]\u001b[A\n",
      "Epoch 1:  43%|████▎     | 978/2252 [11:28<15:04,  1.41it/s]\u001b[A\n",
      "Epoch 1:  43%|████▎     | 979/2252 [11:29<15:01,  1.41it/s]\u001b[A\n",
      "Epoch 1:  44%|████▎     | 980/2252 [11:29<15:00,  1.41it/s]\u001b[A"
     ]
    },
    {
     "name": "stdout",
     "output_type": "stream",
     "text": [
      "Processed batch 981/2252\n"
     ]
    },
    {
     "name": "stderr",
     "output_type": "stream",
     "text": [
      "\n",
      "Epoch 1:  44%|████▎     | 981/2252 [11:30<14:59,  1.41it/s]\u001b[A\n",
      "Epoch 1:  44%|████▎     | 982/2252 [11:31<14:58,  1.41it/s]\u001b[A\n",
      "Epoch 1:  44%|████▎     | 983/2252 [11:31<14:58,  1.41it/s]\u001b[A\n",
      "Epoch 1:  44%|████▎     | 984/2252 [11:32<14:58,  1.41it/s]\u001b[A\n",
      "Epoch 1:  44%|████▎     | 985/2252 [11:33<14:58,  1.41it/s]\u001b[A\n",
      "Epoch 1:  44%|████▍     | 986/2252 [11:34<14:58,  1.41it/s]\u001b[A\n",
      "Epoch 1:  44%|████▍     | 987/2252 [11:34<14:59,  1.41it/s]\u001b[A\n",
      "Epoch 1:  44%|████▍     | 988/2252 [11:35<14:56,  1.41it/s]\u001b[A\n",
      "Epoch 1:  44%|████▍     | 989/2252 [11:36<14:55,  1.41it/s]\u001b[A\n",
      "Epoch 1:  44%|████▍     | 990/2252 [11:36<14:53,  1.41it/s]\u001b[A"
     ]
    },
    {
     "name": "stdout",
     "output_type": "stream",
     "text": [
      "Processed batch 991/2252\n"
     ]
    },
    {
     "name": "stderr",
     "output_type": "stream",
     "text": [
      "\n",
      "Epoch 1:  44%|████▍     | 991/2252 [11:37<14:52,  1.41it/s]\u001b[A\n",
      "Epoch 1:  44%|████▍     | 992/2252 [11:38<14:51,  1.41it/s]\u001b[A\n",
      "Epoch 1:  44%|████▍     | 993/2252 [11:39<14:51,  1.41it/s]\u001b[A\n",
      "Epoch 1:  44%|████▍     | 994/2252 [11:39<14:49,  1.41it/s]\u001b[A\n",
      "Epoch 1:  44%|████▍     | 995/2252 [11:40<14:48,  1.41it/s]\u001b[A\n",
      "Epoch 1:  44%|████▍     | 996/2252 [11:41<14:47,  1.41it/s]\u001b[A\n",
      "Epoch 1:  44%|████▍     | 997/2252 [11:41<14:47,  1.41it/s]\u001b[A\n",
      "Epoch 1:  44%|████▍     | 998/2252 [11:42<14:48,  1.41it/s]\u001b[A\n",
      "Epoch 1:  44%|████▍     | 999/2252 [11:43<14:46,  1.41it/s]\u001b[A\n",
      "Epoch 1:  44%|████▍     | 1000/2252 [11:44<14:45,  1.41it/s]\u001b[A"
     ]
    },
    {
     "name": "stdout",
     "output_type": "stream",
     "text": [
      "Processed batch 1001/2252\n"
     ]
    },
    {
     "name": "stderr",
     "output_type": "stream",
     "text": [
      "\n",
      "Epoch 1:  44%|████▍     | 1001/2252 [11:44<14:44,  1.41it/s]\u001b[A\n",
      "Epoch 1:  44%|████▍     | 1002/2252 [11:45<14:43,  1.41it/s]\u001b[A\n",
      "Epoch 1:  45%|████▍     | 1003/2252 [11:46<14:43,  1.41it/s]\u001b[A\n",
      "Epoch 1:  45%|████▍     | 1004/2252 [11:46<14:42,  1.41it/s]\u001b[A\n",
      "Epoch 1:  45%|████▍     | 1005/2252 [11:47<14:41,  1.42it/s]\u001b[A\n",
      "Epoch 1:  45%|████▍     | 1006/2252 [11:48<14:41,  1.41it/s]\u001b[A\n",
      "Epoch 1:  45%|████▍     | 1007/2252 [11:48<14:41,  1.41it/s]\u001b[A\n",
      "Epoch 1:  45%|████▍     | 1008/2252 [11:49<14:44,  1.41it/s]\u001b[A\n",
      "Epoch 1:  45%|████▍     | 1009/2252 [11:50<14:43,  1.41it/s]\u001b[A\n",
      "Epoch 1:  45%|████▍     | 1010/2252 [11:51<14:40,  1.41it/s]\u001b[A"
     ]
    },
    {
     "name": "stdout",
     "output_type": "stream",
     "text": [
      "Processed batch 1011/2252\n"
     ]
    },
    {
     "name": "stderr",
     "output_type": "stream",
     "text": [
      "\n",
      "Epoch 1:  45%|████▍     | 1011/2252 [11:51<14:39,  1.41it/s]\u001b[A\n",
      "Epoch 1:  45%|████▍     | 1012/2252 [11:52<14:38,  1.41it/s]\u001b[A\n",
      "Epoch 1:  45%|████▍     | 1013/2252 [11:53<14:37,  1.41it/s]\u001b[A\n",
      "Epoch 1:  45%|████▌     | 1014/2252 [11:53<14:36,  1.41it/s]\u001b[A\n",
      "Epoch 1:  45%|████▌     | 1015/2252 [11:54<14:35,  1.41it/s]\u001b[A\n",
      "Epoch 1:  45%|████▌     | 1016/2252 [11:55<14:35,  1.41it/s]\u001b[A\n",
      "Epoch 1:  45%|████▌     | 1017/2252 [11:56<14:34,  1.41it/s]\u001b[A\n",
      "Epoch 1:  45%|████▌     | 1018/2252 [11:56<14:33,  1.41it/s]\u001b[A\n",
      "Epoch 1:  45%|████▌     | 1019/2252 [11:57<14:32,  1.41it/s]\u001b[A\n",
      "Epoch 1:  45%|████▌     | 1020/2252 [11:58<14:31,  1.41it/s]\u001b[A"
     ]
    },
    {
     "name": "stdout",
     "output_type": "stream",
     "text": [
      "Processed batch 1021/2252\n"
     ]
    },
    {
     "name": "stderr",
     "output_type": "stream",
     "text": [
      "\n",
      "Epoch 1:  45%|████▌     | 1021/2252 [11:58<14:31,  1.41it/s]\u001b[A\n",
      "Epoch 1:  45%|████▌     | 1022/2252 [11:59<14:31,  1.41it/s]\u001b[A\n",
      "Epoch 1:  45%|████▌     | 1023/2252 [12:00<14:30,  1.41it/s]\u001b[A\n",
      "Epoch 1:  45%|████▌     | 1024/2252 [12:01<14:31,  1.41it/s]\u001b[A\n",
      "Epoch 1:  46%|████▌     | 1025/2252 [12:01<14:30,  1.41it/s]\u001b[A\n",
      "Epoch 1:  46%|████▌     | 1026/2252 [12:02<14:29,  1.41it/s]\u001b[A\n",
      "Epoch 1:  46%|████▌     | 1027/2252 [12:03<14:28,  1.41it/s]\u001b[A\n",
      "Epoch 1:  46%|████▌     | 1028/2252 [12:03<14:28,  1.41it/s]\u001b[A\n",
      "Epoch 1:  46%|████▌     | 1029/2252 [12:04<14:28,  1.41it/s]\u001b[A\n",
      "Epoch 1:  46%|████▌     | 1030/2252 [12:05<14:27,  1.41it/s]\u001b[A"
     ]
    },
    {
     "name": "stdout",
     "output_type": "stream",
     "text": [
      "Processed batch 1031/2252\n"
     ]
    },
    {
     "name": "stderr",
     "output_type": "stream",
     "text": [
      "\n",
      "Epoch 1:  46%|████▌     | 1031/2252 [12:05<14:26,  1.41it/s]\u001b[A\n",
      "Epoch 1:  46%|████▌     | 1032/2252 [12:06<14:25,  1.41it/s]\u001b[A\n",
      "Epoch 1:  46%|████▌     | 1033/2252 [12:07<14:22,  1.41it/s]\u001b[A\n",
      "Epoch 1:  46%|████▌     | 1034/2252 [12:08<14:22,  1.41it/s]\u001b[A\n",
      "Epoch 1:  46%|████▌     | 1035/2252 [12:08<14:22,  1.41it/s]\u001b[A\n",
      "Epoch 1:  46%|████▌     | 1036/2252 [12:09<14:22,  1.41it/s]\u001b[A\n",
      "Epoch 1:  46%|████▌     | 1037/2252 [12:10<14:21,  1.41it/s]\u001b[A\n",
      "Epoch 1:  46%|████▌     | 1038/2252 [12:10<14:17,  1.42it/s]\u001b[A\n",
      "Epoch 1:  46%|████▌     | 1039/2252 [12:11<14:17,  1.41it/s]\u001b[A\n",
      "Epoch 1:  46%|████▌     | 1040/2252 [12:12<14:17,  1.41it/s]\u001b[A"
     ]
    },
    {
     "name": "stdout",
     "output_type": "stream",
     "text": [
      "Processed batch 1041/2252\n"
     ]
    },
    {
     "name": "stderr",
     "output_type": "stream",
     "text": [
      "\n",
      "Epoch 1:  46%|████▌     | 1041/2252 [12:13<14:16,  1.41it/s]\u001b[A\n",
      "Epoch 1:  46%|████▋     | 1042/2252 [12:13<14:14,  1.42it/s]\u001b[A\n",
      "Epoch 1:  46%|████▋     | 1043/2252 [12:14<14:14,  1.42it/s]\u001b[A\n",
      "Epoch 1:  46%|████▋     | 1044/2252 [12:15<14:15,  1.41it/s]\u001b[A\n",
      "Epoch 1:  46%|████▋     | 1045/2252 [12:15<14:13,  1.41it/s]\u001b[A\n",
      "Epoch 1:  46%|████▋     | 1046/2252 [12:16<14:12,  1.41it/s]\u001b[A\n",
      "Epoch 1:  46%|████▋     | 1047/2252 [12:17<14:12,  1.41it/s]\u001b[A\n",
      "Epoch 1:  47%|████▋     | 1048/2252 [12:17<14:11,  1.41it/s]\u001b[A\n",
      "Epoch 1:  47%|████▋     | 1049/2252 [12:18<14:11,  1.41it/s]\u001b[A\n",
      "Epoch 1:  47%|████▋     | 1050/2252 [12:19<14:11,  1.41it/s]\u001b[A"
     ]
    },
    {
     "name": "stdout",
     "output_type": "stream",
     "text": [
      "Processed batch 1051/2252\n"
     ]
    },
    {
     "name": "stderr",
     "output_type": "stream",
     "text": [
      "\n",
      "Epoch 1:  47%|████▋     | 1051/2252 [12:20<14:11,  1.41it/s]\u001b[A\n",
      "Epoch 1:  47%|████▋     | 1052/2252 [12:20<14:11,  1.41it/s]\u001b[A\n",
      "Epoch 1:  47%|████▋     | 1053/2252 [12:21<14:09,  1.41it/s]\u001b[A\n",
      "Epoch 1:  47%|████▋     | 1054/2252 [12:22<14:08,  1.41it/s]\u001b[A\n",
      "Epoch 1:  47%|████▋     | 1055/2252 [12:22<14:09,  1.41it/s]\u001b[A\n",
      "Epoch 1:  47%|████▋     | 1056/2252 [12:23<14:08,  1.41it/s]\u001b[A\n",
      "Epoch 1:  47%|████▋     | 1057/2252 [12:24<14:07,  1.41it/s]\u001b[A\n",
      "Epoch 1:  47%|████▋     | 1058/2252 [12:25<14:06,  1.41it/s]\u001b[A\n",
      "Epoch 1:  47%|████▋     | 1059/2252 [12:25<14:05,  1.41it/s]\u001b[A\n",
      "Epoch 1:  47%|████▋     | 1060/2252 [12:26<14:03,  1.41it/s]\u001b[A"
     ]
    },
    {
     "name": "stdout",
     "output_type": "stream",
     "text": [
      "Processed batch 1061/2252\n"
     ]
    },
    {
     "name": "stderr",
     "output_type": "stream",
     "text": [
      "\n",
      "Epoch 1:  47%|████▋     | 1061/2252 [12:27<14:02,  1.41it/s]\u001b[A\n",
      "Epoch 1:  47%|████▋     | 1062/2252 [12:27<14:04,  1.41it/s]\u001b[A\n",
      "Epoch 1:  47%|████▋     | 1063/2252 [12:28<14:00,  1.42it/s]\u001b[A\n",
      "Epoch 1:  47%|████▋     | 1064/2252 [12:29<14:00,  1.41it/s]\u001b[A\n",
      "Epoch 1:  47%|████▋     | 1065/2252 [12:30<13:59,  1.41it/s]\u001b[A\n",
      "Epoch 1:  47%|████▋     | 1066/2252 [12:30<13:57,  1.42it/s]\u001b[A\n",
      "Epoch 1:  47%|████▋     | 1067/2252 [12:31<13:57,  1.41it/s]\u001b[A\n",
      "Epoch 1:  47%|████▋     | 1068/2252 [12:32<13:56,  1.41it/s]\u001b[A\n",
      "Epoch 1:  47%|████▋     | 1069/2252 [12:32<13:57,  1.41it/s]\u001b[A\n",
      "Epoch 1:  48%|████▊     | 1070/2252 [12:33<13:55,  1.41it/s]\u001b[A"
     ]
    },
    {
     "name": "stdout",
     "output_type": "stream",
     "text": [
      "Processed batch 1071/2252\n"
     ]
    },
    {
     "name": "stderr",
     "output_type": "stream",
     "text": [
      "\n",
      "Epoch 1:  48%|████▊     | 1071/2252 [12:34<13:54,  1.41it/s]\u001b[A\n",
      "Epoch 1:  48%|████▊     | 1072/2252 [12:34<13:54,  1.41it/s]\u001b[A\n",
      "Epoch 1:  48%|████▊     | 1073/2252 [12:35<13:54,  1.41it/s]\u001b[A\n",
      "Epoch 1:  48%|████▊     | 1074/2252 [12:36<13:55,  1.41it/s]\u001b[A\n",
      "Epoch 1:  48%|████▊     | 1075/2252 [12:37<13:56,  1.41it/s]\u001b[A\n",
      "Epoch 1:  48%|████▊     | 1076/2252 [12:37<13:54,  1.41it/s]\u001b[A\n",
      "Epoch 1:  48%|████▊     | 1077/2252 [12:38<13:52,  1.41it/s]\u001b[A\n",
      "Epoch 1:  48%|████▊     | 1078/2252 [12:39<13:51,  1.41it/s]\u001b[A\n",
      "Epoch 1:  48%|████▊     | 1079/2252 [12:39<13:50,  1.41it/s]\u001b[A\n",
      "Epoch 1:  48%|████▊     | 1080/2252 [12:40<13:48,  1.41it/s]\u001b[A"
     ]
    },
    {
     "name": "stdout",
     "output_type": "stream",
     "text": [
      "Processed batch 1081/2252\n"
     ]
    },
    {
     "name": "stderr",
     "output_type": "stream",
     "text": [
      "\n",
      "Epoch 1:  48%|████▊     | 1081/2252 [12:41<13:47,  1.41it/s]\u001b[A\n",
      "Epoch 1:  48%|████▊     | 1082/2252 [12:42<13:49,  1.41it/s]\u001b[A\n",
      "Epoch 1:  48%|████▊     | 1083/2252 [12:42<13:48,  1.41it/s]\u001b[A\n",
      "Epoch 1:  48%|████▊     | 1084/2252 [12:43<13:45,  1.41it/s]\u001b[A\n",
      "Epoch 1:  48%|████▊     | 1085/2252 [12:44<13:46,  1.41it/s]\u001b[A\n",
      "Epoch 1:  48%|████▊     | 1086/2252 [12:44<13:45,  1.41it/s]\u001b[A\n",
      "Epoch 1:  48%|████▊     | 1087/2252 [12:45<13:46,  1.41it/s]\u001b[A\n",
      "Epoch 1:  48%|████▊     | 1088/2252 [12:46<13:46,  1.41it/s]\u001b[A\n",
      "Epoch 1:  48%|████▊     | 1089/2252 [12:47<13:45,  1.41it/s]\u001b[A\n",
      "Epoch 1:  48%|████▊     | 1090/2252 [12:47<13:43,  1.41it/s]\u001b[A"
     ]
    },
    {
     "name": "stdout",
     "output_type": "stream",
     "text": [
      "Processed batch 1091/2252\n"
     ]
    },
    {
     "name": "stderr",
     "output_type": "stream",
     "text": [
      "\n",
      "Epoch 1:  48%|████▊     | 1091/2252 [12:48<13:42,  1.41it/s]\u001b[A\n",
      "Epoch 1:  48%|████▊     | 1092/2252 [12:49<13:42,  1.41it/s]\u001b[A\n",
      "Epoch 1:  49%|████▊     | 1093/2252 [12:49<13:41,  1.41it/s]\u001b[A\n",
      "Epoch 1:  49%|████▊     | 1094/2252 [12:50<13:40,  1.41it/s]\u001b[A\n",
      "Epoch 1:  49%|████▊     | 1095/2252 [12:51<13:40,  1.41it/s]\u001b[A\n",
      "Epoch 1:  49%|████▊     | 1096/2252 [12:51<13:39,  1.41it/s]\u001b[A\n",
      "Epoch 1:  49%|████▊     | 1097/2252 [12:52<13:37,  1.41it/s]\u001b[A\n",
      "Epoch 1:  49%|████▉     | 1098/2252 [12:53<13:36,  1.41it/s]\u001b[A\n",
      "Epoch 1:  49%|████▉     | 1099/2252 [12:54<13:39,  1.41it/s]\u001b[A\n",
      "Epoch 1:  49%|████▉     | 1100/2252 [12:54<13:36,  1.41it/s]\u001b[A"
     ]
    },
    {
     "name": "stdout",
     "output_type": "stream",
     "text": [
      "Processed batch 1101/2252\n"
     ]
    },
    {
     "name": "stderr",
     "output_type": "stream",
     "text": [
      "\n",
      "Epoch 1:  49%|████▉     | 1101/2252 [12:55<13:35,  1.41it/s]\u001b[A\n",
      "Epoch 1:  49%|████▉     | 1102/2252 [12:56<13:34,  1.41it/s]\u001b[A\n",
      "Epoch 1:  49%|████▉     | 1103/2252 [12:56<13:33,  1.41it/s]\u001b[A\n",
      "Epoch 1:  49%|████▉     | 1104/2252 [12:57<13:32,  1.41it/s]\u001b[A\n",
      "Epoch 1:  49%|████▉     | 1105/2252 [12:58<13:31,  1.41it/s]\u001b[A\n",
      "Epoch 1:  49%|████▉     | 1106/2252 [12:59<13:31,  1.41it/s]\u001b[A\n",
      "Epoch 1:  49%|████▉     | 1107/2252 [12:59<13:29,  1.41it/s]\u001b[A\n",
      "Epoch 1:  49%|████▉     | 1108/2252 [13:00<13:29,  1.41it/s]\u001b[A\n",
      "Epoch 1:  49%|████▉     | 1109/2252 [13:01<13:27,  1.41it/s]\u001b[A\n",
      "Epoch 1:  49%|████▉     | 1110/2252 [13:01<13:28,  1.41it/s]\u001b[A"
     ]
    },
    {
     "name": "stdout",
     "output_type": "stream",
     "text": [
      "Processed batch 1111/2252\n"
     ]
    },
    {
     "name": "stderr",
     "output_type": "stream",
     "text": [
      "\n",
      "Epoch 1:  49%|████▉     | 1111/2252 [13:02<13:26,  1.41it/s]\u001b[A\n",
      "Epoch 1:  49%|████▉     | 1112/2252 [13:03<13:26,  1.41it/s]\u001b[A\n",
      "Epoch 1:  49%|████▉     | 1113/2252 [13:04<13:26,  1.41it/s]\u001b[A\n",
      "Epoch 1:  49%|████▉     | 1114/2252 [13:04<13:26,  1.41it/s]\u001b[A\n",
      "Epoch 1:  50%|████▉     | 1115/2252 [13:05<13:24,  1.41it/s]\u001b[A\n",
      "Epoch 1:  50%|████▉     | 1116/2252 [13:06<13:24,  1.41it/s]\u001b[A\n",
      "Epoch 1:  50%|████▉     | 1117/2252 [13:06<13:24,  1.41it/s]\u001b[A\n",
      "Epoch 1:  50%|████▉     | 1118/2252 [13:07<13:22,  1.41it/s]\u001b[A\n",
      "Epoch 1:  50%|████▉     | 1119/2252 [13:08<13:22,  1.41it/s]\u001b[A\n",
      "Epoch 1:  50%|████▉     | 1120/2252 [13:08<13:21,  1.41it/s]\u001b[A"
     ]
    },
    {
     "name": "stdout",
     "output_type": "stream",
     "text": [
      "Processed batch 1121/2252\n"
     ]
    },
    {
     "name": "stderr",
     "output_type": "stream",
     "text": [
      "\n",
      "Epoch 1:  50%|████▉     | 1121/2252 [13:09<13:20,  1.41it/s]\u001b[A\n",
      "Epoch 1:  50%|████▉     | 1122/2252 [13:10<13:20,  1.41it/s]\u001b[A\n",
      "Epoch 1:  50%|████▉     | 1123/2252 [13:11<13:19,  1.41it/s]\u001b[A\n",
      "Epoch 1:  50%|████▉     | 1124/2252 [13:11<13:18,  1.41it/s]\u001b[A\n",
      "Epoch 1:  50%|████▉     | 1125/2252 [13:12<13:17,  1.41it/s]\u001b[A\n",
      "Epoch 1:  50%|█████     | 1126/2252 [13:13<13:17,  1.41it/s]\u001b[A\n",
      "Epoch 1:  50%|█████     | 1127/2252 [13:13<13:18,  1.41it/s]\u001b[A\n",
      "Epoch 1:  50%|█████     | 1128/2252 [13:14<13:16,  1.41it/s]\u001b[A\n",
      "Epoch 1:  50%|█████     | 1129/2252 [13:15<13:16,  1.41it/s]\u001b[A\n",
      "Epoch 1:  50%|█████     | 1130/2252 [13:16<13:15,  1.41it/s]\u001b[A"
     ]
    },
    {
     "name": "stdout",
     "output_type": "stream",
     "text": [
      "Processed batch 1131/2252\n"
     ]
    },
    {
     "name": "stderr",
     "output_type": "stream",
     "text": [
      "\n",
      "Epoch 1:  50%|█████     | 1131/2252 [13:16<13:15,  1.41it/s]\u001b[A\n",
      "Epoch 1:  50%|█████     | 1132/2252 [13:17<13:14,  1.41it/s]\u001b[A\n",
      "Epoch 1:  50%|█████     | 1133/2252 [13:18<13:14,  1.41it/s]\u001b[A\n",
      "Epoch 1:  50%|█████     | 1134/2252 [13:18<13:14,  1.41it/s]\u001b[A\n",
      "Epoch 1:  50%|█████     | 1135/2252 [13:19<13:13,  1.41it/s]\u001b[A\n",
      "Epoch 1:  50%|█████     | 1136/2252 [13:20<13:11,  1.41it/s]\u001b[A\n",
      "Epoch 1:  50%|█████     | 1137/2252 [13:21<13:09,  1.41it/s]\u001b[A\n",
      "Epoch 1:  51%|█████     | 1138/2252 [13:21<13:09,  1.41it/s]\u001b[A\n",
      "Epoch 1:  51%|█████     | 1139/2252 [13:22<13:10,  1.41it/s]\u001b[A\n",
      "Epoch 1:  51%|█████     | 1140/2252 [13:23<13:09,  1.41it/s]\u001b[A"
     ]
    },
    {
     "name": "stdout",
     "output_type": "stream",
     "text": [
      "Processed batch 1141/2252\n"
     ]
    },
    {
     "name": "stderr",
     "output_type": "stream",
     "text": [
      "\n",
      "Epoch 1:  51%|█████     | 1141/2252 [13:23<13:08,  1.41it/s]\u001b[A\n",
      "Epoch 1:  51%|█████     | 1142/2252 [13:24<13:07,  1.41it/s]\u001b[A\n",
      "Epoch 1:  51%|█████     | 1143/2252 [13:25<13:06,  1.41it/s]\u001b[A\n",
      "Epoch 1:  51%|█████     | 1144/2252 [13:26<13:05,  1.41it/s]\u001b[A\n",
      "Epoch 1:  51%|█████     | 1145/2252 [13:26<13:04,  1.41it/s]\u001b[A\n",
      "Epoch 1:  51%|█████     | 1146/2252 [13:27<13:03,  1.41it/s]\u001b[A\n",
      "Epoch 1:  51%|█████     | 1147/2252 [13:28<13:02,  1.41it/s]\u001b[A\n",
      "Epoch 1:  51%|█████     | 1148/2252 [13:28<13:02,  1.41it/s]\u001b[A\n",
      "Epoch 1:  51%|█████     | 1149/2252 [13:29<12:59,  1.41it/s]\u001b[A\n",
      "Epoch 1:  51%|█████     | 1150/2252 [13:30<12:59,  1.41it/s]\u001b[A"
     ]
    },
    {
     "name": "stdout",
     "output_type": "stream",
     "text": [
      "Processed batch 1151/2252\n"
     ]
    },
    {
     "name": "stderr",
     "output_type": "stream",
     "text": [
      "\n",
      "Epoch 1:  51%|█████     | 1151/2252 [13:30<12:57,  1.42it/s]\u001b[A\n",
      "Epoch 1:  51%|█████     | 1152/2252 [13:31<12:58,  1.41it/s]\u001b[A\n",
      "Epoch 1:  51%|█████     | 1153/2252 [13:32<12:56,  1.42it/s]\u001b[A\n",
      "Epoch 1:  51%|█████     | 1154/2252 [13:33<12:55,  1.42it/s]\u001b[A\n",
      "Epoch 1:  51%|█████▏    | 1155/2252 [13:33<12:55,  1.41it/s]\u001b[A\n",
      "Epoch 1:  51%|█████▏    | 1156/2252 [13:34<12:54,  1.41it/s]\u001b[A\n",
      "Epoch 1:  51%|█████▏    | 1157/2252 [13:35<12:53,  1.41it/s]\u001b[A\n",
      "Epoch 1:  51%|█████▏    | 1158/2252 [13:35<12:52,  1.42it/s]\u001b[A\n",
      "Epoch 1:  51%|█████▏    | 1159/2252 [13:36<12:52,  1.42it/s]\u001b[A\n",
      "Epoch 1:  52%|█████▏    | 1160/2252 [13:37<12:51,  1.42it/s]\u001b[A"
     ]
    },
    {
     "name": "stdout",
     "output_type": "stream",
     "text": [
      "Processed batch 1161/2252\n"
     ]
    },
    {
     "name": "stderr",
     "output_type": "stream",
     "text": [
      "\n",
      "Epoch 1:  52%|█████▏    | 1161/2252 [13:38<12:50,  1.42it/s]\u001b[A\n",
      "Epoch 1:  52%|█████▏    | 1162/2252 [13:38<12:50,  1.41it/s]\u001b[A\n",
      "Epoch 1:  52%|█████▏    | 1163/2252 [13:39<12:49,  1.41it/s]\u001b[A\n",
      "Epoch 1:  52%|█████▏    | 1164/2252 [13:40<12:49,  1.41it/s]\u001b[A\n",
      "Epoch 1:  52%|█████▏    | 1165/2252 [13:40<12:48,  1.41it/s]\u001b[A\n",
      "Epoch 1:  52%|█████▏    | 1166/2252 [13:41<12:48,  1.41it/s]\u001b[A\n",
      "Epoch 1:  52%|█████▏    | 1167/2252 [13:42<12:47,  1.41it/s]\u001b[A\n",
      "Epoch 1:  52%|█████▏    | 1168/2252 [13:42<12:45,  1.42it/s]\u001b[A\n",
      "Epoch 1:  52%|█████▏    | 1169/2252 [13:43<12:45,  1.41it/s]\u001b[A\n",
      "Epoch 1:  52%|█████▏    | 1170/2252 [13:44<12:45,  1.41it/s]\u001b[A"
     ]
    },
    {
     "name": "stdout",
     "output_type": "stream",
     "text": [
      "Processed batch 1171/2252\n"
     ]
    },
    {
     "name": "stderr",
     "output_type": "stream",
     "text": [
      "\n",
      "Epoch 1:  52%|█████▏    | 1171/2252 [13:45<12:43,  1.41it/s]\u001b[A\n",
      "Epoch 1:  52%|█████▏    | 1172/2252 [13:45<12:44,  1.41it/s]\u001b[A\n",
      "Epoch 1:  52%|█████▏    | 1173/2252 [13:46<12:44,  1.41it/s]\u001b[A\n",
      "Epoch 1:  52%|█████▏    | 1174/2252 [13:47<12:47,  1.40it/s]\u001b[A\n",
      "Epoch 1:  52%|█████▏    | 1175/2252 [13:47<12:43,  1.41it/s]\u001b[A\n",
      "Epoch 1:  52%|█████▏    | 1176/2252 [13:48<12:42,  1.41it/s]\u001b[A\n",
      "Epoch 1:  52%|█████▏    | 1177/2252 [13:49<12:42,  1.41it/s]\u001b[A\n",
      "Epoch 1:  52%|█████▏    | 1178/2252 [13:50<12:41,  1.41it/s]\u001b[A\n",
      "Epoch 1:  52%|█████▏    | 1179/2252 [13:50<12:39,  1.41it/s]\u001b[A\n",
      "Epoch 1:  52%|█████▏    | 1180/2252 [13:51<12:38,  1.41it/s]\u001b[A"
     ]
    },
    {
     "name": "stdout",
     "output_type": "stream",
     "text": [
      "Processed batch 1181/2252\n"
     ]
    },
    {
     "name": "stderr",
     "output_type": "stream",
     "text": [
      "\n",
      "Epoch 1:  52%|█████▏    | 1181/2252 [13:52<12:37,  1.41it/s]\u001b[A\n",
      "Epoch 1:  52%|█████▏    | 1182/2252 [13:52<12:37,  1.41it/s]\u001b[A\n",
      "Epoch 1:  53%|█████▎    | 1183/2252 [13:53<12:37,  1.41it/s]\u001b[A\n",
      "Epoch 1:  53%|█████▎    | 1184/2252 [13:54<12:37,  1.41it/s]\u001b[A\n",
      "Epoch 1:  53%|█████▎    | 1185/2252 [13:55<12:37,  1.41it/s]\u001b[A\n",
      "Epoch 1:  53%|█████▎    | 1186/2252 [13:55<12:35,  1.41it/s]\u001b[A\n",
      "Epoch 1:  53%|█████▎    | 1187/2252 [13:56<12:34,  1.41it/s]\u001b[A\n",
      "Epoch 1:  53%|█████▎    | 1188/2252 [13:57<12:35,  1.41it/s]\u001b[A\n",
      "Epoch 1:  53%|█████▎    | 1189/2252 [13:57<12:33,  1.41it/s]\u001b[A\n",
      "Epoch 1:  53%|█████▎    | 1190/2252 [13:58<12:33,  1.41it/s]\u001b[A"
     ]
    },
    {
     "name": "stdout",
     "output_type": "stream",
     "text": [
      "Processed batch 1191/2252\n"
     ]
    },
    {
     "name": "stderr",
     "output_type": "stream",
     "text": [
      "\n",
      "Epoch 1:  53%|█████▎    | 1191/2252 [13:59<12:32,  1.41it/s]\u001b[A\n",
      "Epoch 1:  53%|█████▎    | 1192/2252 [13:59<12:31,  1.41it/s]\u001b[A\n",
      "Epoch 1:  53%|█████▎    | 1193/2252 [14:00<12:29,  1.41it/s]\u001b[A\n",
      "Epoch 1:  53%|█████▎    | 1194/2252 [14:01<12:27,  1.41it/s]\u001b[A\n",
      "Epoch 1:  53%|█████▎    | 1195/2252 [14:02<12:27,  1.41it/s]\u001b[A\n",
      "Epoch 1:  53%|█████▎    | 1196/2252 [14:02<12:26,  1.42it/s]\u001b[A\n",
      "Epoch 1:  53%|█████▎    | 1197/2252 [14:03<12:26,  1.41it/s]\u001b[A\n",
      "Epoch 1:  53%|█████▎    | 1198/2252 [14:04<12:25,  1.41it/s]\u001b[A\n",
      "Epoch 1:  53%|█████▎    | 1199/2252 [14:04<12:25,  1.41it/s]\u001b[A\n",
      "Epoch 1:  53%|█████▎    | 1200/2252 [14:05<12:24,  1.41it/s]\u001b[A"
     ]
    },
    {
     "name": "stdout",
     "output_type": "stream",
     "text": [
      "Processed batch 1201/2252\n"
     ]
    },
    {
     "name": "stderr",
     "output_type": "stream",
     "text": [
      "\n",
      "Epoch 1:  53%|█████▎    | 1201/2252 [14:06<12:23,  1.41it/s]\u001b[A\n",
      "Epoch 1:  53%|█████▎    | 1202/2252 [14:07<12:22,  1.41it/s]\u001b[A\n",
      "Epoch 1:  53%|█████▎    | 1203/2252 [14:07<12:22,  1.41it/s]\u001b[A\n",
      "Epoch 1:  53%|█████▎    | 1204/2252 [14:08<12:21,  1.41it/s]\u001b[A\n",
      "Epoch 1:  54%|█████▎    | 1205/2252 [14:09<12:21,  1.41it/s]\u001b[A\n",
      "Epoch 1:  54%|█████▎    | 1206/2252 [14:09<12:20,  1.41it/s]\u001b[A\n",
      "Epoch 1:  54%|█████▎    | 1207/2252 [14:10<12:20,  1.41it/s]\u001b[A\n",
      "Epoch 1:  54%|█████▎    | 1208/2252 [14:11<12:18,  1.41it/s]\u001b[A\n",
      "Epoch 1:  54%|█████▎    | 1209/2252 [14:12<12:17,  1.41it/s]\u001b[A\n",
      "Epoch 1:  54%|█████▎    | 1210/2252 [14:12<12:17,  1.41it/s]\u001b[A"
     ]
    },
    {
     "name": "stdout",
     "output_type": "stream",
     "text": [
      "Processed batch 1211/2252\n"
     ]
    },
    {
     "name": "stderr",
     "output_type": "stream",
     "text": [
      "\n",
      "Epoch 1:  54%|█████▍    | 1211/2252 [14:13<12:16,  1.41it/s]\u001b[A\n",
      "Epoch 1:  54%|█████▍    | 1212/2252 [14:14<12:16,  1.41it/s]\u001b[A\n",
      "Epoch 1:  54%|█████▍    | 1213/2252 [14:14<12:17,  1.41it/s]\u001b[A\n",
      "Epoch 1:  54%|█████▍    | 1214/2252 [14:15<12:16,  1.41it/s]\u001b[A\n",
      "Epoch 1:  54%|█████▍    | 1215/2252 [14:16<12:15,  1.41it/s]\u001b[A\n",
      "Epoch 1:  54%|█████▍    | 1216/2252 [14:16<12:15,  1.41it/s]\u001b[A\n",
      "Epoch 1:  54%|█████▍    | 1217/2252 [14:17<12:15,  1.41it/s]\u001b[A\n",
      "Epoch 1:  54%|█████▍    | 1218/2252 [14:18<12:12,  1.41it/s]\u001b[A\n",
      "Epoch 1:  54%|█████▍    | 1219/2252 [14:19<12:12,  1.41it/s]\u001b[A\n",
      "Epoch 1:  54%|█████▍    | 1220/2252 [14:19<12:10,  1.41it/s]\u001b[A"
     ]
    },
    {
     "name": "stdout",
     "output_type": "stream",
     "text": [
      "Processed batch 1221/2252\n"
     ]
    },
    {
     "name": "stderr",
     "output_type": "stream",
     "text": [
      "\n",
      "Epoch 1:  54%|█████▍    | 1221/2252 [14:20<12:09,  1.41it/s]\u001b[A\n",
      "Epoch 1:  54%|█████▍    | 1222/2252 [14:21<12:09,  1.41it/s]\u001b[A\n",
      "Epoch 1:  54%|█████▍    | 1223/2252 [14:21<12:09,  1.41it/s]\u001b[A\n",
      "Epoch 1:  54%|█████▍    | 1224/2252 [14:22<12:10,  1.41it/s]\u001b[A\n",
      "Epoch 1:  54%|█████▍    | 1225/2252 [14:23<12:08,  1.41it/s]\u001b[A\n",
      "Epoch 1:  54%|█████▍    | 1226/2252 [14:24<12:08,  1.41it/s]\u001b[A\n",
      "Epoch 1:  54%|█████▍    | 1227/2252 [14:24<12:05,  1.41it/s]\u001b[A\n",
      "Epoch 1:  55%|█████▍    | 1228/2252 [14:25<12:06,  1.41it/s]\u001b[A\n",
      "Epoch 1:  55%|█████▍    | 1229/2252 [14:26<12:06,  1.41it/s]\u001b[A\n",
      "Epoch 1:  55%|█████▍    | 1230/2252 [14:26<12:05,  1.41it/s]\u001b[A"
     ]
    },
    {
     "name": "stdout",
     "output_type": "stream",
     "text": [
      "Processed batch 1231/2252\n"
     ]
    },
    {
     "name": "stderr",
     "output_type": "stream",
     "text": [
      "\n",
      "Epoch 1:  55%|█████▍    | 1231/2252 [14:27<12:05,  1.41it/s]\u001b[A\n",
      "Epoch 1:  55%|█████▍    | 1232/2252 [14:28<12:03,  1.41it/s]\u001b[A\n",
      "Epoch 1:  55%|█████▍    | 1233/2252 [14:29<12:02,  1.41it/s]\u001b[A\n",
      "Epoch 1:  55%|█████▍    | 1234/2252 [14:29<12:03,  1.41it/s]\u001b[A\n",
      "Epoch 1:  55%|█████▍    | 1235/2252 [14:30<12:03,  1.41it/s]\u001b[A\n",
      "Epoch 1:  55%|█████▍    | 1236/2252 [14:31<12:01,  1.41it/s]\u001b[A\n",
      "Epoch 1:  55%|█████▍    | 1237/2252 [14:31<12:00,  1.41it/s]\u001b[A\n",
      "Epoch 1:  55%|█████▍    | 1238/2252 [14:32<11:59,  1.41it/s]\u001b[A\n",
      "Epoch 1:  55%|█████▌    | 1239/2252 [14:33<11:59,  1.41it/s]\u001b[A\n",
      "Epoch 1:  55%|█████▌    | 1240/2252 [14:33<11:57,  1.41it/s]\u001b[A"
     ]
    },
    {
     "name": "stdout",
     "output_type": "stream",
     "text": [
      "Processed batch 1241/2252\n"
     ]
    },
    {
     "name": "stderr",
     "output_type": "stream",
     "text": [
      "\n",
      "Epoch 1:  55%|█████▌    | 1241/2252 [14:34<11:56,  1.41it/s]\u001b[A\n",
      "Epoch 1:  55%|█████▌    | 1242/2252 [14:35<11:54,  1.41it/s]\u001b[A\n",
      "Epoch 1:  55%|█████▌    | 1243/2252 [14:36<11:54,  1.41it/s]\u001b[A\n",
      "Epoch 1:  55%|█████▌    | 1244/2252 [14:36<11:52,  1.42it/s]\u001b[A\n",
      "Epoch 1:  55%|█████▌    | 1245/2252 [14:37<11:52,  1.41it/s]\u001b[A\n",
      "Epoch 1:  55%|█████▌    | 1246/2252 [14:38<11:52,  1.41it/s]\u001b[A\n",
      "Epoch 1:  55%|█████▌    | 1247/2252 [14:38<11:51,  1.41it/s]\u001b[A\n",
      "Epoch 1:  55%|█████▌    | 1248/2252 [14:39<11:49,  1.41it/s]\u001b[A\n",
      "Epoch 1:  55%|█████▌    | 1249/2252 [14:40<11:48,  1.42it/s]\u001b[A\n",
      "Epoch 1:  56%|█████▌    | 1250/2252 [14:41<11:49,  1.41it/s]\u001b[A"
     ]
    },
    {
     "name": "stdout",
     "output_type": "stream",
     "text": [
      "Processed batch 1251/2252\n"
     ]
    },
    {
     "name": "stderr",
     "output_type": "stream",
     "text": [
      "\n",
      "Epoch 1:  56%|█████▌    | 1251/2252 [14:41<11:48,  1.41it/s]\u001b[A\n",
      "Epoch 1:  56%|█████▌    | 1252/2252 [14:42<11:46,  1.41it/s]\u001b[A\n",
      "Epoch 1:  56%|█████▌    | 1253/2252 [14:43<11:46,  1.41it/s]\u001b[A\n",
      "Epoch 1:  56%|█████▌    | 1254/2252 [14:43<11:46,  1.41it/s]\u001b[A\n",
      "Epoch 1:  56%|█████▌    | 1255/2252 [14:44<11:44,  1.41it/s]\u001b[A\n",
      "Epoch 1:  56%|█████▌    | 1256/2252 [14:45<11:44,  1.41it/s]\u001b[A\n",
      "Epoch 1:  56%|█████▌    | 1257/2252 [14:46<11:42,  1.42it/s]\u001b[A\n",
      "Epoch 1:  56%|█████▌    | 1258/2252 [14:46<11:42,  1.42it/s]\u001b[A\n",
      "Epoch 1:  56%|█████▌    | 1259/2252 [14:47<11:42,  1.41it/s]\u001b[A\n",
      "Epoch 1:  56%|█████▌    | 1260/2252 [14:48<11:41,  1.41it/s]\u001b[A"
     ]
    },
    {
     "name": "stdout",
     "output_type": "stream",
     "text": [
      "Processed batch 1261/2252\n"
     ]
    },
    {
     "name": "stderr",
     "output_type": "stream",
     "text": [
      "\n",
      "Epoch 1:  56%|█████▌    | 1261/2252 [14:48<11:41,  1.41it/s]\u001b[A\n",
      "Epoch 1:  56%|█████▌    | 1262/2252 [14:49<11:42,  1.41it/s]\u001b[A\n",
      "Epoch 1:  56%|█████▌    | 1263/2252 [14:50<11:39,  1.41it/s]\u001b[A\n",
      "Epoch 1:  56%|█████▌    | 1264/2252 [14:50<11:40,  1.41it/s]\u001b[A\n",
      "Epoch 1:  56%|█████▌    | 1265/2252 [14:51<11:37,  1.41it/s]\u001b[A\n",
      "Epoch 1:  56%|█████▌    | 1266/2252 [14:52<11:36,  1.42it/s]\u001b[A\n",
      "Epoch 1:  56%|█████▋    | 1267/2252 [14:53<11:36,  1.41it/s]\u001b[A\n",
      "Epoch 1:  56%|█████▋    | 1268/2252 [14:53<11:36,  1.41it/s]\u001b[A\n",
      "Epoch 1:  56%|█████▋    | 1269/2252 [14:54<11:36,  1.41it/s]\u001b[A\n",
      "Epoch 1:  56%|█████▋    | 1270/2252 [14:55<11:36,  1.41it/s]\u001b[A"
     ]
    },
    {
     "name": "stdout",
     "output_type": "stream",
     "text": [
      "Processed batch 1271/2252\n"
     ]
    },
    {
     "name": "stderr",
     "output_type": "stream",
     "text": [
      "\n",
      "Epoch 1:  56%|█████▋    | 1271/2252 [14:55<11:35,  1.41it/s]\u001b[A\n",
      "Epoch 1:  56%|█████▋    | 1272/2252 [14:56<11:34,  1.41it/s]\u001b[A\n",
      "Epoch 1:  57%|█████▋    | 1273/2252 [14:57<11:34,  1.41it/s]\u001b[A\n",
      "Epoch 1:  57%|█████▋    | 1274/2252 [14:58<11:34,  1.41it/s]\u001b[A\n",
      "Epoch 1:  57%|█████▋    | 1275/2252 [14:58<11:32,  1.41it/s]\u001b[A\n",
      "Epoch 1:  57%|█████▋    | 1276/2252 [14:59<11:32,  1.41it/s]\u001b[A\n",
      "Epoch 1:  57%|█████▋    | 1277/2252 [15:00<11:32,  1.41it/s]\u001b[A\n",
      "Epoch 1:  57%|█████▋    | 1278/2252 [15:00<11:32,  1.41it/s]\u001b[A\n",
      "Epoch 1:  57%|█████▋    | 1279/2252 [15:01<11:30,  1.41it/s]\u001b[A\n",
      "Epoch 1:  57%|█████▋    | 1280/2252 [15:02<11:29,  1.41it/s]\u001b[A"
     ]
    },
    {
     "name": "stdout",
     "output_type": "stream",
     "text": [
      "Processed batch 1281/2252\n"
     ]
    },
    {
     "name": "stderr",
     "output_type": "stream",
     "text": [
      "\n",
      "Epoch 1:  57%|█████▋    | 1281/2252 [15:03<11:28,  1.41it/s]\u001b[A\n",
      "Epoch 1:  57%|█████▋    | 1282/2252 [15:03<11:27,  1.41it/s]\u001b[A\n",
      "Epoch 1:  57%|█████▋    | 1283/2252 [15:04<11:25,  1.41it/s]\u001b[A\n",
      "Epoch 1:  57%|█████▋    | 1284/2252 [15:05<11:25,  1.41it/s]\u001b[A\n",
      "Epoch 1:  57%|█████▋    | 1285/2252 [15:05<11:23,  1.41it/s]\u001b[A\n",
      "Epoch 1:  57%|█████▋    | 1286/2252 [15:06<11:23,  1.41it/s]\u001b[A\n",
      "Epoch 1:  57%|█████▋    | 1287/2252 [15:07<11:21,  1.42it/s]\u001b[A\n",
      "Epoch 1:  57%|█████▋    | 1288/2252 [15:07<11:22,  1.41it/s]\u001b[A\n",
      "Epoch 1:  57%|█████▋    | 1289/2252 [15:08<11:20,  1.41it/s]\u001b[A\n",
      "Epoch 1:  57%|█████▋    | 1290/2252 [15:09<11:20,  1.41it/s]\u001b[A"
     ]
    },
    {
     "name": "stdout",
     "output_type": "stream",
     "text": [
      "Processed batch 1291/2252\n"
     ]
    },
    {
     "name": "stderr",
     "output_type": "stream",
     "text": [
      "\n",
      "Epoch 1:  57%|█████▋    | 1291/2252 [15:10<11:19,  1.41it/s]\u001b[A\n",
      "Epoch 1:  57%|█████▋    | 1292/2252 [15:10<11:18,  1.41it/s]\u001b[A\n",
      "Epoch 1:  57%|█████▋    | 1293/2252 [15:11<11:17,  1.41it/s]\u001b[A\n",
      "Epoch 1:  57%|█████▋    | 1294/2252 [15:12<11:17,  1.41it/s]\u001b[A\n",
      "Epoch 1:  58%|█████▊    | 1295/2252 [15:12<11:17,  1.41it/s]\u001b[A\n",
      "Epoch 1:  58%|█████▊    | 1296/2252 [15:13<11:17,  1.41it/s]\u001b[A\n",
      "Epoch 1:  58%|█████▊    | 1297/2252 [15:14<11:16,  1.41it/s]\u001b[A\n",
      "Epoch 1:  58%|█████▊    | 1298/2252 [15:15<11:16,  1.41it/s]\u001b[A\n",
      "Epoch 1:  58%|█████▊    | 1299/2252 [15:15<11:15,  1.41it/s]\u001b[A\n",
      "Epoch 1:  58%|█████▊    | 1300/2252 [15:16<11:16,  1.41it/s]\u001b[A"
     ]
    },
    {
     "name": "stdout",
     "output_type": "stream",
     "text": [
      "Processed batch 1301/2252\n"
     ]
    },
    {
     "name": "stderr",
     "output_type": "stream",
     "text": [
      "\n",
      "Epoch 1:  58%|█████▊    | 1301/2252 [15:17<11:15,  1.41it/s]\u001b[A\n",
      "Epoch 1:  58%|█████▊    | 1302/2252 [15:17<11:14,  1.41it/s]\u001b[A\n",
      "Epoch 1:  58%|█████▊    | 1303/2252 [15:18<11:12,  1.41it/s]\u001b[A\n",
      "Epoch 1:  58%|█████▊    | 1304/2252 [15:19<11:11,  1.41it/s]\u001b[A\n",
      "Epoch 1:  58%|█████▊    | 1305/2252 [15:20<11:11,  1.41it/s]\u001b[A\n",
      "Epoch 1:  58%|█████▊    | 1306/2252 [15:20<11:10,  1.41it/s]\u001b[A\n",
      "Epoch 1:  58%|█████▊    | 1307/2252 [15:21<11:08,  1.41it/s]\u001b[A\n",
      "Epoch 1:  58%|█████▊    | 1308/2252 [15:22<11:08,  1.41it/s]\u001b[A\n",
      "Epoch 1:  58%|█████▊    | 1309/2252 [15:22<11:09,  1.41it/s]\u001b[A\n",
      "Epoch 1:  58%|█████▊    | 1310/2252 [15:23<11:06,  1.41it/s]\u001b[A"
     ]
    },
    {
     "name": "stdout",
     "output_type": "stream",
     "text": [
      "Processed batch 1311/2252\n"
     ]
    },
    {
     "name": "stderr",
     "output_type": "stream",
     "text": [
      "\n",
      "Epoch 1:  58%|█████▊    | 1311/2252 [15:24<11:05,  1.41it/s]\u001b[A\n",
      "Epoch 1:  58%|█████▊    | 1312/2252 [15:24<11:05,  1.41it/s]\u001b[A\n",
      "Epoch 1:  58%|█████▊    | 1313/2252 [15:25<11:04,  1.41it/s]\u001b[A\n",
      "Epoch 1:  58%|█████▊    | 1314/2252 [15:26<11:05,  1.41it/s]\u001b[A\n",
      "Epoch 1:  58%|█████▊    | 1315/2252 [15:27<11:04,  1.41it/s]\u001b[A\n",
      "Epoch 1:  58%|█████▊    | 1316/2252 [15:27<11:02,  1.41it/s]\u001b[A\n",
      "Epoch 1:  58%|█████▊    | 1317/2252 [15:28<11:02,  1.41it/s]\u001b[A\n",
      "Epoch 1:  59%|█████▊    | 1318/2252 [15:29<11:00,  1.41it/s]\u001b[A\n",
      "Epoch 1:  59%|█████▊    | 1319/2252 [15:29<11:00,  1.41it/s]\u001b[A\n",
      "Epoch 1:  59%|█████▊    | 1320/2252 [15:30<10:59,  1.41it/s]\u001b[A"
     ]
    },
    {
     "name": "stdout",
     "output_type": "stream",
     "text": [
      "Processed batch 1321/2252\n"
     ]
    },
    {
     "name": "stderr",
     "output_type": "stream",
     "text": [
      "\n",
      "Epoch 1:  59%|█████▊    | 1321/2252 [15:31<10:58,  1.41it/s]\u001b[A\n",
      "Epoch 1:  59%|█████▊    | 1322/2252 [15:32<10:58,  1.41it/s]\u001b[A\n",
      "Epoch 1:  59%|█████▊    | 1323/2252 [15:32<10:57,  1.41it/s]\u001b[A\n",
      "Epoch 1:  59%|█████▉    | 1324/2252 [15:33<10:57,  1.41it/s]\u001b[A\n",
      "Epoch 1:  59%|█████▉    | 1325/2252 [15:34<10:55,  1.41it/s]\u001b[A\n",
      "Epoch 1:  59%|█████▉    | 1326/2252 [15:34<10:55,  1.41it/s]\u001b[A\n",
      "Epoch 1:  59%|█████▉    | 1327/2252 [15:35<10:55,  1.41it/s]\u001b[A\n",
      "Epoch 1:  59%|█████▉    | 1328/2252 [15:36<10:54,  1.41it/s]\u001b[A\n",
      "Epoch 1:  59%|█████▉    | 1329/2252 [15:37<10:53,  1.41it/s]\u001b[A\n",
      "Epoch 1:  59%|█████▉    | 1330/2252 [15:37<10:53,  1.41it/s]\u001b[A"
     ]
    },
    {
     "name": "stdout",
     "output_type": "stream",
     "text": [
      "Processed batch 1331/2252\n"
     ]
    },
    {
     "name": "stderr",
     "output_type": "stream",
     "text": [
      "\n",
      "Epoch 1:  59%|█████▉    | 1331/2252 [15:38<10:53,  1.41it/s]\u001b[A\n",
      "Epoch 1:  59%|█████▉    | 1332/2252 [15:39<10:53,  1.41it/s]\u001b[A\n",
      "Epoch 1:  59%|█████▉    | 1333/2252 [15:39<10:52,  1.41it/s]\u001b[A\n",
      "Epoch 1:  59%|█████▉    | 1334/2252 [15:40<10:51,  1.41it/s]\u001b[A\n",
      "Epoch 1:  59%|█████▉    | 1335/2252 [15:41<10:50,  1.41it/s]\u001b[A\n",
      "Epoch 1:  59%|█████▉    | 1336/2252 [15:41<10:48,  1.41it/s]\u001b[A\n",
      "Epoch 1:  59%|█████▉    | 1337/2252 [15:42<10:47,  1.41it/s]\u001b[A\n",
      "Epoch 1:  59%|█████▉    | 1338/2252 [15:43<10:46,  1.41it/s]\u001b[A\n",
      "Epoch 1:  59%|█████▉    | 1339/2252 [15:44<10:45,  1.41it/s]\u001b[A\n",
      "Epoch 1:  60%|█████▉    | 1340/2252 [15:44<10:45,  1.41it/s]\u001b[A"
     ]
    },
    {
     "name": "stdout",
     "output_type": "stream",
     "text": [
      "Processed batch 1341/2252\n"
     ]
    },
    {
     "name": "stderr",
     "output_type": "stream",
     "text": [
      "\n",
      "Epoch 1:  60%|█████▉    | 1341/2252 [15:45<10:44,  1.41it/s]\u001b[A\n",
      "Epoch 1:  60%|█████▉    | 1342/2252 [15:46<10:42,  1.42it/s]\u001b[A\n",
      "Epoch 1:  60%|█████▉    | 1343/2252 [15:46<10:42,  1.42it/s]\u001b[A\n",
      "Epoch 1:  60%|█████▉    | 1344/2252 [15:47<10:41,  1.42it/s]\u001b[A\n",
      "Epoch 1:  60%|█████▉    | 1345/2252 [15:48<10:40,  1.42it/s]\u001b[A\n",
      "Epoch 1:  60%|█████▉    | 1346/2252 [15:49<10:40,  1.41it/s]\u001b[A\n",
      "Epoch 1:  60%|█████▉    | 1347/2252 [15:49<10:41,  1.41it/s]\u001b[A\n",
      "Epoch 1:  60%|█████▉    | 1348/2252 [15:50<10:40,  1.41it/s]\u001b[A\n",
      "Epoch 1:  60%|█████▉    | 1349/2252 [15:51<10:39,  1.41it/s]\u001b[A\n",
      "Epoch 1:  60%|█████▉    | 1350/2252 [15:51<10:39,  1.41it/s]\u001b[A"
     ]
    },
    {
     "name": "stdout",
     "output_type": "stream",
     "text": [
      "Processed batch 1351/2252\n"
     ]
    },
    {
     "name": "stderr",
     "output_type": "stream",
     "text": [
      "\n",
      "Epoch 1:  60%|█████▉    | 1351/2252 [15:52<10:39,  1.41it/s]\u001b[A\n",
      "Epoch 1:  60%|██████    | 1352/2252 [15:53<10:38,  1.41it/s]\u001b[A\n",
      "Epoch 1:  60%|██████    | 1353/2252 [15:54<10:37,  1.41it/s]\u001b[A\n",
      "Epoch 1:  60%|██████    | 1354/2252 [15:54<10:37,  1.41it/s]\u001b[A\n",
      "Epoch 1:  60%|██████    | 1355/2252 [15:55<10:35,  1.41it/s]\u001b[A\n",
      "Epoch 1:  60%|██████    | 1356/2252 [15:56<10:34,  1.41it/s]\u001b[A\n",
      "Epoch 1:  60%|██████    | 1357/2252 [15:56<10:33,  1.41it/s]\u001b[A\n",
      "Epoch 1:  60%|██████    | 1358/2252 [15:57<10:34,  1.41it/s]\u001b[A\n",
      "Epoch 1:  60%|██████    | 1359/2252 [15:58<10:33,  1.41it/s]\u001b[A\n",
      "Epoch 1:  60%|██████    | 1360/2252 [15:58<10:32,  1.41it/s]\u001b[A"
     ]
    },
    {
     "name": "stdout",
     "output_type": "stream",
     "text": [
      "Processed batch 1361/2252\n"
     ]
    },
    {
     "name": "stderr",
     "output_type": "stream",
     "text": [
      "\n",
      "Epoch 1:  60%|██████    | 1361/2252 [15:59<10:31,  1.41it/s]\u001b[A\n",
      "Epoch 1:  60%|██████    | 1362/2252 [16:00<10:30,  1.41it/s]\u001b[A\n",
      "Epoch 1:  61%|██████    | 1363/2252 [16:01<10:29,  1.41it/s]\u001b[A\n",
      "Epoch 1:  61%|██████    | 1364/2252 [16:01<10:28,  1.41it/s]\u001b[A\n",
      "Epoch 1:  61%|██████    | 1365/2252 [16:02<10:28,  1.41it/s]\u001b[A\n",
      "Epoch 1:  61%|██████    | 1366/2252 [16:03<10:27,  1.41it/s]\u001b[A\n",
      "Epoch 1:  61%|██████    | 1367/2252 [16:03<10:26,  1.41it/s]\u001b[A\n",
      "Epoch 1:  61%|██████    | 1368/2252 [16:04<10:25,  1.41it/s]\u001b[A\n",
      "Epoch 1:  61%|██████    | 1369/2252 [16:05<10:24,  1.41it/s]\u001b[A\n",
      "Epoch 1:  61%|██████    | 1370/2252 [16:06<11:38,  1.26it/s]\u001b[A"
     ]
    },
    {
     "name": "stdout",
     "output_type": "stream",
     "text": [
      "Processed batch 1371/2252\n"
     ]
    },
    {
     "name": "stderr",
     "output_type": "stream",
     "text": [
      "\n",
      "Epoch 1:  61%|██████    | 1371/2252 [16:07<11:14,  1.31it/s]\u001b[A\n",
      "Epoch 1:  61%|██████    | 1372/2252 [16:07<10:57,  1.34it/s]\u001b[A\n",
      "Epoch 1:  61%|██████    | 1373/2252 [16:08<10:47,  1.36it/s]\u001b[A\n",
      "Epoch 1:  61%|██████    | 1374/2252 [16:09<10:38,  1.37it/s]\u001b[A\n",
      "Epoch 1:  61%|██████    | 1375/2252 [16:09<10:32,  1.39it/s]\u001b[A\n",
      "Epoch 1:  61%|██████    | 1376/2252 [16:10<10:28,  1.39it/s]\u001b[A\n",
      "Epoch 1:  61%|██████    | 1377/2252 [16:11<10:25,  1.40it/s]\u001b[A\n",
      "Epoch 1:  61%|██████    | 1378/2252 [16:11<10:22,  1.40it/s]\u001b[A\n",
      "Epoch 1:  61%|██████    | 1379/2252 [16:12<10:20,  1.41it/s]\u001b[A\n",
      "Epoch 1:  61%|██████▏   | 1380/2252 [16:13<10:18,  1.41it/s]\u001b[A"
     ]
    },
    {
     "name": "stdout",
     "output_type": "stream",
     "text": [
      "Processed batch 1381/2252\n"
     ]
    },
    {
     "name": "stderr",
     "output_type": "stream",
     "text": [
      "\n",
      "Epoch 1:  61%|██████▏   | 1381/2252 [16:14<10:17,  1.41it/s]\u001b[A\n",
      "Epoch 1:  61%|██████▏   | 1382/2252 [16:14<10:19,  1.41it/s]\u001b[A\n",
      "Epoch 1:  61%|██████▏   | 1383/2252 [16:15<10:14,  1.41it/s]\u001b[A\n",
      "Epoch 1:  61%|██████▏   | 1384/2252 [16:16<10:13,  1.41it/s]\u001b[A\n",
      "Epoch 1:  62%|██████▏   | 1385/2252 [16:16<10:11,  1.42it/s]\u001b[A\n",
      "Epoch 1:  62%|██████▏   | 1386/2252 [16:17<10:11,  1.42it/s]\u001b[A\n",
      "Epoch 1:  62%|██████▏   | 1387/2252 [16:18<10:10,  1.42it/s]\u001b[A\n",
      "Epoch 1:  62%|██████▏   | 1388/2252 [16:19<10:10,  1.42it/s]\u001b[A\n",
      "Epoch 1:  62%|██████▏   | 1389/2252 [16:19<10:10,  1.41it/s]\u001b[A\n",
      "Epoch 1:  62%|██████▏   | 1390/2252 [16:20<10:09,  1.41it/s]\u001b[A"
     ]
    },
    {
     "name": "stdout",
     "output_type": "stream",
     "text": [
      "Processed batch 1391/2252\n"
     ]
    },
    {
     "name": "stderr",
     "output_type": "stream",
     "text": [
      "\n",
      "Epoch 1:  62%|██████▏   | 1391/2252 [16:21<10:09,  1.41it/s]\u001b[A\n",
      "Epoch 1:  62%|██████▏   | 1392/2252 [16:21<10:08,  1.41it/s]\u001b[A\n",
      "Epoch 1:  62%|██████▏   | 1393/2252 [16:22<10:07,  1.41it/s]\u001b[A\n",
      "Epoch 1:  62%|██████▏   | 1394/2252 [16:23<10:06,  1.42it/s]\u001b[A\n",
      "Epoch 1:  62%|██████▏   | 1395/2252 [16:24<10:06,  1.41it/s]\u001b[A\n",
      "Epoch 1:  62%|██████▏   | 1396/2252 [16:24<10:06,  1.41it/s]\u001b[A\n",
      "Epoch 1:  62%|██████▏   | 1397/2252 [16:25<10:05,  1.41it/s]\u001b[A\n",
      "Epoch 1:  62%|██████▏   | 1398/2252 [16:26<10:05,  1.41it/s]\u001b[A\n",
      "Epoch 1:  62%|██████▏   | 1399/2252 [16:26<10:03,  1.41it/s]\u001b[A\n",
      "Epoch 1:  62%|██████▏   | 1400/2252 [16:27<10:03,  1.41it/s]\u001b[A"
     ]
    },
    {
     "name": "stdout",
     "output_type": "stream",
     "text": [
      "Processed batch 1401/2252\n"
     ]
    },
    {
     "name": "stderr",
     "output_type": "stream",
     "text": [
      "\n",
      "Epoch 1:  62%|██████▏   | 1401/2252 [16:28<10:02,  1.41it/s]\u001b[A\n",
      "Epoch 1:  62%|██████▏   | 1402/2252 [16:28<10:01,  1.41it/s]\u001b[A\n",
      "Epoch 1:  62%|██████▏   | 1403/2252 [16:29<09:59,  1.42it/s]\u001b[A\n",
      "Epoch 1:  62%|██████▏   | 1404/2252 [16:30<09:59,  1.41it/s]\u001b[A\n",
      "Epoch 1:  62%|██████▏   | 1405/2252 [16:31<09:58,  1.42it/s]\u001b[A\n",
      "Epoch 1:  62%|██████▏   | 1406/2252 [16:31<09:58,  1.41it/s]\u001b[A\n",
      "Epoch 1:  62%|██████▏   | 1407/2252 [16:32<09:58,  1.41it/s]\u001b[A\n",
      "Epoch 1:  63%|██████▎   | 1408/2252 [16:33<09:58,  1.41it/s]\u001b[A\n",
      "Epoch 1:  63%|██████▎   | 1409/2252 [16:33<09:57,  1.41it/s]\u001b[A\n",
      "Epoch 1:  63%|██████▎   | 1410/2252 [16:34<09:55,  1.41it/s]\u001b[A"
     ]
    },
    {
     "name": "stdout",
     "output_type": "stream",
     "text": [
      "Processed batch 1411/2252\n"
     ]
    },
    {
     "name": "stderr",
     "output_type": "stream",
     "text": [
      "\n",
      "Epoch 1:  63%|██████▎   | 1411/2252 [16:35<09:55,  1.41it/s]\u001b[A\n",
      "Epoch 1:  63%|██████▎   | 1412/2252 [16:36<09:54,  1.41it/s]\u001b[A\n",
      "Epoch 1:  63%|██████▎   | 1413/2252 [16:36<09:54,  1.41it/s]\u001b[A\n",
      "Epoch 1:  63%|██████▎   | 1414/2252 [16:37<09:52,  1.41it/s]\u001b[A\n",
      "Epoch 1:  63%|██████▎   | 1415/2252 [16:38<09:52,  1.41it/s]\u001b[A\n",
      "Epoch 1:  63%|██████▎   | 1416/2252 [16:38<09:51,  1.41it/s]\u001b[A\n",
      "Epoch 1:  63%|██████▎   | 1417/2252 [16:39<09:52,  1.41it/s]\u001b[A\n",
      "Epoch 1:  63%|██████▎   | 1418/2252 [16:40<09:49,  1.41it/s]\u001b[A\n",
      "Epoch 1:  63%|██████▎   | 1419/2252 [16:40<09:49,  1.41it/s]\u001b[A\n",
      "Epoch 1:  63%|██████▎   | 1420/2252 [16:41<09:47,  1.42it/s]\u001b[A"
     ]
    },
    {
     "name": "stdout",
     "output_type": "stream",
     "text": [
      "Processed batch 1421/2252\n"
     ]
    },
    {
     "name": "stderr",
     "output_type": "stream",
     "text": [
      "\n",
      "Epoch 1:  63%|██████▎   | 1421/2252 [16:42<09:47,  1.42it/s]\u001b[A\n",
      "Epoch 1:  63%|██████▎   | 1422/2252 [16:43<09:46,  1.41it/s]\u001b[A\n",
      "Epoch 1:  63%|██████▎   | 1423/2252 [16:43<09:46,  1.41it/s]\u001b[A\n",
      "Epoch 1:  63%|██████▎   | 1424/2252 [16:44<09:47,  1.41it/s]\u001b[A\n",
      "Epoch 1:  63%|██████▎   | 1425/2252 [16:45<09:46,  1.41it/s]\u001b[A\n",
      "Epoch 1:  63%|██████▎   | 1426/2252 [16:45<09:46,  1.41it/s]\u001b[A\n",
      "Epoch 1:  63%|██████▎   | 1427/2252 [16:46<09:45,  1.41it/s]\u001b[A\n",
      "Epoch 1:  63%|██████▎   | 1428/2252 [16:47<09:44,  1.41it/s]\u001b[A\n",
      "Epoch 1:  63%|██████▎   | 1429/2252 [16:48<09:43,  1.41it/s]\u001b[A\n",
      "Epoch 1:  63%|██████▎   | 1430/2252 [16:48<09:42,  1.41it/s]\u001b[A"
     ]
    },
    {
     "name": "stdout",
     "output_type": "stream",
     "text": [
      "Processed batch 1431/2252\n"
     ]
    },
    {
     "name": "stderr",
     "output_type": "stream",
     "text": [
      "\n",
      "Epoch 1:  64%|██████▎   | 1431/2252 [16:49<09:40,  1.41it/s]\u001b[A\n",
      "Epoch 1:  64%|██████▎   | 1432/2252 [16:50<09:39,  1.41it/s]\u001b[A\n",
      "Epoch 1:  64%|██████▎   | 1433/2252 [16:50<09:39,  1.41it/s]\u001b[A\n",
      "Epoch 1:  64%|██████▎   | 1434/2252 [16:51<09:39,  1.41it/s]\u001b[A\n",
      "Epoch 1:  64%|██████▎   | 1435/2252 [16:52<09:38,  1.41it/s]\u001b[A\n",
      "Epoch 1:  64%|██████▍   | 1436/2252 [16:53<09:38,  1.41it/s]\u001b[A\n",
      "Epoch 1:  64%|██████▍   | 1437/2252 [16:53<09:38,  1.41it/s]\u001b[A\n",
      "Epoch 1:  64%|██████▍   | 1438/2252 [16:54<09:38,  1.41it/s]\u001b[A\n",
      "Epoch 1:  64%|██████▍   | 1439/2252 [16:55<09:37,  1.41it/s]\u001b[A\n",
      "Epoch 1:  64%|██████▍   | 1440/2252 [16:55<09:35,  1.41it/s]\u001b[A"
     ]
    },
    {
     "name": "stdout",
     "output_type": "stream",
     "text": [
      "Processed batch 1441/2252\n"
     ]
    },
    {
     "name": "stderr",
     "output_type": "stream",
     "text": [
      "\n",
      "Epoch 1:  64%|██████▍   | 1441/2252 [16:56<09:35,  1.41it/s]\u001b[A\n",
      "Epoch 1:  64%|██████▍   | 1442/2252 [16:57<09:33,  1.41it/s]\u001b[A\n",
      "Epoch 1:  64%|██████▍   | 1443/2252 [16:58<09:33,  1.41it/s]\u001b[A\n",
      "Epoch 1:  64%|██████▍   | 1444/2252 [16:58<09:32,  1.41it/s]\u001b[A\n",
      "Epoch 1:  64%|██████▍   | 1445/2252 [16:59<09:31,  1.41it/s]\u001b[A\n",
      "Epoch 1:  64%|██████▍   | 1446/2252 [17:00<09:29,  1.41it/s]\u001b[A\n",
      "Epoch 1:  64%|██████▍   | 1447/2252 [17:00<09:29,  1.41it/s]\u001b[A\n",
      "Epoch 1:  64%|██████▍   | 1448/2252 [17:01<09:28,  1.42it/s]\u001b[A\n",
      "Epoch 1:  64%|██████▍   | 1449/2252 [17:02<09:27,  1.41it/s]\u001b[A\n",
      "Epoch 1:  64%|██████▍   | 1450/2252 [17:02<09:26,  1.42it/s]\u001b[A"
     ]
    },
    {
     "name": "stdout",
     "output_type": "stream",
     "text": [
      "Processed batch 1451/2252\n"
     ]
    },
    {
     "name": "stderr",
     "output_type": "stream",
     "text": [
      "\n",
      "Epoch 1:  64%|██████▍   | 1451/2252 [17:03<09:25,  1.42it/s]\u001b[A\n",
      "Epoch 1:  64%|██████▍   | 1452/2252 [17:04<09:25,  1.41it/s]\u001b[A\n",
      "Epoch 1:  65%|██████▍   | 1453/2252 [17:05<09:25,  1.41it/s]\u001b[A\n",
      "Epoch 1:  65%|██████▍   | 1454/2252 [17:05<09:23,  1.42it/s]\u001b[A\n",
      "Epoch 1:  65%|██████▍   | 1455/2252 [17:06<09:23,  1.41it/s]\u001b[A\n",
      "Epoch 1:  65%|██████▍   | 1456/2252 [17:07<09:22,  1.41it/s]\u001b[A\n",
      "Epoch 1:  65%|██████▍   | 1457/2252 [17:07<09:22,  1.41it/s]\u001b[A\n",
      "Epoch 1:  65%|██████▍   | 1458/2252 [17:08<09:22,  1.41it/s]\u001b[A\n",
      "Epoch 1:  65%|██████▍   | 1459/2252 [17:09<09:21,  1.41it/s]\u001b[A\n",
      "Epoch 1:  65%|██████▍   | 1460/2252 [17:10<09:21,  1.41it/s]\u001b[A"
     ]
    },
    {
     "name": "stdout",
     "output_type": "stream",
     "text": [
      "Processed batch 1461/2252\n"
     ]
    },
    {
     "name": "stderr",
     "output_type": "stream",
     "text": [
      "\n",
      "Epoch 1:  65%|██████▍   | 1461/2252 [17:10<09:20,  1.41it/s]\u001b[A\n",
      "Epoch 1:  65%|██████▍   | 1462/2252 [17:11<09:20,  1.41it/s]\u001b[A\n",
      "Epoch 1:  65%|██████▍   | 1463/2252 [17:12<09:19,  1.41it/s]\u001b[A\n",
      "Epoch 1:  65%|██████▌   | 1464/2252 [17:12<09:18,  1.41it/s]\u001b[A\n",
      "Epoch 1:  65%|██████▌   | 1465/2252 [17:13<09:17,  1.41it/s]\u001b[A\n",
      "Epoch 1:  65%|██████▌   | 1466/2252 [17:14<09:16,  1.41it/s]\u001b[A\n",
      "Epoch 1:  65%|██████▌   | 1467/2252 [17:14<09:15,  1.41it/s]\u001b[A\n",
      "Epoch 1:  65%|██████▌   | 1468/2252 [17:15<09:15,  1.41it/s]\u001b[A\n",
      "Epoch 1:  65%|██████▌   | 1469/2252 [17:16<09:15,  1.41it/s]\u001b[A\n",
      "Epoch 1:  65%|██████▌   | 1470/2252 [17:17<09:14,  1.41it/s]\u001b[A"
     ]
    },
    {
     "name": "stdout",
     "output_type": "stream",
     "text": [
      "Processed batch 1471/2252\n"
     ]
    },
    {
     "name": "stderr",
     "output_type": "stream",
     "text": [
      "\n",
      "Epoch 1:  65%|██████▌   | 1471/2252 [17:17<09:14,  1.41it/s]\u001b[A\n",
      "Epoch 1:  65%|██████▌   | 1472/2252 [17:18<09:13,  1.41it/s]\u001b[A\n",
      "Epoch 1:  65%|██████▌   | 1473/2252 [17:19<09:12,  1.41it/s]\u001b[A\n",
      "Epoch 1:  65%|██████▌   | 1474/2252 [17:19<09:11,  1.41it/s]\u001b[A\n",
      "Epoch 1:  65%|██████▌   | 1475/2252 [17:20<09:09,  1.41it/s]\u001b[A\n",
      "Epoch 1:  66%|██████▌   | 1476/2252 [17:21<09:09,  1.41it/s]\u001b[A\n",
      "Epoch 1:  66%|██████▌   | 1477/2252 [17:22<09:08,  1.41it/s]\u001b[A\n",
      "Epoch 1:  66%|██████▌   | 1478/2252 [17:22<09:07,  1.41it/s]\u001b[A\n",
      "Epoch 1:  66%|██████▌   | 1479/2252 [17:23<09:07,  1.41it/s]\u001b[A\n",
      "Epoch 1:  66%|██████▌   | 1480/2252 [17:24<09:06,  1.41it/s]\u001b[A"
     ]
    },
    {
     "name": "stdout",
     "output_type": "stream",
     "text": [
      "Processed batch 1481/2252\n"
     ]
    },
    {
     "name": "stderr",
     "output_type": "stream",
     "text": [
      "\n",
      "Epoch 1:  66%|██████▌   | 1481/2252 [17:24<09:06,  1.41it/s]\u001b[A\n",
      "Epoch 1:  66%|██████▌   | 1482/2252 [17:25<09:05,  1.41it/s]\u001b[A\n",
      "Epoch 1:  66%|██████▌   | 1483/2252 [17:26<09:05,  1.41it/s]\u001b[A\n",
      "Epoch 1:  66%|██████▌   | 1484/2252 [17:27<09:05,  1.41it/s]\u001b[A\n",
      "Epoch 1:  66%|██████▌   | 1485/2252 [17:27<09:03,  1.41it/s]\u001b[A\n",
      "Epoch 1:  66%|██████▌   | 1486/2252 [17:28<09:03,  1.41it/s]\u001b[A\n",
      "Epoch 1:  66%|██████▌   | 1487/2252 [17:29<09:03,  1.41it/s]\u001b[A\n",
      "Epoch 1:  66%|██████▌   | 1488/2252 [17:29<09:00,  1.41it/s]\u001b[A\n",
      "Epoch 1:  66%|██████▌   | 1489/2252 [17:30<09:00,  1.41it/s]\u001b[A\n",
      "Epoch 1:  66%|██████▌   | 1490/2252 [17:31<08:58,  1.41it/s]\u001b[A"
     ]
    },
    {
     "name": "stdout",
     "output_type": "stream",
     "text": [
      "Processed batch 1491/2252\n"
     ]
    },
    {
     "name": "stderr",
     "output_type": "stream",
     "text": [
      "\n",
      "Epoch 1:  66%|██████▌   | 1491/2252 [17:31<08:59,  1.41it/s]\u001b[A\n",
      "Epoch 1:  66%|██████▋   | 1492/2252 [17:32<08:58,  1.41it/s]\u001b[A\n",
      "Epoch 1:  66%|██████▋   | 1493/2252 [17:33<08:56,  1.41it/s]\u001b[A\n",
      "Epoch 1:  66%|██████▋   | 1494/2252 [17:34<08:57,  1.41it/s]\u001b[A\n",
      "Epoch 1:  66%|██████▋   | 1495/2252 [17:34<08:56,  1.41it/s]\u001b[A\n",
      "Epoch 1:  66%|██████▋   | 1496/2252 [17:35<08:56,  1.41it/s]\u001b[A\n",
      "Epoch 1:  66%|██████▋   | 1497/2252 [17:36<08:54,  1.41it/s]\u001b[A\n",
      "Epoch 1:  67%|██████▋   | 1498/2252 [17:36<08:54,  1.41it/s]\u001b[A\n",
      "Epoch 1:  67%|██████▋   | 1499/2252 [17:37<08:54,  1.41it/s]\u001b[A\n",
      "Epoch 1:  67%|██████▋   | 1500/2252 [17:38<08:53,  1.41it/s]\u001b[A"
     ]
    },
    {
     "name": "stdout",
     "output_type": "stream",
     "text": [
      "Processed batch 1501/2252\n"
     ]
    },
    {
     "name": "stderr",
     "output_type": "stream",
     "text": [
      "\n",
      "Epoch 1:  67%|██████▋   | 1501/2252 [17:39<08:52,  1.41it/s]\u001b[A\n",
      "Epoch 1:  67%|██████▋   | 1502/2252 [17:39<08:51,  1.41it/s]\u001b[A\n",
      "Epoch 1:  67%|██████▋   | 1503/2252 [17:40<08:53,  1.40it/s]\u001b[A\n",
      "Epoch 1:  67%|██████▋   | 1504/2252 [17:41<08:49,  1.41it/s]\u001b[A\n",
      "Epoch 1:  67%|██████▋   | 1505/2252 [17:41<08:49,  1.41it/s]\u001b[A\n",
      "Epoch 1:  67%|██████▋   | 1506/2252 [17:42<08:49,  1.41it/s]\u001b[A\n",
      "Epoch 1:  67%|██████▋   | 1507/2252 [17:43<08:48,  1.41it/s]\u001b[A\n",
      "Epoch 1:  67%|██████▋   | 1508/2252 [17:44<08:47,  1.41it/s]\u001b[A\n",
      "Epoch 1:  67%|██████▋   | 1509/2252 [17:44<08:46,  1.41it/s]\u001b[A\n",
      "Epoch 1:  67%|██████▋   | 1510/2252 [17:45<08:45,  1.41it/s]\u001b[A"
     ]
    },
    {
     "name": "stdout",
     "output_type": "stream",
     "text": [
      "Processed batch 1511/2252\n"
     ]
    },
    {
     "name": "stderr",
     "output_type": "stream",
     "text": [
      "\n",
      "Epoch 1:  67%|██████▋   | 1511/2252 [17:46<08:44,  1.41it/s]\u001b[A\n",
      "Epoch 1:  67%|██████▋   | 1512/2252 [17:46<08:43,  1.41it/s]\u001b[A\n",
      "Epoch 1:  67%|██████▋   | 1513/2252 [17:47<08:43,  1.41it/s]\u001b[A\n",
      "Epoch 1:  67%|██████▋   | 1514/2252 [17:48<08:42,  1.41it/s]\u001b[A\n",
      "Epoch 1:  67%|██████▋   | 1515/2252 [17:49<08:41,  1.41it/s]\u001b[A\n",
      "Epoch 1:  67%|██████▋   | 1516/2252 [17:49<08:40,  1.41it/s]\u001b[A\n",
      "Epoch 1:  67%|██████▋   | 1517/2252 [17:50<08:40,  1.41it/s]\u001b[A\n",
      "Epoch 1:  67%|██████▋   | 1518/2252 [17:51<08:40,  1.41it/s]\u001b[A\n",
      "Epoch 1:  67%|██████▋   | 1519/2252 [17:51<08:39,  1.41it/s]\u001b[A\n",
      "Epoch 1:  67%|██████▋   | 1520/2252 [17:52<08:38,  1.41it/s]\u001b[A"
     ]
    },
    {
     "name": "stdout",
     "output_type": "stream",
     "text": [
      "Processed batch 1521/2252\n"
     ]
    },
    {
     "name": "stderr",
     "output_type": "stream",
     "text": [
      "\n",
      "Epoch 1:  68%|██████▊   | 1521/2252 [17:53<08:38,  1.41it/s]\u001b[A\n",
      "Epoch 1:  68%|██████▊   | 1522/2252 [17:53<08:37,  1.41it/s]\u001b[A\n",
      "Epoch 1:  68%|██████▊   | 1523/2252 [17:54<08:36,  1.41it/s]\u001b[A\n",
      "Epoch 1:  68%|██████▊   | 1524/2252 [17:55<08:35,  1.41it/s]\u001b[A\n",
      "Epoch 1:  68%|██████▊   | 1525/2252 [17:56<08:35,  1.41it/s]\u001b[A\n",
      "Epoch 1:  68%|██████▊   | 1526/2252 [17:56<08:35,  1.41it/s]\u001b[A\n",
      "Epoch 1:  68%|██████▊   | 1527/2252 [17:57<08:35,  1.41it/s]\u001b[A\n",
      "Epoch 1:  68%|██████▊   | 1528/2252 [17:58<08:34,  1.41it/s]\u001b[A\n",
      "Epoch 1:  68%|██████▊   | 1529/2252 [17:58<08:33,  1.41it/s]\u001b[A\n",
      "Epoch 1:  68%|██████▊   | 1530/2252 [17:59<08:31,  1.41it/s]\u001b[A"
     ]
    },
    {
     "name": "stdout",
     "output_type": "stream",
     "text": [
      "Processed batch 1531/2252\n"
     ]
    },
    {
     "name": "stderr",
     "output_type": "stream",
     "text": [
      "\n",
      "Epoch 1:  68%|██████▊   | 1531/2252 [18:00<08:31,  1.41it/s]\u001b[A\n",
      "Epoch 1:  68%|██████▊   | 1532/2252 [18:01<08:29,  1.41it/s]\u001b[A\n",
      "Epoch 1:  68%|██████▊   | 1533/2252 [18:01<08:29,  1.41it/s]\u001b[A\n",
      "Epoch 1:  68%|██████▊   | 1534/2252 [18:02<08:29,  1.41it/s]\u001b[A\n",
      "Epoch 1:  68%|██████▊   | 1535/2252 [18:03<08:29,  1.41it/s]\u001b[A\n",
      "Epoch 1:  68%|██████▊   | 1536/2252 [18:03<08:30,  1.40it/s]\u001b[A\n",
      "Epoch 1:  68%|██████▊   | 1537/2252 [18:04<08:27,  1.41it/s]\u001b[A\n",
      "Epoch 1:  68%|██████▊   | 1538/2252 [18:05<08:26,  1.41it/s]\u001b[A\n",
      "Epoch 1:  68%|██████▊   | 1539/2252 [18:06<08:26,  1.41it/s]\u001b[A\n",
      "Epoch 1:  68%|██████▊   | 1540/2252 [18:06<08:25,  1.41it/s]\u001b[A"
     ]
    },
    {
     "name": "stdout",
     "output_type": "stream",
     "text": [
      "Processed batch 1541/2252\n"
     ]
    },
    {
     "name": "stderr",
     "output_type": "stream",
     "text": [
      "\n",
      "Epoch 1:  68%|██████▊   | 1541/2252 [18:07<08:25,  1.41it/s]\u001b[A\n",
      "Epoch 1:  68%|██████▊   | 1542/2252 [18:08<08:24,  1.41it/s]\u001b[A\n",
      "Epoch 1:  69%|██████▊   | 1543/2252 [18:08<08:22,  1.41it/s]\u001b[A\n",
      "Epoch 1:  69%|██████▊   | 1544/2252 [18:09<08:22,  1.41it/s]\u001b[A\n",
      "Epoch 1:  69%|██████▊   | 1545/2252 [18:10<08:21,  1.41it/s]\u001b[A\n",
      "Epoch 1:  69%|██████▊   | 1546/2252 [18:11<08:20,  1.41it/s]\u001b[A\n",
      "Epoch 1:  69%|██████▊   | 1547/2252 [18:11<08:19,  1.41it/s]\u001b[A\n",
      "Epoch 1:  69%|██████▊   | 1548/2252 [18:12<08:18,  1.41it/s]\u001b[A\n",
      "Epoch 1:  69%|██████▉   | 1549/2252 [18:13<08:17,  1.41it/s]\u001b[A\n",
      "Epoch 1:  69%|██████▉   | 1550/2252 [18:13<08:16,  1.41it/s]\u001b[A"
     ]
    },
    {
     "name": "stdout",
     "output_type": "stream",
     "text": [
      "Processed batch 1551/2252\n"
     ]
    },
    {
     "name": "stderr",
     "output_type": "stream",
     "text": [
      "\n",
      "Epoch 1:  69%|██████▉   | 1551/2252 [18:14<08:16,  1.41it/s]\u001b[A\n",
      "Epoch 1:  69%|██████▉   | 1552/2252 [18:15<08:16,  1.41it/s]\u001b[A\n",
      "Epoch 1:  69%|██████▉   | 1553/2252 [18:15<08:15,  1.41it/s]\u001b[A\n",
      "Epoch 1:  69%|██████▉   | 1554/2252 [18:16<08:15,  1.41it/s]\u001b[A\n",
      "Epoch 1:  69%|██████▉   | 1555/2252 [18:17<08:14,  1.41it/s]\u001b[A\n",
      "Epoch 1:  69%|██████▉   | 1556/2252 [18:18<08:13,  1.41it/s]\u001b[A\n",
      "Epoch 1:  69%|██████▉   | 1557/2252 [18:18<08:12,  1.41it/s]\u001b[A\n",
      "Epoch 1:  69%|██████▉   | 1558/2252 [18:19<08:11,  1.41it/s]\u001b[A\n",
      "Epoch 1:  69%|██████▉   | 1559/2252 [18:20<08:10,  1.41it/s]\u001b[A\n",
      "Epoch 1:  69%|██████▉   | 1560/2252 [18:20<08:09,  1.41it/s]\u001b[A"
     ]
    },
    {
     "name": "stdout",
     "output_type": "stream",
     "text": [
      "Processed batch 1561/2252\n"
     ]
    },
    {
     "name": "stderr",
     "output_type": "stream",
     "text": [
      "\n",
      "Epoch 1:  69%|██████▉   | 1561/2252 [18:21<08:10,  1.41it/s]\u001b[A\n",
      "Epoch 1:  69%|██████▉   | 1562/2252 [18:22<08:07,  1.42it/s]\u001b[A\n",
      "Epoch 1:  69%|██████▉   | 1563/2252 [18:23<08:06,  1.42it/s]\u001b[A\n",
      "Epoch 1:  69%|██████▉   | 1564/2252 [18:23<08:06,  1.42it/s]\u001b[A\n",
      "Epoch 1:  69%|██████▉   | 1565/2252 [18:24<08:05,  1.42it/s]\u001b[A\n",
      "Epoch 1:  70%|██████▉   | 1566/2252 [18:25<08:04,  1.42it/s]\u001b[A\n",
      "Epoch 1:  70%|██████▉   | 1567/2252 [18:25<08:04,  1.41it/s]\u001b[A\n",
      "Epoch 1:  70%|██████▉   | 1568/2252 [18:26<08:03,  1.41it/s]\u001b[A\n",
      "Epoch 1:  70%|██████▉   | 1569/2252 [18:27<08:03,  1.41it/s]\u001b[A\n",
      "Epoch 1:  70%|██████▉   | 1570/2252 [18:27<08:03,  1.41it/s]\u001b[A"
     ]
    },
    {
     "name": "stdout",
     "output_type": "stream",
     "text": [
      "Processed batch 1571/2252\n"
     ]
    },
    {
     "name": "stderr",
     "output_type": "stream",
     "text": [
      "\n",
      "Epoch 1:  70%|██████▉   | 1571/2252 [18:28<08:02,  1.41it/s]\u001b[A\n",
      "Epoch 1:  70%|██████▉   | 1572/2252 [18:29<08:02,  1.41it/s]\u001b[A\n",
      "Epoch 1:  70%|██████▉   | 1573/2252 [18:30<08:02,  1.41it/s]\u001b[A\n",
      "Epoch 1:  70%|██████▉   | 1574/2252 [18:30<08:01,  1.41it/s]\u001b[A\n",
      "Epoch 1:  70%|██████▉   | 1575/2252 [18:31<08:00,  1.41it/s]\u001b[A\n",
      "Epoch 1:  70%|██████▉   | 1576/2252 [18:32<07:59,  1.41it/s]\u001b[A\n",
      "Epoch 1:  70%|███████   | 1577/2252 [18:32<07:57,  1.41it/s]\u001b[A\n",
      "Epoch 1:  70%|███████   | 1578/2252 [18:33<07:57,  1.41it/s]\u001b[A\n",
      "Epoch 1:  70%|███████   | 1579/2252 [18:34<07:56,  1.41it/s]\u001b[A\n",
      "Epoch 1:  70%|███████   | 1580/2252 [18:35<07:55,  1.41it/s]\u001b[A"
     ]
    },
    {
     "name": "stdout",
     "output_type": "stream",
     "text": [
      "Processed batch 1581/2252\n"
     ]
    },
    {
     "name": "stderr",
     "output_type": "stream",
     "text": [
      "\n",
      "Epoch 1:  70%|███████   | 1581/2252 [18:35<07:54,  1.41it/s]\u001b[A\n",
      "Epoch 1:  70%|███████   | 1582/2252 [18:36<07:54,  1.41it/s]\u001b[A\n",
      "Epoch 1:  70%|███████   | 1583/2252 [18:37<07:54,  1.41it/s]\u001b[A\n",
      "Epoch 1:  70%|███████   | 1584/2252 [18:37<07:53,  1.41it/s]\u001b[A\n",
      "Epoch 1:  70%|███████   | 1585/2252 [18:38<07:52,  1.41it/s]\u001b[A\n",
      "Epoch 1:  70%|███████   | 1586/2252 [18:39<07:52,  1.41it/s]\u001b[A\n",
      "Epoch 1:  70%|███████   | 1587/2252 [18:40<07:51,  1.41it/s]\u001b[A\n",
      "Epoch 1:  71%|███████   | 1588/2252 [18:40<07:50,  1.41it/s]\u001b[A\n",
      "Epoch 1:  71%|███████   | 1589/2252 [18:41<07:50,  1.41it/s]\u001b[A\n",
      "Epoch 1:  71%|███████   | 1590/2252 [18:42<07:49,  1.41it/s]\u001b[A"
     ]
    },
    {
     "name": "stdout",
     "output_type": "stream",
     "text": [
      "Processed batch 1591/2252\n"
     ]
    },
    {
     "name": "stderr",
     "output_type": "stream",
     "text": [
      "\n",
      "Epoch 1:  71%|███████   | 1591/2252 [18:42<07:48,  1.41it/s]\u001b[A\n",
      "Epoch 1:  71%|███████   | 1592/2252 [18:43<07:47,  1.41it/s]\u001b[A\n",
      "Epoch 1:  71%|███████   | 1593/2252 [18:44<07:47,  1.41it/s]\u001b[A\n",
      "Epoch 1:  71%|███████   | 1594/2252 [18:45<07:46,  1.41it/s]\u001b[A\n",
      "Epoch 1:  71%|███████   | 1595/2252 [18:45<07:45,  1.41it/s]\u001b[A\n",
      "Epoch 1:  71%|███████   | 1596/2252 [18:46<07:44,  1.41it/s]\u001b[A\n",
      "Epoch 1:  71%|███████   | 1597/2252 [18:47<07:43,  1.41it/s]\u001b[A\n",
      "Epoch 1:  71%|███████   | 1598/2252 [18:47<07:43,  1.41it/s]\u001b[A\n",
      "Epoch 1:  71%|███████   | 1599/2252 [18:48<07:41,  1.41it/s]\u001b[A\n",
      "Epoch 1:  71%|███████   | 1600/2252 [18:49<07:41,  1.41it/s]\u001b[A"
     ]
    },
    {
     "name": "stdout",
     "output_type": "stream",
     "text": [
      "Processed batch 1601/2252\n"
     ]
    },
    {
     "name": "stderr",
     "output_type": "stream",
     "text": [
      "\n",
      "Epoch 1:  71%|███████   | 1601/2252 [18:49<07:41,  1.41it/s]\u001b[A\n",
      "Epoch 1:  71%|███████   | 1602/2252 [18:50<07:40,  1.41it/s]\u001b[A\n",
      "Epoch 1:  71%|███████   | 1603/2252 [18:51<07:39,  1.41it/s]\u001b[A\n",
      "Epoch 1:  71%|███████   | 1604/2252 [18:52<07:38,  1.41it/s]\u001b[A\n",
      "Epoch 1:  71%|███████▏  | 1605/2252 [18:52<07:37,  1.41it/s]\u001b[A\n",
      "Epoch 1:  71%|███████▏  | 1606/2252 [18:53<07:36,  1.41it/s]\u001b[A\n",
      "Epoch 1:  71%|███████▏  | 1607/2252 [18:54<07:36,  1.41it/s]\u001b[A\n",
      "Epoch 1:  71%|███████▏  | 1608/2252 [18:54<07:35,  1.41it/s]\u001b[A\n",
      "Epoch 1:  71%|███████▏  | 1609/2252 [18:55<07:36,  1.41it/s]\u001b[A\n",
      "Epoch 1:  71%|███████▏  | 1610/2252 [18:56<07:34,  1.41it/s]\u001b[A"
     ]
    },
    {
     "name": "stdout",
     "output_type": "stream",
     "text": [
      "Processed batch 1611/2252\n"
     ]
    },
    {
     "name": "stderr",
     "output_type": "stream",
     "text": [
      "\n",
      "Epoch 1:  72%|███████▏  | 1611/2252 [18:57<07:33,  1.41it/s]\u001b[A\n",
      "Epoch 1:  72%|███████▏  | 1612/2252 [18:57<07:32,  1.41it/s]\u001b[A\n",
      "Epoch 1:  72%|███████▏  | 1613/2252 [18:58<07:32,  1.41it/s]\u001b[A\n",
      "Epoch 1:  72%|███████▏  | 1614/2252 [18:59<07:31,  1.41it/s]\u001b[A\n",
      "Epoch 1:  72%|███████▏  | 1615/2252 [18:59<07:30,  1.41it/s]\u001b[A\n",
      "Epoch 1:  72%|███████▏  | 1616/2252 [19:00<07:30,  1.41it/s]\u001b[A\n",
      "Epoch 1:  72%|███████▏  | 1617/2252 [19:01<07:30,  1.41it/s]\u001b[A\n",
      "Epoch 1:  72%|███████▏  | 1618/2252 [19:02<07:30,  1.41it/s]\u001b[A\n",
      "Epoch 1:  72%|███████▏  | 1619/2252 [19:02<07:28,  1.41it/s]\u001b[A\n",
      "Epoch 1:  72%|███████▏  | 1620/2252 [19:03<07:27,  1.41it/s]\u001b[A"
     ]
    },
    {
     "name": "stdout",
     "output_type": "stream",
     "text": [
      "Processed batch 1621/2252\n"
     ]
    },
    {
     "name": "stderr",
     "output_type": "stream",
     "text": [
      "\n",
      "Epoch 1:  72%|███████▏  | 1621/2252 [19:04<07:27,  1.41it/s]\u001b[A\n",
      "Epoch 1:  72%|███████▏  | 1622/2252 [19:04<07:26,  1.41it/s]\u001b[A\n",
      "Epoch 1:  72%|███████▏  | 1623/2252 [19:05<07:25,  1.41it/s]\u001b[A\n",
      "Epoch 1:  72%|███████▏  | 1624/2252 [19:06<07:24,  1.41it/s]\u001b[A\n",
      "Epoch 1:  72%|███████▏  | 1625/2252 [19:06<07:24,  1.41it/s]\u001b[A\n",
      "Epoch 1:  72%|███████▏  | 1626/2252 [19:07<07:23,  1.41it/s]\u001b[A\n",
      "Epoch 1:  72%|███████▏  | 1627/2252 [19:08<07:22,  1.41it/s]\u001b[A\n",
      "Epoch 1:  72%|███████▏  | 1628/2252 [19:09<07:21,  1.41it/s]\u001b[A\n",
      "Epoch 1:  72%|███████▏  | 1629/2252 [19:09<07:20,  1.42it/s]\u001b[A\n",
      "Epoch 1:  72%|███████▏  | 1630/2252 [19:10<07:19,  1.41it/s]\u001b[A"
     ]
    },
    {
     "name": "stdout",
     "output_type": "stream",
     "text": [
      "Processed batch 1631/2252\n"
     ]
    },
    {
     "name": "stderr",
     "output_type": "stream",
     "text": [
      "\n",
      "Epoch 1:  72%|███████▏  | 1631/2252 [19:11<07:19,  1.41it/s]\u001b[A\n",
      "Epoch 1:  72%|███████▏  | 1632/2252 [19:11<07:18,  1.41it/s]\u001b[A\n",
      "Epoch 1:  73%|███████▎  | 1633/2252 [19:12<07:17,  1.41it/s]\u001b[A\n",
      "Epoch 1:  73%|███████▎  | 1634/2252 [19:13<07:17,  1.41it/s]\u001b[A\n",
      "Epoch 1:  73%|███████▎  | 1635/2252 [19:14<07:16,  1.41it/s]\u001b[A\n",
      "Epoch 1:  73%|███████▎  | 1636/2252 [19:14<07:15,  1.41it/s]\u001b[A\n",
      "Epoch 1:  73%|███████▎  | 1637/2252 [19:15<07:14,  1.41it/s]\u001b[A\n",
      "Epoch 1:  73%|███████▎  | 1638/2252 [19:16<07:14,  1.41it/s]\u001b[A\n",
      "Epoch 1:  73%|███████▎  | 1639/2252 [19:16<07:13,  1.41it/s]\u001b[A\n",
      "Epoch 1:  73%|███████▎  | 1640/2252 [19:17<07:12,  1.41it/s]\u001b[A"
     ]
    },
    {
     "name": "stdout",
     "output_type": "stream",
     "text": [
      "Processed batch 1641/2252\n"
     ]
    },
    {
     "name": "stderr",
     "output_type": "stream",
     "text": [
      "\n",
      "Epoch 1:  73%|███████▎  | 1641/2252 [19:18<07:12,  1.41it/s]\u001b[A\n",
      "Epoch 1:  73%|███████▎  | 1642/2252 [19:18<07:11,  1.41it/s]\u001b[A\n",
      "Epoch 1:  73%|███████▎  | 1643/2252 [19:19<07:11,  1.41it/s]\u001b[A\n",
      "Epoch 1:  73%|███████▎  | 1644/2252 [19:20<07:11,  1.41it/s]\u001b[A\n",
      "Epoch 1:  73%|███████▎  | 1645/2252 [19:21<07:10,  1.41it/s]\u001b[A\n",
      "Epoch 1:  73%|███████▎  | 1646/2252 [19:21<07:10,  1.41it/s]\u001b[A\n",
      "Epoch 1:  73%|███████▎  | 1647/2252 [19:22<07:09,  1.41it/s]\u001b[A\n",
      "Epoch 1:  73%|███████▎  | 1648/2252 [19:23<07:08,  1.41it/s]\u001b[A\n",
      "Epoch 1:  73%|███████▎  | 1649/2252 [19:23<07:07,  1.41it/s]\u001b[A\n",
      "Epoch 1:  73%|███████▎  | 1650/2252 [19:24<07:06,  1.41it/s]\u001b[A"
     ]
    },
    {
     "name": "stdout",
     "output_type": "stream",
     "text": [
      "Processed batch 1651/2252\n"
     ]
    },
    {
     "name": "stderr",
     "output_type": "stream",
     "text": [
      "\n",
      "Epoch 1:  73%|███████▎  | 1651/2252 [19:25<07:06,  1.41it/s]\u001b[A\n",
      "Epoch 1:  73%|███████▎  | 1652/2252 [19:26<07:04,  1.41it/s]\u001b[A\n",
      "Epoch 1:  73%|███████▎  | 1653/2252 [19:26<07:03,  1.41it/s]\u001b[A\n",
      "Epoch 1:  73%|███████▎  | 1654/2252 [19:27<07:02,  1.42it/s]\u001b[A\n",
      "Epoch 1:  73%|███████▎  | 1655/2252 [19:28<07:01,  1.42it/s]\u001b[A\n",
      "Epoch 1:  74%|███████▎  | 1656/2252 [19:28<07:01,  1.41it/s]\u001b[A\n",
      "Epoch 1:  74%|███████▎  | 1657/2252 [19:29<07:01,  1.41it/s]\u001b[A\n",
      "Epoch 1:  74%|███████▎  | 1658/2252 [19:30<06:59,  1.41it/s]\u001b[A\n",
      "Epoch 1:  74%|███████▎  | 1659/2252 [19:31<06:59,  1.42it/s]\u001b[A\n",
      "Epoch 1:  74%|███████▎  | 1660/2252 [19:31<06:58,  1.41it/s]\u001b[A"
     ]
    },
    {
     "name": "stdout",
     "output_type": "stream",
     "text": [
      "Processed batch 1661/2252\n"
     ]
    },
    {
     "name": "stderr",
     "output_type": "stream",
     "text": [
      "\n",
      "Epoch 1:  74%|███████▍  | 1661/2252 [19:32<06:57,  1.41it/s]\u001b[A\n",
      "Epoch 1:  74%|███████▍  | 1662/2252 [19:33<06:56,  1.42it/s]\u001b[A\n",
      "Epoch 1:  74%|███████▍  | 1663/2252 [19:33<06:56,  1.42it/s]\u001b[A\n",
      "Epoch 1:  74%|███████▍  | 1664/2252 [19:34<06:56,  1.41it/s]\u001b[A\n",
      "Epoch 1:  74%|███████▍  | 1665/2252 [19:35<06:55,  1.41it/s]\u001b[A\n",
      "Epoch 1:  74%|███████▍  | 1666/2252 [19:35<06:55,  1.41it/s]\u001b[A\n",
      "Epoch 1:  74%|███████▍  | 1667/2252 [19:36<06:54,  1.41it/s]\u001b[A\n",
      "Epoch 1:  74%|███████▍  | 1668/2252 [19:37<06:54,  1.41it/s]\u001b[A\n",
      "Epoch 1:  74%|███████▍  | 1669/2252 [19:38<06:53,  1.41it/s]\u001b[A\n",
      "Epoch 1:  74%|███████▍  | 1670/2252 [19:38<06:53,  1.41it/s]\u001b[A"
     ]
    },
    {
     "name": "stdout",
     "output_type": "stream",
     "text": [
      "Processed batch 1671/2252\n"
     ]
    },
    {
     "name": "stderr",
     "output_type": "stream",
     "text": [
      "\n",
      "Epoch 1:  74%|███████▍  | 1671/2252 [19:39<06:52,  1.41it/s]\u001b[A\n",
      "Epoch 1:  74%|███████▍  | 1672/2252 [19:40<06:50,  1.41it/s]\u001b[A\n",
      "Epoch 1:  74%|███████▍  | 1673/2252 [19:40<06:49,  1.41it/s]\u001b[A\n",
      "Epoch 1:  74%|███████▍  | 1674/2252 [19:41<06:49,  1.41it/s]\u001b[A\n",
      "Epoch 1:  74%|███████▍  | 1675/2252 [19:42<06:48,  1.41it/s]\u001b[A\n",
      "Epoch 1:  74%|███████▍  | 1676/2252 [19:43<06:48,  1.41it/s]\u001b[A\n",
      "Epoch 1:  74%|███████▍  | 1677/2252 [19:43<06:46,  1.41it/s]\u001b[A\n",
      "Epoch 1:  75%|███████▍  | 1678/2252 [19:44<06:45,  1.41it/s]\u001b[A\n",
      "Epoch 1:  75%|███████▍  | 1679/2252 [19:45<06:45,  1.41it/s]\u001b[A\n",
      "Epoch 1:  75%|███████▍  | 1680/2252 [19:45<06:44,  1.41it/s]\u001b[A"
     ]
    },
    {
     "name": "stdout",
     "output_type": "stream",
     "text": [
      "Processed batch 1681/2252\n"
     ]
    },
    {
     "name": "stderr",
     "output_type": "stream",
     "text": [
      "\n",
      "Epoch 1:  75%|███████▍  | 1681/2252 [19:46<06:43,  1.41it/s]\u001b[A\n",
      "Epoch 1:  75%|███████▍  | 1682/2252 [19:47<06:43,  1.41it/s]\u001b[A\n",
      "Epoch 1:  75%|███████▍  | 1683/2252 [19:48<06:42,  1.41it/s]\u001b[A\n",
      "Epoch 1:  75%|███████▍  | 1684/2252 [19:48<06:41,  1.41it/s]\u001b[A\n",
      "Epoch 1:  75%|███████▍  | 1685/2252 [19:49<06:41,  1.41it/s]\u001b[A\n",
      "Epoch 1:  75%|███████▍  | 1686/2252 [19:50<06:40,  1.41it/s]\u001b[A\n",
      "Epoch 1:  75%|███████▍  | 1687/2252 [19:50<06:40,  1.41it/s]\u001b[A\n",
      "Epoch 1:  75%|███████▍  | 1688/2252 [19:51<06:39,  1.41it/s]\u001b[A\n",
      "Epoch 1:  75%|███████▌  | 1689/2252 [19:52<06:38,  1.41it/s]\u001b[A\n",
      "Epoch 1:  75%|███████▌  | 1690/2252 [19:52<06:37,  1.41it/s]\u001b[A"
     ]
    },
    {
     "name": "stdout",
     "output_type": "stream",
     "text": [
      "Processed batch 1691/2252\n"
     ]
    },
    {
     "name": "stderr",
     "output_type": "stream",
     "text": [
      "\n",
      "Epoch 1:  75%|███████▌  | 1691/2252 [19:53<06:37,  1.41it/s]\u001b[A\n",
      "Epoch 1:  75%|███████▌  | 1692/2252 [19:54<06:36,  1.41it/s]\u001b[A\n",
      "Epoch 1:  75%|███████▌  | 1693/2252 [19:55<06:35,  1.41it/s]\u001b[A\n",
      "Epoch 1:  75%|███████▌  | 1694/2252 [19:55<06:35,  1.41it/s]\u001b[A\n",
      "Epoch 1:  75%|███████▌  | 1695/2252 [19:56<06:34,  1.41it/s]\u001b[A\n",
      "Epoch 1:  75%|███████▌  | 1696/2252 [19:57<06:33,  1.41it/s]\u001b[A\n",
      "Epoch 1:  75%|███████▌  | 1697/2252 [19:57<06:32,  1.41it/s]\u001b[A\n",
      "Epoch 1:  75%|███████▌  | 1698/2252 [19:58<06:32,  1.41it/s]\u001b[A\n",
      "Epoch 1:  75%|███████▌  | 1699/2252 [19:59<06:32,  1.41it/s]\u001b[A\n",
      "Epoch 1:  75%|███████▌  | 1700/2252 [20:00<06:30,  1.41it/s]\u001b[A"
     ]
    },
    {
     "name": "stdout",
     "output_type": "stream",
     "text": [
      "Processed batch 1701/2252\n"
     ]
    },
    {
     "name": "stderr",
     "output_type": "stream",
     "text": [
      "\n",
      "Epoch 1:  76%|███████▌  | 1701/2252 [20:00<06:30,  1.41it/s]\u001b[A\n",
      "Epoch 1:  76%|███████▌  | 1702/2252 [20:01<06:29,  1.41it/s]\u001b[A\n",
      "Epoch 1:  76%|███████▌  | 1703/2252 [20:02<06:29,  1.41it/s]\u001b[A\n",
      "Epoch 1:  76%|███████▌  | 1704/2252 [20:02<06:28,  1.41it/s]\u001b[A\n",
      "Epoch 1:  76%|███████▌  | 1705/2252 [20:03<06:27,  1.41it/s]\u001b[A\n",
      "Epoch 1:  76%|███████▌  | 1706/2252 [20:04<06:26,  1.41it/s]\u001b[A\n",
      "Epoch 1:  76%|███████▌  | 1707/2252 [20:05<06:26,  1.41it/s]\u001b[A\n",
      "Epoch 1:  76%|███████▌  | 1708/2252 [20:05<06:25,  1.41it/s]\u001b[A\n",
      "Epoch 1:  76%|███████▌  | 1709/2252 [20:06<06:24,  1.41it/s]\u001b[A\n",
      "Epoch 1:  76%|███████▌  | 1710/2252 [20:07<06:23,  1.41it/s]\u001b[A"
     ]
    },
    {
     "name": "stdout",
     "output_type": "stream",
     "text": [
      "Processed batch 1711/2252\n"
     ]
    },
    {
     "name": "stderr",
     "output_type": "stream",
     "text": [
      "\n",
      "Epoch 1:  76%|███████▌  | 1711/2252 [20:07<06:22,  1.41it/s]\u001b[A\n",
      "Epoch 1:  76%|███████▌  | 1712/2252 [20:08<06:22,  1.41it/s]\u001b[A\n",
      "Epoch 1:  76%|███████▌  | 1713/2252 [20:09<06:21,  1.41it/s]\u001b[A\n",
      "Epoch 1:  76%|███████▌  | 1714/2252 [20:09<06:20,  1.41it/s]\u001b[A\n",
      "Epoch 1:  76%|███████▌  | 1715/2252 [20:10<06:20,  1.41it/s]\u001b[A\n",
      "Epoch 1:  76%|███████▌  | 1716/2252 [20:11<06:20,  1.41it/s]\u001b[A\n",
      "Epoch 1:  76%|███████▌  | 1717/2252 [20:12<06:18,  1.41it/s]\u001b[A\n",
      "Epoch 1:  76%|███████▋  | 1718/2252 [20:12<06:18,  1.41it/s]\u001b[A\n",
      "Epoch 1:  76%|███████▋  | 1719/2252 [20:13<06:17,  1.41it/s]\u001b[A\n",
      "Epoch 1:  76%|███████▋  | 1720/2252 [20:14<06:18,  1.40it/s]\u001b[A"
     ]
    },
    {
     "name": "stdout",
     "output_type": "stream",
     "text": [
      "Processed batch 1721/2252\n"
     ]
    },
    {
     "name": "stderr",
     "output_type": "stream",
     "text": [
      "\n",
      "Epoch 1:  76%|███████▋  | 1721/2252 [20:14<06:15,  1.41it/s]\u001b[A\n",
      "Epoch 1:  76%|███████▋  | 1722/2252 [20:15<06:15,  1.41it/s]\u001b[A\n",
      "Epoch 1:  77%|███████▋  | 1723/2252 [20:16<06:14,  1.41it/s]\u001b[A\n",
      "Epoch 1:  77%|███████▋  | 1724/2252 [20:17<06:13,  1.41it/s]\u001b[A\n",
      "Epoch 1:  77%|███████▋  | 1725/2252 [20:17<06:12,  1.41it/s]\u001b[A\n",
      "Epoch 1:  77%|███████▋  | 1726/2252 [20:18<06:13,  1.41it/s]\u001b[A\n",
      "Epoch 1:  77%|███████▋  | 1727/2252 [20:19<06:11,  1.41it/s]\u001b[A\n",
      "Epoch 1:  77%|███████▋  | 1728/2252 [20:19<06:10,  1.41it/s]\u001b[A\n",
      "Epoch 1:  77%|███████▋  | 1729/2252 [20:20<06:10,  1.41it/s]\u001b[A\n",
      "Epoch 1:  77%|███████▋  | 1730/2252 [20:21<06:10,  1.41it/s]\u001b[A"
     ]
    },
    {
     "name": "stdout",
     "output_type": "stream",
     "text": [
      "Processed batch 1731/2252\n"
     ]
    },
    {
     "name": "stderr",
     "output_type": "stream",
     "text": [
      "\n",
      "Epoch 1:  77%|███████▋  | 1731/2252 [20:22<06:09,  1.41it/s]\u001b[A\n",
      "Epoch 1:  77%|███████▋  | 1732/2252 [20:22<06:08,  1.41it/s]\u001b[A\n",
      "Epoch 1:  77%|███████▋  | 1733/2252 [20:23<06:07,  1.41it/s]\u001b[A\n",
      "Epoch 1:  77%|███████▋  | 1734/2252 [20:24<06:07,  1.41it/s]\u001b[A\n",
      "Epoch 1:  77%|███████▋  | 1735/2252 [20:24<06:08,  1.40it/s]\u001b[A\n",
      "Epoch 1:  77%|███████▋  | 1736/2252 [20:25<06:05,  1.41it/s]\u001b[A\n",
      "Epoch 1:  77%|███████▋  | 1737/2252 [20:26<06:04,  1.41it/s]\u001b[A\n",
      "Epoch 1:  77%|███████▋  | 1738/2252 [20:26<06:03,  1.41it/s]\u001b[A\n",
      "Epoch 1:  77%|███████▋  | 1739/2252 [20:27<06:02,  1.41it/s]\u001b[A\n",
      "Epoch 1:  77%|███████▋  | 1740/2252 [20:28<06:01,  1.41it/s]\u001b[A"
     ]
    },
    {
     "name": "stdout",
     "output_type": "stream",
     "text": [
      "Processed batch 1741/2252\n"
     ]
    },
    {
     "name": "stderr",
     "output_type": "stream",
     "text": [
      "\n",
      "Epoch 1:  77%|███████▋  | 1741/2252 [20:29<06:01,  1.41it/s]\u001b[A\n",
      "Epoch 1:  77%|███████▋  | 1742/2252 [20:29<06:00,  1.41it/s]\u001b[A\n",
      "Epoch 1:  77%|███████▋  | 1743/2252 [20:30<05:59,  1.41it/s]\u001b[A\n",
      "Epoch 1:  77%|███████▋  | 1744/2252 [20:31<06:00,  1.41it/s]\u001b[A\n",
      "Epoch 1:  77%|███████▋  | 1745/2252 [20:31<05:59,  1.41it/s]\u001b[A\n",
      "Epoch 1:  78%|███████▊  | 1746/2252 [20:32<05:58,  1.41it/s]\u001b[A\n",
      "Epoch 1:  78%|███████▊  | 1747/2252 [20:33<05:58,  1.41it/s]\u001b[A\n",
      "Epoch 1:  78%|███████▊  | 1748/2252 [20:34<05:57,  1.41it/s]\u001b[A\n",
      "Epoch 1:  78%|███████▊  | 1749/2252 [20:34<05:56,  1.41it/s]\u001b[A\n",
      "Epoch 1:  78%|███████▊  | 1750/2252 [20:35<05:55,  1.41it/s]\u001b[A"
     ]
    },
    {
     "name": "stdout",
     "output_type": "stream",
     "text": [
      "Processed batch 1751/2252\n"
     ]
    },
    {
     "name": "stderr",
     "output_type": "stream",
     "text": [
      "\n",
      "Epoch 1:  78%|███████▊  | 1751/2252 [20:36<05:54,  1.41it/s]\u001b[A\n",
      "Epoch 1:  78%|███████▊  | 1752/2252 [20:36<05:53,  1.41it/s]\u001b[A\n",
      "Epoch 1:  78%|███████▊  | 1753/2252 [20:37<05:53,  1.41it/s]\u001b[A\n",
      "Epoch 1:  78%|███████▊  | 1754/2252 [20:38<05:52,  1.41it/s]\u001b[A\n",
      "Epoch 1:  78%|███████▊  | 1755/2252 [20:39<05:51,  1.41it/s]\u001b[A\n",
      "Epoch 1:  78%|███████▊  | 1756/2252 [20:39<05:50,  1.41it/s]\u001b[A\n",
      "Epoch 1:  78%|███████▊  | 1757/2252 [20:40<05:50,  1.41it/s]\u001b[A\n",
      "Epoch 1:  78%|███████▊  | 1758/2252 [20:41<05:49,  1.41it/s]\u001b[A\n",
      "Epoch 1:  78%|███████▊  | 1759/2252 [20:41<05:48,  1.41it/s]\u001b[A\n",
      "Epoch 1:  78%|███████▊  | 1760/2252 [20:42<05:48,  1.41it/s]\u001b[A"
     ]
    },
    {
     "name": "stdout",
     "output_type": "stream",
     "text": [
      "Processed batch 1761/2252\n"
     ]
    },
    {
     "name": "stderr",
     "output_type": "stream",
     "text": [
      "\n",
      "Epoch 1:  78%|███████▊  | 1761/2252 [20:43<05:47,  1.41it/s]\u001b[A\n",
      "Epoch 1:  78%|███████▊  | 1762/2252 [20:43<05:47,  1.41it/s]\u001b[A\n",
      "Epoch 1:  78%|███████▊  | 1763/2252 [20:44<05:45,  1.42it/s]\u001b[A\n",
      "Epoch 1:  78%|███████▊  | 1764/2252 [20:45<05:44,  1.42it/s]\u001b[A\n",
      "Epoch 1:  78%|███████▊  | 1765/2252 [20:46<05:44,  1.41it/s]\u001b[A\n",
      "Epoch 1:  78%|███████▊  | 1766/2252 [20:46<05:43,  1.41it/s]\u001b[A\n",
      "Epoch 1:  78%|███████▊  | 1767/2252 [20:47<05:42,  1.41it/s]\u001b[A\n",
      "Epoch 1:  79%|███████▊  | 1768/2252 [20:48<05:42,  1.41it/s]\u001b[A\n",
      "Epoch 1:  79%|███████▊  | 1769/2252 [20:48<05:41,  1.41it/s]\u001b[A\n",
      "Epoch 1:  79%|███████▊  | 1770/2252 [20:49<05:41,  1.41it/s]\u001b[A"
     ]
    },
    {
     "name": "stdout",
     "output_type": "stream",
     "text": [
      "Processed batch 1771/2252\n"
     ]
    },
    {
     "name": "stderr",
     "output_type": "stream",
     "text": [
      "\n",
      "Epoch 1:  79%|███████▊  | 1771/2252 [20:50<05:40,  1.41it/s]\u001b[A\n",
      "Epoch 1:  79%|███████▊  | 1772/2252 [20:51<05:40,  1.41it/s]\u001b[A\n",
      "Epoch 1:  79%|███████▊  | 1773/2252 [20:51<05:39,  1.41it/s]\u001b[A\n",
      "Epoch 1:  79%|███████▉  | 1774/2252 [20:52<05:38,  1.41it/s]\u001b[A\n",
      "Epoch 1:  79%|███████▉  | 1775/2252 [20:53<05:37,  1.41it/s]\u001b[A\n",
      "Epoch 1:  79%|███████▉  | 1776/2252 [20:53<05:36,  1.41it/s]\u001b[A\n",
      "Epoch 1:  79%|███████▉  | 1777/2252 [20:54<05:36,  1.41it/s]\u001b[A\n",
      "Epoch 1:  79%|███████▉  | 1778/2252 [20:55<05:35,  1.41it/s]\u001b[A\n",
      "Epoch 1:  79%|███████▉  | 1779/2252 [20:55<05:34,  1.41it/s]\u001b[A\n",
      "Epoch 1:  79%|███████▉  | 1780/2252 [20:56<05:33,  1.41it/s]\u001b[A"
     ]
    },
    {
     "name": "stdout",
     "output_type": "stream",
     "text": [
      "Processed batch 1781/2252\n"
     ]
    },
    {
     "name": "stderr",
     "output_type": "stream",
     "text": [
      "\n",
      "Epoch 1:  79%|███████▉  | 1781/2252 [20:57<05:33,  1.41it/s]\u001b[A\n",
      "Epoch 1:  79%|███████▉  | 1782/2252 [20:58<05:32,  1.41it/s]\u001b[A\n",
      "Epoch 1:  79%|███████▉  | 1783/2252 [20:58<05:31,  1.41it/s]\u001b[A\n",
      "Epoch 1:  79%|███████▉  | 1784/2252 [20:59<05:31,  1.41it/s]\u001b[A\n",
      "Epoch 1:  79%|███████▉  | 1785/2252 [21:00<05:31,  1.41it/s]\u001b[A\n",
      "Epoch 1:  79%|███████▉  | 1786/2252 [21:00<05:29,  1.41it/s]\u001b[A\n",
      "Epoch 1:  79%|███████▉  | 1787/2252 [21:01<05:28,  1.41it/s]\u001b[A\n",
      "Epoch 1:  79%|███████▉  | 1788/2252 [21:02<05:28,  1.41it/s]\u001b[A\n",
      "Epoch 1:  79%|███████▉  | 1789/2252 [21:03<05:27,  1.41it/s]\u001b[A\n",
      "Epoch 1:  79%|███████▉  | 1790/2252 [21:03<05:27,  1.41it/s]\u001b[A"
     ]
    },
    {
     "name": "stdout",
     "output_type": "stream",
     "text": [
      "Processed batch 1791/2252\n"
     ]
    },
    {
     "name": "stderr",
     "output_type": "stream",
     "text": [
      "\n",
      "Epoch 1:  80%|███████▉  | 1791/2252 [21:04<05:26,  1.41it/s]\u001b[A\n",
      "Epoch 1:  80%|███████▉  | 1792/2252 [21:05<05:25,  1.41it/s]\u001b[A\n",
      "Epoch 1:  80%|███████▉  | 1793/2252 [21:05<05:24,  1.41it/s]\u001b[A\n",
      "Epoch 1:  80%|███████▉  | 1794/2252 [21:06<05:24,  1.41it/s]\u001b[A\n",
      "Epoch 1:  80%|███████▉  | 1795/2252 [21:07<05:23,  1.41it/s]\u001b[A\n",
      "Epoch 1:  80%|███████▉  | 1796/2252 [21:08<05:22,  1.41it/s]\u001b[A\n",
      "Epoch 1:  80%|███████▉  | 1797/2252 [21:08<05:21,  1.41it/s]\u001b[A\n",
      "Epoch 1:  80%|███████▉  | 1798/2252 [21:09<05:21,  1.41it/s]\u001b[A\n",
      "Epoch 1:  80%|███████▉  | 1799/2252 [21:10<05:20,  1.41it/s]\u001b[A\n",
      "Epoch 1:  80%|███████▉  | 1800/2252 [21:10<05:19,  1.41it/s]\u001b[A"
     ]
    },
    {
     "name": "stdout",
     "output_type": "stream",
     "text": [
      "Processed batch 1801/2252\n"
     ]
    },
    {
     "name": "stderr",
     "output_type": "stream",
     "text": [
      "\n",
      "Epoch 1:  80%|███████▉  | 1801/2252 [21:11<05:18,  1.41it/s]\u001b[A\n",
      "Epoch 1:  80%|████████  | 1802/2252 [21:12<05:18,  1.41it/s]\u001b[A\n",
      "Epoch 1:  80%|████████  | 1803/2252 [21:12<05:17,  1.41it/s]\u001b[A\n",
      "Epoch 1:  80%|████████  | 1804/2252 [21:13<05:17,  1.41it/s]\u001b[A\n",
      "Epoch 1:  80%|████████  | 1805/2252 [21:14<05:16,  1.41it/s]\u001b[A\n",
      "Epoch 1:  80%|████████  | 1806/2252 [21:15<05:16,  1.41it/s]\u001b[A\n",
      "Epoch 1:  80%|████████  | 1807/2252 [21:15<05:16,  1.41it/s]\u001b[A\n",
      "Epoch 1:  80%|████████  | 1808/2252 [21:16<05:15,  1.41it/s]\u001b[A\n",
      "Epoch 1:  80%|████████  | 1809/2252 [21:17<05:13,  1.41it/s]\u001b[A\n",
      "Epoch 1:  80%|████████  | 1810/2252 [21:17<05:14,  1.41it/s]\u001b[A"
     ]
    },
    {
     "name": "stdout",
     "output_type": "stream",
     "text": [
      "Processed batch 1811/2252\n"
     ]
    },
    {
     "name": "stderr",
     "output_type": "stream",
     "text": [
      "\n",
      "Epoch 1:  80%|████████  | 1811/2252 [21:18<05:12,  1.41it/s]\u001b[A\n",
      "Epoch 1:  80%|████████  | 1812/2252 [21:19<05:11,  1.41it/s]\u001b[A\n",
      "Epoch 1:  81%|████████  | 1813/2252 [21:20<05:10,  1.41it/s]\u001b[A\n",
      "Epoch 1:  81%|████████  | 1814/2252 [21:20<05:09,  1.42it/s]\u001b[A\n",
      "Epoch 1:  81%|████████  | 1815/2252 [21:21<05:08,  1.41it/s]\u001b[A\n",
      "Epoch 1:  81%|████████  | 1816/2252 [21:22<05:08,  1.41it/s]\u001b[A\n",
      "Epoch 1:  81%|████████  | 1817/2252 [21:22<05:07,  1.41it/s]\u001b[A\n",
      "Epoch 1:  81%|████████  | 1818/2252 [21:23<05:06,  1.41it/s]\u001b[A\n",
      "Epoch 1:  81%|████████  | 1819/2252 [21:24<05:06,  1.41it/s]\u001b[A\n",
      "Epoch 1:  81%|████████  | 1820/2252 [21:25<05:05,  1.41it/s]\u001b[A"
     ]
    },
    {
     "name": "stdout",
     "output_type": "stream",
     "text": [
      "Processed batch 1821/2252\n"
     ]
    },
    {
     "name": "stderr",
     "output_type": "stream",
     "text": [
      "\n",
      "Epoch 1:  81%|████████  | 1821/2252 [21:25<05:04,  1.41it/s]\u001b[A\n",
      "Epoch 1:  81%|████████  | 1822/2252 [21:26<05:04,  1.41it/s]\u001b[A\n",
      "Epoch 1:  81%|████████  | 1823/2252 [21:27<05:03,  1.41it/s]\u001b[A\n",
      "Epoch 1:  81%|████████  | 1824/2252 [21:27<05:02,  1.42it/s]\u001b[A\n",
      "Epoch 1:  81%|████████  | 1825/2252 [21:28<05:02,  1.41it/s]\u001b[A\n",
      "Epoch 1:  81%|████████  | 1826/2252 [21:29<05:01,  1.41it/s]\u001b[A\n",
      "Epoch 1:  81%|████████  | 1827/2252 [21:29<05:00,  1.41it/s]\u001b[A\n",
      "Epoch 1:  81%|████████  | 1828/2252 [21:30<04:59,  1.41it/s]\u001b[A\n",
      "Epoch 1:  81%|████████  | 1829/2252 [21:31<04:59,  1.41it/s]\u001b[A\n",
      "Epoch 1:  81%|████████▏ | 1830/2252 [21:32<04:58,  1.41it/s]\u001b[A"
     ]
    },
    {
     "name": "stdout",
     "output_type": "stream",
     "text": [
      "Processed batch 1831/2252\n"
     ]
    },
    {
     "name": "stderr",
     "output_type": "stream",
     "text": [
      "\n",
      "Epoch 1:  81%|████████▏ | 1831/2252 [21:32<04:58,  1.41it/s]\u001b[A\n",
      "Epoch 1:  81%|████████▏ | 1832/2252 [21:33<04:57,  1.41it/s]\u001b[A\n",
      "Epoch 1:  81%|████████▏ | 1833/2252 [21:34<04:57,  1.41it/s]\u001b[A\n",
      "Epoch 1:  81%|████████▏ | 1834/2252 [21:34<04:56,  1.41it/s]\u001b[A\n",
      "Epoch 1:  81%|████████▏ | 1835/2252 [21:35<04:56,  1.41it/s]\u001b[A\n",
      "Epoch 1:  82%|████████▏ | 1836/2252 [21:36<04:54,  1.41it/s]\u001b[A\n",
      "Epoch 1:  82%|████████▏ | 1837/2252 [21:37<04:54,  1.41it/s]\u001b[A\n",
      "Epoch 1:  82%|████████▏ | 1838/2252 [21:37<04:53,  1.41it/s]\u001b[A\n",
      "Epoch 1:  82%|████████▏ | 1839/2252 [21:38<04:52,  1.41it/s]\u001b[A\n",
      "Epoch 1:  82%|████████▏ | 1840/2252 [21:39<04:52,  1.41it/s]\u001b[A"
     ]
    },
    {
     "name": "stdout",
     "output_type": "stream",
     "text": [
      "Processed batch 1841/2252\n"
     ]
    },
    {
     "name": "stderr",
     "output_type": "stream",
     "text": [
      "\n",
      "Epoch 1:  82%|████████▏ | 1841/2252 [21:39<04:51,  1.41it/s]\u001b[A\n",
      "Epoch 1:  82%|████████▏ | 1842/2252 [21:40<04:51,  1.41it/s]\u001b[A\n",
      "Epoch 1:  82%|████████▏ | 1843/2252 [21:41<04:50,  1.41it/s]\u001b[A\n",
      "Epoch 1:  82%|████████▏ | 1844/2252 [21:42<04:49,  1.41it/s]\u001b[A\n",
      "Epoch 1:  82%|████████▏ | 1845/2252 [21:42<04:48,  1.41it/s]\u001b[A\n",
      "Epoch 1:  82%|████████▏ | 1846/2252 [21:43<04:48,  1.41it/s]\u001b[A\n",
      "Epoch 1:  82%|████████▏ | 1847/2252 [21:44<04:47,  1.41it/s]\u001b[A\n",
      "Epoch 1:  82%|████████▏ | 1848/2252 [21:44<04:46,  1.41it/s]\u001b[A\n",
      "Epoch 1:  82%|████████▏ | 1849/2252 [21:45<04:45,  1.41it/s]\u001b[A\n",
      "Epoch 1:  82%|████████▏ | 1850/2252 [21:46<04:45,  1.41it/s]\u001b[A"
     ]
    },
    {
     "name": "stdout",
     "output_type": "stream",
     "text": [
      "Processed batch 1851/2252\n"
     ]
    },
    {
     "name": "stderr",
     "output_type": "stream",
     "text": [
      "\n",
      "Epoch 1:  82%|████████▏ | 1851/2252 [21:46<04:44,  1.41it/s]\u001b[A\n",
      "Epoch 1:  82%|████████▏ | 1852/2252 [21:47<04:43,  1.41it/s]\u001b[A\n",
      "Epoch 1:  82%|████████▏ | 1853/2252 [21:48<04:42,  1.41it/s]\u001b[A\n",
      "Epoch 1:  82%|████████▏ | 1854/2252 [21:49<04:42,  1.41it/s]\u001b[A\n",
      "Epoch 1:  82%|████████▏ | 1855/2252 [21:49<04:41,  1.41it/s]\u001b[A\n",
      "Epoch 1:  82%|████████▏ | 1856/2252 [21:50<04:40,  1.41it/s]\u001b[A\n",
      "Epoch 1:  82%|████████▏ | 1857/2252 [21:51<04:40,  1.41it/s]\u001b[A\n",
      "Epoch 1:  83%|████████▎ | 1858/2252 [21:51<04:39,  1.41it/s]\u001b[A\n",
      "Epoch 1:  83%|████████▎ | 1859/2252 [21:52<04:38,  1.41it/s]\u001b[A\n",
      "Epoch 1:  83%|████████▎ | 1860/2252 [21:53<04:37,  1.41it/s]\u001b[A"
     ]
    },
    {
     "name": "stdout",
     "output_type": "stream",
     "text": [
      "Processed batch 1861/2252\n"
     ]
    },
    {
     "name": "stderr",
     "output_type": "stream",
     "text": [
      "\n",
      "Epoch 1:  83%|████████▎ | 1861/2252 [21:54<04:37,  1.41it/s]\u001b[A\n",
      "Epoch 1:  83%|████████▎ | 1862/2252 [21:54<04:36,  1.41it/s]\u001b[A\n",
      "Epoch 1:  83%|████████▎ | 1863/2252 [21:55<04:35,  1.41it/s]\u001b[A\n",
      "Epoch 1:  83%|████████▎ | 1864/2252 [21:56<04:34,  1.41it/s]\u001b[A\n",
      "Epoch 1:  83%|████████▎ | 1865/2252 [21:56<04:33,  1.41it/s]\u001b[A\n",
      "Epoch 1:  83%|████████▎ | 1866/2252 [21:57<04:32,  1.41it/s]\u001b[A\n",
      "Epoch 1:  83%|████████▎ | 1867/2252 [21:58<04:32,  1.41it/s]\u001b[A\n",
      "Epoch 1:  83%|████████▎ | 1868/2252 [21:59<04:31,  1.41it/s]\u001b[A\n",
      "Epoch 1:  83%|████████▎ | 1869/2252 [21:59<04:31,  1.41it/s]\u001b[A\n",
      "Epoch 1:  83%|████████▎ | 1870/2252 [22:00<04:30,  1.41it/s]\u001b[A"
     ]
    },
    {
     "name": "stdout",
     "output_type": "stream",
     "text": [
      "Processed batch 1871/2252\n"
     ]
    },
    {
     "name": "stderr",
     "output_type": "stream",
     "text": [
      "\n",
      "Epoch 1:  83%|████████▎ | 1871/2252 [22:01<04:29,  1.41it/s]\u001b[A\n",
      "Epoch 1:  83%|████████▎ | 1872/2252 [22:01<04:29,  1.41it/s]\u001b[A\n",
      "Epoch 1:  83%|████████▎ | 1873/2252 [22:02<04:28,  1.41it/s]\u001b[A\n",
      "Epoch 1:  83%|████████▎ | 1874/2252 [22:03<04:27,  1.41it/s]\u001b[A\n",
      "Epoch 1:  83%|████████▎ | 1875/2252 [22:03<04:26,  1.41it/s]\u001b[A\n",
      "Epoch 1:  83%|████████▎ | 1876/2252 [22:04<04:26,  1.41it/s]\u001b[A\n",
      "Epoch 1:  83%|████████▎ | 1877/2252 [22:05<04:25,  1.41it/s]\u001b[A\n",
      "Epoch 1:  83%|████████▎ | 1878/2252 [22:06<04:24,  1.41it/s]\u001b[A\n",
      "Epoch 1:  83%|████████▎ | 1879/2252 [22:06<04:24,  1.41it/s]\u001b[A\n",
      "Epoch 1:  83%|████████▎ | 1880/2252 [22:07<04:23,  1.41it/s]\u001b[A"
     ]
    },
    {
     "name": "stdout",
     "output_type": "stream",
     "text": [
      "Processed batch 1881/2252\n"
     ]
    },
    {
     "name": "stderr",
     "output_type": "stream",
     "text": [
      "\n",
      "Epoch 1:  84%|████████▎ | 1881/2252 [22:08<04:22,  1.41it/s]\u001b[A\n",
      "Epoch 1:  84%|████████▎ | 1882/2252 [22:08<04:21,  1.41it/s]\u001b[A\n",
      "Epoch 1:  84%|████████▎ | 1883/2252 [22:09<04:21,  1.41it/s]\u001b[A\n",
      "Epoch 1:  84%|████████▎ | 1884/2252 [22:10<04:20,  1.41it/s]\u001b[A\n",
      "Epoch 1:  84%|████████▎ | 1885/2252 [22:11<04:20,  1.41it/s]\u001b[A\n",
      "Epoch 1:  84%|████████▎ | 1886/2252 [22:11<04:19,  1.41it/s]\u001b[A\n",
      "Epoch 1:  84%|████████▍ | 1887/2252 [22:12<04:18,  1.41it/s]\u001b[A\n",
      "Epoch 1:  84%|████████▍ | 1888/2252 [22:13<04:18,  1.41it/s]\u001b[A\n",
      "Epoch 1:  84%|████████▍ | 1889/2252 [22:13<04:17,  1.41it/s]\u001b[A\n",
      "Epoch 1:  84%|████████▍ | 1890/2252 [22:14<04:16,  1.41it/s]\u001b[A"
     ]
    },
    {
     "name": "stdout",
     "output_type": "stream",
     "text": [
      "Processed batch 1891/2252\n"
     ]
    },
    {
     "name": "stderr",
     "output_type": "stream",
     "text": [
      "\n",
      "Epoch 1:  84%|████████▍ | 1891/2252 [22:15<04:16,  1.41it/s]\u001b[A\n",
      "Epoch 1:  84%|████████▍ | 1892/2252 [22:16<04:15,  1.41it/s]\u001b[A\n",
      "Epoch 1:  84%|████████▍ | 1893/2252 [22:16<04:14,  1.41it/s]\u001b[A\n",
      "Epoch 1:  84%|████████▍ | 1894/2252 [22:17<04:13,  1.41it/s]\u001b[A\n",
      "Epoch 1:  84%|████████▍ | 1895/2252 [22:18<04:13,  1.41it/s]\u001b[A\n",
      "Epoch 1:  84%|████████▍ | 1896/2252 [22:18<04:12,  1.41it/s]\u001b[A\n",
      "Epoch 1:  84%|████████▍ | 1897/2252 [22:19<04:11,  1.41it/s]\u001b[A\n",
      "Epoch 1:  84%|████████▍ | 1898/2252 [22:20<04:10,  1.41it/s]\u001b[A\n",
      "Epoch 1:  84%|████████▍ | 1899/2252 [22:20<04:09,  1.42it/s]\u001b[A\n",
      "Epoch 1:  84%|████████▍ | 1900/2252 [22:21<04:08,  1.41it/s]\u001b[A"
     ]
    },
    {
     "name": "stdout",
     "output_type": "stream",
     "text": [
      "Processed batch 1901/2252\n"
     ]
    },
    {
     "name": "stderr",
     "output_type": "stream",
     "text": [
      "\n",
      "Epoch 1:  84%|████████▍ | 1901/2252 [22:22<04:08,  1.41it/s]\u001b[A\n",
      "Epoch 1:  84%|████████▍ | 1902/2252 [22:23<04:07,  1.41it/s]\u001b[A\n",
      "Epoch 1:  85%|████████▍ | 1903/2252 [22:23<04:07,  1.41it/s]\u001b[A\n",
      "Epoch 1:  85%|████████▍ | 1904/2252 [22:24<04:06,  1.41it/s]\u001b[A\n",
      "Epoch 1:  85%|████████▍ | 1905/2252 [22:25<04:06,  1.41it/s]\u001b[A\n",
      "Epoch 1:  85%|████████▍ | 1906/2252 [22:25<04:05,  1.41it/s]\u001b[A\n",
      "Epoch 1:  85%|████████▍ | 1907/2252 [22:26<04:04,  1.41it/s]\u001b[A\n",
      "Epoch 1:  85%|████████▍ | 1908/2252 [22:27<04:03,  1.41it/s]\u001b[A\n",
      "Epoch 1:  85%|████████▍ | 1909/2252 [22:28<04:03,  1.41it/s]\u001b[A\n",
      "Epoch 1:  85%|████████▍ | 1910/2252 [22:28<04:02,  1.41it/s]\u001b[A"
     ]
    },
    {
     "name": "stdout",
     "output_type": "stream",
     "text": [
      "Processed batch 1911/2252\n"
     ]
    },
    {
     "name": "stderr",
     "output_type": "stream",
     "text": [
      "\n",
      "Epoch 1:  85%|████████▍ | 1911/2252 [22:29<04:01,  1.41it/s]\u001b[A\n",
      "Epoch 1:  85%|████████▍ | 1912/2252 [22:30<04:00,  1.41it/s]\u001b[A\n",
      "Epoch 1:  85%|████████▍ | 1913/2252 [22:30<03:59,  1.41it/s]\u001b[A\n",
      "Epoch 1:  85%|████████▍ | 1914/2252 [22:31<03:59,  1.41it/s]\u001b[A\n",
      "Epoch 1:  85%|████████▌ | 1915/2252 [22:32<03:58,  1.41it/s]\u001b[A\n",
      "Epoch 1:  85%|████████▌ | 1916/2252 [22:33<03:57,  1.41it/s]\u001b[A\n",
      "Epoch 1:  85%|████████▌ | 1917/2252 [22:33<03:56,  1.41it/s]\u001b[A\n",
      "Epoch 1:  85%|████████▌ | 1918/2252 [22:34<03:56,  1.41it/s]\u001b[A\n",
      "Epoch 1:  85%|████████▌ | 1919/2252 [22:35<03:56,  1.41it/s]\u001b[A\n",
      "Epoch 1:  85%|████████▌ | 1920/2252 [22:35<03:55,  1.41it/s]\u001b[A"
     ]
    },
    {
     "name": "stdout",
     "output_type": "stream",
     "text": [
      "Processed batch 1921/2252\n"
     ]
    },
    {
     "name": "stderr",
     "output_type": "stream",
     "text": [
      "\n",
      "Epoch 1:  85%|████████▌ | 1921/2252 [22:36<03:54,  1.41it/s]\u001b[A\n",
      "Epoch 1:  85%|████████▌ | 1922/2252 [22:37<03:53,  1.41it/s]\u001b[A\n",
      "Epoch 1:  85%|████████▌ | 1923/2252 [22:37<03:53,  1.41it/s]\u001b[A\n",
      "Epoch 1:  85%|████████▌ | 1924/2252 [22:38<03:52,  1.41it/s]\u001b[A\n",
      "Epoch 1:  85%|████████▌ | 1925/2252 [22:39<03:51,  1.41it/s]\u001b[A\n",
      "Epoch 1:  86%|████████▌ | 1926/2252 [22:40<03:50,  1.41it/s]\u001b[A\n",
      "Epoch 1:  86%|████████▌ | 1927/2252 [22:40<03:50,  1.41it/s]\u001b[A\n",
      "Epoch 1:  86%|████████▌ | 1928/2252 [22:41<03:49,  1.41it/s]\u001b[A\n",
      "Epoch 1:  86%|████████▌ | 1929/2252 [22:42<03:49,  1.41it/s]\u001b[A\n",
      "Epoch 1:  86%|████████▌ | 1930/2252 [22:42<03:47,  1.41it/s]\u001b[A"
     ]
    },
    {
     "name": "stdout",
     "output_type": "stream",
     "text": [
      "Processed batch 1931/2252\n"
     ]
    },
    {
     "name": "stderr",
     "output_type": "stream",
     "text": [
      "\n",
      "Epoch 1:  86%|████████▌ | 1931/2252 [22:43<03:47,  1.41it/s]\u001b[A\n",
      "Epoch 1:  86%|████████▌ | 1932/2252 [22:44<03:47,  1.41it/s]\u001b[A\n",
      "Epoch 1:  86%|████████▌ | 1933/2252 [22:45<03:45,  1.41it/s]\u001b[A\n",
      "Epoch 1:  86%|████████▌ | 1934/2252 [22:45<03:45,  1.41it/s]\u001b[A\n",
      "Epoch 1:  86%|████████▌ | 1935/2252 [22:46<03:44,  1.41it/s]\u001b[A\n",
      "Epoch 1:  86%|████████▌ | 1936/2252 [22:47<03:43,  1.41it/s]\u001b[A\n",
      "Epoch 1:  86%|████████▌ | 1937/2252 [22:47<03:42,  1.41it/s]\u001b[A\n",
      "Epoch 1:  86%|████████▌ | 1938/2252 [22:48<03:42,  1.41it/s]\u001b[A\n",
      "Epoch 1:  86%|████████▌ | 1939/2252 [22:49<03:41,  1.41it/s]\u001b[A\n",
      "Epoch 1:  86%|████████▌ | 1940/2252 [22:50<03:40,  1.41it/s]\u001b[A"
     ]
    },
    {
     "name": "stdout",
     "output_type": "stream",
     "text": [
      "Processed batch 1941/2252\n"
     ]
    },
    {
     "name": "stderr",
     "output_type": "stream",
     "text": [
      "\n",
      "Epoch 1:  86%|████████▌ | 1941/2252 [22:50<03:40,  1.41it/s]\u001b[A\n",
      "Epoch 1:  86%|████████▌ | 1942/2252 [22:51<03:39,  1.41it/s]\u001b[A\n",
      "Epoch 1:  86%|████████▋ | 1943/2252 [22:52<03:39,  1.41it/s]\u001b[A\n",
      "Epoch 1:  86%|████████▋ | 1944/2252 [22:52<03:38,  1.41it/s]\u001b[A\n",
      "Epoch 1:  86%|████████▋ | 1945/2252 [22:53<03:37,  1.41it/s]\u001b[A\n",
      "Epoch 1:  86%|████████▋ | 1946/2252 [22:54<03:36,  1.41it/s]\u001b[A\n",
      "Epoch 1:  86%|████████▋ | 1947/2252 [22:54<03:35,  1.41it/s]\u001b[A\n",
      "Epoch 1:  87%|████████▋ | 1948/2252 [22:55<03:35,  1.41it/s]\u001b[A\n",
      "Epoch 1:  87%|████████▋ | 1949/2252 [22:56<03:34,  1.41it/s]\u001b[A\n",
      "Epoch 1:  87%|████████▋ | 1950/2252 [22:57<03:34,  1.41it/s]\u001b[A"
     ]
    },
    {
     "name": "stdout",
     "output_type": "stream",
     "text": [
      "Processed batch 1951/2252\n"
     ]
    },
    {
     "name": "stderr",
     "output_type": "stream",
     "text": [
      "\n",
      "Epoch 1:  87%|████████▋ | 1951/2252 [22:57<03:32,  1.42it/s]\u001b[A\n",
      "Epoch 1:  87%|████████▋ | 1952/2252 [22:58<03:32,  1.41it/s]\u001b[A\n",
      "Epoch 1:  87%|████████▋ | 1953/2252 [22:59<03:31,  1.41it/s]\u001b[A\n",
      "Epoch 1:  87%|████████▋ | 1954/2252 [22:59<03:30,  1.42it/s]\u001b[A\n",
      "Epoch 1:  87%|████████▋ | 1955/2252 [23:00<03:29,  1.42it/s]\u001b[A\n",
      "Epoch 1:  87%|████████▋ | 1956/2252 [23:01<03:29,  1.41it/s]\u001b[A\n",
      "Epoch 1:  87%|████████▋ | 1957/2252 [23:02<03:28,  1.41it/s]\u001b[A\n",
      "Epoch 1:  87%|████████▋ | 1958/2252 [23:02<03:27,  1.42it/s]\u001b[A\n",
      "Epoch 1:  87%|████████▋ | 1959/2252 [23:03<03:27,  1.42it/s]\u001b[A\n",
      "Epoch 1:  87%|████████▋ | 1960/2252 [23:04<03:26,  1.41it/s]\u001b[A"
     ]
    },
    {
     "name": "stdout",
     "output_type": "stream",
     "text": [
      "Processed batch 1961/2252\n"
     ]
    },
    {
     "name": "stderr",
     "output_type": "stream",
     "text": [
      "\n",
      "Epoch 1:  87%|████████▋ | 1961/2252 [23:04<03:25,  1.41it/s]\u001b[A\n",
      "Epoch 1:  87%|████████▋ | 1962/2252 [23:05<03:25,  1.41it/s]\u001b[A\n",
      "Epoch 1:  87%|████████▋ | 1963/2252 [23:06<03:24,  1.41it/s]\u001b[A\n",
      "Epoch 1:  87%|████████▋ | 1964/2252 [23:06<03:23,  1.41it/s]\u001b[A\n",
      "Epoch 1:  87%|████████▋ | 1965/2252 [23:07<03:23,  1.41it/s]\u001b[A\n",
      "Epoch 1:  87%|████████▋ | 1966/2252 [23:08<03:22,  1.41it/s]\u001b[A\n",
      "Epoch 1:  87%|████████▋ | 1967/2252 [23:09<03:21,  1.41it/s]\u001b[A\n",
      "Epoch 1:  87%|████████▋ | 1968/2252 [23:09<03:20,  1.41it/s]\u001b[A\n",
      "Epoch 1:  87%|████████▋ | 1969/2252 [23:10<03:20,  1.41it/s]\u001b[A\n",
      "Epoch 1:  87%|████████▋ | 1970/2252 [23:11<03:19,  1.41it/s]\u001b[A"
     ]
    },
    {
     "name": "stdout",
     "output_type": "stream",
     "text": [
      "Processed batch 1971/2252\n"
     ]
    },
    {
     "name": "stderr",
     "output_type": "stream",
     "text": [
      "\n",
      "Epoch 1:  88%|████████▊ | 1971/2252 [23:11<03:18,  1.41it/s]\u001b[A\n",
      "Epoch 1:  88%|████████▊ | 1972/2252 [23:12<03:17,  1.41it/s]\u001b[A\n",
      "Epoch 1:  88%|████████▊ | 1973/2252 [23:13<03:17,  1.41it/s]\u001b[A\n",
      "Epoch 1:  88%|████████▊ | 1974/2252 [23:14<03:16,  1.41it/s]\u001b[A\n",
      "Epoch 1:  88%|████████▊ | 1975/2252 [23:14<03:16,  1.41it/s]\u001b[A\n",
      "Epoch 1:  88%|████████▊ | 1976/2252 [23:15<03:15,  1.41it/s]\u001b[A\n",
      "Epoch 1:  88%|████████▊ | 1977/2252 [23:16<03:14,  1.41it/s]\u001b[A\n",
      "Epoch 1:  88%|████████▊ | 1978/2252 [23:16<03:13,  1.41it/s]\u001b[A\n",
      "Epoch 1:  88%|████████▊ | 1979/2252 [23:17<03:13,  1.41it/s]\u001b[A\n",
      "Epoch 1:  88%|████████▊ | 1980/2252 [23:18<03:12,  1.41it/s]\u001b[A"
     ]
    },
    {
     "name": "stdout",
     "output_type": "stream",
     "text": [
      "Processed batch 1981/2252\n"
     ]
    },
    {
     "name": "stderr",
     "output_type": "stream",
     "text": [
      "\n",
      "Epoch 1:  88%|████████▊ | 1981/2252 [23:19<03:11,  1.41it/s]\u001b[A\n",
      "Epoch 1:  88%|████████▊ | 1982/2252 [23:19<03:11,  1.41it/s]\u001b[A\n",
      "Epoch 1:  88%|████████▊ | 1983/2252 [23:20<03:11,  1.41it/s]\u001b[A\n",
      "Epoch 1:  88%|████████▊ | 1984/2252 [23:21<03:09,  1.41it/s]\u001b[A\n",
      "Epoch 1:  88%|████████▊ | 1985/2252 [23:21<03:09,  1.41it/s]\u001b[A\n",
      "Epoch 1:  88%|████████▊ | 1986/2252 [23:22<03:08,  1.41it/s]\u001b[A\n",
      "Epoch 1:  88%|████████▊ | 1987/2252 [23:23<03:08,  1.41it/s]\u001b[A\n",
      "Epoch 1:  88%|████████▊ | 1988/2252 [23:24<03:07,  1.41it/s]\u001b[A\n",
      "Epoch 1:  88%|████████▊ | 1989/2252 [23:24<03:06,  1.41it/s]\u001b[A\n",
      "Epoch 1:  88%|████████▊ | 1990/2252 [23:25<03:06,  1.41it/s]\u001b[A"
     ]
    },
    {
     "name": "stdout",
     "output_type": "stream",
     "text": [
      "Processed batch 1991/2252\n"
     ]
    },
    {
     "name": "stderr",
     "output_type": "stream",
     "text": [
      "\n",
      "Epoch 1:  88%|████████▊ | 1991/2252 [23:26<03:05,  1.41it/s]\u001b[A\n",
      "Epoch 1:  88%|████████▊ | 1992/2252 [23:26<03:04,  1.41it/s]\u001b[A\n",
      "Epoch 1:  88%|████████▊ | 1993/2252 [23:27<03:03,  1.41it/s]\u001b[A\n",
      "Epoch 1:  89%|████████▊ | 1994/2252 [23:28<03:02,  1.41it/s]\u001b[A\n",
      "Epoch 1:  89%|████████▊ | 1995/2252 [23:28<03:02,  1.41it/s]\u001b[A\n",
      "Epoch 1:  89%|████████▊ | 1996/2252 [23:29<03:01,  1.41it/s]\u001b[A\n",
      "Epoch 1:  89%|████████▊ | 1997/2252 [23:30<03:00,  1.41it/s]\u001b[A\n",
      "Epoch 1:  89%|████████▊ | 1998/2252 [23:31<03:00,  1.41it/s]\u001b[A\n",
      "Epoch 1:  89%|████████▉ | 1999/2252 [23:31<02:59,  1.41it/s]\u001b[A\n",
      "Epoch 1:  89%|████████▉ | 2000/2252 [23:32<02:58,  1.41it/s]\u001b[A"
     ]
    },
    {
     "name": "stdout",
     "output_type": "stream",
     "text": [
      "Processed batch 2001/2252\n"
     ]
    },
    {
     "name": "stderr",
     "output_type": "stream",
     "text": [
      "\n",
      "Epoch 1:  89%|████████▉ | 2001/2252 [23:33<02:57,  1.41it/s]\u001b[A\n",
      "Epoch 1:  89%|████████▉ | 2002/2252 [23:33<02:56,  1.41it/s]\u001b[A\n",
      "Epoch 1:  89%|████████▉ | 2003/2252 [23:34<02:56,  1.41it/s]\u001b[A\n",
      "Epoch 1:  89%|████████▉ | 2004/2252 [23:35<02:55,  1.41it/s]\u001b[A\n",
      "Epoch 1:  89%|████████▉ | 2005/2252 [23:36<02:54,  1.41it/s]\u001b[A\n",
      "Epoch 1:  89%|████████▉ | 2006/2252 [23:36<02:54,  1.41it/s]\u001b[A\n",
      "Epoch 1:  89%|████████▉ | 2007/2252 [23:37<02:53,  1.42it/s]\u001b[A\n",
      "Epoch 1:  89%|████████▉ | 2008/2252 [23:38<02:52,  1.41it/s]\u001b[A\n",
      "Epoch 1:  89%|████████▉ | 2009/2252 [23:38<02:51,  1.41it/s]\u001b[A\n",
      "Epoch 1:  89%|████████▉ | 2010/2252 [23:39<02:51,  1.41it/s]\u001b[A"
     ]
    },
    {
     "name": "stdout",
     "output_type": "stream",
     "text": [
      "Processed batch 2011/2252\n"
     ]
    },
    {
     "name": "stderr",
     "output_type": "stream",
     "text": [
      "\n",
      "Epoch 1:  89%|████████▉ | 2011/2252 [23:40<02:51,  1.41it/s]\u001b[A\n",
      "Epoch 1:  89%|████████▉ | 2012/2252 [23:41<02:49,  1.41it/s]\u001b[A\n",
      "Epoch 1:  89%|████████▉ | 2013/2252 [23:41<02:49,  1.41it/s]\u001b[A\n",
      "Epoch 1:  89%|████████▉ | 2014/2252 [23:42<02:48,  1.41it/s]\u001b[A\n",
      "Epoch 1:  89%|████████▉ | 2015/2252 [23:43<02:48,  1.41it/s]\u001b[A\n",
      "Epoch 1:  90%|████████▉ | 2016/2252 [23:43<02:47,  1.41it/s]\u001b[A\n",
      "Epoch 1:  90%|████████▉ | 2017/2252 [23:44<02:46,  1.41it/s]\u001b[A\n",
      "Epoch 1:  90%|████████▉ | 2018/2252 [23:45<02:45,  1.41it/s]\u001b[A\n",
      "Epoch 1:  90%|████████▉ | 2019/2252 [23:45<02:45,  1.41it/s]\u001b[A\n",
      "Epoch 1:  90%|████████▉ | 2020/2252 [23:46<02:44,  1.41it/s]\u001b[A"
     ]
    },
    {
     "name": "stdout",
     "output_type": "stream",
     "text": [
      "Processed batch 2021/2252\n"
     ]
    },
    {
     "name": "stderr",
     "output_type": "stream",
     "text": [
      "\n",
      "Epoch 1:  90%|████████▉ | 2021/2252 [23:47<02:43,  1.41it/s]\u001b[A\n",
      "Epoch 1:  90%|████████▉ | 2022/2252 [23:48<02:42,  1.41it/s]\u001b[A\n",
      "Epoch 1:  90%|████████▉ | 2023/2252 [23:48<02:41,  1.41it/s]\u001b[A\n",
      "Epoch 1:  90%|████████▉ | 2024/2252 [23:49<02:41,  1.41it/s]\u001b[A\n",
      "Epoch 1:  90%|████████▉ | 2025/2252 [23:50<02:40,  1.42it/s]\u001b[A\n",
      "Epoch 1:  90%|████████▉ | 2026/2252 [23:50<02:39,  1.42it/s]\u001b[A\n",
      "Epoch 1:  90%|█████████ | 2027/2252 [23:51<02:39,  1.41it/s]\u001b[A\n",
      "Epoch 1:  90%|█████████ | 2028/2252 [23:52<02:38,  1.41it/s]\u001b[A\n",
      "Epoch 1:  90%|█████████ | 2029/2252 [23:53<02:37,  1.41it/s]\u001b[A\n",
      "Epoch 1:  90%|█████████ | 2030/2252 [23:53<02:36,  1.41it/s]\u001b[A"
     ]
    },
    {
     "name": "stdout",
     "output_type": "stream",
     "text": [
      "Processed batch 2031/2252\n"
     ]
    },
    {
     "name": "stderr",
     "output_type": "stream",
     "text": [
      "\n",
      "Epoch 1:  90%|█████████ | 2031/2252 [23:54<02:36,  1.41it/s]\u001b[A\n",
      "Epoch 1:  90%|█████████ | 2032/2252 [23:55<02:35,  1.41it/s]\u001b[A\n",
      "Epoch 1:  90%|█████████ | 2033/2252 [23:55<02:35,  1.41it/s]\u001b[A\n",
      "Epoch 1:  90%|█████████ | 2034/2252 [23:56<02:34,  1.41it/s]\u001b[A\n",
      "Epoch 1:  90%|█████████ | 2035/2252 [23:57<02:33,  1.41it/s]\u001b[A\n",
      "Epoch 1:  90%|█████████ | 2036/2252 [23:58<02:33,  1.40it/s]\u001b[A\n",
      "Epoch 1:  90%|█████████ | 2037/2252 [23:58<02:32,  1.41it/s]\u001b[A\n",
      "Epoch 1:  90%|█████████ | 2038/2252 [23:59<02:31,  1.41it/s]\u001b[A\n",
      "Epoch 1:  91%|█████████ | 2039/2252 [24:00<02:30,  1.41it/s]\u001b[A\n",
      "Epoch 1:  91%|█████████ | 2040/2252 [24:00<02:29,  1.41it/s]\u001b[A"
     ]
    },
    {
     "name": "stdout",
     "output_type": "stream",
     "text": [
      "Processed batch 2041/2252\n"
     ]
    },
    {
     "name": "stderr",
     "output_type": "stream",
     "text": [
      "\n",
      "Epoch 1:  91%|█████████ | 2041/2252 [24:01<02:29,  1.41it/s]\u001b[A\n",
      "Epoch 1:  91%|█████████ | 2042/2252 [24:02<02:28,  1.41it/s]\u001b[A\n",
      "Epoch 1:  91%|█████████ | 2043/2252 [24:02<02:27,  1.41it/s]\u001b[A\n",
      "Epoch 1:  91%|█████████ | 2044/2252 [24:03<02:27,  1.41it/s]\u001b[A\n",
      "Epoch 1:  91%|█████████ | 2045/2252 [24:04<02:26,  1.41it/s]\u001b[A\n",
      "Epoch 1:  91%|█████████ | 2046/2252 [24:05<02:26,  1.41it/s]\u001b[A\n",
      "Epoch 1:  91%|█████████ | 2047/2252 [24:05<02:25,  1.41it/s]\u001b[A\n",
      "Epoch 1:  91%|█████████ | 2048/2252 [24:06<02:24,  1.41it/s]\u001b[A\n",
      "Epoch 1:  91%|█████████ | 2049/2252 [24:07<02:24,  1.41it/s]\u001b[A\n",
      "Epoch 1:  91%|█████████ | 2050/2252 [24:07<02:23,  1.41it/s]\u001b[A"
     ]
    },
    {
     "name": "stdout",
     "output_type": "stream",
     "text": [
      "Processed batch 2051/2252\n"
     ]
    },
    {
     "name": "stderr",
     "output_type": "stream",
     "text": [
      "\n",
      "Epoch 1:  91%|█████████ | 2051/2252 [24:08<02:22,  1.41it/s]\u001b[A\n",
      "Epoch 1:  91%|█████████ | 2052/2252 [24:09<02:21,  1.41it/s]\u001b[A\n",
      "Epoch 1:  91%|█████████ | 2053/2252 [24:10<02:20,  1.41it/s]\u001b[A\n",
      "Epoch 1:  91%|█████████ | 2054/2252 [24:10<02:19,  1.41it/s]\u001b[A\n",
      "Epoch 1:  91%|█████████▏| 2055/2252 [24:11<02:19,  1.41it/s]\u001b[A\n",
      "Epoch 1:  91%|█████████▏| 2056/2252 [24:12<02:18,  1.41it/s]\u001b[A\n",
      "Epoch 1:  91%|█████████▏| 2057/2252 [24:12<02:17,  1.41it/s]\u001b[A\n",
      "Epoch 1:  91%|█████████▏| 2058/2252 [24:13<02:17,  1.41it/s]\u001b[A\n",
      "Epoch 1:  91%|█████████▏| 2059/2252 [24:14<02:16,  1.41it/s]\u001b[A\n",
      "Epoch 1:  91%|█████████▏| 2060/2252 [24:14<02:15,  1.41it/s]\u001b[A"
     ]
    },
    {
     "name": "stdout",
     "output_type": "stream",
     "text": [
      "Processed batch 2061/2252\n"
     ]
    },
    {
     "name": "stderr",
     "output_type": "stream",
     "text": [
      "\n",
      "Epoch 1:  92%|█████████▏| 2061/2252 [24:15<02:15,  1.41it/s]\u001b[A\n",
      "Epoch 1:  92%|█████████▏| 2062/2252 [24:16<02:14,  1.41it/s]\u001b[A\n",
      "Epoch 1:  92%|█████████▏| 2063/2252 [24:17<02:13,  1.41it/s]\u001b[A\n",
      "Epoch 1:  92%|█████████▏| 2064/2252 [24:17<02:13,  1.41it/s]\u001b[A\n",
      "Epoch 1:  92%|█████████▏| 2065/2252 [24:18<02:12,  1.41it/s]\u001b[A\n",
      "Epoch 1:  92%|█████████▏| 2066/2252 [24:19<02:11,  1.41it/s]\u001b[A\n",
      "Epoch 1:  92%|█████████▏| 2067/2252 [24:19<02:11,  1.41it/s]\u001b[A\n",
      "Epoch 1:  92%|█████████▏| 2068/2252 [24:20<02:10,  1.41it/s]\u001b[A\n",
      "Epoch 1:  92%|█████████▏| 2069/2252 [24:21<02:09,  1.41it/s]\u001b[A\n",
      "Epoch 1:  92%|█████████▏| 2070/2252 [24:22<02:08,  1.41it/s]\u001b[A"
     ]
    },
    {
     "name": "stdout",
     "output_type": "stream",
     "text": [
      "Processed batch 2071/2252\n"
     ]
    },
    {
     "name": "stderr",
     "output_type": "stream",
     "text": [
      "\n",
      "Epoch 1:  92%|█████████▏| 2071/2252 [24:22<02:08,  1.41it/s]\u001b[A\n",
      "Epoch 1:  92%|█████████▏| 2072/2252 [24:23<02:07,  1.41it/s]\u001b[A\n",
      "Epoch 1:  92%|█████████▏| 2073/2252 [24:24<02:06,  1.41it/s]\u001b[A\n",
      "Epoch 1:  92%|█████████▏| 2074/2252 [24:24<02:05,  1.41it/s]\u001b[A\n",
      "Epoch 1:  92%|█████████▏| 2075/2252 [24:25<02:05,  1.41it/s]\u001b[A\n",
      "Epoch 1:  92%|█████████▏| 2076/2252 [24:26<02:04,  1.41it/s]\u001b[A\n",
      "Epoch 1:  92%|█████████▏| 2077/2252 [24:27<02:03,  1.41it/s]\u001b[A\n",
      "Epoch 1:  92%|█████████▏| 2078/2252 [24:27<02:03,  1.41it/s]\u001b[A\n",
      "Epoch 1:  92%|█████████▏| 2079/2252 [24:28<02:02,  1.41it/s]\u001b[A\n",
      "Epoch 1:  92%|█████████▏| 2080/2252 [24:29<02:02,  1.41it/s]\u001b[A"
     ]
    },
    {
     "name": "stdout",
     "output_type": "stream",
     "text": [
      "Processed batch 2081/2252\n"
     ]
    },
    {
     "name": "stderr",
     "output_type": "stream",
     "text": [
      "\n",
      "Epoch 1:  92%|█████████▏| 2081/2252 [24:29<02:01,  1.41it/s]\u001b[A\n",
      "Epoch 1:  92%|█████████▏| 2082/2252 [24:30<02:00,  1.41it/s]\u001b[A\n",
      "Epoch 1:  92%|█████████▏| 2083/2252 [24:31<02:00,  1.41it/s]\u001b[A\n",
      "Epoch 1:  93%|█████████▎| 2084/2252 [24:32<01:59,  1.41it/s]\u001b[A\n",
      "Epoch 1:  93%|█████████▎| 2085/2252 [24:32<01:58,  1.41it/s]\u001b[A\n",
      "Epoch 1:  93%|█████████▎| 2086/2252 [24:33<01:57,  1.41it/s]\u001b[A\n",
      "Epoch 1:  93%|█████████▎| 2087/2252 [24:34<01:56,  1.41it/s]\u001b[A\n",
      "Epoch 1:  93%|█████████▎| 2088/2252 [24:34<01:56,  1.41it/s]\u001b[A\n",
      "Epoch 1:  93%|█████████▎| 2089/2252 [24:35<01:55,  1.41it/s]\u001b[A\n",
      "Epoch 1:  93%|█████████▎| 2090/2252 [24:36<01:54,  1.41it/s]\u001b[A"
     ]
    },
    {
     "name": "stdout",
     "output_type": "stream",
     "text": [
      "Processed batch 2091/2252\n"
     ]
    },
    {
     "name": "stderr",
     "output_type": "stream",
     "text": [
      "\n",
      "Epoch 1:  93%|█████████▎| 2091/2252 [24:36<01:54,  1.41it/s]\u001b[A\n",
      "Epoch 1:  93%|█████████▎| 2092/2252 [24:37<01:53,  1.41it/s]\u001b[A\n",
      "Epoch 1:  93%|█████████▎| 2093/2252 [24:38<01:52,  1.41it/s]\u001b[A\n",
      "Epoch 1:  93%|█████████▎| 2094/2252 [24:39<01:52,  1.41it/s]\u001b[A\n",
      "Epoch 1:  93%|█████████▎| 2095/2252 [24:39<01:51,  1.41it/s]\u001b[A\n",
      "Epoch 1:  93%|█████████▎| 2096/2252 [24:40<01:50,  1.41it/s]\u001b[A\n",
      "Epoch 1:  93%|█████████▎| 2097/2252 [24:41<01:49,  1.41it/s]\u001b[A\n",
      "Epoch 1:  93%|█████████▎| 2098/2252 [24:41<01:49,  1.41it/s]\u001b[A\n",
      "Epoch 1:  93%|█████████▎| 2099/2252 [24:42<01:48,  1.41it/s]\u001b[A\n",
      "Epoch 1:  93%|█████████▎| 2100/2252 [24:43<01:47,  1.41it/s]\u001b[A"
     ]
    },
    {
     "name": "stdout",
     "output_type": "stream",
     "text": [
      "Processed batch 2101/2252\n"
     ]
    },
    {
     "name": "stderr",
     "output_type": "stream",
     "text": [
      "\n",
      "Epoch 1:  93%|█████████▎| 2101/2252 [24:44<01:46,  1.41it/s]\u001b[A\n",
      "Epoch 1:  93%|█████████▎| 2102/2252 [24:44<01:46,  1.41it/s]\u001b[A\n",
      "Epoch 1:  93%|█████████▎| 2103/2252 [24:45<01:45,  1.41it/s]\u001b[A\n",
      "Epoch 1:  93%|█████████▎| 2104/2252 [24:46<01:44,  1.41it/s]\u001b[A\n",
      "Epoch 1:  93%|█████████▎| 2105/2252 [24:46<01:44,  1.41it/s]\u001b[A\n",
      "Epoch 1:  94%|█████████▎| 2106/2252 [24:47<01:43,  1.41it/s]\u001b[A\n",
      "Epoch 1:  94%|█████████▎| 2107/2252 [24:48<01:42,  1.41it/s]\u001b[A\n",
      "Epoch 1:  94%|█████████▎| 2108/2252 [24:49<01:42,  1.41it/s]\u001b[A\n",
      "Epoch 1:  94%|█████████▎| 2109/2252 [24:49<01:41,  1.41it/s]\u001b[A\n",
      "Epoch 1:  94%|█████████▎| 2110/2252 [24:50<01:40,  1.41it/s]\u001b[A"
     ]
    },
    {
     "name": "stdout",
     "output_type": "stream",
     "text": [
      "Processed batch 2111/2252\n"
     ]
    },
    {
     "name": "stderr",
     "output_type": "stream",
     "text": [
      "\n",
      "Epoch 1:  94%|█████████▎| 2111/2252 [24:51<01:40,  1.41it/s]\u001b[A\n",
      "Epoch 1:  94%|█████████▍| 2112/2252 [24:51<01:39,  1.41it/s]\u001b[A\n",
      "Epoch 1:  94%|█████████▍| 2113/2252 [24:52<01:38,  1.41it/s]\u001b[A\n",
      "Epoch 1:  94%|█████████▍| 2114/2252 [24:53<01:37,  1.41it/s]\u001b[A\n",
      "Epoch 1:  94%|█████████▍| 2115/2252 [24:53<01:36,  1.41it/s]\u001b[A\n",
      "Epoch 1:  94%|█████████▍| 2116/2252 [24:54<01:36,  1.41it/s]\u001b[A\n",
      "Epoch 1:  94%|█████████▍| 2117/2252 [24:55<01:35,  1.41it/s]\u001b[A\n",
      "Epoch 1:  94%|█████████▍| 2118/2252 [24:56<01:34,  1.41it/s]\u001b[A\n",
      "Epoch 1:  94%|█████████▍| 2119/2252 [24:56<01:34,  1.41it/s]\u001b[A\n",
      "Epoch 1:  94%|█████████▍| 2120/2252 [24:57<01:33,  1.41it/s]\u001b[A"
     ]
    },
    {
     "name": "stdout",
     "output_type": "stream",
     "text": [
      "Processed batch 2121/2252\n"
     ]
    },
    {
     "name": "stderr",
     "output_type": "stream",
     "text": [
      "\n",
      "Epoch 1:  94%|█████████▍| 2121/2252 [24:58<01:32,  1.41it/s]\u001b[A\n",
      "Epoch 1:  94%|█████████▍| 2122/2252 [24:58<01:31,  1.41it/s]\u001b[A\n",
      "Epoch 1:  94%|█████████▍| 2123/2252 [24:59<01:31,  1.42it/s]\u001b[A\n",
      "Epoch 1:  94%|█████████▍| 2124/2252 [25:00<01:30,  1.42it/s]\u001b[A\n",
      "Epoch 1:  94%|█████████▍| 2125/2252 [25:01<01:29,  1.41it/s]\u001b[A\n",
      "Epoch 1:  94%|█████████▍| 2126/2252 [25:01<01:29,  1.41it/s]\u001b[A\n",
      "Epoch 1:  94%|█████████▍| 2127/2252 [25:02<01:28,  1.41it/s]\u001b[A\n",
      "Epoch 1:  94%|█████████▍| 2128/2252 [25:03<01:27,  1.42it/s]\u001b[A\n",
      "Epoch 1:  95%|█████████▍| 2129/2252 [25:03<01:26,  1.42it/s]\u001b[A\n",
      "Epoch 1:  95%|█████████▍| 2130/2252 [25:04<01:26,  1.42it/s]\u001b[A"
     ]
    },
    {
     "name": "stdout",
     "output_type": "stream",
     "text": [
      "Processed batch 2131/2252\n"
     ]
    },
    {
     "name": "stderr",
     "output_type": "stream",
     "text": [
      "\n",
      "Epoch 1:  95%|█████████▍| 2131/2252 [25:05<01:25,  1.41it/s]\u001b[A\n",
      "Epoch 1:  95%|█████████▍| 2132/2252 [25:05<01:24,  1.42it/s]\u001b[A\n",
      "Epoch 1:  95%|█████████▍| 2133/2252 [25:06<01:24,  1.42it/s]\u001b[A\n",
      "Epoch 1:  95%|█████████▍| 2134/2252 [25:07<01:23,  1.42it/s]\u001b[A\n",
      "Epoch 1:  95%|█████████▍| 2135/2252 [25:08<01:22,  1.42it/s]\u001b[A\n",
      "Epoch 1:  95%|█████████▍| 2136/2252 [25:08<01:22,  1.41it/s]\u001b[A\n",
      "Epoch 1:  95%|█████████▍| 2137/2252 [25:09<01:21,  1.41it/s]\u001b[A\n",
      "Epoch 1:  95%|█████████▍| 2138/2252 [25:10<01:20,  1.41it/s]\u001b[A\n",
      "Epoch 1:  95%|█████████▍| 2139/2252 [25:10<01:19,  1.41it/s]\u001b[A\n",
      "Epoch 1:  95%|█████████▌| 2140/2252 [25:11<01:19,  1.41it/s]\u001b[A"
     ]
    },
    {
     "name": "stdout",
     "output_type": "stream",
     "text": [
      "Processed batch 2141/2252\n"
     ]
    },
    {
     "name": "stderr",
     "output_type": "stream",
     "text": [
      "\n",
      "Epoch 1:  95%|█████████▌| 2141/2252 [25:12<01:18,  1.41it/s]\u001b[A\n",
      "Epoch 1:  95%|█████████▌| 2142/2252 [25:13<01:17,  1.41it/s]\u001b[A\n",
      "Epoch 1:  95%|█████████▌| 2143/2252 [25:13<01:17,  1.42it/s]\u001b[A\n",
      "Epoch 1:  95%|█████████▌| 2144/2252 [25:14<01:16,  1.41it/s]\u001b[A\n",
      "Epoch 1:  95%|█████████▌| 2145/2252 [25:15<01:15,  1.41it/s]\u001b[A\n",
      "Epoch 1:  95%|█████████▌| 2146/2252 [25:15<01:15,  1.41it/s]\u001b[A\n",
      "Epoch 1:  95%|█████████▌| 2147/2252 [25:16<01:14,  1.41it/s]\u001b[A\n",
      "Epoch 1:  95%|█████████▌| 2148/2252 [25:17<01:13,  1.41it/s]\u001b[A\n",
      "Epoch 1:  95%|█████████▌| 2149/2252 [25:18<01:13,  1.41it/s]\u001b[A\n",
      "Epoch 1:  95%|█████████▌| 2150/2252 [25:18<01:12,  1.41it/s]\u001b[A"
     ]
    },
    {
     "name": "stdout",
     "output_type": "stream",
     "text": [
      "Processed batch 2151/2252\n"
     ]
    },
    {
     "name": "stderr",
     "output_type": "stream",
     "text": [
      "\n",
      "Epoch 1:  96%|█████████▌| 2151/2252 [25:19<01:11,  1.41it/s]\u001b[A\n",
      "Epoch 1:  96%|█████████▌| 2152/2252 [25:20<01:10,  1.41it/s]\u001b[A\n",
      "Epoch 1:  96%|█████████▌| 2153/2252 [25:20<01:10,  1.41it/s]\u001b[A\n",
      "Epoch 1:  96%|█████████▌| 2154/2252 [25:21<01:09,  1.41it/s]\u001b[A\n",
      "Epoch 1:  96%|█████████▌| 2155/2252 [25:22<01:08,  1.41it/s]\u001b[A\n",
      "Epoch 1:  96%|█████████▌| 2156/2252 [25:22<01:08,  1.41it/s]\u001b[A\n",
      "Epoch 1:  96%|█████████▌| 2157/2252 [25:23<01:07,  1.41it/s]\u001b[A\n",
      "Epoch 1:  96%|█████████▌| 2158/2252 [25:24<01:06,  1.41it/s]\u001b[A\n",
      "Epoch 1:  96%|█████████▌| 2159/2252 [25:25<01:05,  1.41it/s]\u001b[A\n",
      "Epoch 1:  96%|█████████▌| 2160/2252 [25:25<01:05,  1.41it/s]\u001b[A"
     ]
    },
    {
     "name": "stdout",
     "output_type": "stream",
     "text": [
      "Processed batch 2161/2252\n"
     ]
    },
    {
     "name": "stderr",
     "output_type": "stream",
     "text": [
      "\n",
      "Epoch 1:  96%|█████████▌| 2161/2252 [25:26<01:04,  1.41it/s]\u001b[A\n",
      "Epoch 1:  96%|█████████▌| 2162/2252 [25:27<01:03,  1.41it/s]\u001b[A\n",
      "Epoch 1:  96%|█████████▌| 2163/2252 [25:27<01:02,  1.41it/s]\u001b[A\n",
      "Epoch 1:  96%|█████████▌| 2164/2252 [25:28<01:02,  1.41it/s]\u001b[A\n",
      "Epoch 1:  96%|█████████▌| 2165/2252 [25:29<01:01,  1.41it/s]\u001b[A\n",
      "Epoch 1:  96%|█████████▌| 2166/2252 [25:30<01:00,  1.41it/s]\u001b[A\n",
      "Epoch 1:  96%|█████████▌| 2167/2252 [25:30<01:00,  1.41it/s]\u001b[A\n",
      "Epoch 1:  96%|█████████▋| 2168/2252 [25:31<00:59,  1.41it/s]\u001b[A\n",
      "Epoch 1:  96%|█████████▋| 2169/2252 [25:32<00:58,  1.41it/s]\u001b[A\n",
      "Epoch 1:  96%|█████████▋| 2170/2252 [25:32<00:58,  1.41it/s]\u001b[A"
     ]
    },
    {
     "name": "stdout",
     "output_type": "stream",
     "text": [
      "Processed batch 2171/2252\n"
     ]
    },
    {
     "name": "stderr",
     "output_type": "stream",
     "text": [
      "\n",
      "Epoch 1:  96%|█████████▋| 2171/2252 [25:33<00:57,  1.41it/s]\u001b[A\n",
      "Epoch 1:  96%|█████████▋| 2172/2252 [25:34<00:56,  1.41it/s]\u001b[A\n",
      "Epoch 1:  96%|█████████▋| 2173/2252 [25:35<00:55,  1.41it/s]\u001b[A\n",
      "Epoch 1:  97%|█████████▋| 2174/2252 [25:35<00:55,  1.41it/s]\u001b[A\n",
      "Epoch 1:  97%|█████████▋| 2175/2252 [25:36<00:54,  1.41it/s]\u001b[A\n",
      "Epoch 1:  97%|█████████▋| 2176/2252 [25:37<00:53,  1.41it/s]\u001b[A\n",
      "Epoch 1:  97%|█████████▋| 2177/2252 [25:37<00:53,  1.41it/s]\u001b[A\n",
      "Epoch 1:  97%|█████████▋| 2178/2252 [25:38<00:52,  1.41it/s]\u001b[A\n",
      "Epoch 1:  97%|█████████▋| 2179/2252 [25:39<00:51,  1.41it/s]\u001b[A\n",
      "Epoch 1:  97%|█████████▋| 2180/2252 [25:39<00:51,  1.41it/s]\u001b[A"
     ]
    },
    {
     "name": "stdout",
     "output_type": "stream",
     "text": [
      "Processed batch 2181/2252\n"
     ]
    },
    {
     "name": "stderr",
     "output_type": "stream",
     "text": [
      "\n",
      "Epoch 1:  97%|█████████▋| 2181/2252 [25:40<00:50,  1.42it/s]\u001b[A\n",
      "Epoch 1:  97%|█████████▋| 2182/2252 [25:41<00:49,  1.42it/s]\u001b[A\n",
      "Epoch 1:  97%|█████████▋| 2183/2252 [25:42<00:48,  1.41it/s]\u001b[A\n",
      "Epoch 1:  97%|█████████▋| 2184/2252 [25:42<00:48,  1.41it/s]\u001b[A\n",
      "Epoch 1:  97%|█████████▋| 2185/2252 [25:43<00:47,  1.41it/s]\u001b[A\n",
      "Epoch 1:  97%|█████████▋| 2186/2252 [25:44<00:46,  1.41it/s]\u001b[A\n",
      "Epoch 1:  97%|█████████▋| 2187/2252 [25:44<00:45,  1.41it/s]\u001b[A\n",
      "Epoch 1:  97%|█████████▋| 2188/2252 [25:45<00:45,  1.41it/s]\u001b[A\n",
      "Epoch 1:  97%|█████████▋| 2189/2252 [25:46<00:44,  1.41it/s]\u001b[A\n",
      "Epoch 1:  97%|█████████▋| 2190/2252 [25:47<00:43,  1.41it/s]\u001b[A"
     ]
    },
    {
     "name": "stdout",
     "output_type": "stream",
     "text": [
      "Processed batch 2191/2252\n"
     ]
    },
    {
     "name": "stderr",
     "output_type": "stream",
     "text": [
      "\n",
      "Epoch 1:  97%|█████████▋| 2191/2252 [25:47<00:43,  1.41it/s]\u001b[A\n",
      "Epoch 1:  97%|█████████▋| 2192/2252 [25:48<00:42,  1.41it/s]\u001b[A\n",
      "Epoch 1:  97%|█████████▋| 2193/2252 [25:49<00:41,  1.41it/s]\u001b[A\n",
      "Epoch 1:  97%|█████████▋| 2194/2252 [25:49<00:41,  1.41it/s]\u001b[A\n",
      "Epoch 1:  97%|█████████▋| 2195/2252 [25:50<00:40,  1.41it/s]\u001b[A\n",
      "Epoch 1:  98%|█████████▊| 2196/2252 [25:51<00:39,  1.41it/s]\u001b[A\n",
      "Epoch 1:  98%|█████████▊| 2197/2252 [25:52<00:38,  1.41it/s]\u001b[A\n",
      "Epoch 1:  98%|█████████▊| 2198/2252 [25:52<00:38,  1.41it/s]\u001b[A\n",
      "Epoch 1:  98%|█████████▊| 2199/2252 [25:53<00:37,  1.41it/s]\u001b[A\n",
      "Epoch 1:  98%|█████████▊| 2200/2252 [25:54<00:36,  1.41it/s]\u001b[A"
     ]
    },
    {
     "name": "stdout",
     "output_type": "stream",
     "text": [
      "Processed batch 2201/2252\n"
     ]
    },
    {
     "name": "stderr",
     "output_type": "stream",
     "text": [
      "\n",
      "Epoch 1:  98%|█████████▊| 2201/2252 [25:54<00:36,  1.42it/s]\u001b[A\n",
      "Epoch 1:  98%|█████████▊| 2202/2252 [25:55<00:35,  1.41it/s]\u001b[A\n",
      "Epoch 1:  98%|█████████▊| 2203/2252 [25:56<00:34,  1.42it/s]\u001b[A\n",
      "Epoch 1:  98%|█████████▊| 2204/2252 [25:56<00:33,  1.42it/s]\u001b[A\n",
      "Epoch 1:  98%|█████████▊| 2205/2252 [25:57<00:33,  1.42it/s]\u001b[A\n",
      "Epoch 1:  98%|█████████▊| 2206/2252 [25:58<00:32,  1.41it/s]\u001b[A\n",
      "Epoch 1:  98%|█████████▊| 2207/2252 [25:59<00:31,  1.41it/s]\u001b[A\n",
      "Epoch 1:  98%|█████████▊| 2208/2252 [25:59<00:31,  1.41it/s]\u001b[A\n",
      "Epoch 1:  98%|█████████▊| 2209/2252 [26:00<00:30,  1.41it/s]\u001b[A\n",
      "Epoch 1:  98%|█████████▊| 2210/2252 [26:01<00:29,  1.41it/s]\u001b[A"
     ]
    },
    {
     "name": "stdout",
     "output_type": "stream",
     "text": [
      "Processed batch 2211/2252\n"
     ]
    },
    {
     "name": "stderr",
     "output_type": "stream",
     "text": [
      "\n",
      "Epoch 1:  98%|█████████▊| 2211/2252 [26:01<00:28,  1.41it/s]\u001b[A\n",
      "Epoch 1:  98%|█████████▊| 2212/2252 [26:02<00:28,  1.42it/s]\u001b[A\n",
      "Epoch 1:  98%|█████████▊| 2213/2252 [26:03<00:27,  1.42it/s]\u001b[A\n",
      "Epoch 1:  98%|█████████▊| 2214/2252 [26:04<00:26,  1.41it/s]\u001b[A\n",
      "Epoch 1:  98%|█████████▊| 2215/2252 [26:04<00:26,  1.41it/s]\u001b[A\n",
      "Epoch 1:  98%|█████████▊| 2216/2252 [26:05<00:25,  1.41it/s]\u001b[A\n",
      "Epoch 1:  98%|█████████▊| 2217/2252 [26:06<00:24,  1.42it/s]\u001b[A\n",
      "Epoch 1:  98%|█████████▊| 2218/2252 [26:06<00:23,  1.42it/s]\u001b[A\n",
      "Epoch 1:  99%|█████████▊| 2219/2252 [26:07<00:23,  1.42it/s]\u001b[A\n",
      "Epoch 1:  99%|█████████▊| 2220/2252 [26:08<00:22,  1.41it/s]\u001b[A"
     ]
    },
    {
     "name": "stdout",
     "output_type": "stream",
     "text": [
      "Processed batch 2221/2252\n"
     ]
    },
    {
     "name": "stderr",
     "output_type": "stream",
     "text": [
      "\n",
      "Epoch 1:  99%|█████████▊| 2221/2252 [26:08<00:21,  1.41it/s]\u001b[A\n",
      "Epoch 1:  99%|█████████▊| 2222/2252 [26:09<00:21,  1.41it/s]\u001b[A\n",
      "Epoch 1:  99%|█████████▊| 2223/2252 [26:10<00:20,  1.41it/s]\u001b[A\n",
      "Epoch 1:  99%|█████████▉| 2224/2252 [26:11<00:19,  1.41it/s]\u001b[A\n",
      "Epoch 1:  99%|█████████▉| 2225/2252 [26:11<00:19,  1.41it/s]\u001b[A\n",
      "Epoch 1:  99%|█████████▉| 2226/2252 [26:12<00:18,  1.41it/s]\u001b[A\n",
      "Epoch 1:  99%|█████████▉| 2227/2252 [26:13<00:17,  1.41it/s]\u001b[A\n",
      "Epoch 1:  99%|█████████▉| 2228/2252 [26:13<00:17,  1.41it/s]\u001b[A\n",
      "Epoch 1:  99%|█████████▉| 2229/2252 [26:14<00:16,  1.41it/s]\u001b[A\n",
      "Epoch 1:  99%|█████████▉| 2230/2252 [26:15<00:15,  1.41it/s]\u001b[A"
     ]
    },
    {
     "name": "stdout",
     "output_type": "stream",
     "text": [
      "Processed batch 2231/2252\n"
     ]
    },
    {
     "name": "stderr",
     "output_type": "stream",
     "text": [
      "\n",
      "Epoch 1:  99%|█████████▉| 2231/2252 [26:16<00:14,  1.41it/s]\u001b[A\n",
      "Epoch 1:  99%|█████████▉| 2232/2252 [26:16<00:14,  1.41it/s]\u001b[A\n",
      "Epoch 1:  99%|█████████▉| 2233/2252 [26:17<00:13,  1.41it/s]\u001b[A\n",
      "Epoch 1:  99%|█████████▉| 2234/2252 [26:18<00:12,  1.41it/s]\u001b[A\n",
      "Epoch 1:  99%|█████████▉| 2235/2252 [26:18<00:12,  1.42it/s]\u001b[A\n",
      "Epoch 1:  99%|█████████▉| 2236/2252 [26:19<00:11,  1.42it/s]\u001b[A\n",
      "Epoch 1:  99%|█████████▉| 2237/2252 [26:20<00:10,  1.41it/s]\u001b[A\n",
      "Epoch 1:  99%|█████████▉| 2238/2252 [26:21<00:09,  1.42it/s]\u001b[A\n",
      "Epoch 1:  99%|█████████▉| 2239/2252 [26:21<00:09,  1.42it/s]\u001b[A\n",
      "Epoch 1:  99%|█████████▉| 2240/2252 [26:22<00:08,  1.41it/s]\u001b[A"
     ]
    },
    {
     "name": "stdout",
     "output_type": "stream",
     "text": [
      "Processed batch 2241/2252\n"
     ]
    },
    {
     "name": "stderr",
     "output_type": "stream",
     "text": [
      "\n",
      "Epoch 1: 100%|█████████▉| 2241/2252 [26:23<00:07,  1.42it/s]\u001b[A\n",
      "Epoch 1: 100%|█████████▉| 2242/2252 [26:23<00:07,  1.41it/s]\u001b[A\n",
      "Epoch 1: 100%|█████████▉| 2243/2252 [26:24<00:06,  1.41it/s]\u001b[A\n",
      "Epoch 1: 100%|█████████▉| 2244/2252 [26:25<00:05,  1.41it/s]\u001b[A\n",
      "Epoch 1: 100%|█████████▉| 2245/2252 [26:25<00:04,  1.42it/s]\u001b[A\n",
      "Epoch 1: 100%|█████████▉| 2246/2252 [26:26<00:04,  1.42it/s]\u001b[A\n",
      "Epoch 1: 100%|█████████▉| 2247/2252 [26:27<00:03,  1.41it/s]\u001b[A\n",
      "Epoch 1: 100%|█████████▉| 2248/2252 [26:28<00:02,  1.42it/s]\u001b[A\n",
      "Epoch 1: 100%|█████████▉| 2249/2252 [26:28<00:02,  1.41it/s]\u001b[A\n",
      "Epoch 1: 100%|█████████▉| 2250/2252 [26:29<00:01,  1.41it/s]\u001b[A"
     ]
    },
    {
     "name": "stdout",
     "output_type": "stream",
     "text": [
      "Processed batch 2251/2252\n"
     ]
    },
    {
     "name": "stderr",
     "output_type": "stream",
     "text": [
      "\n",
      "Epoch 1: 100%|█████████▉| 2251/2252 [26:30<00:00,  1.41it/s]\u001b[A\n",
      "Epoch 1: 100%|██████████| 2252/2252 [26:30<00:00,  1.56it/s]\u001b[A\n",
      "Epochs:  10%|█         | 1/10 [26:30<3:58:36, 1590.76s/it]  \u001b[A"
     ]
    },
    {
     "name": "stdout",
     "output_type": "stream",
     "text": [
      "Epoch: 01, Loss: 8.00783\n"
     ]
    },
    {
     "name": "stderr",
     "output_type": "stream",
     "text": [
      "\n",
      "Epoch 2:   0%|          | 0/2252 [00:00<?, ?it/s]\u001b[A"
     ]
    },
    {
     "name": "stdout",
     "output_type": "stream",
     "text": [
      "Processed batch 1/2252\n"
     ]
    },
    {
     "name": "stderr",
     "output_type": "stream",
     "text": [
      "\n",
      "Epoch 2:   0%|          | 1/2252 [00:01<1:05:08,  1.74s/it]\u001b[A\n",
      "Epoch 2:   0%|          | 2/2252 [00:02<42:23,  1.13s/it]  \u001b[A\n",
      "Epoch 2:   0%|          | 3/2252 [00:03<34:58,  1.07it/s]\u001b[A\n",
      "Epoch 2:   0%|          | 4/2252 [00:03<31:36,  1.19it/s]\u001b[A\n",
      "Epoch 2:   0%|          | 5/2252 [00:04<29:45,  1.26it/s]\u001b[A\n",
      "Epoch 2:   0%|          | 6/2252 [00:05<28:37,  1.31it/s]\u001b[A\n",
      "Epoch 2:   0%|          | 7/2252 [00:05<27:57,  1.34it/s]\u001b[A\n",
      "Epoch 2:   0%|          | 8/2252 [00:06<27:27,  1.36it/s]\u001b[A\n",
      "Epoch 2:   0%|          | 9/2252 [00:07<27:11,  1.37it/s]\u001b[A\n",
      "Epoch 2:   0%|          | 10/2252 [00:08<26:53,  1.39it/s]\u001b[A"
     ]
    },
    {
     "name": "stdout",
     "output_type": "stream",
     "text": [
      "Processed batch 11/2252\n"
     ]
    },
    {
     "name": "stderr",
     "output_type": "stream",
     "text": [
      "\n",
      "Epoch 2:   0%|          | 11/2252 [00:08<26:49,  1.39it/s]\u001b[A\n",
      "Epoch 2:   1%|          | 12/2252 [00:09<26:37,  1.40it/s]\u001b[A\n",
      "Epoch 2:   1%|          | 13/2252 [00:10<26:35,  1.40it/s]\u001b[A\n",
      "Epoch 2:   1%|          | 14/2252 [00:10<26:30,  1.41it/s]\u001b[A\n",
      "Epoch 2:   1%|          | 15/2252 [00:11<26:28,  1.41it/s]\u001b[A\n",
      "Epoch 2:   1%|          | 16/2252 [00:12<26:25,  1.41it/s]\u001b[A\n",
      "Epoch 2:   1%|          | 17/2252 [00:13<26:22,  1.41it/s]\u001b[A\n",
      "Epoch 2:   1%|          | 18/2252 [00:13<26:23,  1.41it/s]\u001b[A\n",
      "Epoch 2:   1%|          | 19/2252 [00:14<26:22,  1.41it/s]\u001b[A\n",
      "Epoch 2:   1%|          | 20/2252 [00:15<26:20,  1.41it/s]\u001b[A"
     ]
    },
    {
     "name": "stdout",
     "output_type": "stream",
     "text": [
      "Processed batch 21/2252\n"
     ]
    },
    {
     "name": "stderr",
     "output_type": "stream",
     "text": [
      "\n",
      "Epoch 2:   1%|          | 21/2252 [00:15<26:19,  1.41it/s]\u001b[A\n",
      "Epoch 2:   1%|          | 22/2252 [00:16<26:18,  1.41it/s]\u001b[A\n",
      "Epoch 2:   1%|          | 23/2252 [00:17<26:18,  1.41it/s]\u001b[A\n",
      "Epoch 2:   1%|          | 24/2252 [00:18<26:16,  1.41it/s]\u001b[A\n",
      "Epoch 2:   1%|          | 25/2252 [00:18<26:14,  1.41it/s]\u001b[A\n",
      "Epoch 2:   1%|          | 26/2252 [00:19<26:13,  1.41it/s]\u001b[A\n",
      "Epoch 2:   1%|          | 27/2252 [00:20<26:13,  1.41it/s]\u001b[A\n",
      "Epoch 2:   1%|          | 28/2252 [00:20<26:11,  1.41it/s]\u001b[A\n",
      "Epoch 2:   1%|▏         | 29/2252 [00:21<26:13,  1.41it/s]\u001b[A\n",
      "Epoch 2:   1%|▏         | 30/2252 [00:22<26:11,  1.41it/s]\u001b[A"
     ]
    },
    {
     "name": "stdout",
     "output_type": "stream",
     "text": [
      "Processed batch 31/2252\n"
     ]
    },
    {
     "name": "stderr",
     "output_type": "stream",
     "text": [
      "\n",
      "Epoch 2:   1%|▏         | 31/2252 [00:22<26:10,  1.41it/s]\u001b[A\n",
      "Epoch 2:   1%|▏         | 32/2252 [00:23<26:09,  1.41it/s]\u001b[A\n",
      "Epoch 2:   1%|▏         | 33/2252 [00:24<26:08,  1.41it/s]\u001b[A\n",
      "Epoch 2:   2%|▏         | 34/2252 [00:25<26:08,  1.41it/s]\u001b[A\n",
      "Epoch 2:   2%|▏         | 35/2252 [00:25<26:08,  1.41it/s]\u001b[A\n",
      "Epoch 2:   2%|▏         | 36/2252 [00:26<26:07,  1.41it/s]\u001b[A\n",
      "Epoch 2:   2%|▏         | 37/2252 [00:27<26:06,  1.41it/s]\u001b[A\n",
      "Epoch 2:   2%|▏         | 38/2252 [00:27<26:05,  1.41it/s]\u001b[A\n",
      "Epoch 2:   2%|▏         | 39/2252 [00:28<26:04,  1.41it/s]\u001b[A\n",
      "Epoch 2:   2%|▏         | 40/2252 [00:29<26:03,  1.41it/s]\u001b[A"
     ]
    },
    {
     "name": "stdout",
     "output_type": "stream",
     "text": [
      "Processed batch 41/2252\n"
     ]
    },
    {
     "name": "stderr",
     "output_type": "stream",
     "text": [
      "\n",
      "Epoch 2:   2%|▏         | 41/2252 [00:30<26:03,  1.41it/s]\u001b[A\n",
      "Epoch 2:   2%|▏         | 42/2252 [00:30<26:02,  1.41it/s]\u001b[A\n",
      "Epoch 2:   2%|▏         | 43/2252 [00:31<26:02,  1.41it/s]\u001b[A\n",
      "Epoch 2:   2%|▏         | 44/2252 [00:32<26:01,  1.41it/s]\u001b[A\n",
      "Epoch 2:   2%|▏         | 45/2252 [00:32<26:00,  1.41it/s]\u001b[A\n",
      "Epoch 2:   2%|▏         | 46/2252 [00:33<26:00,  1.41it/s]\u001b[A\n",
      "Epoch 2:   2%|▏         | 47/2252 [00:34<25:59,  1.41it/s]\u001b[A\n",
      "Epoch 2:   2%|▏         | 48/2252 [00:34<25:58,  1.41it/s]\u001b[A\n",
      "Epoch 2:   2%|▏         | 49/2252 [00:35<25:59,  1.41it/s]\u001b[A\n",
      "Epoch 2:   2%|▏         | 50/2252 [00:36<25:58,  1.41it/s]\u001b[A"
     ]
    },
    {
     "name": "stdout",
     "output_type": "stream",
     "text": [
      "Processed batch 51/2252\n"
     ]
    },
    {
     "name": "stderr",
     "output_type": "stream",
     "text": [
      "\n",
      "Epoch 2:   2%|▏         | 51/2252 [00:37<25:56,  1.41it/s]\u001b[A\n",
      "Epoch 2:   2%|▏         | 52/2252 [00:37<25:54,  1.42it/s]\u001b[A\n",
      "Epoch 2:   2%|▏         | 53/2252 [00:38<25:55,  1.41it/s]\u001b[A\n",
      "Epoch 2:   2%|▏         | 54/2252 [00:39<25:58,  1.41it/s]\u001b[A\n",
      "Epoch 2:   2%|▏         | 55/2252 [00:39<25:56,  1.41it/s]\u001b[A\n",
      "Epoch 2:   2%|▏         | 56/2252 [00:40<25:50,  1.42it/s]\u001b[A\n",
      "Epoch 2:   3%|▎         | 57/2252 [00:41<25:50,  1.42it/s]\u001b[A\n",
      "Epoch 2:   3%|▎         | 58/2252 [00:42<25:52,  1.41it/s]\u001b[A\n",
      "Epoch 2:   3%|▎         | 59/2252 [00:42<25:53,  1.41it/s]\u001b[A\n",
      "Epoch 2:   3%|▎         | 60/2252 [00:43<25:52,  1.41it/s]\u001b[A"
     ]
    },
    {
     "name": "stdout",
     "output_type": "stream",
     "text": [
      "Processed batch 61/2252\n"
     ]
    },
    {
     "name": "stderr",
     "output_type": "stream",
     "text": [
      "\n",
      "Epoch 2:   3%|▎         | 61/2252 [00:44<25:53,  1.41it/s]\u001b[A\n",
      "Epoch 2:   3%|▎         | 62/2252 [00:44<25:54,  1.41it/s]\u001b[A\n",
      "Epoch 2:   3%|▎         | 63/2252 [00:45<25:50,  1.41it/s]\u001b[A\n",
      "Epoch 2:   3%|▎         | 64/2252 [00:46<25:49,  1.41it/s]\u001b[A\n",
      "Epoch 2:   3%|▎         | 65/2252 [00:47<25:48,  1.41it/s]\u001b[A\n",
      "Epoch 2:   3%|▎         | 66/2252 [00:47<25:47,  1.41it/s]\u001b[A\n",
      "Epoch 2:   3%|▎         | 67/2252 [00:48<25:47,  1.41it/s]\u001b[A\n",
      "Epoch 2:   3%|▎         | 68/2252 [00:49<25:46,  1.41it/s]\u001b[A\n",
      "Epoch 2:   3%|▎         | 69/2252 [00:49<25:43,  1.41it/s]\u001b[A\n",
      "Epoch 2:   3%|▎         | 70/2252 [00:50<25:43,  1.41it/s]\u001b[A"
     ]
    },
    {
     "name": "stdout",
     "output_type": "stream",
     "text": [
      "Processed batch 71/2252\n"
     ]
    },
    {
     "name": "stderr",
     "output_type": "stream",
     "text": [
      "\n",
      "Epoch 2:   3%|▎         | 71/2252 [00:51<25:43,  1.41it/s]\u001b[A\n",
      "Epoch 2:   3%|▎         | 72/2252 [00:51<25:42,  1.41it/s]\u001b[A\n",
      "Epoch 2:   3%|▎         | 73/2252 [00:52<25:41,  1.41it/s]\u001b[A\n",
      "Epoch 2:   3%|▎         | 74/2252 [00:53<25:41,  1.41it/s]\u001b[A\n",
      "Epoch 2:   3%|▎         | 75/2252 [00:54<25:39,  1.41it/s]\u001b[A\n",
      "Epoch 2:   3%|▎         | 76/2252 [00:54<25:39,  1.41it/s]\u001b[A\n",
      "Epoch 2:   3%|▎         | 77/2252 [00:55<25:39,  1.41it/s]\u001b[A\n",
      "Epoch 2:   3%|▎         | 78/2252 [00:56<25:39,  1.41it/s]\u001b[A\n",
      "Epoch 2:   4%|▎         | 79/2252 [00:56<25:36,  1.41it/s]\u001b[A\n",
      "Epoch 2:   4%|▎         | 80/2252 [00:57<25:35,  1.41it/s]\u001b[A"
     ]
    },
    {
     "name": "stdout",
     "output_type": "stream",
     "text": [
      "Processed batch 81/2252\n"
     ]
    },
    {
     "name": "stderr",
     "output_type": "stream",
     "text": [
      "\n",
      "Epoch 2:   4%|▎         | 81/2252 [00:58<25:34,  1.41it/s]\u001b[A\n",
      "Epoch 2:   4%|▎         | 82/2252 [00:59<25:34,  1.41it/s]\u001b[A\n",
      "Epoch 2:   4%|▎         | 83/2252 [00:59<25:32,  1.42it/s]\u001b[A\n",
      "Epoch 2:   4%|▎         | 84/2252 [01:00<25:34,  1.41it/s]\u001b[A\n",
      "Epoch 2:   4%|▍         | 85/2252 [01:01<25:35,  1.41it/s]\u001b[A\n",
      "Epoch 2:   4%|▍         | 86/2252 [01:01<25:36,  1.41it/s]\u001b[A\n",
      "Epoch 2:   4%|▍         | 87/2252 [01:02<25:35,  1.41it/s]\u001b[A\n",
      "Epoch 2:   4%|▍         | 88/2252 [01:03<25:36,  1.41it/s]\u001b[A\n",
      "Epoch 2:   4%|▍         | 89/2252 [01:04<25:34,  1.41it/s]\u001b[A\n",
      "Epoch 2:   4%|▍         | 90/2252 [01:04<25:31,  1.41it/s]\u001b[A"
     ]
    },
    {
     "name": "stdout",
     "output_type": "stream",
     "text": [
      "Processed batch 91/2252\n"
     ]
    },
    {
     "name": "stderr",
     "output_type": "stream",
     "text": [
      "\n",
      "Epoch 2:   4%|▍         | 91/2252 [01:05<25:32,  1.41it/s]\u001b[A\n",
      "Epoch 2:   4%|▍         | 92/2252 [01:06<25:31,  1.41it/s]\u001b[A\n",
      "Epoch 2:   4%|▍         | 93/2252 [01:06<25:32,  1.41it/s]\u001b[A\n",
      "Epoch 2:   4%|▍         | 94/2252 [01:07<25:29,  1.41it/s]\u001b[A\n",
      "Epoch 2:   4%|▍         | 95/2252 [01:08<25:27,  1.41it/s]\u001b[A\n",
      "Epoch 2:   4%|▍         | 96/2252 [01:08<25:26,  1.41it/s]\u001b[A\n",
      "Epoch 2:   4%|▍         | 97/2252 [01:09<25:26,  1.41it/s]\u001b[A\n",
      "Epoch 2:   4%|▍         | 98/2252 [01:10<25:29,  1.41it/s]\u001b[A\n",
      "Epoch 2:   4%|▍         | 99/2252 [01:11<25:25,  1.41it/s]\u001b[A\n",
      "Epoch 2:   4%|▍         | 100/2252 [01:11<25:25,  1.41it/s]\u001b[A"
     ]
    },
    {
     "name": "stdout",
     "output_type": "stream",
     "text": [
      "Processed batch 101/2252\n"
     ]
    },
    {
     "name": "stderr",
     "output_type": "stream",
     "text": [
      "\n",
      "Epoch 2:   4%|▍         | 101/2252 [01:12<25:25,  1.41it/s]\u001b[A\n",
      "Epoch 2:   5%|▍         | 102/2252 [01:13<25:24,  1.41it/s]\u001b[A\n",
      "Epoch 2:   5%|▍         | 103/2252 [01:13<25:23,  1.41it/s]\u001b[A\n",
      "Epoch 2:   5%|▍         | 104/2252 [01:14<25:25,  1.41it/s]\u001b[A\n",
      "Epoch 2:   5%|▍         | 105/2252 [01:15<25:23,  1.41it/s]\u001b[A\n",
      "Epoch 2:   5%|▍         | 106/2252 [01:16<25:22,  1.41it/s]\u001b[A\n",
      "Epoch 2:   5%|▍         | 107/2252 [01:16<25:20,  1.41it/s]\u001b[A\n",
      "Epoch 2:   5%|▍         | 108/2252 [01:17<25:20,  1.41it/s]\u001b[A\n",
      "Epoch 2:   5%|▍         | 109/2252 [01:18<25:18,  1.41it/s]\u001b[A\n",
      "Epoch 2:   5%|▍         | 110/2252 [01:18<25:18,  1.41it/s]\u001b[A"
     ]
    },
    {
     "name": "stdout",
     "output_type": "stream",
     "text": [
      "Processed batch 111/2252\n"
     ]
    },
    {
     "name": "stderr",
     "output_type": "stream",
     "text": [
      "\n",
      "Epoch 2:   5%|▍         | 111/2252 [01:19<25:14,  1.41it/s]\u001b[A\n",
      "Epoch 2:   5%|▍         | 112/2252 [01:20<25:16,  1.41it/s]\u001b[A\n",
      "Epoch 2:   5%|▌         | 113/2252 [01:21<25:16,  1.41it/s]\u001b[A\n",
      "Epoch 2:   5%|▌         | 114/2252 [01:21<25:12,  1.41it/s]\u001b[A\n",
      "Epoch 2:   5%|▌         | 115/2252 [01:22<25:14,  1.41it/s]\u001b[A\n",
      "Epoch 2:   5%|▌         | 116/2252 [01:23<25:12,  1.41it/s]\u001b[A\n",
      "Epoch 2:   5%|▌         | 117/2252 [01:23<25:10,  1.41it/s]\u001b[A\n",
      "Epoch 2:   5%|▌         | 118/2252 [01:24<25:10,  1.41it/s]\u001b[A\n",
      "Epoch 2:   5%|▌         | 119/2252 [01:25<25:07,  1.41it/s]\u001b[A\n",
      "Epoch 2:   5%|▌         | 120/2252 [01:25<25:07,  1.41it/s]\u001b[A"
     ]
    },
    {
     "name": "stdout",
     "output_type": "stream",
     "text": [
      "Processed batch 121/2252\n"
     ]
    },
    {
     "name": "stderr",
     "output_type": "stream",
     "text": [
      "\n",
      "Epoch 2:   5%|▌         | 121/2252 [01:26<25:06,  1.41it/s]\u001b[A\n",
      "Epoch 2:   5%|▌         | 122/2252 [01:27<25:07,  1.41it/s]\u001b[A\n",
      "Epoch 2:   5%|▌         | 123/2252 [01:28<25:09,  1.41it/s]\u001b[A\n",
      "Epoch 2:   6%|▌         | 124/2252 [01:28<25:11,  1.41it/s]\u001b[A\n",
      "Epoch 2:   6%|▌         | 125/2252 [01:29<25:06,  1.41it/s]\u001b[A\n",
      "Epoch 2:   6%|▌         | 126/2252 [01:30<25:05,  1.41it/s]\u001b[A\n",
      "Epoch 2:   6%|▌         | 127/2252 [01:30<25:05,  1.41it/s]\u001b[A\n",
      "Epoch 2:   6%|▌         | 128/2252 [01:31<25:05,  1.41it/s]\u001b[A\n",
      "Epoch 2:   6%|▌         | 129/2252 [01:32<25:07,  1.41it/s]\u001b[A\n",
      "Epoch 2:   6%|▌         | 130/2252 [01:33<25:04,  1.41it/s]\u001b[A"
     ]
    },
    {
     "name": "stdout",
     "output_type": "stream",
     "text": [
      "Processed batch 131/2252\n"
     ]
    },
    {
     "name": "stderr",
     "output_type": "stream",
     "text": [
      "\n",
      "Epoch 2:   6%|▌         | 131/2252 [01:33<25:01,  1.41it/s]\u001b[A\n",
      "Epoch 2:   6%|▌         | 132/2252 [01:34<25:00,  1.41it/s]\u001b[A\n",
      "Epoch 2:   6%|▌         | 133/2252 [01:35<24:59,  1.41it/s]\u001b[A\n",
      "Epoch 2:   6%|▌         | 134/2252 [01:35<24:58,  1.41it/s]\u001b[A\n",
      "Epoch 2:   6%|▌         | 135/2252 [01:36<24:57,  1.41it/s]\u001b[A\n",
      "Epoch 2:   6%|▌         | 136/2252 [01:37<24:56,  1.41it/s]\u001b[A\n",
      "Epoch 2:   6%|▌         | 137/2252 [01:38<24:54,  1.42it/s]\u001b[A\n",
      "Epoch 2:   6%|▌         | 138/2252 [01:38<24:53,  1.42it/s]\u001b[A\n",
      "Epoch 2:   6%|▌         | 139/2252 [01:39<24:56,  1.41it/s]\u001b[A\n",
      "Epoch 2:   6%|▌         | 140/2252 [01:40<24:55,  1.41it/s]\u001b[A"
     ]
    },
    {
     "name": "stdout",
     "output_type": "stream",
     "text": [
      "Processed batch 141/2252\n"
     ]
    },
    {
     "name": "stderr",
     "output_type": "stream",
     "text": [
      "\n",
      "Epoch 2:   6%|▋         | 141/2252 [01:40<24:55,  1.41it/s]\u001b[A\n",
      "Epoch 2:   6%|▋         | 142/2252 [01:41<24:54,  1.41it/s]\u001b[A\n",
      "Epoch 2:   6%|▋         | 143/2252 [01:42<24:54,  1.41it/s]\u001b[A\n",
      "Epoch 2:   6%|▋         | 144/2252 [01:42<24:56,  1.41it/s]\u001b[A\n",
      "Epoch 2:   6%|▋         | 145/2252 [01:43<24:51,  1.41it/s]\u001b[A\n",
      "Epoch 2:   6%|▋         | 146/2252 [01:44<24:56,  1.41it/s]\u001b[A\n",
      "Epoch 2:   7%|▋         | 147/2252 [01:45<24:52,  1.41it/s]\u001b[A\n",
      "Epoch 2:   7%|▋         | 148/2252 [01:45<24:50,  1.41it/s]\u001b[A\n",
      "Epoch 2:   7%|▋         | 149/2252 [01:46<24:50,  1.41it/s]\u001b[A\n",
      "Epoch 2:   7%|▋         | 150/2252 [01:47<24:50,  1.41it/s]\u001b[A"
     ]
    },
    {
     "name": "stdout",
     "output_type": "stream",
     "text": [
      "Processed batch 151/2252\n"
     ]
    },
    {
     "name": "stderr",
     "output_type": "stream",
     "text": [
      "\n",
      "Epoch 2:   7%|▋         | 151/2252 [01:47<24:50,  1.41it/s]\u001b[A\n",
      "Epoch 2:   7%|▋         | 152/2252 [01:48<24:49,  1.41it/s]\u001b[A\n",
      "Epoch 2:   7%|▋         | 153/2252 [01:49<24:48,  1.41it/s]\u001b[A\n",
      "Epoch 2:   7%|▋         | 154/2252 [01:50<24:47,  1.41it/s]\u001b[A\n",
      "Epoch 2:   7%|▋         | 155/2252 [01:50<24:48,  1.41it/s]\u001b[A\n",
      "Epoch 2:   7%|▋         | 156/2252 [01:51<24:45,  1.41it/s]\u001b[A\n",
      "Epoch 2:   7%|▋         | 157/2252 [01:52<24:45,  1.41it/s]\u001b[A\n",
      "Epoch 2:   7%|▋         | 158/2252 [01:52<24:42,  1.41it/s]\u001b[A\n",
      "Epoch 2:   7%|▋         | 159/2252 [01:53<24:41,  1.41it/s]\u001b[A\n",
      "Epoch 2:   7%|▋         | 160/2252 [01:54<24:39,  1.41it/s]\u001b[A"
     ]
    },
    {
     "name": "stdout",
     "output_type": "stream",
     "text": [
      "Processed batch 161/2252\n"
     ]
    },
    {
     "name": "stderr",
     "output_type": "stream",
     "text": [
      "\n",
      "Epoch 2:   7%|▋         | 161/2252 [01:55<24:40,  1.41it/s]\u001b[A\n",
      "Epoch 2:   7%|▋         | 162/2252 [01:55<24:39,  1.41it/s]\u001b[A\n",
      "Epoch 2:   7%|▋         | 163/2252 [01:56<24:38,  1.41it/s]\u001b[A\n",
      "Epoch 2:   7%|▋         | 164/2252 [01:57<24:37,  1.41it/s]\u001b[A\n",
      "Epoch 2:   7%|▋         | 165/2252 [01:57<24:41,  1.41it/s]\u001b[A\n",
      "Epoch 2:   7%|▋         | 166/2252 [01:58<24:39,  1.41it/s]\u001b[A\n",
      "Epoch 2:   7%|▋         | 167/2252 [01:59<24:38,  1.41it/s]\u001b[A\n",
      "Epoch 2:   7%|▋         | 168/2252 [01:59<24:37,  1.41it/s]\u001b[A\n",
      "Epoch 2:   8%|▊         | 169/2252 [02:00<24:37,  1.41it/s]\u001b[A\n",
      "Epoch 2:   8%|▊         | 170/2252 [02:01<24:36,  1.41it/s]\u001b[A"
     ]
    },
    {
     "name": "stdout",
     "output_type": "stream",
     "text": [
      "Processed batch 171/2252\n"
     ]
    },
    {
     "name": "stderr",
     "output_type": "stream",
     "text": [
      "\n",
      "Epoch 2:   8%|▊         | 171/2252 [02:02<24:36,  1.41it/s]\u001b[A\n",
      "Epoch 2:   8%|▊         | 172/2252 [02:02<24:36,  1.41it/s]\u001b[A\n",
      "Epoch 2:   8%|▊         | 173/2252 [02:03<24:37,  1.41it/s]\u001b[A\n",
      "Epoch 2:   8%|▊         | 174/2252 [02:04<24:34,  1.41it/s]\u001b[A\n",
      "Epoch 2:   8%|▊         | 175/2252 [02:04<24:32,  1.41it/s]\u001b[A\n",
      "Epoch 2:   8%|▊         | 176/2252 [02:05<24:30,  1.41it/s]\u001b[A\n",
      "Epoch 2:   8%|▊         | 177/2252 [02:06<24:31,  1.41it/s]\u001b[A\n",
      "Epoch 2:   8%|▊         | 178/2252 [02:07<24:28,  1.41it/s]\u001b[A\n",
      "Epoch 2:   8%|▊         | 179/2252 [02:07<24:25,  1.41it/s]\u001b[A\n",
      "Epoch 2:   8%|▊         | 180/2252 [02:08<24:25,  1.41it/s]\u001b[A"
     ]
    },
    {
     "name": "stdout",
     "output_type": "stream",
     "text": [
      "Processed batch 181/2252\n"
     ]
    },
    {
     "name": "stderr",
     "output_type": "stream",
     "text": [
      "\n",
      "Epoch 2:   8%|▊         | 181/2252 [02:09<24:23,  1.41it/s]\u001b[A\n",
      "Epoch 2:   8%|▊         | 182/2252 [02:09<24:23,  1.41it/s]\u001b[A\n",
      "Epoch 2:   8%|▊         | 183/2252 [02:10<24:23,  1.41it/s]\u001b[A\n",
      "Epoch 2:   8%|▊         | 184/2252 [02:11<24:23,  1.41it/s]\u001b[A\n",
      "Epoch 2:   8%|▊         | 185/2252 [02:12<24:20,  1.42it/s]\u001b[A\n",
      "Epoch 2:   8%|▊         | 186/2252 [02:12<24:20,  1.41it/s]\u001b[A\n",
      "Epoch 2:   8%|▊         | 187/2252 [02:13<24:20,  1.41it/s]\u001b[A\n",
      "Epoch 2:   8%|▊         | 188/2252 [02:14<24:20,  1.41it/s]\u001b[A\n",
      "Epoch 2:   8%|▊         | 189/2252 [02:14<24:19,  1.41it/s]\u001b[A\n",
      "Epoch 2:   8%|▊         | 190/2252 [02:15<24:19,  1.41it/s]\u001b[A"
     ]
    },
    {
     "name": "stdout",
     "output_type": "stream",
     "text": [
      "Processed batch 191/2252\n"
     ]
    },
    {
     "name": "stderr",
     "output_type": "stream",
     "text": [
      "\n",
      "Epoch 2:   8%|▊         | 191/2252 [02:16<24:20,  1.41it/s]\u001b[A\n",
      "Epoch 2:   9%|▊         | 192/2252 [02:16<24:19,  1.41it/s]\u001b[A\n",
      "Epoch 2:   9%|▊         | 193/2252 [02:17<24:18,  1.41it/s]\u001b[A\n",
      "Epoch 2:   9%|▊         | 194/2252 [02:18<24:16,  1.41it/s]\u001b[A\n",
      "Epoch 2:   9%|▊         | 195/2252 [02:19<24:15,  1.41it/s]\u001b[A\n",
      "Epoch 2:   9%|▊         | 196/2252 [02:19<24:15,  1.41it/s]\u001b[A\n",
      "Epoch 2:   9%|▊         | 197/2252 [02:20<24:13,  1.41it/s]\u001b[A\n",
      "Epoch 2:   9%|▉         | 198/2252 [02:21<24:15,  1.41it/s]\u001b[A\n",
      "Epoch 2:   9%|▉         | 199/2252 [02:21<24:14,  1.41it/s]\u001b[A\n",
      "Epoch 2:   9%|▉         | 200/2252 [02:22<24:13,  1.41it/s]\u001b[A"
     ]
    },
    {
     "name": "stdout",
     "output_type": "stream",
     "text": [
      "Processed batch 201/2252\n"
     ]
    },
    {
     "name": "stderr",
     "output_type": "stream",
     "text": [
      "\n",
      "Epoch 2:   9%|▉         | 201/2252 [02:23<24:12,  1.41it/s]\u001b[A\n",
      "Epoch 2:   9%|▉         | 202/2252 [02:24<24:12,  1.41it/s]\u001b[A\n",
      "Epoch 2:   9%|▉         | 203/2252 [02:24<24:13,  1.41it/s]\u001b[A\n",
      "Epoch 2:   9%|▉         | 204/2252 [02:25<24:10,  1.41it/s]\u001b[A\n",
      "Epoch 2:   9%|▉         | 205/2252 [02:26<24:09,  1.41it/s]\u001b[A\n",
      "Epoch 2:   9%|▉         | 206/2252 [02:26<24:08,  1.41it/s]\u001b[A\n",
      "Epoch 2:   9%|▉         | 207/2252 [02:27<24:08,  1.41it/s]\u001b[A\n",
      "Epoch 2:   9%|▉         | 208/2252 [02:28<24:07,  1.41it/s]\u001b[A\n",
      "Epoch 2:   9%|▉         | 209/2252 [02:29<24:06,  1.41it/s]\u001b[A\n",
      "Epoch 2:   9%|▉         | 210/2252 [02:29<24:06,  1.41it/s]\u001b[A"
     ]
    },
    {
     "name": "stdout",
     "output_type": "stream",
     "text": [
      "Processed batch 211/2252\n"
     ]
    },
    {
     "name": "stderr",
     "output_type": "stream",
     "text": [
      "\n",
      "Epoch 2:   9%|▉         | 211/2252 [02:30<24:05,  1.41it/s]\u001b[A\n",
      "Epoch 2:   9%|▉         | 212/2252 [02:31<24:05,  1.41it/s]\u001b[A\n",
      "Epoch 2:   9%|▉         | 213/2252 [02:31<24:03,  1.41it/s]\u001b[A\n",
      "Epoch 2:  10%|▉         | 214/2252 [02:32<24:02,  1.41it/s]\u001b[A\n",
      "Epoch 2:  10%|▉         | 215/2252 [02:33<24:03,  1.41it/s]\u001b[A\n",
      "Epoch 2:  10%|▉         | 216/2252 [02:33<24:02,  1.41it/s]\u001b[A\n",
      "Epoch 2:  10%|▉         | 217/2252 [02:34<24:02,  1.41it/s]\u001b[A\n",
      "Epoch 2:  10%|▉         | 218/2252 [02:35<24:01,  1.41it/s]\u001b[A\n",
      "Epoch 2:  10%|▉         | 219/2252 [02:36<24:01,  1.41it/s]\u001b[A\n",
      "Epoch 2:  10%|▉         | 220/2252 [02:36<24:01,  1.41it/s]\u001b[A"
     ]
    },
    {
     "name": "stdout",
     "output_type": "stream",
     "text": [
      "Processed batch 221/2252\n"
     ]
    },
    {
     "name": "stderr",
     "output_type": "stream",
     "text": [
      "\n",
      "Epoch 2:  10%|▉         | 221/2252 [02:37<24:00,  1.41it/s]\u001b[A\n",
      "Epoch 2:  10%|▉         | 222/2252 [02:38<23:59,  1.41it/s]\u001b[A\n",
      "Epoch 2:  10%|▉         | 223/2252 [02:38<23:57,  1.41it/s]\u001b[A\n",
      "Epoch 2:  10%|▉         | 224/2252 [02:39<23:54,  1.41it/s]\u001b[A\n",
      "Epoch 2:  10%|▉         | 225/2252 [02:40<23:53,  1.41it/s]\u001b[A\n",
      "Epoch 2:  10%|█         | 226/2252 [02:41<23:54,  1.41it/s]\u001b[A\n",
      "Epoch 2:  10%|█         | 227/2252 [02:41<23:53,  1.41it/s]\u001b[A\n",
      "Epoch 2:  10%|█         | 228/2252 [02:42<23:54,  1.41it/s]\u001b[A\n",
      "Epoch 2:  10%|█         | 229/2252 [02:43<23:54,  1.41it/s]\u001b[A\n",
      "Epoch 2:  10%|█         | 230/2252 [02:43<23:52,  1.41it/s]\u001b[A"
     ]
    },
    {
     "name": "stdout",
     "output_type": "stream",
     "text": [
      "Processed batch 231/2252\n"
     ]
    },
    {
     "name": "stderr",
     "output_type": "stream",
     "text": [
      "\n",
      "Epoch 2:  10%|█         | 231/2252 [02:44<23:51,  1.41it/s]\u001b[A\n",
      "Epoch 2:  10%|█         | 232/2252 [02:45<23:54,  1.41it/s]\u001b[A\n",
      "Epoch 2:  10%|█         | 233/2252 [02:46<23:52,  1.41it/s]\u001b[A\n",
      "Epoch 2:  10%|█         | 234/2252 [02:46<23:52,  1.41it/s]\u001b[A\n",
      "Epoch 2:  10%|█         | 235/2252 [02:47<23:53,  1.41it/s]\u001b[A\n",
      "Epoch 2:  10%|█         | 236/2252 [02:48<23:50,  1.41it/s]\u001b[A\n",
      "Epoch 2:  11%|█         | 237/2252 [02:48<23:52,  1.41it/s]\u001b[A\n",
      "Epoch 2:  11%|█         | 238/2252 [02:49<23:49,  1.41it/s]\u001b[A\n",
      "Epoch 2:  11%|█         | 239/2252 [02:50<23:47,  1.41it/s]\u001b[A\n",
      "Epoch 2:  11%|█         | 240/2252 [02:50<23:46,  1.41it/s]\u001b[A"
     ]
    },
    {
     "name": "stdout",
     "output_type": "stream",
     "text": [
      "Processed batch 241/2252\n"
     ]
    },
    {
     "name": "stderr",
     "output_type": "stream",
     "text": [
      "\n",
      "Epoch 2:  11%|█         | 241/2252 [02:51<23:44,  1.41it/s]\u001b[A\n",
      "Epoch 2:  11%|█         | 242/2252 [02:52<23:43,  1.41it/s]\u001b[A\n",
      "Epoch 2:  11%|█         | 243/2252 [02:53<23:43,  1.41it/s]\u001b[A\n",
      "Epoch 2:  11%|█         | 244/2252 [02:53<23:43,  1.41it/s]\u001b[A\n",
      "Epoch 2:  11%|█         | 245/2252 [02:54<23:44,  1.41it/s]\u001b[A\n",
      "Epoch 2:  11%|█         | 246/2252 [02:55<23:42,  1.41it/s]\u001b[A\n",
      "Epoch 2:  11%|█         | 247/2252 [02:55<23:43,  1.41it/s]\u001b[A\n",
      "Epoch 2:  11%|█         | 248/2252 [02:56<23:42,  1.41it/s]\u001b[A\n",
      "Epoch 2:  11%|█         | 249/2252 [02:57<23:41,  1.41it/s]\u001b[A\n",
      "Epoch 2:  11%|█         | 250/2252 [02:58<23:39,  1.41it/s]\u001b[A"
     ]
    },
    {
     "name": "stdout",
     "output_type": "stream",
     "text": [
      "Processed batch 251/2252\n"
     ]
    },
    {
     "name": "stderr",
     "output_type": "stream",
     "text": [
      "\n",
      "Epoch 2:  11%|█         | 251/2252 [02:58<23:40,  1.41it/s]\u001b[A\n",
      "Epoch 2:  11%|█         | 252/2252 [02:59<23:39,  1.41it/s]\u001b[A\n",
      "Epoch 2:  11%|█         | 253/2252 [03:00<23:38,  1.41it/s]\u001b[A\n",
      "Epoch 2:  11%|█▏        | 254/2252 [03:00<23:39,  1.41it/s]\u001b[A\n",
      "Epoch 2:  11%|█▏        | 255/2252 [03:01<23:39,  1.41it/s]\u001b[A\n",
      "Epoch 2:  11%|█▏        | 256/2252 [03:02<23:38,  1.41it/s]\u001b[A\n",
      "Epoch 2:  11%|█▏        | 257/2252 [03:03<23:37,  1.41it/s]\u001b[A\n",
      "Epoch 2:  11%|█▏        | 258/2252 [03:03<23:37,  1.41it/s]\u001b[A\n",
      "Epoch 2:  12%|█▏        | 259/2252 [03:04<23:35,  1.41it/s]\u001b[A\n",
      "Epoch 2:  12%|█▏        | 260/2252 [03:05<23:37,  1.41it/s]\u001b[A"
     ]
    },
    {
     "name": "stdout",
     "output_type": "stream",
     "text": [
      "Processed batch 261/2252\n"
     ]
    },
    {
     "name": "stderr",
     "output_type": "stream",
     "text": [
      "\n",
      "Epoch 2:  12%|█▏        | 261/2252 [03:05<23:35,  1.41it/s]\u001b[A\n",
      "Epoch 2:  12%|█▏        | 262/2252 [03:06<23:32,  1.41it/s]\u001b[A\n",
      "Epoch 2:  12%|█▏        | 263/2252 [03:07<23:29,  1.41it/s]\u001b[A\n",
      "Epoch 2:  12%|█▏        | 264/2252 [03:08<23:31,  1.41it/s]\u001b[A\n",
      "Epoch 2:  12%|█▏        | 265/2252 [03:08<23:29,  1.41it/s]\u001b[A\n",
      "Epoch 2:  12%|█▏        | 266/2252 [03:09<23:29,  1.41it/s]\u001b[A\n",
      "Epoch 2:  12%|█▏        | 267/2252 [03:10<23:29,  1.41it/s]\u001b[A\n",
      "Epoch 2:  12%|█▏        | 268/2252 [03:10<23:29,  1.41it/s]\u001b[A\n",
      "Epoch 2:  12%|█▏        | 269/2252 [03:11<23:27,  1.41it/s]\u001b[A\n",
      "Epoch 2:  12%|█▏        | 270/2252 [03:12<23:25,  1.41it/s]\u001b[A"
     ]
    },
    {
     "name": "stdout",
     "output_type": "stream",
     "text": [
      "Processed batch 271/2252\n"
     ]
    },
    {
     "name": "stderr",
     "output_type": "stream",
     "text": [
      "\n",
      "Epoch 2:  12%|█▏        | 271/2252 [03:12<23:24,  1.41it/s]\u001b[A\n",
      "Epoch 2:  12%|█▏        | 272/2252 [03:13<23:24,  1.41it/s]\u001b[A\n",
      "Epoch 2:  12%|█▏        | 273/2252 [03:14<23:22,  1.41it/s]\u001b[A\n",
      "Epoch 2:  12%|█▏        | 274/2252 [03:15<23:21,  1.41it/s]\u001b[A\n",
      "Epoch 2:  12%|█▏        | 275/2252 [03:15<23:19,  1.41it/s]\u001b[A\n",
      "Epoch 2:  12%|█▏        | 276/2252 [03:16<23:18,  1.41it/s]\u001b[A\n",
      "Epoch 2:  12%|█▏        | 277/2252 [03:17<23:17,  1.41it/s]\u001b[A\n",
      "Epoch 2:  12%|█▏        | 278/2252 [03:17<23:16,  1.41it/s]\u001b[A\n",
      "Epoch 2:  12%|█▏        | 279/2252 [03:18<23:16,  1.41it/s]\u001b[A\n",
      "Epoch 2:  12%|█▏        | 280/2252 [03:19<23:22,  1.41it/s]\u001b[A"
     ]
    },
    {
     "name": "stdout",
     "output_type": "stream",
     "text": [
      "Processed batch 281/2252\n"
     ]
    },
    {
     "name": "stderr",
     "output_type": "stream",
     "text": [
      "\n",
      "Epoch 2:  12%|█▏        | 281/2252 [03:20<23:12,  1.42it/s]\u001b[A\n",
      "Epoch 2:  13%|█▎        | 282/2252 [03:20<23:13,  1.41it/s]\u001b[A\n",
      "Epoch 2:  13%|█▎        | 283/2252 [03:21<23:11,  1.42it/s]\u001b[A\n",
      "Epoch 2:  13%|█▎        | 284/2252 [03:22<23:11,  1.41it/s]\u001b[A\n",
      "Epoch 2:  13%|█▎        | 285/2252 [03:22<23:12,  1.41it/s]\u001b[A\n",
      "Epoch 2:  13%|█▎        | 286/2252 [03:23<23:14,  1.41it/s]\u001b[A\n",
      "Epoch 2:  13%|█▎        | 287/2252 [03:24<23:13,  1.41it/s]\u001b[A\n",
      "Epoch 2:  13%|█▎        | 288/2252 [03:25<23:16,  1.41it/s]\u001b[A\n",
      "Epoch 2:  13%|█▎        | 289/2252 [03:25<23:15,  1.41it/s]\u001b[A\n",
      "Epoch 2:  13%|█▎        | 290/2252 [03:26<23:11,  1.41it/s]\u001b[A"
     ]
    },
    {
     "name": "stdout",
     "output_type": "stream",
     "text": [
      "Processed batch 291/2252\n"
     ]
    },
    {
     "name": "stderr",
     "output_type": "stream",
     "text": [
      "\n",
      "Epoch 2:  13%|█▎        | 291/2252 [03:27<23:10,  1.41it/s]\u001b[A\n",
      "Epoch 2:  13%|█▎        | 292/2252 [03:27<23:09,  1.41it/s]\u001b[A\n",
      "Epoch 2:  13%|█▎        | 293/2252 [03:28<23:08,  1.41it/s]\u001b[A\n",
      "Epoch 2:  13%|█▎        | 294/2252 [03:29<23:08,  1.41it/s]\u001b[A\n",
      "Epoch 2:  13%|█▎        | 295/2252 [03:30<23:09,  1.41it/s]\u001b[A\n",
      "Epoch 2:  13%|█▎        | 296/2252 [03:30<23:08,  1.41it/s]\u001b[A\n",
      "Epoch 2:  13%|█▎        | 297/2252 [03:31<23:10,  1.41it/s]\u001b[A\n",
      "Epoch 2:  13%|█▎        | 298/2252 [03:32<23:08,  1.41it/s]\u001b[A\n",
      "Epoch 2:  13%|█▎        | 299/2252 [03:32<23:05,  1.41it/s]\u001b[A\n",
      "Epoch 2:  13%|█▎        | 300/2252 [03:33<23:04,  1.41it/s]\u001b[A"
     ]
    },
    {
     "name": "stdout",
     "output_type": "stream",
     "text": [
      "Processed batch 301/2252\n"
     ]
    },
    {
     "name": "stderr",
     "output_type": "stream",
     "text": [
      "\n",
      "Epoch 2:  13%|█▎        | 301/2252 [03:34<23:04,  1.41it/s]\u001b[A\n",
      "Epoch 2:  13%|█▎        | 302/2252 [03:34<23:05,  1.41it/s]\u001b[A\n",
      "Epoch 2:  13%|█▎        | 303/2252 [03:35<23:04,  1.41it/s]\u001b[A\n",
      "Epoch 2:  13%|█▎        | 304/2252 [03:36<23:02,  1.41it/s]\u001b[A\n",
      "Epoch 2:  14%|█▎        | 305/2252 [03:37<23:02,  1.41it/s]\u001b[A\n",
      "Epoch 2:  14%|█▎        | 306/2252 [03:37<23:03,  1.41it/s]\u001b[A\n",
      "Epoch 2:  14%|█▎        | 307/2252 [03:38<23:00,  1.41it/s]\u001b[A\n",
      "Epoch 2:  14%|█▎        | 308/2252 [03:39<23:01,  1.41it/s]\u001b[A\n",
      "Epoch 2:  14%|█▎        | 309/2252 [03:39<23:01,  1.41it/s]\u001b[A\n",
      "Epoch 2:  14%|█▍        | 310/2252 [03:40<22:59,  1.41it/s]\u001b[A"
     ]
    },
    {
     "name": "stdout",
     "output_type": "stream",
     "text": [
      "Processed batch 311/2252\n"
     ]
    },
    {
     "name": "stderr",
     "output_type": "stream",
     "text": [
      "\n",
      "Epoch 2:  14%|█▍        | 311/2252 [03:41<22:58,  1.41it/s]\u001b[A\n",
      "Epoch 2:  14%|█▍        | 312/2252 [03:42<22:58,  1.41it/s]\u001b[A\n",
      "Epoch 2:  14%|█▍        | 313/2252 [03:42<22:55,  1.41it/s]\u001b[A\n",
      "Epoch 2:  14%|█▍        | 314/2252 [03:43<22:55,  1.41it/s]\u001b[A\n",
      "Epoch 2:  14%|█▍        | 315/2252 [03:44<22:53,  1.41it/s]\u001b[A\n",
      "Epoch 2:  14%|█▍        | 316/2252 [03:44<22:50,  1.41it/s]\u001b[A\n",
      "Epoch 2:  14%|█▍        | 317/2252 [03:45<22:50,  1.41it/s]\u001b[A\n",
      "Epoch 2:  14%|█▍        | 318/2252 [03:46<22:48,  1.41it/s]\u001b[A\n",
      "Epoch 2:  14%|█▍        | 319/2252 [03:47<22:46,  1.41it/s]\u001b[A\n",
      "Epoch 2:  14%|█▍        | 320/2252 [03:47<22:44,  1.42it/s]\u001b[A"
     ]
    },
    {
     "name": "stdout",
     "output_type": "stream",
     "text": [
      "Processed batch 321/2252\n"
     ]
    },
    {
     "name": "stderr",
     "output_type": "stream",
     "text": [
      "\n",
      "Epoch 2:  14%|█▍        | 321/2252 [03:48<22:46,  1.41it/s]\u001b[A\n",
      "Epoch 2:  14%|█▍        | 322/2252 [03:49<22:45,  1.41it/s]\u001b[A\n",
      "Epoch 2:  14%|█▍        | 323/2252 [03:49<22:45,  1.41it/s]\u001b[A\n",
      "Epoch 2:  14%|█▍        | 324/2252 [03:50<22:44,  1.41it/s]\u001b[A\n",
      "Epoch 2:  14%|█▍        | 325/2252 [03:51<22:44,  1.41it/s]\u001b[A\n",
      "Epoch 2:  14%|█▍        | 326/2252 [03:51<22:45,  1.41it/s]\u001b[A\n",
      "Epoch 2:  15%|█▍        | 327/2252 [03:52<22:42,  1.41it/s]\u001b[A\n",
      "Epoch 2:  15%|█▍        | 328/2252 [03:53<22:38,  1.42it/s]\u001b[A\n",
      "Epoch 2:  15%|█▍        | 329/2252 [03:54<22:38,  1.42it/s]\u001b[A\n",
      "Epoch 2:  15%|█▍        | 330/2252 [03:54<22:39,  1.41it/s]\u001b[A"
     ]
    },
    {
     "name": "stdout",
     "output_type": "stream",
     "text": [
      "Processed batch 331/2252\n"
     ]
    },
    {
     "name": "stderr",
     "output_type": "stream",
     "text": [
      "\n",
      "Epoch 2:  15%|█▍        | 331/2252 [03:55<22:37,  1.42it/s]\u001b[A\n",
      "Epoch 2:  15%|█▍        | 332/2252 [03:56<22:37,  1.41it/s]\u001b[A\n",
      "Epoch 2:  15%|█▍        | 333/2252 [03:56<22:36,  1.41it/s]\u001b[A\n",
      "Epoch 2:  15%|█▍        | 334/2252 [03:57<22:36,  1.41it/s]\u001b[A\n",
      "Epoch 2:  15%|█▍        | 335/2252 [03:58<22:35,  1.41it/s]\u001b[A\n",
      "Epoch 2:  15%|█▍        | 336/2252 [03:59<22:36,  1.41it/s]\u001b[A\n",
      "Epoch 2:  15%|█▍        | 337/2252 [03:59<22:36,  1.41it/s]\u001b[A\n",
      "Epoch 2:  15%|█▌        | 338/2252 [04:00<22:37,  1.41it/s]\u001b[A\n",
      "Epoch 2:  15%|█▌        | 339/2252 [04:01<22:35,  1.41it/s]\u001b[A\n",
      "Epoch 2:  15%|█▌        | 340/2252 [04:01<22:36,  1.41it/s]\u001b[A"
     ]
    },
    {
     "name": "stdout",
     "output_type": "stream",
     "text": [
      "Processed batch 341/2252\n"
     ]
    },
    {
     "name": "stderr",
     "output_type": "stream",
     "text": [
      "\n",
      "Epoch 2:  15%|█▌        | 341/2252 [04:02<22:37,  1.41it/s]\u001b[A\n",
      "Epoch 2:  15%|█▌        | 342/2252 [04:03<22:34,  1.41it/s]\u001b[A\n",
      "Epoch 2:  15%|█▌        | 343/2252 [04:04<22:33,  1.41it/s]\u001b[A\n",
      "Epoch 2:  15%|█▌        | 344/2252 [04:04<22:34,  1.41it/s]\u001b[A\n",
      "Epoch 2:  15%|█▌        | 345/2252 [04:05<22:33,  1.41it/s]\u001b[A\n",
      "Epoch 2:  15%|█▌        | 346/2252 [04:06<22:36,  1.41it/s]\u001b[A\n",
      "Epoch 2:  15%|█▌        | 347/2252 [04:06<22:33,  1.41it/s]\u001b[A\n",
      "Epoch 2:  15%|█▌        | 348/2252 [04:07<22:32,  1.41it/s]\u001b[A\n",
      "Epoch 2:  15%|█▌        | 349/2252 [04:08<22:31,  1.41it/s]\u001b[A\n",
      "Epoch 2:  16%|█▌        | 350/2252 [04:08<22:30,  1.41it/s]\u001b[A"
     ]
    },
    {
     "name": "stdout",
     "output_type": "stream",
     "text": [
      "Processed batch 351/2252\n"
     ]
    },
    {
     "name": "stderr",
     "output_type": "stream",
     "text": [
      "\n",
      "Epoch 2:  16%|█▌        | 351/2252 [04:09<22:28,  1.41it/s]\u001b[A\n",
      "Epoch 2:  16%|█▌        | 352/2252 [04:10<22:27,  1.41it/s]\u001b[A\n",
      "Epoch 2:  16%|█▌        | 353/2252 [04:11<22:29,  1.41it/s]\u001b[A\n",
      "Epoch 2:  16%|█▌        | 354/2252 [04:11<22:28,  1.41it/s]\u001b[A\n",
      "Epoch 2:  16%|█▌        | 355/2252 [04:12<22:24,  1.41it/s]\u001b[A\n",
      "Epoch 2:  16%|█▌        | 356/2252 [04:13<22:23,  1.41it/s]\u001b[A\n",
      "Epoch 2:  16%|█▌        | 357/2252 [04:13<22:21,  1.41it/s]\u001b[A\n",
      "Epoch 2:  16%|█▌        | 358/2252 [04:14<22:19,  1.41it/s]\u001b[A\n",
      "Epoch 2:  16%|█▌        | 359/2252 [04:15<22:19,  1.41it/s]\u001b[A\n",
      "Epoch 2:  16%|█▌        | 360/2252 [04:16<22:19,  1.41it/s]\u001b[A"
     ]
    },
    {
     "name": "stdout",
     "output_type": "stream",
     "text": [
      "Processed batch 361/2252\n"
     ]
    },
    {
     "name": "stderr",
     "output_type": "stream",
     "text": [
      "\n",
      "Epoch 2:  16%|█▌        | 361/2252 [04:16<22:16,  1.41it/s]\u001b[A\n",
      "Epoch 2:  16%|█▌        | 362/2252 [04:17<22:17,  1.41it/s]\u001b[A\n",
      "Epoch 2:  16%|█▌        | 363/2252 [04:18<22:15,  1.41it/s]\u001b[A\n",
      "Epoch 2:  16%|█▌        | 364/2252 [04:18<22:15,  1.41it/s]\u001b[A\n",
      "Epoch 2:  16%|█▌        | 365/2252 [04:19<22:14,  1.41it/s]\u001b[A\n",
      "Epoch 2:  16%|█▋        | 366/2252 [04:20<22:14,  1.41it/s]\u001b[A\n",
      "Epoch 2:  16%|█▋        | 367/2252 [04:21<22:14,  1.41it/s]\u001b[A\n",
      "Epoch 2:  16%|█▋        | 368/2252 [04:21<22:15,  1.41it/s]\u001b[A\n",
      "Epoch 2:  16%|█▋        | 369/2252 [04:22<22:14,  1.41it/s]\u001b[A\n",
      "Epoch 2:  16%|█▋        | 370/2252 [04:23<22:14,  1.41it/s]\u001b[A"
     ]
    },
    {
     "name": "stdout",
     "output_type": "stream",
     "text": [
      "Processed batch 371/2252\n"
     ]
    },
    {
     "name": "stderr",
     "output_type": "stream",
     "text": [
      "\n",
      "Epoch 2:  16%|█▋        | 371/2252 [04:23<22:18,  1.41it/s]\u001b[A\n",
      "Epoch 2:  17%|█▋        | 372/2252 [04:24<22:15,  1.41it/s]\u001b[A\n",
      "Epoch 2:  17%|█▋        | 373/2252 [04:25<22:12,  1.41it/s]\u001b[A\n",
      "Epoch 2:  17%|█▋        | 374/2252 [04:26<22:12,  1.41it/s]\u001b[A\n",
      "Epoch 2:  17%|█▋        | 375/2252 [04:26<22:11,  1.41it/s]\u001b[A\n",
      "Epoch 2:  17%|█▋        | 376/2252 [04:27<22:12,  1.41it/s]\u001b[A\n",
      "Epoch 2:  17%|█▋        | 377/2252 [04:28<22:11,  1.41it/s]\u001b[A\n",
      "Epoch 2:  17%|█▋        | 378/2252 [04:28<22:14,  1.40it/s]\u001b[A\n",
      "Epoch 2:  17%|█▋        | 379/2252 [04:29<22:10,  1.41it/s]\u001b[A\n",
      "Epoch 2:  17%|█▋        | 380/2252 [04:30<22:07,  1.41it/s]\u001b[A"
     ]
    },
    {
     "name": "stdout",
     "output_type": "stream",
     "text": [
      "Processed batch 381/2252\n"
     ]
    },
    {
     "name": "stderr",
     "output_type": "stream",
     "text": [
      "\n",
      "Epoch 2:  17%|█▋        | 381/2252 [04:30<22:06,  1.41it/s]\u001b[A\n",
      "Epoch 2:  17%|█▋        | 382/2252 [04:31<22:06,  1.41it/s]\u001b[A\n",
      "Epoch 2:  17%|█▋        | 383/2252 [04:32<22:05,  1.41it/s]\u001b[A\n",
      "Epoch 2:  17%|█▋        | 384/2252 [04:33<22:05,  1.41it/s]\u001b[A\n",
      "Epoch 2:  17%|█▋        | 385/2252 [04:33<22:04,  1.41it/s]\u001b[A\n",
      "Epoch 2:  17%|█▋        | 386/2252 [04:34<22:04,  1.41it/s]\u001b[A\n",
      "Epoch 2:  17%|█▋        | 387/2252 [04:35<22:03,  1.41it/s]\u001b[A\n",
      "Epoch 2:  17%|█▋        | 388/2252 [04:35<22:02,  1.41it/s]\u001b[A\n",
      "Epoch 2:  17%|█▋        | 389/2252 [04:36<22:03,  1.41it/s]\u001b[A\n",
      "Epoch 2:  17%|█▋        | 390/2252 [04:37<22:02,  1.41it/s]\u001b[A"
     ]
    },
    {
     "name": "stdout",
     "output_type": "stream",
     "text": [
      "Processed batch 391/2252\n"
     ]
    },
    {
     "name": "stderr",
     "output_type": "stream",
     "text": [
      "\n",
      "Epoch 2:  17%|█▋        | 391/2252 [04:38<22:01,  1.41it/s]\u001b[A\n",
      "Epoch 2:  17%|█▋        | 392/2252 [04:38<22:03,  1.41it/s]\u001b[A\n",
      "Epoch 2:  17%|█▋        | 393/2252 [04:39<21:57,  1.41it/s]\u001b[A\n",
      "Epoch 2:  17%|█▋        | 394/2252 [04:40<21:56,  1.41it/s]\u001b[A\n",
      "Epoch 2:  18%|█▊        | 395/2252 [04:40<21:56,  1.41it/s]\u001b[A\n",
      "Epoch 2:  18%|█▊        | 396/2252 [04:41<21:55,  1.41it/s]\u001b[A\n",
      "Epoch 2:  18%|█▊        | 397/2252 [04:42<21:53,  1.41it/s]\u001b[A\n",
      "Epoch 2:  18%|█▊        | 398/2252 [04:43<21:52,  1.41it/s]\u001b[A\n",
      "Epoch 2:  18%|█▊        | 399/2252 [04:43<21:52,  1.41it/s]\u001b[A\n",
      "Epoch 2:  18%|█▊        | 400/2252 [04:44<21:50,  1.41it/s]\u001b[A"
     ]
    },
    {
     "name": "stdout",
     "output_type": "stream",
     "text": [
      "Processed batch 401/2252\n"
     ]
    },
    {
     "name": "stderr",
     "output_type": "stream",
     "text": [
      "\n",
      "Epoch 2:  18%|█▊        | 401/2252 [04:45<21:51,  1.41it/s]\u001b[A\n",
      "Epoch 2:  18%|█▊        | 402/2252 [04:45<21:53,  1.41it/s]\u001b[A\n",
      "Epoch 2:  18%|█▊        | 403/2252 [04:46<21:51,  1.41it/s]\u001b[A\n",
      "Epoch 2:  18%|█▊        | 404/2252 [04:47<21:49,  1.41it/s]\u001b[A\n",
      "Epoch 2:  18%|█▊        | 405/2252 [04:47<21:51,  1.41it/s]\u001b[A\n",
      "Epoch 2:  18%|█▊        | 406/2252 [04:48<21:50,  1.41it/s]\u001b[A\n",
      "Epoch 2:  18%|█▊        | 407/2252 [04:49<21:49,  1.41it/s]\u001b[A\n",
      "Epoch 2:  18%|█▊        | 408/2252 [04:50<21:48,  1.41it/s]\u001b[A\n",
      "Epoch 2:  18%|█▊        | 409/2252 [04:50<21:48,  1.41it/s]\u001b[A\n",
      "Epoch 2:  18%|█▊        | 410/2252 [04:51<21:47,  1.41it/s]\u001b[A"
     ]
    },
    {
     "name": "stdout",
     "output_type": "stream",
     "text": [
      "Processed batch 411/2252\n"
     ]
    },
    {
     "name": "stderr",
     "output_type": "stream",
     "text": [
      "\n",
      "Epoch 2:  18%|█▊        | 411/2252 [04:52<21:49,  1.41it/s]\u001b[A\n",
      "Epoch 2:  18%|█▊        | 412/2252 [04:52<21:47,  1.41it/s]\u001b[A\n",
      "Epoch 2:  18%|█▊        | 413/2252 [04:53<21:45,  1.41it/s]\u001b[A\n",
      "Epoch 2:  18%|█▊        | 414/2252 [04:54<21:42,  1.41it/s]\u001b[A\n",
      "Epoch 2:  18%|█▊        | 415/2252 [04:55<21:42,  1.41it/s]\u001b[A\n",
      "Epoch 2:  18%|█▊        | 416/2252 [04:55<21:42,  1.41it/s]\u001b[A\n",
      "Epoch 2:  19%|█▊        | 417/2252 [04:56<21:44,  1.41it/s]\u001b[A\n",
      "Epoch 2:  19%|█▊        | 418/2252 [04:57<21:43,  1.41it/s]\u001b[A\n",
      "Epoch 2:  19%|█▊        | 419/2252 [04:57<21:41,  1.41it/s]\u001b[A\n",
      "Epoch 2:  19%|█▊        | 420/2252 [04:58<21:40,  1.41it/s]\u001b[A"
     ]
    },
    {
     "name": "stdout",
     "output_type": "stream",
     "text": [
      "Processed batch 421/2252\n"
     ]
    },
    {
     "name": "stderr",
     "output_type": "stream",
     "text": [
      "\n",
      "Epoch 2:  19%|█▊        | 421/2252 [04:59<21:41,  1.41it/s]\u001b[A\n",
      "Epoch 2:  19%|█▊        | 422/2252 [05:00<21:42,  1.40it/s]\u001b[A\n",
      "Epoch 2:  19%|█▉        | 423/2252 [05:00<21:40,  1.41it/s]\u001b[A\n",
      "Epoch 2:  19%|█▉        | 424/2252 [05:01<21:38,  1.41it/s]\u001b[A\n",
      "Epoch 2:  19%|█▉        | 425/2252 [05:02<21:35,  1.41it/s]\u001b[A\n",
      "Epoch 2:  19%|█▉        | 426/2252 [05:02<21:35,  1.41it/s]\u001b[A\n",
      "Epoch 2:  19%|█▉        | 427/2252 [05:03<21:35,  1.41it/s]\u001b[A\n",
      "Epoch 2:  19%|█▉        | 428/2252 [05:04<21:35,  1.41it/s]\u001b[A\n",
      "Epoch 2:  19%|█▉        | 429/2252 [05:05<21:35,  1.41it/s]\u001b[A\n",
      "Epoch 2:  19%|█▉        | 430/2252 [05:05<21:34,  1.41it/s]\u001b[A"
     ]
    },
    {
     "name": "stdout",
     "output_type": "stream",
     "text": [
      "Processed batch 431/2252\n"
     ]
    },
    {
     "name": "stderr",
     "output_type": "stream",
     "text": [
      "\n",
      "Epoch 2:  19%|█▉        | 431/2252 [05:06<21:32,  1.41it/s]\u001b[A\n",
      "Epoch 2:  19%|█▉        | 432/2252 [05:07<21:31,  1.41it/s]\u001b[A\n",
      "Epoch 2:  19%|█▉        | 433/2252 [05:07<21:31,  1.41it/s]\u001b[A\n",
      "Epoch 2:  19%|█▉        | 434/2252 [05:08<21:30,  1.41it/s]\u001b[A\n",
      "Epoch 2:  19%|█▉        | 435/2252 [05:09<21:32,  1.41it/s]\u001b[A\n",
      "Epoch 2:  19%|█▉        | 436/2252 [05:10<21:30,  1.41it/s]\u001b[A\n",
      "Epoch 2:  19%|█▉        | 437/2252 [05:10<21:28,  1.41it/s]\u001b[A\n",
      "Epoch 2:  19%|█▉        | 438/2252 [05:11<21:27,  1.41it/s]\u001b[A\n",
      "Epoch 2:  19%|█▉        | 439/2252 [05:12<21:27,  1.41it/s]\u001b[A\n",
      "Epoch 2:  20%|█▉        | 440/2252 [05:12<21:26,  1.41it/s]\u001b[A"
     ]
    },
    {
     "name": "stdout",
     "output_type": "stream",
     "text": [
      "Processed batch 441/2252\n"
     ]
    },
    {
     "name": "stderr",
     "output_type": "stream",
     "text": [
      "\n",
      "Epoch 2:  20%|█▉        | 441/2252 [05:13<21:25,  1.41it/s]\u001b[A\n",
      "Epoch 2:  20%|█▉        | 442/2252 [05:14<21:26,  1.41it/s]\u001b[A\n",
      "Epoch 2:  20%|█▉        | 443/2252 [05:14<21:24,  1.41it/s]\u001b[A\n",
      "Epoch 2:  20%|█▉        | 444/2252 [05:15<21:23,  1.41it/s]\u001b[A\n",
      "Epoch 2:  20%|█▉        | 445/2252 [05:16<21:21,  1.41it/s]\u001b[A\n",
      "Epoch 2:  20%|█▉        | 446/2252 [05:17<21:22,  1.41it/s]\u001b[A\n",
      "Epoch 2:  20%|█▉        | 447/2252 [05:17<21:22,  1.41it/s]\u001b[A\n",
      "Epoch 2:  20%|█▉        | 448/2252 [05:18<21:21,  1.41it/s]\u001b[A\n",
      "Epoch 2:  20%|█▉        | 449/2252 [05:19<21:23,  1.40it/s]\u001b[A\n",
      "Epoch 2:  20%|█▉        | 450/2252 [05:19<21:22,  1.40it/s]\u001b[A"
     ]
    },
    {
     "name": "stdout",
     "output_type": "stream",
     "text": [
      "Processed batch 451/2252\n"
     ]
    },
    {
     "name": "stderr",
     "output_type": "stream",
     "text": [
      "\n",
      "Epoch 2:  20%|██        | 451/2252 [05:20<21:21,  1.41it/s]\u001b[A\n",
      "Epoch 2:  20%|██        | 452/2252 [05:21<21:19,  1.41it/s]\u001b[A\n",
      "Epoch 2:  20%|██        | 453/2252 [05:22<21:20,  1.40it/s]\u001b[A\n",
      "Epoch 2:  20%|██        | 454/2252 [05:22<21:19,  1.40it/s]\u001b[A\n",
      "Epoch 2:  20%|██        | 455/2252 [05:23<21:16,  1.41it/s]\u001b[A\n",
      "Epoch 2:  20%|██        | 456/2252 [05:24<21:14,  1.41it/s]\u001b[A\n",
      "Epoch 2:  20%|██        | 457/2252 [05:24<21:12,  1.41it/s]\u001b[A\n",
      "Epoch 2:  20%|██        | 458/2252 [05:25<21:09,  1.41it/s]\u001b[A\n",
      "Epoch 2:  20%|██        | 459/2252 [05:26<21:09,  1.41it/s]\u001b[A\n",
      "Epoch 2:  20%|██        | 460/2252 [05:27<21:10,  1.41it/s]\u001b[A"
     ]
    },
    {
     "name": "stdout",
     "output_type": "stream",
     "text": [
      "Processed batch 461/2252\n"
     ]
    },
    {
     "name": "stderr",
     "output_type": "stream",
     "text": [
      "\n",
      "Epoch 2:  20%|██        | 461/2252 [05:27<21:15,  1.40it/s]\u001b[A\n",
      "Epoch 2:  21%|██        | 462/2252 [05:28<21:10,  1.41it/s]\u001b[A\n",
      "Epoch 2:  21%|██        | 463/2252 [05:29<21:09,  1.41it/s]\u001b[A\n",
      "Epoch 2:  21%|██        | 464/2252 [05:29<21:08,  1.41it/s]\u001b[A\n",
      "Epoch 2:  21%|██        | 465/2252 [05:30<21:06,  1.41it/s]\u001b[A\n",
      "Epoch 2:  21%|██        | 466/2252 [05:31<21:06,  1.41it/s]\u001b[A\n",
      "Epoch 2:  21%|██        | 467/2252 [05:32<21:06,  1.41it/s]\u001b[A\n",
      "Epoch 2:  21%|██        | 468/2252 [05:32<21:06,  1.41it/s]\u001b[A\n",
      "Epoch 2:  21%|██        | 469/2252 [05:33<21:04,  1.41it/s]\u001b[A\n",
      "Epoch 2:  21%|██        | 470/2252 [05:34<21:03,  1.41it/s]\u001b[A"
     ]
    },
    {
     "name": "stdout",
     "output_type": "stream",
     "text": [
      "Processed batch 471/2252\n"
     ]
    },
    {
     "name": "stderr",
     "output_type": "stream",
     "text": [
      "\n",
      "Epoch 2:  21%|██        | 471/2252 [05:34<21:02,  1.41it/s]\u001b[A\n",
      "Epoch 2:  21%|██        | 472/2252 [05:35<21:01,  1.41it/s]\u001b[A\n",
      "Epoch 2:  21%|██        | 473/2252 [05:36<21:02,  1.41it/s]\u001b[A\n",
      "Epoch 2:  21%|██        | 474/2252 [05:36<21:01,  1.41it/s]\u001b[A\n",
      "Epoch 2:  21%|██        | 475/2252 [05:37<21:01,  1.41it/s]\u001b[A\n",
      "Epoch 2:  21%|██        | 476/2252 [05:38<21:01,  1.41it/s]\u001b[A\n",
      "Epoch 2:  21%|██        | 477/2252 [05:39<20:58,  1.41it/s]\u001b[A\n",
      "Epoch 2:  21%|██        | 478/2252 [05:39<20:56,  1.41it/s]\u001b[A\n",
      "Epoch 2:  21%|██▏       | 479/2252 [05:40<20:57,  1.41it/s]\u001b[A\n",
      "Epoch 2:  21%|██▏       | 480/2252 [05:41<20:54,  1.41it/s]\u001b[A"
     ]
    },
    {
     "name": "stdout",
     "output_type": "stream",
     "text": [
      "Processed batch 481/2252\n"
     ]
    },
    {
     "name": "stderr",
     "output_type": "stream",
     "text": [
      "\n",
      "Epoch 2:  21%|██▏       | 481/2252 [05:41<20:54,  1.41it/s]\u001b[A\n",
      "Epoch 2:  21%|██▏       | 482/2252 [05:42<20:53,  1.41it/s]\u001b[A\n",
      "Epoch 2:  21%|██▏       | 483/2252 [05:43<20:52,  1.41it/s]\u001b[A\n",
      "Epoch 2:  21%|██▏       | 484/2252 [05:44<20:51,  1.41it/s]\u001b[A\n",
      "Epoch 2:  22%|██▏       | 485/2252 [05:44<20:49,  1.41it/s]\u001b[A\n",
      "Epoch 2:  22%|██▏       | 486/2252 [05:45<20:50,  1.41it/s]\u001b[A\n",
      "Epoch 2:  22%|██▏       | 487/2252 [05:46<20:49,  1.41it/s]\u001b[A\n",
      "Epoch 2:  22%|██▏       | 488/2252 [05:46<20:49,  1.41it/s]\u001b[A\n",
      "Epoch 2:  22%|██▏       | 489/2252 [05:47<20:49,  1.41it/s]\u001b[A\n",
      "Epoch 2:  22%|██▏       | 490/2252 [05:48<20:47,  1.41it/s]\u001b[A"
     ]
    },
    {
     "name": "stdout",
     "output_type": "stream",
     "text": [
      "Processed batch 491/2252\n"
     ]
    },
    {
     "name": "stderr",
     "output_type": "stream",
     "text": [
      "\n",
      "Epoch 2:  22%|██▏       | 491/2252 [05:49<20:47,  1.41it/s]\u001b[A\n",
      "Epoch 2:  22%|██▏       | 492/2252 [05:49<20:47,  1.41it/s]\u001b[A\n",
      "Epoch 2:  22%|██▏       | 493/2252 [05:50<20:47,  1.41it/s]\u001b[A\n",
      "Epoch 2:  22%|██▏       | 494/2252 [05:51<20:46,  1.41it/s]\u001b[A\n",
      "Epoch 2:  22%|██▏       | 495/2252 [05:51<20:44,  1.41it/s]\u001b[A\n",
      "Epoch 2:  22%|██▏       | 496/2252 [05:52<20:44,  1.41it/s]\u001b[A\n",
      "Epoch 2:  22%|██▏       | 497/2252 [05:53<20:45,  1.41it/s]\u001b[A\n",
      "Epoch 2:  22%|██▏       | 498/2252 [05:53<20:45,  1.41it/s]\u001b[A\n",
      "Epoch 2:  22%|██▏       | 499/2252 [05:54<20:43,  1.41it/s]\u001b[A\n",
      "Epoch 2:  22%|██▏       | 500/2252 [05:55<20:41,  1.41it/s]\u001b[A"
     ]
    },
    {
     "name": "stdout",
     "output_type": "stream",
     "text": [
      "Processed batch 501/2252\n"
     ]
    },
    {
     "name": "stderr",
     "output_type": "stream",
     "text": [
      "\n",
      "Epoch 2:  22%|██▏       | 501/2252 [05:56<20:39,  1.41it/s]\u001b[A\n",
      "Epoch 2:  22%|██▏       | 502/2252 [05:56<20:38,  1.41it/s]\u001b[A\n",
      "Epoch 2:  22%|██▏       | 503/2252 [05:57<20:38,  1.41it/s]\u001b[A\n",
      "Epoch 2:  22%|██▏       | 504/2252 [05:58<20:38,  1.41it/s]\u001b[A\n",
      "Epoch 2:  22%|██▏       | 505/2252 [05:58<20:38,  1.41it/s]\u001b[A\n",
      "Epoch 2:  22%|██▏       | 506/2252 [05:59<20:40,  1.41it/s]\u001b[A\n",
      "Epoch 2:  23%|██▎       | 507/2252 [06:00<20:39,  1.41it/s]\u001b[A\n",
      "Epoch 2:  23%|██▎       | 508/2252 [06:01<20:38,  1.41it/s]\u001b[A\n",
      "Epoch 2:  23%|██▎       | 509/2252 [06:01<20:36,  1.41it/s]\u001b[A\n",
      "Epoch 2:  23%|██▎       | 510/2252 [06:02<20:34,  1.41it/s]\u001b[A"
     ]
    },
    {
     "name": "stdout",
     "output_type": "stream",
     "text": [
      "Processed batch 511/2252\n"
     ]
    },
    {
     "name": "stderr",
     "output_type": "stream",
     "text": [
      "\n",
      "Epoch 2:  23%|██▎       | 511/2252 [06:03<20:34,  1.41it/s]\u001b[A\n",
      "Epoch 2:  23%|██▎       | 512/2252 [06:03<20:32,  1.41it/s]\u001b[A\n",
      "Epoch 2:  23%|██▎       | 513/2252 [06:04<20:34,  1.41it/s]\u001b[A\n",
      "Epoch 2:  23%|██▎       | 514/2252 [06:05<20:33,  1.41it/s]\u001b[A\n",
      "Epoch 2:  23%|██▎       | 515/2252 [06:06<20:31,  1.41it/s]\u001b[A\n",
      "Epoch 2:  23%|██▎       | 516/2252 [06:06<20:30,  1.41it/s]\u001b[A\n",
      "Epoch 2:  23%|██▎       | 517/2252 [06:07<20:29,  1.41it/s]\u001b[A\n",
      "Epoch 2:  23%|██▎       | 518/2252 [06:08<20:29,  1.41it/s]\u001b[A\n",
      "Epoch 2:  23%|██▎       | 519/2252 [06:08<20:28,  1.41it/s]\u001b[A\n",
      "Epoch 2:  23%|██▎       | 520/2252 [06:09<20:27,  1.41it/s]\u001b[A"
     ]
    },
    {
     "name": "stdout",
     "output_type": "stream",
     "text": [
      "Processed batch 521/2252\n"
     ]
    },
    {
     "name": "stderr",
     "output_type": "stream",
     "text": [
      "\n",
      "Epoch 2:  23%|██▎       | 521/2252 [06:10<20:26,  1.41it/s]\u001b[A\n",
      "Epoch 2:  23%|██▎       | 522/2252 [06:11<20:26,  1.41it/s]\u001b[A\n",
      "Epoch 2:  23%|██▎       | 523/2252 [06:11<20:24,  1.41it/s]\u001b[A\n",
      "Epoch 2:  23%|██▎       | 524/2252 [06:12<20:26,  1.41it/s]\u001b[A\n",
      "Epoch 2:  23%|██▎       | 525/2252 [06:13<20:24,  1.41it/s]\u001b[A\n",
      "Epoch 2:  23%|██▎       | 526/2252 [06:13<20:24,  1.41it/s]\u001b[A\n",
      "Epoch 2:  23%|██▎       | 527/2252 [06:14<20:25,  1.41it/s]\u001b[A\n",
      "Epoch 2:  23%|██▎       | 528/2252 [06:15<20:23,  1.41it/s]\u001b[A\n",
      "Epoch 2:  23%|██▎       | 529/2252 [06:15<20:22,  1.41it/s]\u001b[A\n",
      "Epoch 2:  24%|██▎       | 530/2252 [06:16<20:21,  1.41it/s]\u001b[A"
     ]
    },
    {
     "name": "stdout",
     "output_type": "stream",
     "text": [
      "Processed batch 531/2252\n"
     ]
    },
    {
     "name": "stderr",
     "output_type": "stream",
     "text": [
      "\n",
      "Epoch 2:  24%|██▎       | 531/2252 [06:17<20:22,  1.41it/s]\u001b[A\n",
      "Epoch 2:  24%|██▎       | 532/2252 [06:18<20:21,  1.41it/s]\u001b[A\n",
      "Epoch 2:  24%|██▎       | 533/2252 [06:18<20:23,  1.41it/s]\u001b[A\n",
      "Epoch 2:  24%|██▎       | 534/2252 [06:19<20:19,  1.41it/s]\u001b[A\n",
      "Epoch 2:  24%|██▍       | 535/2252 [06:20<20:19,  1.41it/s]\u001b[A\n",
      "Epoch 2:  24%|██▍       | 536/2252 [06:20<20:18,  1.41it/s]\u001b[A\n",
      "Epoch 2:  24%|██▍       | 537/2252 [06:21<20:18,  1.41it/s]\u001b[A\n",
      "Epoch 2:  24%|██▍       | 538/2252 [06:22<20:17,  1.41it/s]\u001b[A\n",
      "Epoch 2:  24%|██▍       | 539/2252 [06:23<20:15,  1.41it/s]\u001b[A\n",
      "Epoch 2:  24%|██▍       | 540/2252 [06:23<20:15,  1.41it/s]\u001b[A"
     ]
    },
    {
     "name": "stdout",
     "output_type": "stream",
     "text": [
      "Processed batch 541/2252\n"
     ]
    },
    {
     "name": "stderr",
     "output_type": "stream",
     "text": [
      "\n",
      "Epoch 2:  24%|██▍       | 541/2252 [06:24<20:13,  1.41it/s]\u001b[A\n",
      "Epoch 2:  24%|██▍       | 542/2252 [06:25<20:13,  1.41it/s]\u001b[A\n",
      "Epoch 2:  24%|██▍       | 543/2252 [06:25<20:12,  1.41it/s]\u001b[A\n",
      "Epoch 2:  24%|██▍       | 544/2252 [06:26<20:11,  1.41it/s]\u001b[A\n",
      "Epoch 2:  24%|██▍       | 545/2252 [06:27<20:11,  1.41it/s]\u001b[A\n",
      "Epoch 2:  24%|██▍       | 546/2252 [06:28<20:10,  1.41it/s]\u001b[A\n",
      "Epoch 2:  24%|██▍       | 547/2252 [06:28<20:11,  1.41it/s]\u001b[A\n",
      "Epoch 2:  24%|██▍       | 548/2252 [06:29<20:09,  1.41it/s]\u001b[A\n",
      "Epoch 2:  24%|██▍       | 549/2252 [06:30<20:07,  1.41it/s]\u001b[A\n",
      "Epoch 2:  24%|██▍       | 550/2252 [06:30<20:06,  1.41it/s]\u001b[A"
     ]
    },
    {
     "name": "stdout",
     "output_type": "stream",
     "text": [
      "Processed batch 551/2252\n"
     ]
    },
    {
     "name": "stderr",
     "output_type": "stream",
     "text": [
      "\n",
      "Epoch 2:  24%|██▍       | 551/2252 [06:31<20:05,  1.41it/s]\u001b[A\n",
      "Epoch 2:  25%|██▍       | 552/2252 [06:32<20:05,  1.41it/s]\u001b[A\n",
      "Epoch 2:  25%|██▍       | 553/2252 [06:33<20:03,  1.41it/s]\u001b[A\n",
      "Epoch 2:  25%|██▍       | 554/2252 [06:33<20:00,  1.41it/s]\u001b[A\n",
      "Epoch 2:  25%|██▍       | 555/2252 [06:34<20:00,  1.41it/s]\u001b[A\n",
      "Epoch 2:  25%|██▍       | 556/2252 [06:35<19:59,  1.41it/s]\u001b[A\n",
      "Epoch 2:  25%|██▍       | 557/2252 [06:35<20:01,  1.41it/s]\u001b[A\n",
      "Epoch 2:  25%|██▍       | 558/2252 [06:36<20:00,  1.41it/s]\u001b[A\n",
      "Epoch 2:  25%|██▍       | 559/2252 [06:37<20:00,  1.41it/s]\u001b[A\n",
      "Epoch 2:  25%|██▍       | 560/2252 [06:37<20:01,  1.41it/s]\u001b[A"
     ]
    },
    {
     "name": "stdout",
     "output_type": "stream",
     "text": [
      "Processed batch 561/2252\n"
     ]
    },
    {
     "name": "stderr",
     "output_type": "stream",
     "text": [
      "\n",
      "Epoch 2:  25%|██▍       | 561/2252 [06:38<20:00,  1.41it/s]\u001b[A\n",
      "Epoch 2:  25%|██▍       | 562/2252 [06:39<19:58,  1.41it/s]\u001b[A\n",
      "Epoch 2:  25%|██▌       | 563/2252 [06:40<19:58,  1.41it/s]\u001b[A\n",
      "Epoch 2:  25%|██▌       | 564/2252 [06:40<19:58,  1.41it/s]\u001b[A\n",
      "Epoch 2:  25%|██▌       | 565/2252 [06:41<19:57,  1.41it/s]\u001b[A\n",
      "Epoch 2:  25%|██▌       | 566/2252 [06:42<19:57,  1.41it/s]\u001b[A\n",
      "Epoch 2:  25%|██▌       | 567/2252 [06:42<19:57,  1.41it/s]\u001b[A\n",
      "Epoch 2:  25%|██▌       | 568/2252 [06:43<19:55,  1.41it/s]\u001b[A\n",
      "Epoch 2:  25%|██▌       | 569/2252 [06:44<19:55,  1.41it/s]\u001b[A\n",
      "Epoch 2:  25%|██▌       | 570/2252 [06:45<19:52,  1.41it/s]\u001b[A"
     ]
    },
    {
     "name": "stdout",
     "output_type": "stream",
     "text": [
      "Processed batch 571/2252\n"
     ]
    },
    {
     "name": "stderr",
     "output_type": "stream",
     "text": [
      "\n",
      "Epoch 2:  25%|██▌       | 571/2252 [06:45<19:52,  1.41it/s]\u001b[A\n",
      "Epoch 2:  25%|██▌       | 572/2252 [06:46<19:50,  1.41it/s]\u001b[A\n",
      "Epoch 2:  25%|██▌       | 573/2252 [06:47<19:50,  1.41it/s]\u001b[A\n",
      "Epoch 2:  25%|██▌       | 574/2252 [06:47<19:50,  1.41it/s]\u001b[A\n",
      "Epoch 2:  26%|██▌       | 575/2252 [06:48<19:48,  1.41it/s]\u001b[A\n",
      "Epoch 2:  26%|██▌       | 576/2252 [06:49<19:47,  1.41it/s]\u001b[A\n",
      "Epoch 2:  26%|██▌       | 577/2252 [06:50<19:46,  1.41it/s]\u001b[A\n",
      "Epoch 2:  26%|██▌       | 578/2252 [06:50<19:44,  1.41it/s]\u001b[A\n",
      "Epoch 2:  26%|██▌       | 579/2252 [06:51<19:43,  1.41it/s]\u001b[A\n",
      "Epoch 2:  26%|██▌       | 580/2252 [06:52<19:43,  1.41it/s]\u001b[A"
     ]
    },
    {
     "name": "stdout",
     "output_type": "stream",
     "text": [
      "Processed batch 581/2252\n"
     ]
    },
    {
     "name": "stderr",
     "output_type": "stream",
     "text": [
      "\n",
      "Epoch 2:  26%|██▌       | 581/2252 [06:52<19:43,  1.41it/s]\u001b[A\n",
      "Epoch 2:  26%|██▌       | 582/2252 [06:53<19:42,  1.41it/s]\u001b[A\n",
      "Epoch 2:  26%|██▌       | 583/2252 [06:54<19:43,  1.41it/s]\u001b[A\n",
      "Epoch 2:  26%|██▌       | 584/2252 [06:54<19:41,  1.41it/s]\u001b[A\n",
      "Epoch 2:  26%|██▌       | 585/2252 [06:55<19:40,  1.41it/s]\u001b[A\n",
      "Epoch 2:  26%|██▌       | 586/2252 [06:56<19:39,  1.41it/s]\u001b[A\n",
      "Epoch 2:  26%|██▌       | 587/2252 [06:57<19:39,  1.41it/s]\u001b[A\n",
      "Epoch 2:  26%|██▌       | 588/2252 [06:57<19:39,  1.41it/s]\u001b[A\n",
      "Epoch 2:  26%|██▌       | 589/2252 [06:58<19:37,  1.41it/s]\u001b[A\n",
      "Epoch 2:  26%|██▌       | 590/2252 [06:59<19:38,  1.41it/s]\u001b[A"
     ]
    },
    {
     "name": "stdout",
     "output_type": "stream",
     "text": [
      "Processed batch 591/2252\n"
     ]
    },
    {
     "name": "stderr",
     "output_type": "stream",
     "text": [
      "\n",
      "Epoch 2:  26%|██▌       | 591/2252 [06:59<19:39,  1.41it/s]\u001b[A\n",
      "Epoch 2:  26%|██▋       | 592/2252 [07:00<19:37,  1.41it/s]\u001b[A\n",
      "Epoch 2:  26%|██▋       | 593/2252 [07:01<19:36,  1.41it/s]\u001b[A\n",
      "Epoch 2:  26%|██▋       | 594/2252 [07:02<19:38,  1.41it/s]\u001b[A\n",
      "Epoch 2:  26%|██▋       | 595/2252 [07:02<19:37,  1.41it/s]\u001b[A\n",
      "Epoch 2:  26%|██▋       | 596/2252 [07:03<19:35,  1.41it/s]\u001b[A\n",
      "Epoch 2:  27%|██▋       | 597/2252 [07:04<19:33,  1.41it/s]\u001b[A\n",
      "Epoch 2:  27%|██▋       | 598/2252 [07:04<19:31,  1.41it/s]\u001b[A\n",
      "Epoch 2:  27%|██▋       | 599/2252 [07:05<19:29,  1.41it/s]\u001b[A\n",
      "Epoch 2:  27%|██▋       | 600/2252 [07:06<19:28,  1.41it/s]\u001b[A"
     ]
    },
    {
     "name": "stdout",
     "output_type": "stream",
     "text": [
      "Processed batch 601/2252\n"
     ]
    },
    {
     "name": "stderr",
     "output_type": "stream",
     "text": [
      "\n",
      "Epoch 2:  27%|██▋       | 601/2252 [07:07<19:28,  1.41it/s]\u001b[A\n",
      "Epoch 2:  27%|██▋       | 602/2252 [07:07<19:27,  1.41it/s]\u001b[A\n",
      "Epoch 2:  27%|██▋       | 603/2252 [07:08<19:27,  1.41it/s]\u001b[A\n",
      "Epoch 2:  27%|██▋       | 604/2252 [07:09<19:26,  1.41it/s]\u001b[A\n",
      "Epoch 2:  27%|██▋       | 605/2252 [07:09<19:27,  1.41it/s]\u001b[A\n",
      "Epoch 2:  27%|██▋       | 606/2252 [07:10<19:28,  1.41it/s]\u001b[A\n",
      "Epoch 2:  27%|██▋       | 607/2252 [07:11<19:30,  1.41it/s]\u001b[A\n",
      "Epoch 2:  27%|██▋       | 608/2252 [07:11<19:26,  1.41it/s]\u001b[A\n",
      "Epoch 2:  27%|██▋       | 609/2252 [07:12<19:24,  1.41it/s]\u001b[A\n",
      "Epoch 2:  27%|██▋       | 610/2252 [07:13<19:23,  1.41it/s]\u001b[A"
     ]
    },
    {
     "name": "stdout",
     "output_type": "stream",
     "text": [
      "Processed batch 611/2252\n"
     ]
    },
    {
     "name": "stderr",
     "output_type": "stream",
     "text": [
      "\n",
      "Epoch 2:  27%|██▋       | 611/2252 [07:14<19:22,  1.41it/s]\u001b[A\n",
      "Epoch 2:  27%|██▋       | 612/2252 [07:14<19:20,  1.41it/s]\u001b[A\n",
      "Epoch 2:  27%|██▋       | 613/2252 [07:15<19:18,  1.41it/s]\u001b[A\n",
      "Epoch 2:  27%|██▋       | 614/2252 [07:16<19:19,  1.41it/s]\u001b[A\n",
      "Epoch 2:  27%|██▋       | 615/2252 [07:16<19:17,  1.41it/s]\u001b[A\n",
      "Epoch 2:  27%|██▋       | 616/2252 [07:17<19:16,  1.41it/s]\u001b[A\n",
      "Epoch 2:  27%|██▋       | 617/2252 [07:18<19:16,  1.41it/s]\u001b[A\n",
      "Epoch 2:  27%|██▋       | 618/2252 [07:19<19:18,  1.41it/s]\u001b[A\n",
      "Epoch 2:  27%|██▋       | 619/2252 [07:19<19:18,  1.41it/s]\u001b[A\n",
      "Epoch 2:  28%|██▊       | 620/2252 [07:20<19:18,  1.41it/s]\u001b[A"
     ]
    },
    {
     "name": "stdout",
     "output_type": "stream",
     "text": [
      "Processed batch 621/2252\n"
     ]
    },
    {
     "name": "stderr",
     "output_type": "stream",
     "text": [
      "\n",
      "Epoch 2:  28%|██▊       | 621/2252 [07:21<19:16,  1.41it/s]\u001b[A\n",
      "Epoch 2:  28%|██▊       | 622/2252 [07:21<19:13,  1.41it/s]\u001b[A\n",
      "Epoch 2:  28%|██▊       | 623/2252 [07:22<19:12,  1.41it/s]\u001b[A\n",
      "Epoch 2:  28%|██▊       | 624/2252 [07:23<19:12,  1.41it/s]\u001b[A\n",
      "Epoch 2:  28%|██▊       | 625/2252 [07:24<19:12,  1.41it/s]\u001b[A\n",
      "Epoch 2:  28%|██▊       | 626/2252 [07:24<19:11,  1.41it/s]\u001b[A\n",
      "Epoch 2:  28%|██▊       | 627/2252 [07:25<19:09,  1.41it/s]\u001b[A\n",
      "Epoch 2:  28%|██▊       | 628/2252 [07:26<19:10,  1.41it/s]\u001b[A\n",
      "Epoch 2:  28%|██▊       | 629/2252 [07:26<19:10,  1.41it/s]\u001b[A\n",
      "Epoch 2:  28%|██▊       | 630/2252 [07:27<19:11,  1.41it/s]\u001b[A"
     ]
    },
    {
     "name": "stdout",
     "output_type": "stream",
     "text": [
      "Processed batch 631/2252\n"
     ]
    },
    {
     "name": "stderr",
     "output_type": "stream",
     "text": [
      "\n",
      "Epoch 2:  28%|██▊       | 631/2252 [07:28<19:11,  1.41it/s]\u001b[A\n",
      "Epoch 2:  28%|██▊       | 632/2252 [07:29<19:09,  1.41it/s]\u001b[A\n",
      "Epoch 2:  28%|██▊       | 633/2252 [07:29<19:09,  1.41it/s]\u001b[A\n",
      "Epoch 2:  28%|██▊       | 634/2252 [07:30<19:07,  1.41it/s]\u001b[A\n",
      "Epoch 2:  28%|██▊       | 635/2252 [07:31<19:06,  1.41it/s]\u001b[A\n",
      "Epoch 2:  28%|██▊       | 636/2252 [07:31<19:04,  1.41it/s]\u001b[A\n",
      "Epoch 2:  28%|██▊       | 637/2252 [07:32<19:02,  1.41it/s]\u001b[A\n",
      "Epoch 2:  28%|██▊       | 638/2252 [07:33<19:03,  1.41it/s]\u001b[A\n",
      "Epoch 2:  28%|██▊       | 639/2252 [07:33<19:03,  1.41it/s]\u001b[A\n",
      "Epoch 2:  28%|██▊       | 640/2252 [07:34<19:03,  1.41it/s]\u001b[A"
     ]
    },
    {
     "name": "stdout",
     "output_type": "stream",
     "text": [
      "Processed batch 641/2252\n"
     ]
    },
    {
     "name": "stderr",
     "output_type": "stream",
     "text": [
      "\n",
      "Epoch 2:  28%|██▊       | 641/2252 [07:35<19:04,  1.41it/s]\u001b[A\n",
      "Epoch 2:  29%|██▊       | 642/2252 [07:36<19:03,  1.41it/s]\u001b[A\n",
      "Epoch 2:  29%|██▊       | 643/2252 [07:36<19:03,  1.41it/s]\u001b[A\n",
      "Epoch 2:  29%|██▊       | 644/2252 [07:37<19:00,  1.41it/s]\u001b[A\n",
      "Epoch 2:  29%|██▊       | 645/2252 [07:38<19:00,  1.41it/s]\u001b[A\n",
      "Epoch 2:  29%|██▊       | 646/2252 [07:38<18:59,  1.41it/s]\u001b[A\n",
      "Epoch 2:  29%|██▊       | 647/2252 [07:39<18:58,  1.41it/s]\u001b[A\n",
      "Epoch 2:  29%|██▉       | 648/2252 [07:40<18:56,  1.41it/s]\u001b[A\n",
      "Epoch 2:  29%|██▉       | 649/2252 [07:41<18:59,  1.41it/s]\u001b[A\n",
      "Epoch 2:  29%|██▉       | 650/2252 [07:41<18:57,  1.41it/s]\u001b[A"
     ]
    },
    {
     "name": "stdout",
     "output_type": "stream",
     "text": [
      "Processed batch 651/2252\n"
     ]
    },
    {
     "name": "stderr",
     "output_type": "stream",
     "text": [
      "\n",
      "Epoch 2:  29%|██▉       | 651/2252 [07:42<18:56,  1.41it/s]\u001b[A\n",
      "Epoch 2:  29%|██▉       | 652/2252 [07:43<18:54,  1.41it/s]\u001b[A\n",
      "Epoch 2:  29%|██▉       | 653/2252 [07:43<18:54,  1.41it/s]\u001b[A\n",
      "Epoch 2:  29%|██▉       | 654/2252 [07:44<18:54,  1.41it/s]\u001b[A\n",
      "Epoch 2:  29%|██▉       | 655/2252 [07:45<18:53,  1.41it/s]\u001b[A\n",
      "Epoch 2:  29%|██▉       | 656/2252 [07:46<18:51,  1.41it/s]\u001b[A\n",
      "Epoch 2:  29%|██▉       | 657/2252 [07:46<18:52,  1.41it/s]\u001b[A\n",
      "Epoch 2:  29%|██▉       | 658/2252 [07:47<18:50,  1.41it/s]\u001b[A\n",
      "Epoch 2:  29%|██▉       | 659/2252 [07:48<18:50,  1.41it/s]\u001b[A\n",
      "Epoch 2:  29%|██▉       | 660/2252 [07:48<18:49,  1.41it/s]\u001b[A"
     ]
    },
    {
     "name": "stdout",
     "output_type": "stream",
     "text": [
      "Processed batch 661/2252\n"
     ]
    },
    {
     "name": "stderr",
     "output_type": "stream",
     "text": [
      "\n",
      "Epoch 2:  29%|██▉       | 661/2252 [07:49<18:47,  1.41it/s]\u001b[A\n",
      "Epoch 2:  29%|██▉       | 662/2252 [07:50<18:46,  1.41it/s]\u001b[A\n",
      "Epoch 2:  29%|██▉       | 663/2252 [07:50<18:47,  1.41it/s]\u001b[A\n",
      "Epoch 2:  29%|██▉       | 664/2252 [07:51<18:46,  1.41it/s]\u001b[A\n",
      "Epoch 2:  30%|██▉       | 665/2252 [07:52<18:45,  1.41it/s]\u001b[A\n",
      "Epoch 2:  30%|██▉       | 666/2252 [07:53<18:44,  1.41it/s]\u001b[A\n",
      "Epoch 2:  30%|██▉       | 667/2252 [07:53<18:43,  1.41it/s]\u001b[A\n",
      "Epoch 2:  30%|██▉       | 668/2252 [07:54<18:41,  1.41it/s]\u001b[A\n",
      "Epoch 2:  30%|██▉       | 669/2252 [07:55<18:40,  1.41it/s]\u001b[A\n",
      "Epoch 2:  30%|██▉       | 670/2252 [07:55<18:40,  1.41it/s]\u001b[A"
     ]
    },
    {
     "name": "stdout",
     "output_type": "stream",
     "text": [
      "Processed batch 671/2252\n"
     ]
    },
    {
     "name": "stderr",
     "output_type": "stream",
     "text": [
      "\n",
      "Epoch 2:  30%|██▉       | 671/2252 [07:56<18:39,  1.41it/s]\u001b[A\n",
      "Epoch 2:  30%|██▉       | 672/2252 [07:57<18:40,  1.41it/s]\u001b[A\n",
      "Epoch 2:  30%|██▉       | 673/2252 [07:58<18:39,  1.41it/s]\u001b[A\n",
      "Epoch 2:  30%|██▉       | 674/2252 [07:58<18:40,  1.41it/s]\u001b[A\n",
      "Epoch 2:  30%|██▉       | 675/2252 [07:59<18:37,  1.41it/s]\u001b[A\n",
      "Epoch 2:  30%|███       | 676/2252 [08:00<18:36,  1.41it/s]\u001b[A\n",
      "Epoch 2:  30%|███       | 677/2252 [08:00<18:35,  1.41it/s]\u001b[A\n",
      "Epoch 2:  30%|███       | 678/2252 [08:01<18:33,  1.41it/s]\u001b[A\n",
      "Epoch 2:  30%|███       | 679/2252 [08:02<18:33,  1.41it/s]\u001b[A\n",
      "Epoch 2:  30%|███       | 680/2252 [08:03<18:33,  1.41it/s]\u001b[A"
     ]
    },
    {
     "name": "stdout",
     "output_type": "stream",
     "text": [
      "Processed batch 681/2252\n"
     ]
    },
    {
     "name": "stderr",
     "output_type": "stream",
     "text": [
      "\n",
      "Epoch 2:  30%|███       | 681/2252 [08:03<18:31,  1.41it/s]\u001b[A\n",
      "Epoch 2:  30%|███       | 682/2252 [08:04<18:29,  1.41it/s]\u001b[A\n",
      "Epoch 2:  30%|███       | 683/2252 [08:05<18:30,  1.41it/s]\u001b[A\n",
      "Epoch 2:  30%|███       | 684/2252 [08:05<18:30,  1.41it/s]\u001b[A\n",
      "Epoch 2:  30%|███       | 685/2252 [08:06<18:30,  1.41it/s]\u001b[A\n",
      "Epoch 2:  30%|███       | 686/2252 [08:07<18:29,  1.41it/s]\u001b[A\n",
      "Epoch 2:  31%|███       | 687/2252 [08:08<18:32,  1.41it/s]\u001b[A\n",
      "Epoch 2:  31%|███       | 688/2252 [08:08<18:31,  1.41it/s]\u001b[A\n",
      "Epoch 2:  31%|███       | 689/2252 [08:09<18:29,  1.41it/s]\u001b[A\n",
      "Epoch 2:  31%|███       | 690/2252 [08:10<18:29,  1.41it/s]\u001b[A"
     ]
    },
    {
     "name": "stdout",
     "output_type": "stream",
     "text": [
      "Processed batch 691/2252\n"
     ]
    },
    {
     "name": "stderr",
     "output_type": "stream",
     "text": [
      "\n",
      "Epoch 2:  31%|███       | 691/2252 [08:10<18:27,  1.41it/s]\u001b[A\n",
      "Epoch 2:  31%|███       | 692/2252 [08:11<18:29,  1.41it/s]\u001b[A\n",
      "Epoch 2:  31%|███       | 693/2252 [08:12<18:28,  1.41it/s]\u001b[A\n",
      "Epoch 2:  31%|███       | 694/2252 [08:12<18:28,  1.41it/s]\u001b[A\n",
      "Epoch 2:  31%|███       | 695/2252 [08:13<18:26,  1.41it/s]\u001b[A\n",
      "Epoch 2:  31%|███       | 696/2252 [08:14<18:25,  1.41it/s]\u001b[A\n",
      "Epoch 2:  31%|███       | 697/2252 [08:15<18:23,  1.41it/s]\u001b[A\n",
      "Epoch 2:  31%|███       | 698/2252 [08:15<18:22,  1.41it/s]\u001b[A\n",
      "Epoch 2:  31%|███       | 699/2252 [08:16<18:21,  1.41it/s]\u001b[A\n",
      "Epoch 2:  31%|███       | 700/2252 [08:17<18:20,  1.41it/s]\u001b[A"
     ]
    },
    {
     "name": "stdout",
     "output_type": "stream",
     "text": [
      "Processed batch 701/2252\n"
     ]
    },
    {
     "name": "stderr",
     "output_type": "stream",
     "text": [
      "\n",
      "Epoch 2:  31%|███       | 701/2252 [08:17<18:21,  1.41it/s]\u001b[A\n",
      "Epoch 2:  31%|███       | 702/2252 [08:18<18:21,  1.41it/s]\u001b[A\n",
      "Epoch 2:  31%|███       | 703/2252 [08:19<18:20,  1.41it/s]\u001b[A\n",
      "Epoch 2:  31%|███▏      | 704/2252 [08:20<18:18,  1.41it/s]\u001b[A\n",
      "Epoch 2:  31%|███▏      | 705/2252 [08:20<18:17,  1.41it/s]\u001b[A\n",
      "Epoch 2:  31%|███▏      | 706/2252 [08:21<18:15,  1.41it/s]\u001b[A\n",
      "Epoch 2:  31%|███▏      | 707/2252 [08:22<18:13,  1.41it/s]\u001b[A\n",
      "Epoch 2:  31%|███▏      | 708/2252 [08:22<18:13,  1.41it/s]\u001b[A\n",
      "Epoch 2:  31%|███▏      | 709/2252 [08:23<18:14,  1.41it/s]\u001b[A\n",
      "Epoch 2:  32%|███▏      | 710/2252 [08:24<18:13,  1.41it/s]\u001b[A"
     ]
    },
    {
     "name": "stdout",
     "output_type": "stream",
     "text": [
      "Processed batch 711/2252\n"
     ]
    },
    {
     "name": "stderr",
     "output_type": "stream",
     "text": [
      "\n",
      "Epoch 2:  32%|███▏      | 711/2252 [08:25<18:12,  1.41it/s]\u001b[A\n",
      "Epoch 2:  32%|███▏      | 712/2252 [08:25<18:11,  1.41it/s]\u001b[A\n",
      "Epoch 2:  32%|███▏      | 713/2252 [08:26<18:12,  1.41it/s]\u001b[A\n",
      "Epoch 2:  32%|███▏      | 714/2252 [08:27<18:12,  1.41it/s]\u001b[A\n",
      "Epoch 2:  32%|███▏      | 715/2252 [08:27<18:10,  1.41it/s]\u001b[A\n",
      "Epoch 2:  32%|███▏      | 716/2252 [08:28<18:09,  1.41it/s]\u001b[A\n",
      "Epoch 2:  32%|███▏      | 717/2252 [08:29<18:07,  1.41it/s]\u001b[A\n",
      "Epoch 2:  32%|███▏      | 718/2252 [08:29<18:06,  1.41it/s]\u001b[A\n",
      "Epoch 2:  32%|███▏      | 719/2252 [08:30<18:04,  1.41it/s]\u001b[A\n",
      "Epoch 2:  32%|███▏      | 720/2252 [08:31<18:03,  1.41it/s]\u001b[A"
     ]
    },
    {
     "name": "stdout",
     "output_type": "stream",
     "text": [
      "Processed batch 721/2252\n"
     ]
    },
    {
     "name": "stderr",
     "output_type": "stream",
     "text": [
      "\n",
      "Epoch 2:  32%|███▏      | 721/2252 [08:32<18:02,  1.41it/s]\u001b[A\n",
      "Epoch 2:  32%|███▏      | 722/2252 [08:32<18:02,  1.41it/s]\u001b[A\n",
      "Epoch 2:  32%|███▏      | 723/2252 [08:33<18:02,  1.41it/s]\u001b[A\n",
      "Epoch 2:  32%|███▏      | 724/2252 [08:34<18:02,  1.41it/s]\u001b[A\n",
      "Epoch 2:  32%|███▏      | 725/2252 [08:34<18:02,  1.41it/s]\u001b[A\n",
      "Epoch 2:  32%|███▏      | 726/2252 [08:35<18:02,  1.41it/s]\u001b[A\n",
      "Epoch 2:  32%|███▏      | 727/2252 [08:36<18:02,  1.41it/s]\u001b[A\n",
      "Epoch 2:  32%|███▏      | 728/2252 [08:37<18:01,  1.41it/s]\u001b[A\n",
      "Epoch 2:  32%|███▏      | 729/2252 [08:37<18:00,  1.41it/s]\u001b[A\n",
      "Epoch 2:  32%|███▏      | 730/2252 [08:38<17:59,  1.41it/s]\u001b[A"
     ]
    },
    {
     "name": "stdout",
     "output_type": "stream",
     "text": [
      "Processed batch 731/2252\n"
     ]
    },
    {
     "name": "stderr",
     "output_type": "stream",
     "text": [
      "\n",
      "Epoch 2:  32%|███▏      | 731/2252 [08:39<17:59,  1.41it/s]\u001b[A\n",
      "Epoch 2:  33%|███▎      | 732/2252 [08:39<17:58,  1.41it/s]\u001b[A\n",
      "Epoch 2:  33%|███▎      | 733/2252 [08:40<17:58,  1.41it/s]\u001b[A\n",
      "Epoch 2:  33%|███▎      | 734/2252 [08:41<17:59,  1.41it/s]\u001b[A\n",
      "Epoch 2:  33%|███▎      | 735/2252 [08:42<17:57,  1.41it/s]\u001b[A\n",
      "Epoch 2:  33%|███▎      | 736/2252 [08:42<17:54,  1.41it/s]\u001b[A\n",
      "Epoch 2:  33%|███▎      | 737/2252 [08:43<17:53,  1.41it/s]\u001b[A\n",
      "Epoch 2:  33%|███▎      | 738/2252 [08:44<17:51,  1.41it/s]\u001b[A\n",
      "Epoch 2:  33%|███▎      | 739/2252 [08:44<17:50,  1.41it/s]\u001b[A\n",
      "Epoch 2:  33%|███▎      | 740/2252 [08:45<17:51,  1.41it/s]\u001b[A"
     ]
    },
    {
     "name": "stdout",
     "output_type": "stream",
     "text": [
      "Processed batch 741/2252\n"
     ]
    },
    {
     "name": "stderr",
     "output_type": "stream",
     "text": [
      "\n",
      "Epoch 2:  33%|███▎      | 741/2252 [08:46<17:51,  1.41it/s]\u001b[A\n",
      "Epoch 2:  33%|███▎      | 742/2252 [08:47<17:53,  1.41it/s]\u001b[A\n",
      "Epoch 2:  33%|███▎      | 743/2252 [08:47<17:51,  1.41it/s]\u001b[A\n",
      "Epoch 2:  33%|███▎      | 744/2252 [08:48<17:49,  1.41it/s]\u001b[A\n",
      "Epoch 2:  33%|███▎      | 745/2252 [08:49<17:47,  1.41it/s]\u001b[A\n",
      "Epoch 2:  33%|███▎      | 746/2252 [08:49<17:46,  1.41it/s]\u001b[A\n",
      "Epoch 2:  33%|███▎      | 747/2252 [08:50<17:45,  1.41it/s]\u001b[A\n",
      "Epoch 2:  33%|███▎      | 748/2252 [08:51<17:45,  1.41it/s]\u001b[A\n",
      "Epoch 2:  33%|███▎      | 749/2252 [08:51<17:46,  1.41it/s]\u001b[A\n",
      "Epoch 2:  33%|███▎      | 750/2252 [08:52<17:46,  1.41it/s]\u001b[A"
     ]
    },
    {
     "name": "stdout",
     "output_type": "stream",
     "text": [
      "Processed batch 751/2252\n"
     ]
    },
    {
     "name": "stderr",
     "output_type": "stream",
     "text": [
      "\n",
      "Epoch 2:  33%|███▎      | 751/2252 [08:53<17:46,  1.41it/s]\u001b[A\n",
      "Epoch 2:  33%|███▎      | 752/2252 [08:54<17:43,  1.41it/s]\u001b[A\n",
      "Epoch 2:  33%|███▎      | 753/2252 [08:54<17:42,  1.41it/s]\u001b[A\n",
      "Epoch 2:  33%|███▎      | 754/2252 [08:55<17:41,  1.41it/s]\u001b[A\n",
      "Epoch 2:  34%|███▎      | 755/2252 [08:56<17:40,  1.41it/s]\u001b[A\n",
      "Epoch 2:  34%|███▎      | 756/2252 [08:56<17:38,  1.41it/s]\u001b[A\n",
      "Epoch 2:  34%|███▎      | 757/2252 [08:57<17:39,  1.41it/s]\u001b[A\n",
      "Epoch 2:  34%|███▎      | 758/2252 [08:58<17:37,  1.41it/s]\u001b[A\n",
      "Epoch 2:  34%|███▎      | 759/2252 [08:59<17:37,  1.41it/s]\u001b[A\n",
      "Epoch 2:  34%|███▎      | 760/2252 [08:59<17:36,  1.41it/s]\u001b[A"
     ]
    },
    {
     "name": "stdout",
     "output_type": "stream",
     "text": [
      "Processed batch 761/2252\n"
     ]
    },
    {
     "name": "stderr",
     "output_type": "stream",
     "text": [
      "\n",
      "Epoch 2:  34%|███▍      | 761/2252 [09:00<17:35,  1.41it/s]\u001b[A\n",
      "Epoch 2:  34%|███▍      | 762/2252 [09:01<17:34,  1.41it/s]\u001b[A\n",
      "Epoch 2:  34%|███▍      | 763/2252 [09:01<17:34,  1.41it/s]\u001b[A\n",
      "Epoch 2:  34%|███▍      | 764/2252 [09:02<17:35,  1.41it/s]\u001b[A\n",
      "Epoch 2:  34%|███▍      | 765/2252 [09:03<17:34,  1.41it/s]\u001b[A\n",
      "Epoch 2:  34%|███▍      | 766/2252 [09:04<17:35,  1.41it/s]\u001b[A\n",
      "Epoch 2:  34%|███▍      | 767/2252 [09:04<17:34,  1.41it/s]\u001b[A\n",
      "Epoch 2:  34%|███▍      | 768/2252 [09:05<17:35,  1.41it/s]\u001b[A\n",
      "Epoch 2:  34%|███▍      | 769/2252 [09:06<17:36,  1.40it/s]\u001b[A\n",
      "Epoch 2:  34%|███▍      | 770/2252 [09:06<17:32,  1.41it/s]\u001b[A"
     ]
    },
    {
     "name": "stdout",
     "output_type": "stream",
     "text": [
      "Processed batch 771/2252\n"
     ]
    },
    {
     "name": "stderr",
     "output_type": "stream",
     "text": [
      "\n",
      "Epoch 2:  34%|███▍      | 771/2252 [09:07<17:31,  1.41it/s]\u001b[A\n",
      "Epoch 2:  34%|███▍      | 772/2252 [09:08<17:29,  1.41it/s]\u001b[A\n",
      "Epoch 2:  34%|███▍      | 773/2252 [09:08<17:27,  1.41it/s]\u001b[A\n",
      "Epoch 2:  34%|███▍      | 774/2252 [09:09<17:29,  1.41it/s]\u001b[A\n",
      "Epoch 2:  34%|███▍      | 775/2252 [09:10<17:26,  1.41it/s]\u001b[A\n",
      "Epoch 2:  34%|███▍      | 776/2252 [09:11<17:25,  1.41it/s]\u001b[A\n",
      "Epoch 2:  35%|███▍      | 777/2252 [09:11<17:24,  1.41it/s]\u001b[A\n",
      "Epoch 2:  35%|███▍      | 778/2252 [09:12<17:23,  1.41it/s]\u001b[A\n",
      "Epoch 2:  35%|███▍      | 779/2252 [09:13<17:22,  1.41it/s]\u001b[A\n",
      "Epoch 2:  35%|███▍      | 780/2252 [09:13<17:22,  1.41it/s]\u001b[A"
     ]
    },
    {
     "name": "stdout",
     "output_type": "stream",
     "text": [
      "Processed batch 781/2252\n"
     ]
    },
    {
     "name": "stderr",
     "output_type": "stream",
     "text": [
      "\n",
      "Epoch 2:  35%|███▍      | 781/2252 [09:14<17:21,  1.41it/s]\u001b[A\n",
      "Epoch 2:  35%|███▍      | 782/2252 [09:15<17:21,  1.41it/s]\u001b[A\n",
      "Epoch 2:  35%|███▍      | 783/2252 [09:16<17:22,  1.41it/s]\u001b[A\n",
      "Epoch 2:  35%|███▍      | 784/2252 [09:16<17:23,  1.41it/s]\u001b[A\n",
      "Epoch 2:  35%|███▍      | 785/2252 [09:17<17:22,  1.41it/s]\u001b[A\n",
      "Epoch 2:  35%|███▍      | 786/2252 [09:18<17:22,  1.41it/s]\u001b[A\n",
      "Epoch 2:  35%|███▍      | 787/2252 [09:18<17:22,  1.41it/s]\u001b[A\n",
      "Epoch 2:  35%|███▍      | 788/2252 [09:19<17:20,  1.41it/s]\u001b[A\n",
      "Epoch 2:  35%|███▌      | 789/2252 [09:20<17:20,  1.41it/s]\u001b[A\n",
      "Epoch 2:  35%|███▌      | 790/2252 [09:21<17:18,  1.41it/s]\u001b[A"
     ]
    },
    {
     "name": "stdout",
     "output_type": "stream",
     "text": [
      "Processed batch 791/2252\n"
     ]
    },
    {
     "name": "stderr",
     "output_type": "stream",
     "text": [
      "\n",
      "Epoch 2:  35%|███▌      | 791/2252 [09:21<17:16,  1.41it/s]\u001b[A\n",
      "Epoch 2:  35%|███▌      | 792/2252 [09:22<17:14,  1.41it/s]\u001b[A\n",
      "Epoch 2:  35%|███▌      | 793/2252 [09:23<17:12,  1.41it/s]\u001b[A\n",
      "Epoch 2:  35%|███▌      | 794/2252 [09:23<17:12,  1.41it/s]\u001b[A\n",
      "Epoch 2:  35%|███▌      | 795/2252 [09:24<17:12,  1.41it/s]\u001b[A\n",
      "Epoch 2:  35%|███▌      | 796/2252 [09:25<17:10,  1.41it/s]\u001b[A\n",
      "Epoch 2:  35%|███▌      | 797/2252 [09:26<17:09,  1.41it/s]\u001b[A\n",
      "Epoch 2:  35%|███▌      | 798/2252 [09:26<17:08,  1.41it/s]\u001b[A\n",
      "Epoch 2:  35%|███▌      | 799/2252 [09:27<17:08,  1.41it/s]\u001b[A\n",
      "Epoch 2:  36%|███▌      | 800/2252 [09:28<17:07,  1.41it/s]\u001b[A"
     ]
    },
    {
     "name": "stdout",
     "output_type": "stream",
     "text": [
      "Processed batch 801/2252\n"
     ]
    },
    {
     "name": "stderr",
     "output_type": "stream",
     "text": [
      "\n",
      "Epoch 2:  36%|███▌      | 801/2252 [09:28<17:08,  1.41it/s]\u001b[A\n",
      "Epoch 2:  36%|███▌      | 802/2252 [09:29<17:08,  1.41it/s]\u001b[A\n",
      "Epoch 2:  36%|███▌      | 803/2252 [09:30<17:08,  1.41it/s]\u001b[A\n",
      "Epoch 2:  36%|███▌      | 804/2252 [09:30<17:08,  1.41it/s]\u001b[A\n",
      "Epoch 2:  36%|███▌      | 805/2252 [09:31<17:07,  1.41it/s]\u001b[A\n",
      "Epoch 2:  36%|███▌      | 806/2252 [09:32<17:06,  1.41it/s]\u001b[A\n",
      "Epoch 2:  36%|███▌      | 807/2252 [09:33<17:05,  1.41it/s]\u001b[A\n",
      "Epoch 2:  36%|███▌      | 808/2252 [09:33<17:05,  1.41it/s]\u001b[A\n",
      "Epoch 2:  36%|███▌      | 809/2252 [09:34<17:05,  1.41it/s]\u001b[A\n",
      "Epoch 2:  36%|███▌      | 810/2252 [09:35<17:03,  1.41it/s]\u001b[A"
     ]
    },
    {
     "name": "stdout",
     "output_type": "stream",
     "text": [
      "Processed batch 811/2252\n"
     ]
    },
    {
     "name": "stderr",
     "output_type": "stream",
     "text": [
      "\n",
      "Epoch 2:  36%|███▌      | 811/2252 [09:35<17:02,  1.41it/s]\u001b[A\n",
      "Epoch 2:  36%|███▌      | 812/2252 [09:36<17:01,  1.41it/s]\u001b[A\n",
      "Epoch 2:  36%|███▌      | 813/2252 [09:37<17:00,  1.41it/s]\u001b[A\n",
      "Epoch 2:  36%|███▌      | 814/2252 [09:38<17:00,  1.41it/s]\u001b[A\n",
      "Epoch 2:  36%|███▌      | 815/2252 [09:38<17:00,  1.41it/s]\u001b[A\n",
      "Epoch 2:  36%|███▌      | 816/2252 [09:39<16:59,  1.41it/s]\u001b[A\n",
      "Epoch 2:  36%|███▋      | 817/2252 [09:40<16:58,  1.41it/s]\u001b[A\n",
      "Epoch 2:  36%|███▋      | 818/2252 [09:40<16:56,  1.41it/s]\u001b[A\n",
      "Epoch 2:  36%|███▋      | 819/2252 [09:41<16:55,  1.41it/s]\u001b[A\n",
      "Epoch 2:  36%|███▋      | 820/2252 [09:42<16:55,  1.41it/s]\u001b[A"
     ]
    },
    {
     "name": "stdout",
     "output_type": "stream",
     "text": [
      "Processed batch 821/2252\n"
     ]
    },
    {
     "name": "stderr",
     "output_type": "stream",
     "text": [
      "\n",
      "Epoch 2:  36%|███▋      | 821/2252 [09:43<16:54,  1.41it/s]\u001b[A\n",
      "Epoch 2:  37%|███▋      | 822/2252 [09:43<16:54,  1.41it/s]\u001b[A\n",
      "Epoch 2:  37%|███▋      | 823/2252 [09:44<16:54,  1.41it/s]\u001b[A\n",
      "Epoch 2:  37%|███▋      | 824/2252 [09:45<16:54,  1.41it/s]\u001b[A\n",
      "Epoch 2:  37%|███▋      | 825/2252 [09:45<16:53,  1.41it/s]\u001b[A\n",
      "Epoch 2:  37%|███▋      | 826/2252 [09:46<16:52,  1.41it/s]\u001b[A\n",
      "Epoch 2:  37%|███▋      | 827/2252 [09:47<16:50,  1.41it/s]\u001b[A\n",
      "Epoch 2:  37%|███▋      | 828/2252 [09:48<16:49,  1.41it/s]\u001b[A\n",
      "Epoch 2:  37%|███▋      | 829/2252 [09:48<16:48,  1.41it/s]\u001b[A\n",
      "Epoch 2:  37%|███▋      | 830/2252 [09:49<16:47,  1.41it/s]\u001b[A"
     ]
    },
    {
     "name": "stdout",
     "output_type": "stream",
     "text": [
      "Processed batch 831/2252\n"
     ]
    },
    {
     "name": "stderr",
     "output_type": "stream",
     "text": [
      "\n",
      "Epoch 2:  37%|███▋      | 831/2252 [09:50<16:47,  1.41it/s]\u001b[A\n",
      "Epoch 2:  37%|███▋      | 832/2252 [09:50<16:47,  1.41it/s]\u001b[A\n",
      "Epoch 2:  37%|███▋      | 833/2252 [09:51<16:47,  1.41it/s]\u001b[A\n",
      "Epoch 2:  37%|███▋      | 834/2252 [09:52<16:47,  1.41it/s]\u001b[A\n",
      "Epoch 2:  37%|███▋      | 835/2252 [09:52<16:46,  1.41it/s]\u001b[A\n",
      "Epoch 2:  37%|███▋      | 836/2252 [09:53<16:44,  1.41it/s]\u001b[A\n",
      "Epoch 2:  37%|███▋      | 837/2252 [09:54<16:44,  1.41it/s]\u001b[A\n",
      "Epoch 2:  37%|███▋      | 838/2252 [09:55<16:42,  1.41it/s]\u001b[A\n",
      "Epoch 2:  37%|███▋      | 839/2252 [09:55<16:40,  1.41it/s]\u001b[A\n",
      "Epoch 2:  37%|███▋      | 840/2252 [09:56<16:40,  1.41it/s]\u001b[A"
     ]
    },
    {
     "name": "stdout",
     "output_type": "stream",
     "text": [
      "Processed batch 841/2252\n"
     ]
    },
    {
     "name": "stderr",
     "output_type": "stream",
     "text": [
      "\n",
      "Epoch 2:  37%|███▋      | 841/2252 [09:57<16:40,  1.41it/s]\u001b[A\n",
      "Epoch 2:  37%|███▋      | 842/2252 [09:57<16:40,  1.41it/s]\u001b[A\n",
      "Epoch 2:  37%|███▋      | 843/2252 [09:58<16:39,  1.41it/s]\u001b[A\n",
      "Epoch 2:  37%|███▋      | 844/2252 [09:59<16:39,  1.41it/s]\u001b[A\n",
      "Epoch 2:  38%|███▊      | 845/2252 [10:00<16:38,  1.41it/s]\u001b[A\n",
      "Epoch 2:  38%|███▊      | 846/2252 [10:00<16:37,  1.41it/s]\u001b[A\n",
      "Epoch 2:  38%|███▊      | 847/2252 [10:01<16:36,  1.41it/s]\u001b[A\n",
      "Epoch 2:  38%|███▊      | 848/2252 [10:02<16:35,  1.41it/s]\u001b[A\n",
      "Epoch 2:  38%|███▊      | 849/2252 [10:02<16:35,  1.41it/s]\u001b[A\n",
      "Epoch 2:  38%|███▊      | 850/2252 [10:03<16:34,  1.41it/s]\u001b[A"
     ]
    },
    {
     "name": "stdout",
     "output_type": "stream",
     "text": [
      "Processed batch 851/2252\n"
     ]
    },
    {
     "name": "stderr",
     "output_type": "stream",
     "text": [
      "\n",
      "Epoch 2:  38%|███▊      | 851/2252 [10:04<16:34,  1.41it/s]\u001b[A\n",
      "Epoch 2:  38%|███▊      | 852/2252 [10:05<16:34,  1.41it/s]\u001b[A\n",
      "Epoch 2:  38%|███▊      | 853/2252 [10:05<16:33,  1.41it/s]\u001b[A\n",
      "Epoch 2:  38%|███▊      | 854/2252 [10:06<16:31,  1.41it/s]\u001b[A\n",
      "Epoch 2:  38%|███▊      | 855/2252 [10:07<16:30,  1.41it/s]\u001b[A\n",
      "Epoch 2:  38%|███▊      | 856/2252 [10:07<16:30,  1.41it/s]\u001b[A\n",
      "Epoch 2:  38%|███▊      | 857/2252 [10:08<16:29,  1.41it/s]\u001b[A\n",
      "Epoch 2:  38%|███▊      | 858/2252 [10:09<16:27,  1.41it/s]\u001b[A\n",
      "Epoch 2:  38%|███▊      | 859/2252 [10:09<16:26,  1.41it/s]\u001b[A\n",
      "Epoch 2:  38%|███▊      | 860/2252 [10:10<16:25,  1.41it/s]\u001b[A"
     ]
    },
    {
     "name": "stdout",
     "output_type": "stream",
     "text": [
      "Processed batch 861/2252\n"
     ]
    },
    {
     "name": "stderr",
     "output_type": "stream",
     "text": [
      "\n",
      "Epoch 2:  38%|███▊      | 861/2252 [10:11<16:25,  1.41it/s]\u001b[A\n",
      "Epoch 2:  38%|███▊      | 862/2252 [10:12<16:23,  1.41it/s]\u001b[A\n",
      "Epoch 2:  38%|███▊      | 863/2252 [10:12<16:23,  1.41it/s]\u001b[A\n",
      "Epoch 2:  38%|███▊      | 864/2252 [10:13<16:23,  1.41it/s]\u001b[A\n",
      "Epoch 2:  38%|███▊      | 865/2252 [10:14<16:24,  1.41it/s]\u001b[A\n",
      "Epoch 2:  38%|███▊      | 866/2252 [10:14<16:23,  1.41it/s]\u001b[A\n",
      "Epoch 2:  38%|███▊      | 867/2252 [10:15<16:23,  1.41it/s]\u001b[A\n",
      "Epoch 2:  39%|███▊      | 868/2252 [10:16<16:24,  1.41it/s]\u001b[A\n",
      "Epoch 2:  39%|███▊      | 869/2252 [10:17<16:23,  1.41it/s]\u001b[A\n",
      "Epoch 2:  39%|███▊      | 870/2252 [10:17<16:20,  1.41it/s]\u001b[A"
     ]
    },
    {
     "name": "stdout",
     "output_type": "stream",
     "text": [
      "Processed batch 871/2252\n"
     ]
    },
    {
     "name": "stderr",
     "output_type": "stream",
     "text": [
      "\n",
      "Epoch 2:  39%|███▊      | 871/2252 [10:18<16:19,  1.41it/s]\u001b[A\n",
      "Epoch 2:  39%|███▊      | 872/2252 [10:19<16:20,  1.41it/s]\u001b[A\n",
      "Epoch 2:  39%|███▉      | 873/2252 [10:19<16:19,  1.41it/s]\u001b[A\n",
      "Epoch 2:  39%|███▉      | 874/2252 [10:20<16:18,  1.41it/s]\u001b[A\n",
      "Epoch 2:  39%|███▉      | 875/2252 [10:21<16:17,  1.41it/s]\u001b[A\n",
      "Epoch 2:  39%|███▉      | 876/2252 [10:22<16:17,  1.41it/s]\u001b[A\n",
      "Epoch 2:  39%|███▉      | 877/2252 [10:22<16:17,  1.41it/s]\u001b[A\n",
      "Epoch 2:  39%|███▉      | 878/2252 [10:23<16:15,  1.41it/s]\u001b[A\n",
      "Epoch 2:  39%|███▉      | 879/2252 [10:24<16:13,  1.41it/s]\u001b[A\n",
      "Epoch 2:  39%|███▉      | 880/2252 [10:24<16:13,  1.41it/s]\u001b[A"
     ]
    },
    {
     "name": "stdout",
     "output_type": "stream",
     "text": [
      "Processed batch 881/2252\n"
     ]
    },
    {
     "name": "stderr",
     "output_type": "stream",
     "text": [
      "\n",
      "Epoch 2:  39%|███▉      | 881/2252 [10:25<16:13,  1.41it/s]\u001b[A\n",
      "Epoch 2:  39%|███▉      | 882/2252 [10:26<16:12,  1.41it/s]\u001b[A\n",
      "Epoch 2:  39%|███▉      | 883/2252 [10:27<16:13,  1.41it/s]\u001b[A\n",
      "Epoch 2:  39%|███▉      | 884/2252 [10:27<16:11,  1.41it/s]\u001b[A\n",
      "Epoch 2:  39%|███▉      | 885/2252 [10:28<16:11,  1.41it/s]\u001b[A\n",
      "Epoch 2:  39%|███▉      | 886/2252 [10:29<16:11,  1.41it/s]\u001b[A\n",
      "Epoch 2:  39%|███▉      | 887/2252 [10:29<16:10,  1.41it/s]\u001b[A\n",
      "Epoch 2:  39%|███▉      | 888/2252 [10:30<16:09,  1.41it/s]\u001b[A\n",
      "Epoch 2:  39%|███▉      | 889/2252 [10:31<16:08,  1.41it/s]\u001b[A\n",
      "Epoch 2:  40%|███▉      | 890/2252 [10:32<16:06,  1.41it/s]\u001b[A"
     ]
    },
    {
     "name": "stdout",
     "output_type": "stream",
     "text": [
      "Processed batch 891/2252\n"
     ]
    },
    {
     "name": "stderr",
     "output_type": "stream",
     "text": [
      "\n",
      "Epoch 2:  40%|███▉      | 891/2252 [10:32<16:05,  1.41it/s]\u001b[A\n",
      "Epoch 2:  40%|███▉      | 892/2252 [10:33<16:05,  1.41it/s]\u001b[A\n",
      "Epoch 2:  40%|███▉      | 893/2252 [10:34<16:05,  1.41it/s]\u001b[A\n",
      "Epoch 2:  40%|███▉      | 894/2252 [10:34<16:04,  1.41it/s]\u001b[A\n",
      "Epoch 2:  40%|███▉      | 895/2252 [10:35<16:02,  1.41it/s]\u001b[A\n",
      "Epoch 2:  40%|███▉      | 896/2252 [10:36<16:02,  1.41it/s]\u001b[A\n",
      "Epoch 2:  40%|███▉      | 897/2252 [10:36<16:03,  1.41it/s]\u001b[A\n",
      "Epoch 2:  40%|███▉      | 898/2252 [10:37<16:03,  1.41it/s]\u001b[A\n",
      "Epoch 2:  40%|███▉      | 899/2252 [10:38<16:02,  1.41it/s]\u001b[A\n",
      "Epoch 2:  40%|███▉      | 900/2252 [10:39<16:00,  1.41it/s]\u001b[A"
     ]
    },
    {
     "name": "stdout",
     "output_type": "stream",
     "text": [
      "Processed batch 901/2252\n"
     ]
    },
    {
     "name": "stderr",
     "output_type": "stream",
     "text": [
      "\n",
      "Epoch 2:  40%|████      | 901/2252 [10:39<15:59,  1.41it/s]\u001b[A\n",
      "Epoch 2:  40%|████      | 902/2252 [10:40<15:58,  1.41it/s]\u001b[A\n",
      "Epoch 2:  40%|████      | 903/2252 [10:41<15:57,  1.41it/s]\u001b[A\n",
      "Epoch 2:  40%|████      | 904/2252 [10:41<15:56,  1.41it/s]\u001b[A\n",
      "Epoch 2:  40%|████      | 905/2252 [10:42<15:55,  1.41it/s]\u001b[A\n",
      "Epoch 2:  40%|████      | 906/2252 [10:43<15:55,  1.41it/s]\u001b[A\n",
      "Epoch 2:  40%|████      | 907/2252 [10:44<18:00,  1.25it/s]\u001b[A\n",
      "Epoch 2:  40%|████      | 908/2252 [10:45<17:21,  1.29it/s]\u001b[A\n",
      "Epoch 2:  40%|████      | 909/2252 [10:45<16:54,  1.32it/s]\u001b[A\n",
      "Epoch 2:  40%|████      | 910/2252 [10:46<16:34,  1.35it/s]\u001b[A"
     ]
    },
    {
     "name": "stdout",
     "output_type": "stream",
     "text": [
      "Processed batch 911/2252\n"
     ]
    },
    {
     "name": "stderr",
     "output_type": "stream",
     "text": [
      "\n",
      "Epoch 2:  40%|████      | 911/2252 [10:47<16:20,  1.37it/s]\u001b[A\n",
      "Epoch 2:  40%|████      | 912/2252 [10:47<16:09,  1.38it/s]\u001b[A\n",
      "Epoch 2:  41%|████      | 913/2252 [10:48<16:02,  1.39it/s]\u001b[A\n",
      "Epoch 2:  41%|████      | 914/2252 [10:49<15:57,  1.40it/s]\u001b[A\n",
      "Epoch 2:  41%|████      | 915/2252 [10:50<15:54,  1.40it/s]\u001b[A\n",
      "Epoch 2:  41%|████      | 916/2252 [10:50<15:50,  1.41it/s]\u001b[A\n",
      "Epoch 2:  41%|████      | 917/2252 [10:51<15:49,  1.41it/s]\u001b[A\n",
      "Epoch 2:  41%|████      | 918/2252 [10:52<15:47,  1.41it/s]\u001b[A\n",
      "Epoch 2:  41%|████      | 919/2252 [10:52<15:45,  1.41it/s]\u001b[A\n",
      "Epoch 2:  41%|████      | 920/2252 [10:53<15:44,  1.41it/s]\u001b[A"
     ]
    },
    {
     "name": "stdout",
     "output_type": "stream",
     "text": [
      "Processed batch 921/2252\n"
     ]
    },
    {
     "name": "stderr",
     "output_type": "stream",
     "text": [
      "\n",
      "Epoch 2:  41%|████      | 921/2252 [10:54<15:43,  1.41it/s]\u001b[A\n",
      "Epoch 2:  41%|████      | 922/2252 [10:55<15:43,  1.41it/s]\u001b[A\n",
      "Epoch 2:  41%|████      | 923/2252 [10:55<15:42,  1.41it/s]\u001b[A\n",
      "Epoch 2:  41%|████      | 924/2252 [10:56<15:41,  1.41it/s]\u001b[A\n",
      "Epoch 2:  41%|████      | 925/2252 [10:57<15:40,  1.41it/s]\u001b[A\n",
      "Epoch 2:  41%|████      | 926/2252 [10:57<15:38,  1.41it/s]\u001b[A\n",
      "Epoch 2:  41%|████      | 927/2252 [10:58<15:37,  1.41it/s]\u001b[A\n",
      "Epoch 2:  41%|████      | 928/2252 [10:59<15:37,  1.41it/s]\u001b[A\n",
      "Epoch 2:  41%|████▏     | 929/2252 [10:59<15:38,  1.41it/s]\u001b[A\n",
      "Epoch 2:  41%|████▏     | 930/2252 [11:00<15:38,  1.41it/s]\u001b[A"
     ]
    },
    {
     "name": "stdout",
     "output_type": "stream",
     "text": [
      "Processed batch 931/2252\n"
     ]
    },
    {
     "name": "stderr",
     "output_type": "stream",
     "text": [
      "\n",
      "Epoch 2:  41%|████▏     | 931/2252 [11:01<15:36,  1.41it/s]\u001b[A\n",
      "Epoch 2:  41%|████▏     | 932/2252 [11:02<15:35,  1.41it/s]\u001b[A\n",
      "Epoch 2:  41%|████▏     | 933/2252 [11:02<15:36,  1.41it/s]\u001b[A\n",
      "Epoch 2:  41%|████▏     | 934/2252 [11:03<15:36,  1.41it/s]\u001b[A\n",
      "Epoch 2:  42%|████▏     | 935/2252 [11:04<15:33,  1.41it/s]\u001b[A\n",
      "Epoch 2:  42%|████▏     | 936/2252 [11:04<15:32,  1.41it/s]\u001b[A\n",
      "Epoch 2:  42%|████▏     | 937/2252 [11:05<15:32,  1.41it/s]\u001b[A\n",
      "Epoch 2:  42%|████▏     | 938/2252 [11:06<15:32,  1.41it/s]\u001b[A\n",
      "Epoch 2:  42%|████▏     | 939/2252 [11:07<15:30,  1.41it/s]\u001b[A\n",
      "Epoch 2:  42%|████▏     | 940/2252 [11:07<15:30,  1.41it/s]\u001b[A"
     ]
    },
    {
     "name": "stdout",
     "output_type": "stream",
     "text": [
      "Processed batch 941/2252\n"
     ]
    },
    {
     "name": "stderr",
     "output_type": "stream",
     "text": [
      "\n",
      "Epoch 2:  42%|████▏     | 941/2252 [11:08<15:29,  1.41it/s]\u001b[A\n",
      "Epoch 2:  42%|████▏     | 942/2252 [11:09<15:27,  1.41it/s]\u001b[A\n",
      "Epoch 2:  42%|████▏     | 943/2252 [11:09<15:27,  1.41it/s]\u001b[A\n",
      "Epoch 2:  42%|████▏     | 944/2252 [11:10<15:28,  1.41it/s]\u001b[A\n",
      "Epoch 2:  42%|████▏     | 945/2252 [11:11<15:27,  1.41it/s]\u001b[A\n",
      "Epoch 2:  42%|████▏     | 946/2252 [11:12<15:26,  1.41it/s]\u001b[A\n",
      "Epoch 2:  42%|████▏     | 947/2252 [11:12<15:24,  1.41it/s]\u001b[A\n",
      "Epoch 2:  42%|████▏     | 948/2252 [11:13<15:23,  1.41it/s]\u001b[A\n",
      "Epoch 2:  42%|████▏     | 949/2252 [11:14<15:23,  1.41it/s]\u001b[A\n",
      "Epoch 2:  42%|████▏     | 950/2252 [11:14<15:22,  1.41it/s]\u001b[A"
     ]
    },
    {
     "name": "stdout",
     "output_type": "stream",
     "text": [
      "Processed batch 951/2252\n"
     ]
    },
    {
     "name": "stderr",
     "output_type": "stream",
     "text": [
      "\n",
      "Epoch 2:  42%|████▏     | 951/2252 [11:15<15:21,  1.41it/s]\u001b[A\n",
      "Epoch 2:  42%|████▏     | 952/2252 [11:16<15:20,  1.41it/s]\u001b[A\n",
      "Epoch 2:  42%|████▏     | 953/2252 [11:16<15:20,  1.41it/s]\u001b[A\n",
      "Epoch 2:  42%|████▏     | 954/2252 [11:17<15:19,  1.41it/s]\u001b[A\n",
      "Epoch 2:  42%|████▏     | 955/2252 [11:18<15:18,  1.41it/s]\u001b[A\n",
      "Epoch 2:  42%|████▏     | 956/2252 [11:19<15:17,  1.41it/s]\u001b[A\n",
      "Epoch 2:  42%|████▏     | 957/2252 [11:19<15:17,  1.41it/s]\u001b[A\n",
      "Epoch 2:  43%|████▎     | 958/2252 [11:20<15:17,  1.41it/s]\u001b[A\n",
      "Epoch 2:  43%|████▎     | 959/2252 [11:21<15:15,  1.41it/s]\u001b[A\n",
      "Epoch 2:  43%|████▎     | 960/2252 [11:21<15:14,  1.41it/s]\u001b[A"
     ]
    },
    {
     "name": "stdout",
     "output_type": "stream",
     "text": [
      "Processed batch 961/2252\n"
     ]
    },
    {
     "name": "stderr",
     "output_type": "stream",
     "text": [
      "\n",
      "Epoch 2:  43%|████▎     | 961/2252 [11:22<15:14,  1.41it/s]\u001b[A\n",
      "Epoch 2:  43%|████▎     | 962/2252 [11:23<15:14,  1.41it/s]\u001b[A\n",
      "Epoch 2:  43%|████▎     | 963/2252 [11:24<15:14,  1.41it/s]\u001b[A\n",
      "Epoch 2:  43%|████▎     | 964/2252 [11:24<15:14,  1.41it/s]\u001b[A\n",
      "Epoch 2:  43%|████▎     | 965/2252 [11:25<15:13,  1.41it/s]\u001b[A\n",
      "Epoch 2:  43%|████▎     | 966/2252 [11:26<15:11,  1.41it/s]\u001b[A\n",
      "Epoch 2:  43%|████▎     | 967/2252 [11:26<15:10,  1.41it/s]\u001b[A\n",
      "Epoch 2:  43%|████▎     | 968/2252 [11:27<15:11,  1.41it/s]\u001b[A\n",
      "Epoch 2:  43%|████▎     | 969/2252 [11:28<15:11,  1.41it/s]\u001b[A\n",
      "Epoch 2:  43%|████▎     | 970/2252 [11:29<15:09,  1.41it/s]\u001b[A"
     ]
    },
    {
     "name": "stdout",
     "output_type": "stream",
     "text": [
      "Processed batch 971/2252\n"
     ]
    },
    {
     "name": "stderr",
     "output_type": "stream",
     "text": [
      "\n",
      "Epoch 2:  43%|████▎     | 971/2252 [11:29<15:08,  1.41it/s]\u001b[A\n",
      "Epoch 2:  43%|████▎     | 972/2252 [11:30<15:06,  1.41it/s]\u001b[A\n",
      "Epoch 2:  43%|████▎     | 973/2252 [11:31<15:05,  1.41it/s]\u001b[A\n",
      "Epoch 2:  43%|████▎     | 974/2252 [11:31<15:05,  1.41it/s]\u001b[A\n",
      "Epoch 2:  43%|████▎     | 975/2252 [11:32<15:03,  1.41it/s]\u001b[A\n",
      "Epoch 2:  43%|████▎     | 976/2252 [11:33<15:02,  1.41it/s]\u001b[A\n",
      "Epoch 2:  43%|████▎     | 977/2252 [11:33<15:00,  1.42it/s]\u001b[A\n",
      "Epoch 2:  43%|████▎     | 978/2252 [11:34<15:00,  1.41it/s]\u001b[A\n",
      "Epoch 2:  43%|████▎     | 979/2252 [11:35<14:59,  1.42it/s]\u001b[A\n",
      "Epoch 2:  44%|████▎     | 980/2252 [11:36<14:59,  1.41it/s]\u001b[A"
     ]
    },
    {
     "name": "stdout",
     "output_type": "stream",
     "text": [
      "Processed batch 981/2252\n"
     ]
    },
    {
     "name": "stderr",
     "output_type": "stream",
     "text": [
      "\n",
      "Epoch 2:  44%|████▎     | 981/2252 [11:36<14:59,  1.41it/s]\u001b[A\n",
      "Epoch 2:  44%|████▎     | 982/2252 [11:37<14:58,  1.41it/s]\u001b[A\n",
      "Epoch 2:  44%|████▎     | 983/2252 [11:38<14:58,  1.41it/s]\u001b[A\n",
      "Epoch 2:  44%|████▎     | 984/2252 [11:38<14:59,  1.41it/s]\u001b[A\n",
      "Epoch 2:  44%|████▎     | 985/2252 [11:39<14:58,  1.41it/s]\u001b[A\n",
      "Epoch 2:  44%|████▍     | 986/2252 [11:40<14:57,  1.41it/s]\u001b[A\n",
      "Epoch 2:  44%|████▍     | 987/2252 [11:41<14:57,  1.41it/s]\u001b[A\n",
      "Epoch 2:  44%|████▍     | 988/2252 [11:41<14:57,  1.41it/s]\u001b[A\n",
      "Epoch 2:  44%|████▍     | 989/2252 [11:42<14:55,  1.41it/s]\u001b[A\n",
      "Epoch 2:  44%|████▍     | 990/2252 [11:43<14:53,  1.41it/s]\u001b[A"
     ]
    },
    {
     "name": "stdout",
     "output_type": "stream",
     "text": [
      "Processed batch 991/2252\n"
     ]
    },
    {
     "name": "stderr",
     "output_type": "stream",
     "text": [
      "\n",
      "Epoch 2:  44%|████▍     | 991/2252 [11:43<14:53,  1.41it/s]\u001b[A\n",
      "Epoch 2:  44%|████▍     | 992/2252 [11:44<14:52,  1.41it/s]\u001b[A\n",
      "Epoch 2:  44%|████▍     | 993/2252 [11:45<14:52,  1.41it/s]\u001b[A\n",
      "Epoch 2:  44%|████▍     | 994/2252 [11:46<14:52,  1.41it/s]\u001b[A\n",
      "Epoch 2:  44%|████▍     | 995/2252 [11:46<14:52,  1.41it/s]\u001b[A\n",
      "Epoch 2:  44%|████▍     | 996/2252 [11:47<14:52,  1.41it/s]\u001b[A\n",
      "Epoch 2:  44%|████▍     | 997/2252 [11:48<14:51,  1.41it/s]\u001b[A\n",
      "Epoch 2:  44%|████▍     | 998/2252 [11:48<14:51,  1.41it/s]\u001b[A\n",
      "Epoch 2:  44%|████▍     | 999/2252 [11:49<14:51,  1.41it/s]\u001b[A\n",
      "Epoch 2:  44%|████▍     | 1000/2252 [11:50<14:49,  1.41it/s]\u001b[A"
     ]
    },
    {
     "name": "stdout",
     "output_type": "stream",
     "text": [
      "Processed batch 1001/2252\n"
     ]
    },
    {
     "name": "stderr",
     "output_type": "stream",
     "text": [
      "\n",
      "Epoch 2:  44%|████▍     | 1001/2252 [11:51<14:46,  1.41it/s]\u001b[A\n",
      "Epoch 2:  44%|████▍     | 1002/2252 [11:51<14:45,  1.41it/s]\u001b[A\n",
      "Epoch 2:  45%|████▍     | 1003/2252 [11:52<14:44,  1.41it/s]\u001b[A\n",
      "Epoch 2:  45%|████▍     | 1004/2252 [11:53<14:43,  1.41it/s]\u001b[A\n",
      "Epoch 2:  45%|████▍     | 1005/2252 [11:53<14:42,  1.41it/s]\u001b[A\n",
      "Epoch 2:  45%|████▍     | 1006/2252 [11:54<14:42,  1.41it/s]\u001b[A\n",
      "Epoch 2:  45%|████▍     | 1007/2252 [11:55<14:41,  1.41it/s]\u001b[A\n",
      "Epoch 2:  45%|████▍     | 1008/2252 [11:55<14:41,  1.41it/s]\u001b[A\n",
      "Epoch 2:  45%|████▍     | 1009/2252 [11:56<14:41,  1.41it/s]\u001b[A\n",
      "Epoch 2:  45%|████▍     | 1010/2252 [11:57<14:40,  1.41it/s]\u001b[A"
     ]
    },
    {
     "name": "stdout",
     "output_type": "stream",
     "text": [
      "Processed batch 1011/2252\n"
     ]
    },
    {
     "name": "stderr",
     "output_type": "stream",
     "text": [
      "\n",
      "Epoch 2:  45%|████▍     | 1011/2252 [11:58<14:40,  1.41it/s]\u001b[A\n",
      "Epoch 2:  45%|████▍     | 1012/2252 [11:58<14:42,  1.41it/s]\u001b[A\n",
      "Epoch 2:  45%|████▍     | 1013/2252 [11:59<14:39,  1.41it/s]\u001b[A\n",
      "Epoch 2:  45%|████▌     | 1014/2252 [12:00<14:37,  1.41it/s]\u001b[A\n",
      "Epoch 2:  45%|████▌     | 1015/2252 [12:00<14:36,  1.41it/s]\u001b[A\n",
      "Epoch 2:  45%|████▌     | 1016/2252 [12:01<14:37,  1.41it/s]\u001b[A\n",
      "Epoch 2:  45%|████▌     | 1017/2252 [12:02<14:35,  1.41it/s]\u001b[A\n",
      "Epoch 2:  45%|████▌     | 1018/2252 [12:03<14:35,  1.41it/s]\u001b[A\n",
      "Epoch 2:  45%|████▌     | 1019/2252 [12:03<14:35,  1.41it/s]\u001b[A\n",
      "Epoch 2:  45%|████▌     | 1020/2252 [12:04<14:34,  1.41it/s]\u001b[A"
     ]
    },
    {
     "name": "stdout",
     "output_type": "stream",
     "text": [
      "Processed batch 1021/2252\n"
     ]
    },
    {
     "name": "stderr",
     "output_type": "stream",
     "text": [
      "\n",
      "Epoch 2:  45%|████▌     | 1021/2252 [12:05<14:35,  1.41it/s]\u001b[A\n",
      "Epoch 2:  45%|████▌     | 1022/2252 [12:05<14:34,  1.41it/s]\u001b[A\n",
      "Epoch 2:  45%|████▌     | 1023/2252 [12:06<14:33,  1.41it/s]\u001b[A\n",
      "Epoch 2:  45%|████▌     | 1024/2252 [12:07<14:32,  1.41it/s]\u001b[A\n",
      "Epoch 2:  46%|████▌     | 1025/2252 [12:08<14:32,  1.41it/s]\u001b[A\n",
      "Epoch 2:  46%|████▌     | 1026/2252 [12:08<14:30,  1.41it/s]\u001b[A\n",
      "Epoch 2:  46%|████▌     | 1027/2252 [12:09<14:29,  1.41it/s]\u001b[A\n",
      "Epoch 2:  46%|████▌     | 1028/2252 [12:10<14:27,  1.41it/s]\u001b[A\n",
      "Epoch 2:  46%|████▌     | 1029/2252 [12:10<14:27,  1.41it/s]\u001b[A\n",
      "Epoch 2:  46%|████▌     | 1030/2252 [12:11<14:27,  1.41it/s]\u001b[A"
     ]
    },
    {
     "name": "stdout",
     "output_type": "stream",
     "text": [
      "Processed batch 1031/2252\n"
     ]
    },
    {
     "name": "stderr",
     "output_type": "stream",
     "text": [
      "\n",
      "Epoch 2:  46%|████▌     | 1031/2252 [12:12<14:25,  1.41it/s]\u001b[A\n",
      "Epoch 2:  46%|████▌     | 1032/2252 [12:13<14:25,  1.41it/s]\u001b[A\n",
      "Epoch 2:  46%|████▌     | 1033/2252 [12:13<14:25,  1.41it/s]\u001b[A\n",
      "Epoch 2:  46%|████▌     | 1034/2252 [12:14<14:24,  1.41it/s]\u001b[A\n",
      "Epoch 2:  46%|████▌     | 1035/2252 [12:15<14:22,  1.41it/s]\u001b[A\n",
      "Epoch 2:  46%|████▌     | 1036/2252 [12:15<14:21,  1.41it/s]\u001b[A\n",
      "Epoch 2:  46%|████▌     | 1037/2252 [12:16<14:21,  1.41it/s]\u001b[A\n",
      "Epoch 2:  46%|████▌     | 1038/2252 [12:17<14:20,  1.41it/s]\u001b[A\n",
      "Epoch 2:  46%|████▌     | 1039/2252 [12:17<14:18,  1.41it/s]\u001b[A\n",
      "Epoch 2:  46%|████▌     | 1040/2252 [12:18<14:17,  1.41it/s]\u001b[A"
     ]
    },
    {
     "name": "stdout",
     "output_type": "stream",
     "text": [
      "Processed batch 1041/2252\n"
     ]
    },
    {
     "name": "stderr",
     "output_type": "stream",
     "text": [
      "\n",
      "Epoch 2:  46%|████▌     | 1041/2252 [12:19<14:16,  1.41it/s]\u001b[A\n",
      "Epoch 2:  46%|████▋     | 1042/2252 [12:20<14:16,  1.41it/s]\u001b[A\n",
      "Epoch 2:  46%|████▋     | 1043/2252 [12:20<14:16,  1.41it/s]\u001b[A\n",
      "Epoch 2:  46%|████▋     | 1044/2252 [12:21<14:14,  1.41it/s]\u001b[A\n",
      "Epoch 2:  46%|████▋     | 1045/2252 [12:22<14:15,  1.41it/s]\u001b[A\n",
      "Epoch 2:  46%|████▋     | 1046/2252 [12:22<14:15,  1.41it/s]\u001b[A\n",
      "Epoch 2:  46%|████▋     | 1047/2252 [12:23<14:15,  1.41it/s]\u001b[A\n",
      "Epoch 2:  47%|████▋     | 1048/2252 [12:24<14:14,  1.41it/s]\u001b[A\n",
      "Epoch 2:  47%|████▋     | 1049/2252 [12:25<14:13,  1.41it/s]\u001b[A\n",
      "Epoch 2:  47%|████▋     | 1050/2252 [12:25<14:13,  1.41it/s]\u001b[A"
     ]
    },
    {
     "name": "stdout",
     "output_type": "stream",
     "text": [
      "Processed batch 1051/2252\n"
     ]
    },
    {
     "name": "stderr",
     "output_type": "stream",
     "text": [
      "\n",
      "Epoch 2:  47%|████▋     | 1051/2252 [12:26<14:12,  1.41it/s]\u001b[A\n",
      "Epoch 2:  47%|████▋     | 1052/2252 [12:27<14:12,  1.41it/s]\u001b[A\n",
      "Epoch 2:  47%|████▋     | 1053/2252 [12:27<14:10,  1.41it/s]\u001b[A\n",
      "Epoch 2:  47%|████▋     | 1054/2252 [12:28<14:10,  1.41it/s]\u001b[A\n",
      "Epoch 2:  47%|████▋     | 1055/2252 [12:29<14:11,  1.41it/s]\u001b[A\n",
      "Epoch 2:  47%|████▋     | 1056/2252 [12:30<14:11,  1.40it/s]\u001b[A\n",
      "Epoch 2:  47%|████▋     | 1057/2252 [12:30<14:10,  1.40it/s]\u001b[A\n",
      "Epoch 2:  47%|████▋     | 1058/2252 [12:31<14:08,  1.41it/s]\u001b[A\n",
      "Epoch 2:  47%|████▋     | 1059/2252 [12:32<14:05,  1.41it/s]\u001b[A\n",
      "Epoch 2:  47%|████▋     | 1060/2252 [12:32<14:04,  1.41it/s]\u001b[A"
     ]
    },
    {
     "name": "stdout",
     "output_type": "stream",
     "text": [
      "Processed batch 1061/2252\n"
     ]
    },
    {
     "name": "stderr",
     "output_type": "stream",
     "text": [
      "\n",
      "Epoch 2:  47%|████▋     | 1061/2252 [12:33<14:03,  1.41it/s]\u001b[A\n",
      "Epoch 2:  47%|████▋     | 1062/2252 [12:34<14:03,  1.41it/s]\u001b[A\n",
      "Epoch 2:  47%|████▋     | 1063/2252 [12:34<14:02,  1.41it/s]\u001b[A\n",
      "Epoch 2:  47%|████▋     | 1064/2252 [12:35<14:02,  1.41it/s]\u001b[A\n",
      "Epoch 2:  47%|████▋     | 1065/2252 [12:36<14:02,  1.41it/s]\u001b[A\n",
      "Epoch 2:  47%|████▋     | 1066/2252 [12:37<14:00,  1.41it/s]\u001b[A\n",
      "Epoch 2:  47%|████▋     | 1067/2252 [12:37<13:59,  1.41it/s]\u001b[A\n",
      "Epoch 2:  47%|████▋     | 1068/2252 [12:38<13:58,  1.41it/s]\u001b[A\n",
      "Epoch 2:  47%|████▋     | 1069/2252 [12:39<13:58,  1.41it/s]\u001b[A\n",
      "Epoch 2:  48%|████▊     | 1070/2252 [12:39<13:58,  1.41it/s]\u001b[A"
     ]
    },
    {
     "name": "stdout",
     "output_type": "stream",
     "text": [
      "Processed batch 1071/2252\n"
     ]
    },
    {
     "name": "stderr",
     "output_type": "stream",
     "text": [
      "\n",
      "Epoch 2:  48%|████▊     | 1071/2252 [12:40<13:57,  1.41it/s]\u001b[A\n",
      "Epoch 2:  48%|████▊     | 1072/2252 [12:41<13:57,  1.41it/s]\u001b[A\n",
      "Epoch 2:  48%|████▊     | 1073/2252 [12:42<13:55,  1.41it/s]\u001b[A\n",
      "Epoch 2:  48%|████▊     | 1074/2252 [12:42<13:55,  1.41it/s]\u001b[A\n",
      "Epoch 2:  48%|████▊     | 1075/2252 [12:43<13:56,  1.41it/s]\u001b[A\n",
      "Epoch 2:  48%|████▊     | 1076/2252 [12:44<13:58,  1.40it/s]\u001b[A\n",
      "Epoch 2:  48%|████▊     | 1077/2252 [12:44<13:52,  1.41it/s]\u001b[A\n",
      "Epoch 2:  48%|████▊     | 1078/2252 [12:45<13:53,  1.41it/s]\u001b[A\n",
      "Epoch 2:  48%|████▊     | 1079/2252 [12:46<13:52,  1.41it/s]\u001b[A\n",
      "Epoch 2:  48%|████▊     | 1080/2252 [12:47<13:52,  1.41it/s]\u001b[A"
     ]
    },
    {
     "name": "stdout",
     "output_type": "stream",
     "text": [
      "Processed batch 1081/2252\n"
     ]
    },
    {
     "name": "stderr",
     "output_type": "stream",
     "text": [
      "\n",
      "Epoch 2:  48%|████▊     | 1081/2252 [12:47<13:51,  1.41it/s]\u001b[A\n",
      "Epoch 2:  48%|████▊     | 1082/2252 [12:48<13:51,  1.41it/s]\u001b[A\n",
      "Epoch 2:  48%|████▊     | 1083/2252 [12:49<13:51,  1.41it/s]\u001b[A\n",
      "Epoch 2:  48%|████▊     | 1084/2252 [12:49<13:50,  1.41it/s]\u001b[A\n",
      "Epoch 2:  48%|████▊     | 1085/2252 [12:50<13:50,  1.41it/s]\u001b[A\n",
      "Epoch 2:  48%|████▊     | 1086/2252 [12:51<13:49,  1.41it/s]\u001b[A\n",
      "Epoch 2:  48%|████▊     | 1087/2252 [12:52<13:49,  1.40it/s]\u001b[A\n",
      "Epoch 2:  48%|████▊     | 1088/2252 [12:52<13:47,  1.41it/s]\u001b[A\n",
      "Epoch 2:  48%|████▊     | 1089/2252 [12:53<13:46,  1.41it/s]\u001b[A\n",
      "Epoch 2:  48%|████▊     | 1090/2252 [12:54<13:45,  1.41it/s]\u001b[A"
     ]
    },
    {
     "name": "stdout",
     "output_type": "stream",
     "text": [
      "Processed batch 1091/2252\n"
     ]
    },
    {
     "name": "stderr",
     "output_type": "stream",
     "text": [
      "\n",
      "Epoch 2:  48%|████▊     | 1091/2252 [12:54<13:44,  1.41it/s]\u001b[A\n",
      "Epoch 2:  48%|████▊     | 1092/2252 [12:55<13:43,  1.41it/s]\u001b[A\n",
      "Epoch 2:  49%|████▊     | 1093/2252 [12:56<13:44,  1.41it/s]\u001b[A\n",
      "Epoch 2:  49%|████▊     | 1094/2252 [12:57<13:42,  1.41it/s]\u001b[A\n",
      "Epoch 2:  49%|████▊     | 1095/2252 [12:57<13:41,  1.41it/s]\u001b[A\n",
      "Epoch 2:  49%|████▊     | 1096/2252 [12:58<13:39,  1.41it/s]\u001b[A\n",
      "Epoch 2:  49%|████▊     | 1097/2252 [12:59<13:38,  1.41it/s]\u001b[A\n",
      "Epoch 2:  49%|████▉     | 1098/2252 [12:59<13:37,  1.41it/s]\u001b[A\n",
      "Epoch 2:  49%|████▉     | 1099/2252 [13:00<13:36,  1.41it/s]\u001b[A\n",
      "Epoch 2:  49%|████▉     | 1100/2252 [13:01<13:35,  1.41it/s]\u001b[A"
     ]
    },
    {
     "name": "stdout",
     "output_type": "stream",
     "text": [
      "Processed batch 1101/2252\n"
     ]
    },
    {
     "name": "stderr",
     "output_type": "stream",
     "text": [
      "\n",
      "Epoch 2:  49%|████▉     | 1101/2252 [13:01<13:36,  1.41it/s]\u001b[A\n",
      "Epoch 2:  49%|████▉     | 1102/2252 [13:02<13:35,  1.41it/s]\u001b[A\n",
      "Epoch 2:  49%|████▉     | 1103/2252 [13:03<13:37,  1.41it/s]\u001b[A\n",
      "Epoch 2:  49%|████▉     | 1104/2252 [13:04<13:36,  1.41it/s]\u001b[A\n",
      "Epoch 2:  49%|████▉     | 1105/2252 [13:04<13:35,  1.41it/s]\u001b[A\n",
      "Epoch 2:  49%|████▉     | 1106/2252 [13:05<13:34,  1.41it/s]\u001b[A\n",
      "Epoch 2:  49%|████▉     | 1107/2252 [13:06<13:34,  1.41it/s]\u001b[A\n",
      "Epoch 2:  49%|████▉     | 1108/2252 [13:06<13:33,  1.41it/s]\u001b[A\n",
      "Epoch 2:  49%|████▉     | 1109/2252 [13:07<13:31,  1.41it/s]\u001b[A\n",
      "Epoch 2:  49%|████▉     | 1110/2252 [13:08<13:29,  1.41it/s]\u001b[A"
     ]
    },
    {
     "name": "stdout",
     "output_type": "stream",
     "text": [
      "Processed batch 1111/2252\n"
     ]
    },
    {
     "name": "stderr",
     "output_type": "stream",
     "text": [
      "\n",
      "Epoch 2:  49%|████▉     | 1111/2252 [13:09<13:29,  1.41it/s]\u001b[A\n",
      "Epoch 2:  49%|████▉     | 1112/2252 [13:09<13:29,  1.41it/s]\u001b[A\n",
      "Epoch 2:  49%|████▉     | 1113/2252 [13:10<13:28,  1.41it/s]\u001b[A\n",
      "Epoch 2:  49%|████▉     | 1114/2252 [13:11<13:29,  1.41it/s]\u001b[A\n",
      "Epoch 2:  50%|████▉     | 1115/2252 [13:11<13:27,  1.41it/s]\u001b[A\n",
      "Epoch 2:  50%|████▉     | 1116/2252 [13:12<13:26,  1.41it/s]\u001b[A\n",
      "Epoch 2:  50%|████▉     | 1117/2252 [13:13<13:25,  1.41it/s]\u001b[A\n",
      "Epoch 2:  50%|████▉     | 1118/2252 [13:14<13:24,  1.41it/s]\u001b[A\n",
      "Epoch 2:  50%|████▉     | 1119/2252 [13:14<13:23,  1.41it/s]\u001b[A\n",
      "Epoch 2:  50%|████▉     | 1120/2252 [13:15<13:24,  1.41it/s]\u001b[A"
     ]
    },
    {
     "name": "stdout",
     "output_type": "stream",
     "text": [
      "Processed batch 1121/2252\n"
     ]
    },
    {
     "name": "stderr",
     "output_type": "stream",
     "text": [
      "\n",
      "Epoch 2:  50%|████▉     | 1121/2252 [13:16<13:22,  1.41it/s]\u001b[A\n",
      "Epoch 2:  50%|████▉     | 1122/2252 [13:16<13:22,  1.41it/s]\u001b[A\n",
      "Epoch 2:  50%|████▉     | 1123/2252 [13:17<13:21,  1.41it/s]\u001b[A\n",
      "Epoch 2:  50%|████▉     | 1124/2252 [13:18<13:21,  1.41it/s]\u001b[A\n",
      "Epoch 2:  50%|████▉     | 1125/2252 [13:19<13:20,  1.41it/s]\u001b[A\n",
      "Epoch 2:  50%|█████     | 1126/2252 [13:19<13:20,  1.41it/s]\u001b[A\n",
      "Epoch 2:  50%|█████     | 1127/2252 [13:20<13:18,  1.41it/s]\u001b[A\n",
      "Epoch 2:  50%|█████     | 1128/2252 [13:21<13:17,  1.41it/s]\u001b[A\n",
      "Epoch 2:  50%|█████     | 1129/2252 [13:21<13:16,  1.41it/s]\u001b[A\n",
      "Epoch 2:  50%|█████     | 1130/2252 [13:22<13:15,  1.41it/s]\u001b[A"
     ]
    },
    {
     "name": "stdout",
     "output_type": "stream",
     "text": [
      "Processed batch 1131/2252\n"
     ]
    },
    {
     "name": "stderr",
     "output_type": "stream",
     "text": [
      "\n",
      "Epoch 2:  50%|█████     | 1131/2252 [13:23<13:14,  1.41it/s]\u001b[A\n",
      "Epoch 2:  50%|█████     | 1132/2252 [13:23<13:13,  1.41it/s]\u001b[A\n",
      "Epoch 2:  50%|█████     | 1133/2252 [13:24<13:13,  1.41it/s]\u001b[A\n",
      "Epoch 2:  50%|█████     | 1134/2252 [13:25<13:14,  1.41it/s]\u001b[A\n",
      "Epoch 2:  50%|█████     | 1135/2252 [13:26<13:14,  1.41it/s]\u001b[A\n",
      "Epoch 2:  50%|█████     | 1136/2252 [13:26<13:13,  1.41it/s]\u001b[A\n",
      "Epoch 2:  50%|█████     | 1137/2252 [13:27<13:12,  1.41it/s]\u001b[A\n",
      "Epoch 2:  51%|█████     | 1138/2252 [13:28<13:11,  1.41it/s]\u001b[A\n",
      "Epoch 2:  51%|█████     | 1139/2252 [13:28<13:11,  1.41it/s]\u001b[A\n",
      "Epoch 2:  51%|█████     | 1140/2252 [13:29<13:10,  1.41it/s]\u001b[A"
     ]
    },
    {
     "name": "stdout",
     "output_type": "stream",
     "text": [
      "Processed batch 1141/2252\n"
     ]
    },
    {
     "name": "stderr",
     "output_type": "stream",
     "text": [
      "\n",
      "Epoch 2:  51%|█████     | 1141/2252 [13:30<13:08,  1.41it/s]\u001b[A\n",
      "Epoch 2:  51%|█████     | 1142/2252 [13:31<13:09,  1.41it/s]\u001b[A\n",
      "Epoch 2:  51%|█████     | 1143/2252 [13:31<13:08,  1.41it/s]\u001b[A\n",
      "Epoch 2:  51%|█████     | 1144/2252 [13:32<13:07,  1.41it/s]\u001b[A\n",
      "Epoch 2:  51%|█████     | 1145/2252 [13:33<13:06,  1.41it/s]\u001b[A\n",
      "Epoch 2:  51%|█████     | 1146/2252 [13:33<13:04,  1.41it/s]\u001b[A\n",
      "Epoch 2:  51%|█████     | 1147/2252 [13:34<13:04,  1.41it/s]\u001b[A\n",
      "Epoch 2:  51%|█████     | 1148/2252 [13:35<13:04,  1.41it/s]\u001b[A\n",
      "Epoch 2:  51%|█████     | 1149/2252 [13:36<13:02,  1.41it/s]\u001b[A\n",
      "Epoch 2:  51%|█████     | 1150/2252 [13:36<13:02,  1.41it/s]\u001b[A"
     ]
    },
    {
     "name": "stdout",
     "output_type": "stream",
     "text": [
      "Processed batch 1151/2252\n"
     ]
    },
    {
     "name": "stderr",
     "output_type": "stream",
     "text": [
      "\n",
      "Epoch 2:  51%|█████     | 1151/2252 [13:37<13:02,  1.41it/s]\u001b[A\n",
      "Epoch 2:  51%|█████     | 1152/2252 [13:38<13:02,  1.41it/s]\u001b[A\n",
      "Epoch 2:  51%|█████     | 1153/2252 [13:38<13:01,  1.41it/s]\u001b[A\n",
      "Epoch 2:  51%|█████     | 1154/2252 [13:39<12:59,  1.41it/s]\u001b[A\n",
      "Epoch 2:  51%|█████▏    | 1155/2252 [13:40<12:59,  1.41it/s]\u001b[A\n",
      "Epoch 2:  51%|█████▏    | 1156/2252 [13:41<12:58,  1.41it/s]\u001b[A\n",
      "Epoch 2:  51%|█████▏    | 1157/2252 [13:41<12:57,  1.41it/s]\u001b[A\n",
      "Epoch 2:  51%|█████▏    | 1158/2252 [13:42<12:56,  1.41it/s]\u001b[A\n",
      "Epoch 2:  51%|█████▏    | 1159/2252 [13:43<12:55,  1.41it/s]\u001b[A\n",
      "Epoch 2:  52%|█████▏    | 1160/2252 [13:43<12:55,  1.41it/s]\u001b[A"
     ]
    },
    {
     "name": "stdout",
     "output_type": "stream",
     "text": [
      "Processed batch 1161/2252\n"
     ]
    },
    {
     "name": "stderr",
     "output_type": "stream",
     "text": [
      "\n",
      "Epoch 2:  52%|█████▏    | 1161/2252 [13:44<12:55,  1.41it/s]\u001b[A\n",
      "Epoch 2:  52%|█████▏    | 1162/2252 [13:45<12:54,  1.41it/s]\u001b[A\n",
      "Epoch 2:  52%|█████▏    | 1163/2252 [13:46<12:53,  1.41it/s]\u001b[A\n",
      "Epoch 2:  52%|█████▏    | 1164/2252 [13:46<12:52,  1.41it/s]\u001b[A\n",
      "Epoch 2:  52%|█████▏    | 1165/2252 [13:47<12:52,  1.41it/s]\u001b[A\n",
      "Epoch 2:  52%|█████▏    | 1166/2252 [13:48<12:52,  1.41it/s]\u001b[A\n",
      "Epoch 2:  52%|█████▏    | 1167/2252 [13:48<12:50,  1.41it/s]\u001b[A\n",
      "Epoch 2:  52%|█████▏    | 1168/2252 [13:49<12:49,  1.41it/s]\u001b[A\n",
      "Epoch 2:  52%|█████▏    | 1169/2252 [13:50<12:49,  1.41it/s]\u001b[A\n",
      "Epoch 2:  52%|█████▏    | 1170/2252 [13:50<12:46,  1.41it/s]\u001b[A"
     ]
    },
    {
     "name": "stdout",
     "output_type": "stream",
     "text": [
      "Processed batch 1171/2252\n"
     ]
    },
    {
     "name": "stderr",
     "output_type": "stream",
     "text": [
      "\n",
      "Epoch 2:  52%|█████▏    | 1171/2252 [13:51<12:46,  1.41it/s]\u001b[A\n",
      "Epoch 2:  52%|█████▏    | 1172/2252 [13:52<12:45,  1.41it/s]\u001b[A\n",
      "Epoch 2:  52%|█████▏    | 1173/2252 [13:53<12:45,  1.41it/s]\u001b[A\n",
      "Epoch 2:  52%|█████▏    | 1174/2252 [13:53<12:44,  1.41it/s]\u001b[A\n",
      "Epoch 2:  52%|█████▏    | 1175/2252 [13:54<12:45,  1.41it/s]\u001b[A\n",
      "Epoch 2:  52%|█████▏    | 1176/2252 [13:55<12:44,  1.41it/s]\u001b[A\n",
      "Epoch 2:  52%|█████▏    | 1177/2252 [13:55<12:41,  1.41it/s]\u001b[A\n",
      "Epoch 2:  52%|█████▏    | 1178/2252 [13:56<12:41,  1.41it/s]\u001b[A\n",
      "Epoch 2:  52%|█████▏    | 1179/2252 [13:57<12:40,  1.41it/s]\u001b[A\n",
      "Epoch 2:  52%|█████▏    | 1180/2252 [13:58<12:39,  1.41it/s]\u001b[A"
     ]
    },
    {
     "name": "stdout",
     "output_type": "stream",
     "text": [
      "Processed batch 1181/2252\n"
     ]
    },
    {
     "name": "stderr",
     "output_type": "stream",
     "text": [
      "\n",
      "Epoch 2:  52%|█████▏    | 1181/2252 [13:58<12:37,  1.41it/s]\u001b[A\n",
      "Epoch 2:  52%|█████▏    | 1182/2252 [13:59<12:36,  1.41it/s]\u001b[A\n",
      "Epoch 2:  53%|█████▎    | 1183/2252 [14:00<12:35,  1.41it/s]\u001b[A\n",
      "Epoch 2:  53%|█████▎    | 1184/2252 [14:00<12:34,  1.41it/s]\u001b[A\n",
      "Epoch 2:  53%|█████▎    | 1185/2252 [14:01<12:34,  1.41it/s]\u001b[A\n",
      "Epoch 2:  53%|█████▎    | 1186/2252 [14:02<12:33,  1.41it/s]\u001b[A\n",
      "Epoch 2:  53%|█████▎    | 1187/2252 [14:03<12:33,  1.41it/s]\u001b[A\n",
      "Epoch 2:  53%|█████▎    | 1188/2252 [14:03<12:32,  1.41it/s]\u001b[A\n",
      "Epoch 2:  53%|█████▎    | 1189/2252 [14:04<12:30,  1.42it/s]\u001b[A\n",
      "Epoch 2:  53%|█████▎    | 1190/2252 [14:05<12:29,  1.42it/s]\u001b[A"
     ]
    },
    {
     "name": "stdout",
     "output_type": "stream",
     "text": [
      "Processed batch 1191/2252\n"
     ]
    },
    {
     "name": "stderr",
     "output_type": "stream",
     "text": [
      "\n",
      "Epoch 2:  53%|█████▎    | 1191/2252 [14:05<12:29,  1.42it/s]\u001b[A\n",
      "Epoch 2:  53%|█████▎    | 1192/2252 [14:06<12:30,  1.41it/s]\u001b[A\n",
      "Epoch 2:  53%|█████▎    | 1193/2252 [14:07<12:29,  1.41it/s]\u001b[A\n",
      "Epoch 2:  53%|█████▎    | 1194/2252 [14:07<12:29,  1.41it/s]\u001b[A\n",
      "Epoch 2:  53%|█████▎    | 1195/2252 [14:08<12:29,  1.41it/s]\u001b[A\n",
      "Epoch 2:  53%|█████▎    | 1196/2252 [14:09<12:29,  1.41it/s]\u001b[A\n",
      "Epoch 2:  53%|█████▎    | 1197/2252 [14:10<12:28,  1.41it/s]\u001b[A\n",
      "Epoch 2:  53%|█████▎    | 1198/2252 [14:10<12:28,  1.41it/s]\u001b[A\n",
      "Epoch 2:  53%|█████▎    | 1199/2252 [14:11<12:27,  1.41it/s]\u001b[A\n",
      "Epoch 2:  53%|█████▎    | 1200/2252 [14:12<12:27,  1.41it/s]\u001b[A"
     ]
    },
    {
     "name": "stdout",
     "output_type": "stream",
     "text": [
      "Processed batch 1201/2252\n"
     ]
    },
    {
     "name": "stderr",
     "output_type": "stream",
     "text": [
      "\n",
      "Epoch 2:  53%|█████▎    | 1201/2252 [14:12<12:26,  1.41it/s]\u001b[A\n",
      "Epoch 2:  53%|█████▎    | 1202/2252 [14:13<12:26,  1.41it/s]\u001b[A\n",
      "Epoch 2:  53%|█████▎    | 1203/2252 [14:14<12:26,  1.41it/s]\u001b[A\n",
      "Epoch 2:  53%|█████▎    | 1204/2252 [14:15<12:23,  1.41it/s]\u001b[A\n",
      "Epoch 2:  54%|█████▎    | 1205/2252 [14:15<12:22,  1.41it/s]\u001b[A\n",
      "Epoch 2:  54%|█████▎    | 1206/2252 [14:16<12:21,  1.41it/s]\u001b[A\n",
      "Epoch 2:  54%|█████▎    | 1207/2252 [14:17<12:19,  1.41it/s]\u001b[A\n",
      "Epoch 2:  54%|█████▎    | 1208/2252 [14:17<12:18,  1.41it/s]\u001b[A\n",
      "Epoch 2:  54%|█████▎    | 1209/2252 [14:18<12:18,  1.41it/s]\u001b[A\n",
      "Epoch 2:  54%|█████▎    | 1210/2252 [14:19<12:21,  1.41it/s]\u001b[A"
     ]
    },
    {
     "name": "stdout",
     "output_type": "stream",
     "text": [
      "Processed batch 1211/2252\n"
     ]
    },
    {
     "name": "stderr",
     "output_type": "stream",
     "text": [
      "\n",
      "Epoch 2:  54%|█████▍    | 1211/2252 [14:20<12:17,  1.41it/s]\u001b[A\n",
      "Epoch 2:  54%|█████▍    | 1212/2252 [14:20<12:17,  1.41it/s]\u001b[A\n",
      "Epoch 2:  54%|█████▍    | 1213/2252 [14:21<12:18,  1.41it/s]\u001b[A\n",
      "Epoch 2:  54%|█████▍    | 1214/2252 [14:22<12:16,  1.41it/s]\u001b[A\n",
      "Epoch 2:  54%|█████▍    | 1215/2252 [14:22<12:15,  1.41it/s]\u001b[A\n",
      "Epoch 2:  54%|█████▍    | 1216/2252 [14:23<12:13,  1.41it/s]\u001b[A\n",
      "Epoch 2:  54%|█████▍    | 1217/2252 [14:24<12:13,  1.41it/s]\u001b[A\n",
      "Epoch 2:  54%|█████▍    | 1218/2252 [14:24<12:12,  1.41it/s]\u001b[A\n",
      "Epoch 2:  54%|█████▍    | 1219/2252 [14:25<12:13,  1.41it/s]\u001b[A\n",
      "Epoch 2:  54%|█████▍    | 1220/2252 [14:26<12:12,  1.41it/s]\u001b[A"
     ]
    },
    {
     "name": "stdout",
     "output_type": "stream",
     "text": [
      "Processed batch 1221/2252\n"
     ]
    },
    {
     "name": "stderr",
     "output_type": "stream",
     "text": [
      "\n",
      "Epoch 2:  54%|█████▍    | 1221/2252 [14:27<12:11,  1.41it/s]\u001b[A\n",
      "Epoch 2:  54%|█████▍    | 1222/2252 [14:27<12:11,  1.41it/s]\u001b[A\n",
      "Epoch 2:  54%|█████▍    | 1223/2252 [14:28<12:10,  1.41it/s]\u001b[A\n",
      "Epoch 2:  54%|█████▍    | 1224/2252 [14:29<12:09,  1.41it/s]\u001b[A\n",
      "Epoch 2:  54%|█████▍    | 1225/2252 [14:29<12:08,  1.41it/s]\u001b[A\n",
      "Epoch 2:  54%|█████▍    | 1226/2252 [14:30<12:08,  1.41it/s]\u001b[A\n",
      "Epoch 2:  54%|█████▍    | 1227/2252 [14:31<12:08,  1.41it/s]\u001b[A\n",
      "Epoch 2:  55%|█████▍    | 1228/2252 [14:32<12:07,  1.41it/s]\u001b[A\n",
      "Epoch 2:  55%|█████▍    | 1229/2252 [14:32<12:06,  1.41it/s]\u001b[A\n",
      "Epoch 2:  55%|█████▍    | 1230/2252 [14:33<12:06,  1.41it/s]\u001b[A"
     ]
    },
    {
     "name": "stdout",
     "output_type": "stream",
     "text": [
      "Processed batch 1231/2252\n"
     ]
    },
    {
     "name": "stderr",
     "output_type": "stream",
     "text": [
      "\n",
      "Epoch 2:  55%|█████▍    | 1231/2252 [14:34<12:05,  1.41it/s]\u001b[A\n",
      "Epoch 2:  55%|█████▍    | 1232/2252 [14:34<12:03,  1.41it/s]\u001b[A\n",
      "Epoch 2:  55%|█████▍    | 1233/2252 [14:35<12:01,  1.41it/s]\u001b[A\n",
      "Epoch 2:  55%|█████▍    | 1234/2252 [14:36<12:01,  1.41it/s]\u001b[A\n",
      "Epoch 2:  55%|█████▍    | 1235/2252 [14:37<12:00,  1.41it/s]\u001b[A\n",
      "Epoch 2:  55%|█████▍    | 1236/2252 [14:37<11:59,  1.41it/s]\u001b[A\n",
      "Epoch 2:  55%|█████▍    | 1237/2252 [14:38<11:58,  1.41it/s]\u001b[A\n",
      "Epoch 2:  55%|█████▍    | 1238/2252 [14:39<11:57,  1.41it/s]\u001b[A\n",
      "Epoch 2:  55%|█████▌    | 1239/2252 [14:39<11:57,  1.41it/s]\u001b[A\n",
      "Epoch 2:  55%|█████▌    | 1240/2252 [14:40<11:55,  1.41it/s]\u001b[A"
     ]
    },
    {
     "name": "stdout",
     "output_type": "stream",
     "text": [
      "Processed batch 1241/2252\n"
     ]
    },
    {
     "name": "stderr",
     "output_type": "stream",
     "text": [
      "\n",
      "Epoch 2:  55%|█████▌    | 1241/2252 [14:41<11:55,  1.41it/s]\u001b[A\n",
      "Epoch 2:  55%|█████▌    | 1242/2252 [14:42<11:54,  1.41it/s]\u001b[A\n",
      "Epoch 2:  55%|█████▌    | 1243/2252 [14:42<11:55,  1.41it/s]\u001b[A\n",
      "Epoch 2:  55%|█████▌    | 1244/2252 [14:43<11:54,  1.41it/s]\u001b[A\n",
      "Epoch 2:  55%|█████▌    | 1245/2252 [14:44<11:54,  1.41it/s]\u001b[A\n",
      "Epoch 2:  55%|█████▌    | 1246/2252 [14:44<11:53,  1.41it/s]\u001b[A\n",
      "Epoch 2:  55%|█████▌    | 1247/2252 [14:45<11:53,  1.41it/s]\u001b[A\n",
      "Epoch 2:  55%|█████▌    | 1248/2252 [14:46<11:52,  1.41it/s]\u001b[A\n",
      "Epoch 2:  55%|█████▌    | 1249/2252 [14:46<11:52,  1.41it/s]\u001b[A\n",
      "Epoch 2:  56%|█████▌    | 1250/2252 [14:47<11:52,  1.41it/s]\u001b[A"
     ]
    },
    {
     "name": "stdout",
     "output_type": "stream",
     "text": [
      "Processed batch 1251/2252\n"
     ]
    },
    {
     "name": "stderr",
     "output_type": "stream",
     "text": [
      "\n",
      "Epoch 2:  56%|█████▌    | 1251/2252 [14:48<11:50,  1.41it/s]\u001b[A\n",
      "Epoch 2:  56%|█████▌    | 1252/2252 [14:49<11:49,  1.41it/s]\u001b[A\n",
      "Epoch 2:  56%|█████▌    | 1253/2252 [14:49<11:47,  1.41it/s]\u001b[A\n",
      "Epoch 2:  56%|█████▌    | 1254/2252 [14:50<11:46,  1.41it/s]\u001b[A\n",
      "Epoch 2:  56%|█████▌    | 1255/2252 [14:51<11:47,  1.41it/s]\u001b[A\n",
      "Epoch 2:  56%|█████▌    | 1256/2252 [14:51<11:45,  1.41it/s]\u001b[A\n",
      "Epoch 2:  56%|█████▌    | 1257/2252 [14:52<11:43,  1.41it/s]\u001b[A\n",
      "Epoch 2:  56%|█████▌    | 1258/2252 [14:53<11:43,  1.41it/s]\u001b[A\n",
      "Epoch 2:  56%|█████▌    | 1259/2252 [14:54<11:42,  1.41it/s]\u001b[A\n",
      "Epoch 2:  56%|█████▌    | 1260/2252 [14:54<11:41,  1.41it/s]\u001b[A"
     ]
    },
    {
     "name": "stdout",
     "output_type": "stream",
     "text": [
      "Processed batch 1261/2252\n"
     ]
    },
    {
     "name": "stderr",
     "output_type": "stream",
     "text": [
      "\n",
      "Epoch 2:  56%|█████▌    | 1261/2252 [14:55<11:41,  1.41it/s]\u001b[A\n",
      "Epoch 2:  56%|█████▌    | 1262/2252 [14:56<11:41,  1.41it/s]\u001b[A\n",
      "Epoch 2:  56%|█████▌    | 1263/2252 [14:56<11:40,  1.41it/s]\u001b[A\n",
      "Epoch 2:  56%|█████▌    | 1264/2252 [14:57<11:40,  1.41it/s]\u001b[A\n",
      "Epoch 2:  56%|█████▌    | 1265/2252 [14:58<11:41,  1.41it/s]\u001b[A\n",
      "Epoch 2:  56%|█████▌    | 1266/2252 [14:59<11:40,  1.41it/s]\u001b[A\n",
      "Epoch 2:  56%|█████▋    | 1267/2252 [14:59<11:39,  1.41it/s]\u001b[A\n",
      "Epoch 2:  56%|█████▋    | 1268/2252 [15:00<11:38,  1.41it/s]\u001b[A\n",
      "Epoch 2:  56%|█████▋    | 1269/2252 [15:01<11:37,  1.41it/s]\u001b[A\n",
      "Epoch 2:  56%|█████▋    | 1270/2252 [15:01<11:36,  1.41it/s]\u001b[A"
     ]
    },
    {
     "name": "stdout",
     "output_type": "stream",
     "text": [
      "Processed batch 1271/2252\n"
     ]
    },
    {
     "name": "stderr",
     "output_type": "stream",
     "text": [
      "\n",
      "Epoch 2:  56%|█████▋    | 1271/2252 [15:02<11:36,  1.41it/s]\u001b[A\n",
      "Epoch 2:  56%|█████▋    | 1272/2252 [15:03<11:36,  1.41it/s]\u001b[A\n",
      "Epoch 2:  57%|█████▋    | 1273/2252 [15:04<11:35,  1.41it/s]\u001b[A\n",
      "Epoch 2:  57%|█████▋    | 1274/2252 [15:04<11:34,  1.41it/s]\u001b[A\n",
      "Epoch 2:  57%|█████▋    | 1275/2252 [15:05<11:34,  1.41it/s]\u001b[A\n",
      "Epoch 2:  57%|█████▋    | 1276/2252 [15:06<11:34,  1.41it/s]\u001b[A\n",
      "Epoch 2:  57%|█████▋    | 1277/2252 [15:06<11:34,  1.40it/s]\u001b[A\n",
      "Epoch 2:  57%|█████▋    | 1278/2252 [15:07<11:31,  1.41it/s]\u001b[A\n",
      "Epoch 2:  57%|█████▋    | 1279/2252 [15:08<11:30,  1.41it/s]\u001b[A\n",
      "Epoch 2:  57%|█████▋    | 1280/2252 [15:08<11:30,  1.41it/s]\u001b[A"
     ]
    },
    {
     "name": "stdout",
     "output_type": "stream",
     "text": [
      "Processed batch 1281/2252\n"
     ]
    },
    {
     "name": "stderr",
     "output_type": "stream",
     "text": [
      "\n",
      "Epoch 2:  57%|█████▋    | 1281/2252 [15:09<11:28,  1.41it/s]\u001b[A\n",
      "Epoch 2:  57%|█████▋    | 1282/2252 [15:10<11:27,  1.41it/s]\u001b[A\n",
      "Epoch 2:  57%|█████▋    | 1283/2252 [15:11<11:26,  1.41it/s]\u001b[A\n",
      "Epoch 2:  57%|█████▋    | 1284/2252 [15:11<11:25,  1.41it/s]\u001b[A\n",
      "Epoch 2:  57%|█████▋    | 1285/2252 [15:12<11:25,  1.41it/s]\u001b[A\n",
      "Epoch 2:  57%|█████▋    | 1286/2252 [15:13<11:25,  1.41it/s]\u001b[A\n",
      "Epoch 2:  57%|█████▋    | 1287/2252 [15:13<11:24,  1.41it/s]\u001b[A\n",
      "Epoch 2:  57%|█████▋    | 1288/2252 [15:14<11:23,  1.41it/s]\u001b[A\n",
      "Epoch 2:  57%|█████▋    | 1289/2252 [15:15<11:23,  1.41it/s]\u001b[A\n",
      "Epoch 2:  57%|█████▋    | 1290/2252 [15:16<11:22,  1.41it/s]\u001b[A"
     ]
    },
    {
     "name": "stdout",
     "output_type": "stream",
     "text": [
      "Processed batch 1291/2252\n"
     ]
    },
    {
     "name": "stderr",
     "output_type": "stream",
     "text": [
      "\n",
      "Epoch 2:  57%|█████▋    | 1291/2252 [15:16<11:22,  1.41it/s]\u001b[A\n",
      "Epoch 2:  57%|█████▋    | 1292/2252 [15:17<11:22,  1.41it/s]\u001b[A\n",
      "Epoch 2:  57%|█████▋    | 1293/2252 [15:18<11:21,  1.41it/s]\u001b[A\n",
      "Epoch 2:  57%|█████▋    | 1294/2252 [15:18<11:21,  1.41it/s]\u001b[A\n",
      "Epoch 2:  58%|█████▊    | 1295/2252 [15:19<11:20,  1.41it/s]\u001b[A\n",
      "Epoch 2:  58%|█████▊    | 1296/2252 [15:20<11:19,  1.41it/s]\u001b[A\n",
      "Epoch 2:  58%|█████▊    | 1297/2252 [15:21<11:17,  1.41it/s]\u001b[A\n",
      "Epoch 2:  58%|█████▊    | 1298/2252 [15:21<11:16,  1.41it/s]\u001b[A\n",
      "Epoch 2:  58%|█████▊    | 1299/2252 [15:22<11:15,  1.41it/s]\u001b[A\n",
      "Epoch 2:  58%|█████▊    | 1300/2252 [15:23<11:15,  1.41it/s]\u001b[A"
     ]
    },
    {
     "name": "stdout",
     "output_type": "stream",
     "text": [
      "Processed batch 1301/2252\n"
     ]
    },
    {
     "name": "stderr",
     "output_type": "stream",
     "text": [
      "\n",
      "Epoch 2:  58%|█████▊    | 1301/2252 [15:23<11:14,  1.41it/s]\u001b[A\n",
      "Epoch 2:  58%|█████▊    | 1302/2252 [15:24<11:13,  1.41it/s]\u001b[A\n",
      "Epoch 2:  58%|█████▊    | 1303/2252 [15:25<11:13,  1.41it/s]\u001b[A\n",
      "Epoch 2:  58%|█████▊    | 1304/2252 [15:26<11:13,  1.41it/s]\u001b[A\n",
      "Epoch 2:  58%|█████▊    | 1305/2252 [15:26<11:12,  1.41it/s]\u001b[A\n",
      "Epoch 2:  58%|█████▊    | 1306/2252 [15:27<11:11,  1.41it/s]\u001b[A\n",
      "Epoch 2:  58%|█████▊    | 1307/2252 [15:28<11:10,  1.41it/s]\u001b[A\n",
      "Epoch 2:  58%|█████▊    | 1308/2252 [15:28<11:11,  1.41it/s]\u001b[A\n",
      "Epoch 2:  58%|█████▊    | 1309/2252 [15:29<11:10,  1.41it/s]\u001b[A\n",
      "Epoch 2:  58%|█████▊    | 1310/2252 [15:30<11:09,  1.41it/s]\u001b[A"
     ]
    },
    {
     "name": "stdout",
     "output_type": "stream",
     "text": [
      "Processed batch 1311/2252\n"
     ]
    },
    {
     "name": "stderr",
     "output_type": "stream",
     "text": [
      "\n",
      "Epoch 2:  58%|█████▊    | 1311/2252 [15:30<11:08,  1.41it/s]\u001b[A\n",
      "Epoch 2:  58%|█████▊    | 1312/2252 [15:31<11:08,  1.41it/s]\u001b[A\n",
      "Epoch 2:  58%|█████▊    | 1313/2252 [15:32<11:08,  1.41it/s]\u001b[A\n",
      "Epoch 2:  58%|█████▊    | 1314/2252 [15:33<11:07,  1.41it/s]\u001b[A\n",
      "Epoch 2:  58%|█████▊    | 1315/2252 [15:33<11:05,  1.41it/s]\u001b[A\n",
      "Epoch 2:  58%|█████▊    | 1316/2252 [15:34<11:04,  1.41it/s]\u001b[A\n",
      "Epoch 2:  58%|█████▊    | 1317/2252 [15:35<11:03,  1.41it/s]\u001b[A\n",
      "Epoch 2:  59%|█████▊    | 1318/2252 [15:35<11:03,  1.41it/s]\u001b[A\n",
      "Epoch 2:  59%|█████▊    | 1319/2252 [15:36<11:02,  1.41it/s]\u001b[A\n",
      "Epoch 2:  59%|█████▊    | 1320/2252 [15:37<11:02,  1.41it/s]\u001b[A"
     ]
    },
    {
     "name": "stdout",
     "output_type": "stream",
     "text": [
      "Processed batch 1321/2252\n"
     ]
    },
    {
     "name": "stderr",
     "output_type": "stream",
     "text": [
      "\n",
      "Epoch 2:  59%|█████▊    | 1321/2252 [15:38<11:01,  1.41it/s]\u001b[A\n",
      "Epoch 2:  59%|█████▊    | 1322/2252 [15:38<11:01,  1.41it/s]\u001b[A\n",
      "Epoch 2:  59%|█████▊    | 1323/2252 [15:39<10:57,  1.41it/s]\u001b[A\n",
      "Epoch 2:  59%|█████▉    | 1324/2252 [15:40<10:56,  1.41it/s]\u001b[A\n",
      "Epoch 2:  59%|█████▉    | 1325/2252 [15:40<10:55,  1.41it/s]\u001b[A\n",
      "Epoch 2:  59%|█████▉    | 1326/2252 [15:41<10:55,  1.41it/s]\u001b[A\n",
      "Epoch 2:  59%|█████▉    | 1327/2252 [15:42<10:54,  1.41it/s]\u001b[A\n",
      "Epoch 2:  59%|█████▉    | 1328/2252 [15:43<10:54,  1.41it/s]\u001b[A\n",
      "Epoch 2:  59%|█████▉    | 1329/2252 [15:43<10:54,  1.41it/s]\u001b[A\n",
      "Epoch 2:  59%|█████▉    | 1330/2252 [15:44<10:52,  1.41it/s]\u001b[A"
     ]
    },
    {
     "name": "stdout",
     "output_type": "stream",
     "text": [
      "Processed batch 1331/2252\n"
     ]
    },
    {
     "name": "stderr",
     "output_type": "stream",
     "text": [
      "\n",
      "Epoch 2:  59%|█████▉    | 1331/2252 [15:45<10:51,  1.41it/s]\u001b[A\n",
      "Epoch 2:  59%|█████▉    | 1332/2252 [15:45<10:51,  1.41it/s]\u001b[A\n",
      "Epoch 2:  59%|█████▉    | 1333/2252 [15:46<10:50,  1.41it/s]\u001b[A\n",
      "Epoch 2:  59%|█████▉    | 1334/2252 [15:47<10:49,  1.41it/s]\u001b[A\n",
      "Epoch 2:  59%|█████▉    | 1335/2252 [15:47<10:48,  1.41it/s]\u001b[A\n",
      "Epoch 2:  59%|█████▉    | 1336/2252 [15:48<10:48,  1.41it/s]\u001b[A\n",
      "Epoch 2:  59%|█████▉    | 1337/2252 [15:49<10:47,  1.41it/s]\u001b[A\n",
      "Epoch 2:  59%|█████▉    | 1338/2252 [15:50<10:47,  1.41it/s]\u001b[A\n",
      "Epoch 2:  59%|█████▉    | 1339/2252 [15:50<10:45,  1.41it/s]\u001b[A\n",
      "Epoch 2:  60%|█████▉    | 1340/2252 [15:51<10:45,  1.41it/s]\u001b[A"
     ]
    },
    {
     "name": "stdout",
     "output_type": "stream",
     "text": [
      "Processed batch 1341/2252\n"
     ]
    },
    {
     "name": "stderr",
     "output_type": "stream",
     "text": [
      "\n",
      "Epoch 2:  60%|█████▉    | 1341/2252 [15:52<10:44,  1.41it/s]\u001b[A\n",
      "Epoch 2:  60%|█████▉    | 1342/2252 [15:52<10:44,  1.41it/s]\u001b[A\n",
      "Epoch 2:  60%|█████▉    | 1343/2252 [15:53<10:43,  1.41it/s]\u001b[A\n",
      "Epoch 2:  60%|█████▉    | 1344/2252 [15:54<10:42,  1.41it/s]\u001b[A\n",
      "Epoch 2:  60%|█████▉    | 1345/2252 [15:55<10:41,  1.41it/s]\u001b[A\n",
      "Epoch 2:  60%|█████▉    | 1346/2252 [15:55<10:40,  1.41it/s]\u001b[A\n",
      "Epoch 2:  60%|█████▉    | 1347/2252 [15:56<10:40,  1.41it/s]\u001b[A\n",
      "Epoch 2:  60%|█████▉    | 1348/2252 [15:57<10:41,  1.41it/s]\u001b[A\n",
      "Epoch 2:  60%|█████▉    | 1349/2252 [15:57<10:38,  1.41it/s]\u001b[A\n",
      "Epoch 2:  60%|█████▉    | 1350/2252 [15:58<10:37,  1.41it/s]\u001b[A"
     ]
    },
    {
     "name": "stdout",
     "output_type": "stream",
     "text": [
      "Processed batch 1351/2252\n"
     ]
    },
    {
     "name": "stderr",
     "output_type": "stream",
     "text": [
      "\n",
      "Epoch 2:  60%|█████▉    | 1351/2252 [15:59<10:36,  1.42it/s]\u001b[A\n",
      "Epoch 2:  60%|██████    | 1352/2252 [16:00<10:35,  1.42it/s]\u001b[A\n",
      "Epoch 2:  60%|██████    | 1353/2252 [16:00<10:35,  1.42it/s]\u001b[A\n",
      "Epoch 2:  60%|██████    | 1354/2252 [16:01<10:34,  1.41it/s]\u001b[A\n",
      "Epoch 2:  60%|██████    | 1355/2252 [16:02<10:33,  1.42it/s]\u001b[A\n",
      "Epoch 2:  60%|██████    | 1356/2252 [16:02<10:32,  1.42it/s]\u001b[A\n",
      "Epoch 2:  60%|██████    | 1357/2252 [16:03<10:32,  1.42it/s]\u001b[A\n",
      "Epoch 2:  60%|██████    | 1358/2252 [16:04<10:31,  1.42it/s]\u001b[A\n",
      "Epoch 2:  60%|██████    | 1359/2252 [16:04<10:30,  1.42it/s]\u001b[A\n",
      "Epoch 2:  60%|██████    | 1360/2252 [16:05<10:30,  1.42it/s]\u001b[A"
     ]
    },
    {
     "name": "stdout",
     "output_type": "stream",
     "text": [
      "Processed batch 1361/2252\n"
     ]
    },
    {
     "name": "stderr",
     "output_type": "stream",
     "text": [
      "\n",
      "Epoch 2:  60%|██████    | 1361/2252 [16:06<10:29,  1.41it/s]\u001b[A\n",
      "Epoch 2:  60%|██████    | 1362/2252 [16:07<10:29,  1.41it/s]\u001b[A\n",
      "Epoch 2:  61%|██████    | 1363/2252 [16:07<10:28,  1.41it/s]\u001b[A\n",
      "Epoch 2:  61%|██████    | 1364/2252 [16:08<10:28,  1.41it/s]\u001b[A\n",
      "Epoch 2:  61%|██████    | 1365/2252 [16:09<10:27,  1.41it/s]\u001b[A\n",
      "Epoch 2:  61%|██████    | 1366/2252 [16:09<10:25,  1.42it/s]\u001b[A\n",
      "Epoch 2:  61%|██████    | 1367/2252 [16:10<10:25,  1.41it/s]\u001b[A\n",
      "Epoch 2:  61%|██████    | 1368/2252 [16:11<10:24,  1.42it/s]\u001b[A\n",
      "Epoch 2:  61%|██████    | 1369/2252 [16:12<10:23,  1.42it/s]\u001b[A\n",
      "Epoch 2:  61%|██████    | 1370/2252 [16:12<10:22,  1.42it/s]\u001b[A"
     ]
    },
    {
     "name": "stdout",
     "output_type": "stream",
     "text": [
      "Processed batch 1371/2252\n"
     ]
    },
    {
     "name": "stderr",
     "output_type": "stream",
     "text": [
      "\n",
      "Epoch 2:  61%|██████    | 1371/2252 [16:13<10:22,  1.42it/s]\u001b[A\n",
      "Epoch 2:  61%|██████    | 1372/2252 [16:14<10:22,  1.41it/s]\u001b[A\n",
      "Epoch 2:  61%|██████    | 1373/2252 [16:14<10:21,  1.42it/s]\u001b[A\n",
      "Epoch 2:  61%|██████    | 1374/2252 [16:15<10:20,  1.42it/s]\u001b[A\n",
      "Epoch 2:  61%|██████    | 1375/2252 [16:16<10:20,  1.41it/s]\u001b[A\n",
      "Epoch 2:  61%|██████    | 1376/2252 [16:16<10:18,  1.42it/s]\u001b[A\n",
      "Epoch 2:  61%|██████    | 1377/2252 [16:17<10:18,  1.41it/s]\u001b[A\n",
      "Epoch 2:  61%|██████    | 1378/2252 [16:18<10:17,  1.41it/s]\u001b[A\n",
      "Epoch 2:  61%|██████    | 1379/2252 [16:19<10:16,  1.42it/s]\u001b[A\n",
      "Epoch 2:  61%|██████▏   | 1380/2252 [16:19<10:16,  1.41it/s]\u001b[A"
     ]
    },
    {
     "name": "stdout",
     "output_type": "stream",
     "text": [
      "Processed batch 1381/2252\n"
     ]
    },
    {
     "name": "stderr",
     "output_type": "stream",
     "text": [
      "\n",
      "Epoch 2:  61%|██████▏   | 1381/2252 [16:20<10:15,  1.42it/s]\u001b[A\n",
      "Epoch 2:  61%|██████▏   | 1382/2252 [16:21<10:15,  1.41it/s]\u001b[A\n",
      "Epoch 2:  61%|██████▏   | 1383/2252 [16:21<10:14,  1.41it/s]\u001b[A\n",
      "Epoch 2:  61%|██████▏   | 1384/2252 [16:22<10:14,  1.41it/s]\u001b[A\n",
      "Epoch 2:  62%|██████▏   | 1385/2252 [16:23<10:13,  1.41it/s]\u001b[A\n",
      "Epoch 2:  62%|██████▏   | 1386/2252 [16:24<10:12,  1.41it/s]\u001b[A\n",
      "Epoch 2:  62%|██████▏   | 1387/2252 [16:24<10:11,  1.42it/s]\u001b[A\n",
      "Epoch 2:  62%|██████▏   | 1388/2252 [16:25<10:10,  1.42it/s]\u001b[A\n",
      "Epoch 2:  62%|██████▏   | 1389/2252 [16:26<10:10,  1.41it/s]\u001b[A\n",
      "Epoch 2:  62%|██████▏   | 1390/2252 [16:26<10:09,  1.41it/s]\u001b[A"
     ]
    },
    {
     "name": "stdout",
     "output_type": "stream",
     "text": [
      "Processed batch 1391/2252\n"
     ]
    },
    {
     "name": "stderr",
     "output_type": "stream",
     "text": [
      "\n",
      "Epoch 2:  62%|██████▏   | 1391/2252 [16:27<10:08,  1.41it/s]\u001b[A\n",
      "Epoch 2:  62%|██████▏   | 1392/2252 [16:28<10:09,  1.41it/s]\u001b[A\n",
      "Epoch 2:  62%|██████▏   | 1393/2252 [16:29<10:06,  1.42it/s]\u001b[A\n",
      "Epoch 2:  62%|██████▏   | 1394/2252 [16:29<10:06,  1.41it/s]\u001b[A\n",
      "Epoch 2:  62%|██████▏   | 1395/2252 [16:30<10:05,  1.42it/s]\u001b[A\n",
      "Epoch 2:  62%|██████▏   | 1396/2252 [16:31<10:05,  1.41it/s]\u001b[A\n",
      "Epoch 2:  62%|██████▏   | 1397/2252 [16:31<10:05,  1.41it/s]\u001b[A\n",
      "Epoch 2:  62%|██████▏   | 1398/2252 [16:32<10:03,  1.42it/s]\u001b[A\n",
      "Epoch 2:  62%|██████▏   | 1399/2252 [16:33<10:03,  1.41it/s]\u001b[A\n",
      "Epoch 2:  62%|██████▏   | 1400/2252 [16:33<10:03,  1.41it/s]\u001b[A"
     ]
    },
    {
     "name": "stdout",
     "output_type": "stream",
     "text": [
      "Processed batch 1401/2252\n"
     ]
    },
    {
     "name": "stderr",
     "output_type": "stream",
     "text": [
      "\n",
      "Epoch 2:  62%|██████▏   | 1401/2252 [16:34<10:02,  1.41it/s]\u001b[A\n",
      "Epoch 2:  62%|██████▏   | 1402/2252 [16:35<10:03,  1.41it/s]\u001b[A\n",
      "Epoch 2:  62%|██████▏   | 1403/2252 [16:36<10:02,  1.41it/s]\u001b[A\n",
      "Epoch 2:  62%|██████▏   | 1404/2252 [16:36<10:00,  1.41it/s]\u001b[A\n",
      "Epoch 2:  62%|██████▏   | 1405/2252 [16:37<09:58,  1.41it/s]\u001b[A\n",
      "Epoch 2:  62%|██████▏   | 1406/2252 [16:38<09:58,  1.41it/s]\u001b[A\n",
      "Epoch 2:  62%|██████▏   | 1407/2252 [16:38<09:57,  1.41it/s]\u001b[A\n",
      "Epoch 2:  63%|██████▎   | 1408/2252 [16:39<09:56,  1.41it/s]\u001b[A\n",
      "Epoch 2:  63%|██████▎   | 1409/2252 [16:40<09:55,  1.42it/s]\u001b[A\n",
      "Epoch 2:  63%|██████▎   | 1410/2252 [16:41<09:54,  1.42it/s]\u001b[A"
     ]
    },
    {
     "name": "stdout",
     "output_type": "stream",
     "text": [
      "Processed batch 1411/2252\n"
     ]
    },
    {
     "name": "stderr",
     "output_type": "stream",
     "text": [
      "\n",
      "Epoch 2:  63%|██████▎   | 1411/2252 [16:41<09:54,  1.41it/s]\u001b[A\n",
      "Epoch 2:  63%|██████▎   | 1412/2252 [16:42<09:54,  1.41it/s]\u001b[A\n",
      "Epoch 2:  63%|██████▎   | 1413/2252 [16:43<09:53,  1.41it/s]\u001b[A\n",
      "Epoch 2:  63%|██████▎   | 1414/2252 [16:43<09:52,  1.41it/s]\u001b[A\n",
      "Epoch 2:  63%|██████▎   | 1415/2252 [16:44<09:51,  1.42it/s]\u001b[A\n",
      "Epoch 2:  63%|██████▎   | 1416/2252 [16:45<09:51,  1.41it/s]\u001b[A\n",
      "Epoch 2:  63%|██████▎   | 1417/2252 [16:45<09:51,  1.41it/s]\u001b[A\n",
      "Epoch 2:  63%|██████▎   | 1418/2252 [16:46<09:50,  1.41it/s]\u001b[A\n",
      "Epoch 2:  63%|██████▎   | 1419/2252 [16:47<09:48,  1.41it/s]\u001b[A\n",
      "Epoch 2:  63%|██████▎   | 1420/2252 [16:48<09:48,  1.41it/s]\u001b[A"
     ]
    },
    {
     "name": "stdout",
     "output_type": "stream",
     "text": [
      "Processed batch 1421/2252\n"
     ]
    },
    {
     "name": "stderr",
     "output_type": "stream",
     "text": [
      "\n",
      "Epoch 2:  63%|██████▎   | 1421/2252 [16:48<09:48,  1.41it/s]\u001b[A\n",
      "Epoch 2:  63%|██████▎   | 1422/2252 [16:49<09:46,  1.41it/s]\u001b[A\n",
      "Epoch 2:  63%|██████▎   | 1423/2252 [16:50<09:46,  1.41it/s]\u001b[A\n",
      "Epoch 2:  63%|██████▎   | 1424/2252 [16:50<09:45,  1.41it/s]\u001b[A\n",
      "Epoch 2:  63%|██████▎   | 1425/2252 [16:51<09:45,  1.41it/s]\u001b[A\n",
      "Epoch 2:  63%|██████▎   | 1426/2252 [16:52<09:44,  1.41it/s]\u001b[A\n",
      "Epoch 2:  63%|██████▎   | 1427/2252 [16:53<09:43,  1.41it/s]\u001b[A\n",
      "Epoch 2:  63%|██████▎   | 1428/2252 [16:53<09:43,  1.41it/s]\u001b[A\n",
      "Epoch 2:  63%|██████▎   | 1429/2252 [16:54<09:42,  1.41it/s]\u001b[A\n",
      "Epoch 2:  63%|██████▎   | 1430/2252 [16:55<09:41,  1.41it/s]\u001b[A"
     ]
    },
    {
     "name": "stdout",
     "output_type": "stream",
     "text": [
      "Processed batch 1431/2252\n"
     ]
    },
    {
     "name": "stderr",
     "output_type": "stream",
     "text": [
      "\n",
      "Epoch 2:  64%|██████▎   | 1431/2252 [16:55<09:41,  1.41it/s]\u001b[A\n",
      "Epoch 2:  64%|██████▎   | 1432/2252 [16:56<09:40,  1.41it/s]\u001b[A\n",
      "Epoch 2:  64%|██████▎   | 1433/2252 [16:57<09:39,  1.41it/s]\u001b[A\n",
      "Epoch 2:  64%|██████▎   | 1434/2252 [16:58<09:38,  1.41it/s]\u001b[A\n",
      "Epoch 2:  64%|██████▎   | 1435/2252 [16:58<09:38,  1.41it/s]\u001b[A\n",
      "Epoch 2:  64%|██████▍   | 1436/2252 [16:59<09:37,  1.41it/s]\u001b[A\n",
      "Epoch 2:  64%|██████▍   | 1437/2252 [17:00<09:36,  1.41it/s]\u001b[A\n",
      "Epoch 2:  64%|██████▍   | 1438/2252 [17:00<09:36,  1.41it/s]\u001b[A\n",
      "Epoch 2:  64%|██████▍   | 1439/2252 [17:01<09:36,  1.41it/s]\u001b[A\n",
      "Epoch 2:  64%|██████▍   | 1440/2252 [17:02<09:34,  1.41it/s]\u001b[A"
     ]
    },
    {
     "name": "stdout",
     "output_type": "stream",
     "text": [
      "Processed batch 1441/2252\n"
     ]
    },
    {
     "name": "stderr",
     "output_type": "stream",
     "text": [
      "\n",
      "Epoch 2:  64%|██████▍   | 1441/2252 [17:02<09:33,  1.41it/s]\u001b[A\n",
      "Epoch 2:  64%|██████▍   | 1442/2252 [17:03<09:32,  1.41it/s]\u001b[A\n",
      "Epoch 2:  64%|██████▍   | 1443/2252 [17:04<09:32,  1.41it/s]\u001b[A\n",
      "Epoch 2:  64%|██████▍   | 1444/2252 [17:05<09:31,  1.41it/s]\u001b[A\n",
      "Epoch 2:  64%|██████▍   | 1445/2252 [17:05<09:30,  1.41it/s]\u001b[A\n",
      "Epoch 2:  64%|██████▍   | 1446/2252 [17:06<09:29,  1.41it/s]\u001b[A\n",
      "Epoch 2:  64%|██████▍   | 1447/2252 [17:07<09:29,  1.41it/s]\u001b[A\n",
      "Epoch 2:  64%|██████▍   | 1448/2252 [17:07<09:29,  1.41it/s]\u001b[A\n",
      "Epoch 2:  64%|██████▍   | 1449/2252 [17:08<09:28,  1.41it/s]\u001b[A\n",
      "Epoch 2:  64%|██████▍   | 1450/2252 [17:09<09:26,  1.42it/s]\u001b[A"
     ]
    },
    {
     "name": "stdout",
     "output_type": "stream",
     "text": [
      "Processed batch 1451/2252\n"
     ]
    },
    {
     "name": "stderr",
     "output_type": "stream",
     "text": [
      "\n",
      "Epoch 2:  64%|██████▍   | 1451/2252 [17:10<09:26,  1.41it/s]\u001b[A\n",
      "Epoch 2:  64%|██████▍   | 1452/2252 [17:10<09:24,  1.42it/s]\u001b[A\n",
      "Epoch 2:  65%|██████▍   | 1453/2252 [17:11<09:24,  1.41it/s]\u001b[A\n",
      "Epoch 2:  65%|██████▍   | 1454/2252 [17:12<09:24,  1.41it/s]\u001b[A\n",
      "Epoch 2:  65%|██████▍   | 1455/2252 [17:12<09:23,  1.41it/s]\u001b[A\n",
      "Epoch 2:  65%|██████▍   | 1456/2252 [17:13<09:22,  1.41it/s]\u001b[A\n",
      "Epoch 2:  65%|██████▍   | 1457/2252 [17:14<09:22,  1.41it/s]\u001b[A\n",
      "Epoch 2:  65%|██████▍   | 1458/2252 [17:14<09:21,  1.42it/s]\u001b[A\n",
      "Epoch 2:  65%|██████▍   | 1459/2252 [17:15<09:20,  1.41it/s]\u001b[A\n",
      "Epoch 2:  65%|██████▍   | 1460/2252 [17:16<09:19,  1.41it/s]\u001b[A"
     ]
    },
    {
     "name": "stdout",
     "output_type": "stream",
     "text": [
      "Processed batch 1461/2252\n"
     ]
    },
    {
     "name": "stderr",
     "output_type": "stream",
     "text": [
      "\n",
      "Epoch 2:  65%|██████▍   | 1461/2252 [17:17<09:19,  1.41it/s]\u001b[A\n",
      "Epoch 2:  65%|██████▍   | 1462/2252 [17:17<09:19,  1.41it/s]\u001b[A\n",
      "Epoch 2:  65%|██████▍   | 1463/2252 [17:18<09:18,  1.41it/s]\u001b[A\n",
      "Epoch 2:  65%|██████▌   | 1464/2252 [17:19<09:18,  1.41it/s]\u001b[A\n",
      "Epoch 2:  65%|██████▌   | 1465/2252 [17:19<09:16,  1.41it/s]\u001b[A\n",
      "Epoch 2:  65%|██████▌   | 1466/2252 [17:20<09:15,  1.41it/s]\u001b[A\n",
      "Epoch 2:  65%|██████▌   | 1467/2252 [17:21<09:15,  1.41it/s]\u001b[A\n",
      "Epoch 2:  65%|██████▌   | 1468/2252 [17:22<09:14,  1.41it/s]\u001b[A\n",
      "Epoch 2:  65%|██████▌   | 1469/2252 [17:22<09:13,  1.42it/s]\u001b[A\n",
      "Epoch 2:  65%|██████▌   | 1470/2252 [17:23<09:13,  1.41it/s]\u001b[A"
     ]
    },
    {
     "name": "stdout",
     "output_type": "stream",
     "text": [
      "Processed batch 1471/2252\n"
     ]
    },
    {
     "name": "stderr",
     "output_type": "stream",
     "text": [
      "\n",
      "Epoch 2:  65%|██████▌   | 1471/2252 [17:24<09:12,  1.41it/s]\u001b[A\n",
      "Epoch 2:  65%|██████▌   | 1472/2252 [17:24<09:11,  1.41it/s]\u001b[A\n",
      "Epoch 2:  65%|██████▌   | 1473/2252 [17:25<09:11,  1.41it/s]\u001b[A\n",
      "Epoch 2:  65%|██████▌   | 1474/2252 [17:26<09:10,  1.41it/s]\u001b[A\n",
      "Epoch 2:  65%|██████▌   | 1475/2252 [17:27<09:09,  1.41it/s]\u001b[A\n",
      "Epoch 2:  66%|██████▌   | 1476/2252 [17:27<09:08,  1.41it/s]\u001b[A\n",
      "Epoch 2:  66%|██████▌   | 1477/2252 [17:28<09:07,  1.41it/s]\u001b[A\n",
      "Epoch 2:  66%|██████▌   | 1478/2252 [17:29<09:07,  1.41it/s]\u001b[A\n",
      "Epoch 2:  66%|██████▌   | 1479/2252 [17:29<09:06,  1.41it/s]\u001b[A\n",
      "Epoch 2:  66%|██████▌   | 1480/2252 [17:30<09:05,  1.41it/s]\u001b[A"
     ]
    },
    {
     "name": "stdout",
     "output_type": "stream",
     "text": [
      "Processed batch 1481/2252\n"
     ]
    },
    {
     "name": "stderr",
     "output_type": "stream",
     "text": [
      "\n",
      "Epoch 2:  66%|██████▌   | 1481/2252 [17:31<09:04,  1.41it/s]\u001b[A\n",
      "Epoch 2:  66%|██████▌   | 1482/2252 [17:31<09:04,  1.41it/s]\u001b[A\n",
      "Epoch 2:  66%|██████▌   | 1483/2252 [17:32<09:04,  1.41it/s]\u001b[A\n",
      "Epoch 2:  66%|██████▌   | 1484/2252 [17:33<09:04,  1.41it/s]\u001b[A\n",
      "Epoch 2:  66%|██████▌   | 1485/2252 [17:34<09:02,  1.41it/s]\u001b[A\n",
      "Epoch 2:  66%|██████▌   | 1486/2252 [17:34<09:00,  1.42it/s]\u001b[A\n",
      "Epoch 2:  66%|██████▌   | 1487/2252 [17:35<09:01,  1.41it/s]\u001b[A\n",
      "Epoch 2:  66%|██████▌   | 1488/2252 [17:36<09:00,  1.41it/s]\u001b[A\n",
      "Epoch 2:  66%|██████▌   | 1489/2252 [17:36<08:59,  1.41it/s]\u001b[A\n",
      "Epoch 2:  66%|██████▌   | 1490/2252 [17:37<08:58,  1.41it/s]\u001b[A"
     ]
    },
    {
     "name": "stdout",
     "output_type": "stream",
     "text": [
      "Processed batch 1491/2252\n"
     ]
    },
    {
     "name": "stderr",
     "output_type": "stream",
     "text": [
      "\n",
      "Epoch 2:  66%|██████▌   | 1491/2252 [17:38<08:57,  1.41it/s]\u001b[A\n",
      "Epoch 2:  66%|██████▋   | 1492/2252 [17:39<08:57,  1.41it/s]\u001b[A\n",
      "Epoch 2:  66%|██████▋   | 1493/2252 [17:39<08:55,  1.42it/s]\u001b[A\n",
      "Epoch 2:  66%|██████▋   | 1494/2252 [17:40<08:55,  1.42it/s]\u001b[A\n",
      "Epoch 2:  66%|██████▋   | 1495/2252 [17:41<08:54,  1.42it/s]\u001b[A\n",
      "Epoch 2:  66%|██████▋   | 1496/2252 [17:41<08:54,  1.41it/s]\u001b[A\n",
      "Epoch 2:  66%|██████▋   | 1497/2252 [17:42<08:53,  1.41it/s]\u001b[A\n",
      "Epoch 2:  67%|██████▋   | 1498/2252 [17:43<08:52,  1.42it/s]\u001b[A\n",
      "Epoch 2:  67%|██████▋   | 1499/2252 [17:43<08:52,  1.41it/s]\u001b[A\n",
      "Epoch 2:  67%|██████▋   | 1500/2252 [17:44<08:51,  1.42it/s]\u001b[A"
     ]
    },
    {
     "name": "stdout",
     "output_type": "stream",
     "text": [
      "Processed batch 1501/2252\n"
     ]
    },
    {
     "name": "stderr",
     "output_type": "stream",
     "text": [
      "\n",
      "Epoch 2:  67%|██████▋   | 1501/2252 [17:45<08:50,  1.42it/s]\u001b[A\n",
      "Epoch 2:  67%|██████▋   | 1502/2252 [17:46<08:49,  1.42it/s]\u001b[A\n",
      "Epoch 2:  67%|██████▋   | 1503/2252 [17:46<08:49,  1.42it/s]\u001b[A\n",
      "Epoch 2:  67%|██████▋   | 1504/2252 [17:47<08:48,  1.41it/s]\u001b[A\n",
      "Epoch 2:  67%|██████▋   | 1505/2252 [17:48<08:48,  1.41it/s]\u001b[A\n",
      "Epoch 2:  67%|██████▋   | 1506/2252 [17:48<08:47,  1.41it/s]\u001b[A\n",
      "Epoch 2:  67%|██████▋   | 1507/2252 [17:49<08:47,  1.41it/s]\u001b[A\n",
      "Epoch 2:  67%|██████▋   | 1508/2252 [17:50<08:46,  1.41it/s]\u001b[A\n",
      "Epoch 2:  67%|██████▋   | 1509/2252 [17:51<08:45,  1.42it/s]\u001b[A\n",
      "Epoch 2:  67%|██████▋   | 1510/2252 [17:51<08:44,  1.41it/s]\u001b[A"
     ]
    },
    {
     "name": "stdout",
     "output_type": "stream",
     "text": [
      "Processed batch 1511/2252\n"
     ]
    },
    {
     "name": "stderr",
     "output_type": "stream",
     "text": [
      "\n",
      "Epoch 2:  67%|██████▋   | 1511/2252 [17:52<08:43,  1.42it/s]\u001b[A\n",
      "Epoch 2:  67%|██████▋   | 1512/2252 [17:53<08:43,  1.41it/s]\u001b[A\n",
      "Epoch 2:  67%|██████▋   | 1513/2252 [17:53<08:42,  1.41it/s]\u001b[A\n",
      "Epoch 2:  67%|██████▋   | 1514/2252 [17:54<08:42,  1.41it/s]\u001b[A\n",
      "Epoch 2:  67%|██████▋   | 1515/2252 [17:55<08:40,  1.41it/s]\u001b[A\n",
      "Epoch 2:  67%|██████▋   | 1516/2252 [17:55<08:40,  1.41it/s]\u001b[A\n",
      "Epoch 2:  67%|██████▋   | 1517/2252 [17:56<08:39,  1.41it/s]\u001b[A\n",
      "Epoch 2:  67%|██████▋   | 1518/2252 [17:57<08:39,  1.41it/s]\u001b[A\n",
      "Epoch 2:  67%|██████▋   | 1519/2252 [17:58<08:38,  1.41it/s]\u001b[A\n",
      "Epoch 2:  67%|██████▋   | 1520/2252 [17:58<08:38,  1.41it/s]\u001b[A"
     ]
    },
    {
     "name": "stdout",
     "output_type": "stream",
     "text": [
      "Processed batch 1521/2252\n"
     ]
    },
    {
     "name": "stderr",
     "output_type": "stream",
     "text": [
      "\n",
      "Epoch 2:  68%|██████▊   | 1521/2252 [17:59<08:38,  1.41it/s]\u001b[A\n",
      "Epoch 2:  68%|██████▊   | 1522/2252 [18:00<08:37,  1.41it/s]\u001b[A\n",
      "Epoch 2:  68%|██████▊   | 1523/2252 [18:00<08:36,  1.41it/s]\u001b[A\n",
      "Epoch 2:  68%|██████▊   | 1524/2252 [18:01<08:35,  1.41it/s]\u001b[A\n",
      "Epoch 2:  68%|██████▊   | 1525/2252 [18:02<08:35,  1.41it/s]\u001b[A\n",
      "Epoch 2:  68%|██████▊   | 1526/2252 [18:03<08:33,  1.41it/s]\u001b[A\n",
      "Epoch 2:  68%|██████▊   | 1527/2252 [18:03<08:32,  1.41it/s]\u001b[A\n",
      "Epoch 2:  68%|██████▊   | 1528/2252 [18:04<08:33,  1.41it/s]\u001b[A\n",
      "Epoch 2:  68%|██████▊   | 1529/2252 [18:05<08:32,  1.41it/s]\u001b[A\n",
      "Epoch 2:  68%|██████▊   | 1530/2252 [18:05<08:31,  1.41it/s]\u001b[A"
     ]
    },
    {
     "name": "stdout",
     "output_type": "stream",
     "text": [
      "Processed batch 1531/2252\n"
     ]
    },
    {
     "name": "stderr",
     "output_type": "stream",
     "text": [
      "\n",
      "Epoch 2:  68%|██████▊   | 1531/2252 [18:06<08:29,  1.42it/s]\u001b[A\n",
      "Epoch 2:  68%|██████▊   | 1532/2252 [18:07<08:29,  1.41it/s]\u001b[A\n",
      "Epoch 2:  68%|██████▊   | 1533/2252 [18:08<08:28,  1.41it/s]\u001b[A\n",
      "Epoch 2:  68%|██████▊   | 1534/2252 [18:08<08:28,  1.41it/s]\u001b[A\n",
      "Epoch 2:  68%|██████▊   | 1535/2252 [18:09<08:27,  1.41it/s]\u001b[A\n",
      "Epoch 2:  68%|██████▊   | 1536/2252 [18:10<08:26,  1.41it/s]\u001b[A\n",
      "Epoch 2:  68%|██████▊   | 1537/2252 [18:10<08:26,  1.41it/s]\u001b[A\n",
      "Epoch 2:  68%|██████▊   | 1538/2252 [18:11<08:25,  1.41it/s]\u001b[A\n",
      "Epoch 2:  68%|██████▊   | 1539/2252 [18:12<08:24,  1.41it/s]\u001b[A\n",
      "Epoch 2:  68%|██████▊   | 1540/2252 [18:12<08:23,  1.41it/s]\u001b[A"
     ]
    },
    {
     "name": "stdout",
     "output_type": "stream",
     "text": [
      "Processed batch 1541/2252\n"
     ]
    },
    {
     "name": "stderr",
     "output_type": "stream",
     "text": [
      "\n",
      "Epoch 2:  68%|██████▊   | 1541/2252 [18:13<08:23,  1.41it/s]\u001b[A\n",
      "Epoch 2:  68%|██████▊   | 1542/2252 [18:14<08:23,  1.41it/s]\u001b[A\n",
      "Epoch 2:  69%|██████▊   | 1543/2252 [18:15<08:21,  1.41it/s]\u001b[A\n",
      "Epoch 2:  69%|██████▊   | 1544/2252 [18:15<08:21,  1.41it/s]\u001b[A\n",
      "Epoch 2:  69%|██████▊   | 1545/2252 [18:16<08:20,  1.41it/s]\u001b[A\n",
      "Epoch 2:  69%|██████▊   | 1546/2252 [18:17<08:19,  1.41it/s]\u001b[A\n",
      "Epoch 2:  69%|██████▊   | 1547/2252 [18:17<08:18,  1.41it/s]\u001b[A\n",
      "Epoch 2:  69%|██████▊   | 1548/2252 [18:18<08:19,  1.41it/s]\u001b[A\n",
      "Epoch 2:  69%|██████▉   | 1549/2252 [18:19<08:18,  1.41it/s]\u001b[A\n",
      "Epoch 2:  69%|██████▉   | 1550/2252 [18:20<08:18,  1.41it/s]\u001b[A"
     ]
    },
    {
     "name": "stdout",
     "output_type": "stream",
     "text": [
      "Processed batch 1551/2252\n"
     ]
    },
    {
     "name": "stderr",
     "output_type": "stream",
     "text": [
      "\n",
      "Epoch 2:  69%|██████▉   | 1551/2252 [18:20<08:17,  1.41it/s]\u001b[A\n",
      "Epoch 2:  69%|██████▉   | 1552/2252 [18:21<08:16,  1.41it/s]\u001b[A\n",
      "Epoch 2:  69%|██████▉   | 1553/2252 [18:22<08:16,  1.41it/s]\u001b[A\n",
      "Epoch 2:  69%|██████▉   | 1554/2252 [18:22<08:15,  1.41it/s]\u001b[A\n",
      "Epoch 2:  69%|██████▉   | 1555/2252 [18:23<08:14,  1.41it/s]\u001b[A\n",
      "Epoch 2:  69%|██████▉   | 1556/2252 [18:24<08:14,  1.41it/s]\u001b[A\n",
      "Epoch 2:  69%|██████▉   | 1557/2252 [18:25<08:13,  1.41it/s]\u001b[A\n",
      "Epoch 2:  69%|██████▉   | 1558/2252 [18:25<08:11,  1.41it/s]\u001b[A\n",
      "Epoch 2:  69%|██████▉   | 1559/2252 [18:26<08:11,  1.41it/s]\u001b[A\n",
      "Epoch 2:  69%|██████▉   | 1560/2252 [18:27<08:10,  1.41it/s]\u001b[A"
     ]
    },
    {
     "name": "stdout",
     "output_type": "stream",
     "text": [
      "Processed batch 1561/2252\n"
     ]
    },
    {
     "name": "stderr",
     "output_type": "stream",
     "text": [
      "\n",
      "Epoch 2:  69%|██████▉   | 1561/2252 [18:27<08:09,  1.41it/s]\u001b[A\n",
      "Epoch 2:  69%|██████▉   | 1562/2252 [18:28<08:09,  1.41it/s]\u001b[A\n",
      "Epoch 2:  69%|██████▉   | 1563/2252 [18:29<08:08,  1.41it/s]\u001b[A\n",
      "Epoch 2:  69%|██████▉   | 1564/2252 [18:30<08:07,  1.41it/s]\u001b[A\n",
      "Epoch 2:  69%|██████▉   | 1565/2252 [18:30<08:07,  1.41it/s]\u001b[A\n",
      "Epoch 2:  70%|██████▉   | 1566/2252 [18:31<08:06,  1.41it/s]\u001b[A\n",
      "Epoch 2:  70%|██████▉   | 1567/2252 [18:32<08:06,  1.41it/s]\u001b[A\n",
      "Epoch 2:  70%|██████▉   | 1568/2252 [18:32<08:05,  1.41it/s]\u001b[A\n",
      "Epoch 2:  70%|██████▉   | 1569/2252 [18:33<08:03,  1.41it/s]\u001b[A\n",
      "Epoch 2:  70%|██████▉   | 1570/2252 [18:34<08:02,  1.41it/s]\u001b[A"
     ]
    },
    {
     "name": "stdout",
     "output_type": "stream",
     "text": [
      "Processed batch 1571/2252\n"
     ]
    },
    {
     "name": "stderr",
     "output_type": "stream",
     "text": [
      "\n",
      "Epoch 2:  70%|██████▉   | 1571/2252 [18:34<08:01,  1.41it/s]\u001b[A\n",
      "Epoch 2:  70%|██████▉   | 1572/2252 [18:35<08:01,  1.41it/s]\u001b[A\n",
      "Epoch 2:  70%|██████▉   | 1573/2252 [18:36<08:00,  1.41it/s]\u001b[A\n",
      "Epoch 2:  70%|██████▉   | 1574/2252 [18:37<08:00,  1.41it/s]\u001b[A\n",
      "Epoch 2:  70%|██████▉   | 1575/2252 [18:37<07:59,  1.41it/s]\u001b[A\n",
      "Epoch 2:  70%|██████▉   | 1576/2252 [18:38<07:58,  1.41it/s]\u001b[A\n",
      "Epoch 2:  70%|███████   | 1577/2252 [18:39<07:58,  1.41it/s]\u001b[A\n",
      "Epoch 2:  70%|███████   | 1578/2252 [18:39<07:57,  1.41it/s]\u001b[A\n",
      "Epoch 2:  70%|███████   | 1579/2252 [18:40<07:56,  1.41it/s]\u001b[A\n",
      "Epoch 2:  70%|███████   | 1580/2252 [18:41<07:56,  1.41it/s]\u001b[A"
     ]
    },
    {
     "name": "stdout",
     "output_type": "stream",
     "text": [
      "Processed batch 1581/2252\n"
     ]
    },
    {
     "name": "stderr",
     "output_type": "stream",
     "text": [
      "\n",
      "Epoch 2:  70%|███████   | 1581/2252 [18:42<07:55,  1.41it/s]\u001b[A\n",
      "Epoch 2:  70%|███████   | 1582/2252 [18:42<07:55,  1.41it/s]\u001b[A\n",
      "Epoch 2:  70%|███████   | 1583/2252 [18:43<07:55,  1.41it/s]\u001b[A\n",
      "Epoch 2:  70%|███████   | 1584/2252 [18:44<07:55,  1.41it/s]\u001b[A\n",
      "Epoch 2:  70%|███████   | 1585/2252 [18:44<07:54,  1.41it/s]\u001b[A\n",
      "Epoch 2:  70%|███████   | 1586/2252 [18:45<07:53,  1.41it/s]\u001b[A\n",
      "Epoch 2:  70%|███████   | 1587/2252 [18:46<07:52,  1.41it/s]\u001b[A\n",
      "Epoch 2:  71%|███████   | 1588/2252 [18:47<07:52,  1.41it/s]\u001b[A\n",
      "Epoch 2:  71%|███████   | 1589/2252 [18:47<07:51,  1.40it/s]\u001b[A\n",
      "Epoch 2:  71%|███████   | 1590/2252 [18:48<07:50,  1.41it/s]\u001b[A"
     ]
    },
    {
     "name": "stdout",
     "output_type": "stream",
     "text": [
      "Processed batch 1591/2252\n"
     ]
    },
    {
     "name": "stderr",
     "output_type": "stream",
     "text": [
      "\n",
      "Epoch 2:  71%|███████   | 1591/2252 [18:49<07:49,  1.41it/s]\u001b[A\n",
      "Epoch 2:  71%|███████   | 1592/2252 [18:49<07:47,  1.41it/s]\u001b[A\n",
      "Epoch 2:  71%|███████   | 1593/2252 [18:50<07:46,  1.41it/s]\u001b[A\n",
      "Epoch 2:  71%|███████   | 1594/2252 [18:51<07:46,  1.41it/s]\u001b[A\n",
      "Epoch 2:  71%|███████   | 1595/2252 [18:52<07:45,  1.41it/s]\u001b[A\n",
      "Epoch 2:  71%|███████   | 1596/2252 [18:52<07:45,  1.41it/s]\u001b[A\n",
      "Epoch 2:  71%|███████   | 1597/2252 [18:53<07:45,  1.41it/s]\u001b[A\n",
      "Epoch 2:  71%|███████   | 1598/2252 [18:54<07:44,  1.41it/s]\u001b[A\n",
      "Epoch 2:  71%|███████   | 1599/2252 [18:54<07:44,  1.41it/s]\u001b[A\n",
      "Epoch 2:  71%|███████   | 1600/2252 [18:55<07:42,  1.41it/s]\u001b[A"
     ]
    },
    {
     "name": "stdout",
     "output_type": "stream",
     "text": [
      "Processed batch 1601/2252\n"
     ]
    },
    {
     "name": "stderr",
     "output_type": "stream",
     "text": [
      "\n",
      "Epoch 2:  71%|███████   | 1601/2252 [18:56<07:41,  1.41it/s]\u001b[A\n",
      "Epoch 2:  71%|███████   | 1602/2252 [18:56<07:40,  1.41it/s]\u001b[A\n",
      "Epoch 2:  71%|███████   | 1603/2252 [18:57<07:39,  1.41it/s]\u001b[A\n",
      "Epoch 2:  71%|███████   | 1604/2252 [18:58<07:39,  1.41it/s]\u001b[A\n",
      "Epoch 2:  71%|███████▏  | 1605/2252 [18:59<07:39,  1.41it/s]\u001b[A\n",
      "Epoch 2:  71%|███████▏  | 1606/2252 [18:59<07:38,  1.41it/s]\u001b[A\n",
      "Epoch 2:  71%|███████▏  | 1607/2252 [19:00<07:37,  1.41it/s]\u001b[A\n",
      "Epoch 2:  71%|███████▏  | 1608/2252 [19:01<07:36,  1.41it/s]\u001b[A\n",
      "Epoch 2:  71%|███████▏  | 1609/2252 [19:01<07:36,  1.41it/s]\u001b[A\n",
      "Epoch 2:  71%|███████▏  | 1610/2252 [19:02<07:35,  1.41it/s]\u001b[A"
     ]
    },
    {
     "name": "stdout",
     "output_type": "stream",
     "text": [
      "Processed batch 1611/2252\n"
     ]
    },
    {
     "name": "stderr",
     "output_type": "stream",
     "text": [
      "\n",
      "Epoch 2:  72%|███████▏  | 1611/2252 [19:03<07:35,  1.41it/s]\u001b[A\n",
      "Epoch 2:  72%|███████▏  | 1612/2252 [19:04<07:33,  1.41it/s]\u001b[A\n",
      "Epoch 2:  72%|███████▏  | 1613/2252 [19:04<07:32,  1.41it/s]\u001b[A\n",
      "Epoch 2:  72%|███████▏  | 1614/2252 [19:05<07:31,  1.41it/s]\u001b[A\n",
      "Epoch 2:  72%|███████▏  | 1615/2252 [19:06<07:31,  1.41it/s]\u001b[A\n",
      "Epoch 2:  72%|███████▏  | 1616/2252 [19:06<07:30,  1.41it/s]\u001b[A\n",
      "Epoch 2:  72%|███████▏  | 1617/2252 [19:07<07:29,  1.41it/s]\u001b[A\n",
      "Epoch 2:  72%|███████▏  | 1618/2252 [19:08<07:29,  1.41it/s]\u001b[A\n",
      "Epoch 2:  72%|███████▏  | 1619/2252 [19:09<07:29,  1.41it/s]\u001b[A\n",
      "Epoch 2:  72%|███████▏  | 1620/2252 [19:09<07:28,  1.41it/s]\u001b[A"
     ]
    },
    {
     "name": "stdout",
     "output_type": "stream",
     "text": [
      "Processed batch 1621/2252\n"
     ]
    },
    {
     "name": "stderr",
     "output_type": "stream",
     "text": [
      "\n",
      "Epoch 2:  72%|███████▏  | 1621/2252 [19:10<07:27,  1.41it/s]\u001b[A\n",
      "Epoch 2:  72%|███████▏  | 1622/2252 [19:11<07:27,  1.41it/s]\u001b[A\n",
      "Epoch 2:  72%|███████▏  | 1623/2252 [19:11<07:26,  1.41it/s]\u001b[A\n",
      "Epoch 2:  72%|███████▏  | 1624/2252 [19:12<07:25,  1.41it/s]\u001b[A\n",
      "Epoch 2:  72%|███████▏  | 1625/2252 [19:13<07:25,  1.41it/s]\u001b[A\n",
      "Epoch 2:  72%|███████▏  | 1626/2252 [19:13<07:23,  1.41it/s]\u001b[A\n",
      "Epoch 2:  72%|███████▏  | 1627/2252 [19:14<07:23,  1.41it/s]\u001b[A\n",
      "Epoch 2:  72%|███████▏  | 1628/2252 [19:15<07:22,  1.41it/s]\u001b[A\n",
      "Epoch 2:  72%|███████▏  | 1629/2252 [19:16<07:21,  1.41it/s]\u001b[A\n",
      "Epoch 2:  72%|███████▏  | 1630/2252 [19:16<07:20,  1.41it/s]\u001b[A"
     ]
    },
    {
     "name": "stdout",
     "output_type": "stream",
     "text": [
      "Processed batch 1631/2252\n"
     ]
    },
    {
     "name": "stderr",
     "output_type": "stream",
     "text": [
      "\n",
      "Epoch 2:  72%|███████▏  | 1631/2252 [19:17<07:20,  1.41it/s]\u001b[A\n",
      "Epoch 2:  72%|███████▏  | 1632/2252 [19:18<07:18,  1.41it/s]\u001b[A\n",
      "Epoch 2:  73%|███████▎  | 1633/2252 [19:18<07:18,  1.41it/s]\u001b[A\n",
      "Epoch 2:  73%|███████▎  | 1634/2252 [19:19<07:17,  1.41it/s]\u001b[A\n",
      "Epoch 2:  73%|███████▎  | 1635/2252 [19:20<07:16,  1.41it/s]\u001b[A\n",
      "Epoch 2:  73%|███████▎  | 1636/2252 [19:21<07:16,  1.41it/s]\u001b[A\n",
      "Epoch 2:  73%|███████▎  | 1637/2252 [19:21<07:16,  1.41it/s]\u001b[A\n",
      "Epoch 2:  73%|███████▎  | 1638/2252 [19:22<07:15,  1.41it/s]\u001b[A\n",
      "Epoch 2:  73%|███████▎  | 1639/2252 [19:23<07:15,  1.41it/s]\u001b[A\n",
      "Epoch 2:  73%|███████▎  | 1640/2252 [19:23<07:15,  1.41it/s]\u001b[A"
     ]
    },
    {
     "name": "stdout",
     "output_type": "stream",
     "text": [
      "Processed batch 1641/2252\n"
     ]
    },
    {
     "name": "stderr",
     "output_type": "stream",
     "text": [
      "\n",
      "Epoch 2:  73%|███████▎  | 1641/2252 [19:24<07:14,  1.41it/s]\u001b[A\n",
      "Epoch 2:  73%|███████▎  | 1642/2252 [19:25<07:13,  1.41it/s]\u001b[A\n",
      "Epoch 2:  73%|███████▎  | 1643/2252 [19:26<07:13,  1.41it/s]\u001b[A\n",
      "Epoch 2:  73%|███████▎  | 1644/2252 [19:26<07:12,  1.41it/s]\u001b[A\n",
      "Epoch 2:  73%|███████▎  | 1645/2252 [19:27<07:11,  1.41it/s]\u001b[A\n",
      "Epoch 2:  73%|███████▎  | 1646/2252 [19:28<07:10,  1.41it/s]\u001b[A\n",
      "Epoch 2:  73%|███████▎  | 1647/2252 [19:28<07:09,  1.41it/s]\u001b[A\n",
      "Epoch 2:  73%|███████▎  | 1648/2252 [19:29<07:07,  1.41it/s]\u001b[A\n",
      "Epoch 2:  73%|███████▎  | 1649/2252 [19:30<07:07,  1.41it/s]\u001b[A\n",
      "Epoch 2:  73%|███████▎  | 1650/2252 [19:31<07:06,  1.41it/s]\u001b[A"
     ]
    },
    {
     "name": "stdout",
     "output_type": "stream",
     "text": [
      "Processed batch 1651/2252\n"
     ]
    },
    {
     "name": "stderr",
     "output_type": "stream",
     "text": [
      "\n",
      "Epoch 2:  73%|███████▎  | 1651/2252 [19:31<07:05,  1.41it/s]\u001b[A\n",
      "Epoch 2:  73%|███████▎  | 1652/2252 [19:32<07:04,  1.41it/s]\u001b[A\n",
      "Epoch 2:  73%|███████▎  | 1653/2252 [19:33<07:03,  1.41it/s]\u001b[A\n",
      "Epoch 2:  73%|███████▎  | 1654/2252 [19:33<07:03,  1.41it/s]\u001b[A\n",
      "Epoch 2:  73%|███████▎  | 1655/2252 [19:34<07:02,  1.41it/s]\u001b[A\n",
      "Epoch 2:  74%|███████▎  | 1656/2252 [19:35<07:01,  1.41it/s]\u001b[A\n",
      "Epoch 2:  74%|███████▎  | 1657/2252 [19:35<07:01,  1.41it/s]\u001b[A\n",
      "Epoch 2:  74%|███████▎  | 1658/2252 [19:36<07:00,  1.41it/s]\u001b[A\n",
      "Epoch 2:  74%|███████▎  | 1659/2252 [19:37<06:59,  1.41it/s]\u001b[A\n",
      "Epoch 2:  74%|███████▎  | 1660/2252 [19:38<06:58,  1.41it/s]\u001b[A"
     ]
    },
    {
     "name": "stdout",
     "output_type": "stream",
     "text": [
      "Processed batch 1661/2252\n"
     ]
    },
    {
     "name": "stderr",
     "output_type": "stream",
     "text": [
      "\n",
      "Epoch 2:  74%|███████▍  | 1661/2252 [19:38<06:58,  1.41it/s]\u001b[A\n",
      "Epoch 2:  74%|███████▍  | 1662/2252 [19:39<06:57,  1.41it/s]\u001b[A\n",
      "Epoch 2:  74%|███████▍  | 1663/2252 [19:40<06:55,  1.42it/s]\u001b[A\n",
      "Epoch 2:  74%|███████▍  | 1664/2252 [19:40<06:55,  1.42it/s]\u001b[A\n",
      "Epoch 2:  74%|███████▍  | 1665/2252 [19:41<06:55,  1.41it/s]\u001b[A\n",
      "Epoch 2:  74%|███████▍  | 1666/2252 [19:42<06:54,  1.41it/s]\u001b[A\n",
      "Epoch 2:  74%|███████▍  | 1667/2252 [19:43<06:54,  1.41it/s]\u001b[A\n",
      "Epoch 2:  74%|███████▍  | 1668/2252 [19:43<06:53,  1.41it/s]\u001b[A\n",
      "Epoch 2:  74%|███████▍  | 1669/2252 [19:44<06:52,  1.41it/s]\u001b[A\n",
      "Epoch 2:  74%|███████▍  | 1670/2252 [19:45<06:53,  1.41it/s]\u001b[A"
     ]
    },
    {
     "name": "stdout",
     "output_type": "stream",
     "text": [
      "Processed batch 1671/2252\n"
     ]
    },
    {
     "name": "stderr",
     "output_type": "stream",
     "text": [
      "\n",
      "Epoch 2:  74%|███████▍  | 1671/2252 [19:45<06:52,  1.41it/s]\u001b[A\n",
      "Epoch 2:  74%|███████▍  | 1672/2252 [19:46<06:52,  1.41it/s]\u001b[A\n",
      "Epoch 2:  74%|███████▍  | 1673/2252 [19:47<06:51,  1.41it/s]\u001b[A\n",
      "Epoch 2:  74%|███████▍  | 1674/2252 [19:48<06:50,  1.41it/s]\u001b[A\n",
      "Epoch 2:  74%|███████▍  | 1675/2252 [19:48<06:49,  1.41it/s]\u001b[A\n",
      "Epoch 2:  74%|███████▍  | 1676/2252 [19:49<06:48,  1.41it/s]\u001b[A\n",
      "Epoch 2:  74%|███████▍  | 1677/2252 [19:50<06:48,  1.41it/s]\u001b[A\n",
      "Epoch 2:  75%|███████▍  | 1678/2252 [19:50<06:47,  1.41it/s]\u001b[A\n",
      "Epoch 2:  75%|███████▍  | 1679/2252 [19:51<06:46,  1.41it/s]\u001b[A\n",
      "Epoch 2:  75%|███████▍  | 1680/2252 [19:52<06:45,  1.41it/s]\u001b[A"
     ]
    },
    {
     "name": "stdout",
     "output_type": "stream",
     "text": [
      "Processed batch 1681/2252\n"
     ]
    },
    {
     "name": "stderr",
     "output_type": "stream",
     "text": [
      "\n",
      "Epoch 2:  75%|███████▍  | 1681/2252 [19:52<06:45,  1.41it/s]\u001b[A\n",
      "Epoch 2:  75%|███████▍  | 1682/2252 [19:53<06:44,  1.41it/s]\u001b[A\n",
      "Epoch 2:  75%|███████▍  | 1683/2252 [19:54<06:43,  1.41it/s]\u001b[A\n",
      "Epoch 2:  75%|███████▍  | 1684/2252 [19:55<06:43,  1.41it/s]\u001b[A\n",
      "Epoch 2:  75%|███████▍  | 1685/2252 [19:55<06:42,  1.41it/s]\u001b[A\n",
      "Epoch 2:  75%|███████▍  | 1686/2252 [19:56<06:41,  1.41it/s]\u001b[A\n",
      "Epoch 2:  75%|███████▍  | 1687/2252 [19:57<06:40,  1.41it/s]\u001b[A\n",
      "Epoch 2:  75%|███████▍  | 1688/2252 [19:57<06:39,  1.41it/s]\u001b[A\n",
      "Epoch 2:  75%|███████▌  | 1689/2252 [19:58<06:39,  1.41it/s]\u001b[A\n",
      "Epoch 2:  75%|███████▌  | 1690/2252 [19:59<06:38,  1.41it/s]\u001b[A"
     ]
    },
    {
     "name": "stdout",
     "output_type": "stream",
     "text": [
      "Processed batch 1691/2252\n"
     ]
    },
    {
     "name": "stderr",
     "output_type": "stream",
     "text": [
      "\n",
      "Epoch 2:  75%|███████▌  | 1691/2252 [20:00<06:37,  1.41it/s]\u001b[A\n",
      "Epoch 2:  75%|███████▌  | 1692/2252 [20:00<06:36,  1.41it/s]\u001b[A\n",
      "Epoch 2:  75%|███████▌  | 1693/2252 [20:01<06:35,  1.41it/s]\u001b[A\n",
      "Epoch 2:  75%|███████▌  | 1694/2252 [20:02<06:35,  1.41it/s]\u001b[A\n",
      "Epoch 2:  75%|███████▌  | 1695/2252 [20:02<06:34,  1.41it/s]\u001b[A\n",
      "Epoch 2:  75%|███████▌  | 1696/2252 [20:03<06:34,  1.41it/s]\u001b[A\n",
      "Epoch 2:  75%|███████▌  | 1697/2252 [20:04<06:33,  1.41it/s]\u001b[A\n",
      "Epoch 2:  75%|███████▌  | 1698/2252 [20:05<06:32,  1.41it/s]\u001b[A\n",
      "Epoch 2:  75%|███████▌  | 1699/2252 [20:05<06:32,  1.41it/s]\u001b[A\n",
      "Epoch 2:  75%|███████▌  | 1700/2252 [20:06<06:31,  1.41it/s]\u001b[A"
     ]
    },
    {
     "name": "stdout",
     "output_type": "stream",
     "text": [
      "Processed batch 1701/2252\n"
     ]
    },
    {
     "name": "stderr",
     "output_type": "stream",
     "text": [
      "\n",
      "Epoch 2:  76%|███████▌  | 1701/2252 [20:07<06:30,  1.41it/s]\u001b[A\n",
      "Epoch 2:  76%|███████▌  | 1702/2252 [20:07<06:30,  1.41it/s]\u001b[A\n",
      "Epoch 2:  76%|███████▌  | 1703/2252 [20:08<06:29,  1.41it/s]\u001b[A\n",
      "Epoch 2:  76%|███████▌  | 1704/2252 [20:09<06:28,  1.41it/s]\u001b[A\n",
      "Epoch 2:  76%|███████▌  | 1705/2252 [20:09<06:28,  1.41it/s]\u001b[A\n",
      "Epoch 2:  76%|███████▌  | 1706/2252 [20:10<06:27,  1.41it/s]\u001b[A\n",
      "Epoch 2:  76%|███████▌  | 1707/2252 [20:11<06:26,  1.41it/s]\u001b[A\n",
      "Epoch 2:  76%|███████▌  | 1708/2252 [20:12<06:26,  1.41it/s]\u001b[A\n",
      "Epoch 2:  76%|███████▌  | 1709/2252 [20:12<06:25,  1.41it/s]\u001b[A\n",
      "Epoch 2:  76%|███████▌  | 1710/2252 [20:13<06:24,  1.41it/s]\u001b[A"
     ]
    },
    {
     "name": "stdout",
     "output_type": "stream",
     "text": [
      "Processed batch 1711/2252\n"
     ]
    },
    {
     "name": "stderr",
     "output_type": "stream",
     "text": [
      "\n",
      "Epoch 2:  76%|███████▌  | 1711/2252 [20:14<06:24,  1.41it/s]\u001b[A\n",
      "Epoch 2:  76%|███████▌  | 1712/2252 [20:14<06:22,  1.41it/s]\u001b[A\n",
      "Epoch 2:  76%|███████▌  | 1713/2252 [20:15<06:22,  1.41it/s]\u001b[A\n",
      "Epoch 2:  76%|███████▌  | 1714/2252 [20:16<06:21,  1.41it/s]\u001b[A\n",
      "Epoch 2:  76%|███████▌  | 1715/2252 [20:17<06:20,  1.41it/s]\u001b[A\n",
      "Epoch 2:  76%|███████▌  | 1716/2252 [20:17<06:19,  1.41it/s]\u001b[A\n",
      "Epoch 2:  76%|███████▌  | 1717/2252 [20:18<06:18,  1.41it/s]\u001b[A\n",
      "Epoch 2:  76%|███████▋  | 1718/2252 [20:19<06:18,  1.41it/s]\u001b[A\n",
      "Epoch 2:  76%|███████▋  | 1719/2252 [20:19<06:17,  1.41it/s]\u001b[A\n",
      "Epoch 2:  76%|███████▋  | 1720/2252 [20:20<06:16,  1.41it/s]\u001b[A"
     ]
    },
    {
     "name": "stdout",
     "output_type": "stream",
     "text": [
      "Processed batch 1721/2252\n"
     ]
    },
    {
     "name": "stderr",
     "output_type": "stream",
     "text": [
      "\n",
      "Epoch 2:  76%|███████▋  | 1721/2252 [20:21<06:16,  1.41it/s]\u001b[A\n",
      "Epoch 2:  76%|███████▋  | 1722/2252 [20:22<06:15,  1.41it/s]\u001b[A\n",
      "Epoch 2:  77%|███████▋  | 1723/2252 [20:22<06:14,  1.41it/s]\u001b[A\n",
      "Epoch 2:  77%|███████▋  | 1724/2252 [20:23<06:13,  1.41it/s]\u001b[A\n",
      "Epoch 2:  77%|███████▋  | 1725/2252 [20:24<06:13,  1.41it/s]\u001b[A\n",
      "Epoch 2:  77%|███████▋  | 1726/2252 [20:24<06:12,  1.41it/s]\u001b[A\n",
      "Epoch 2:  77%|███████▋  | 1727/2252 [20:25<06:12,  1.41it/s]\u001b[A\n",
      "Epoch 2:  77%|███████▋  | 1728/2252 [20:26<06:11,  1.41it/s]\u001b[A\n",
      "Epoch 2:  77%|███████▋  | 1729/2252 [20:27<06:11,  1.41it/s]\u001b[A\n",
      "Epoch 2:  77%|███████▋  | 1730/2252 [20:27<06:10,  1.41it/s]\u001b[A"
     ]
    },
    {
     "name": "stdout",
     "output_type": "stream",
     "text": [
      "Processed batch 1731/2252\n"
     ]
    },
    {
     "name": "stderr",
     "output_type": "stream",
     "text": [
      "\n",
      "Epoch 2:  77%|███████▋  | 1731/2252 [20:28<06:09,  1.41it/s]\u001b[A\n",
      "Epoch 2:  77%|███████▋  | 1732/2252 [20:29<06:09,  1.41it/s]\u001b[A\n",
      "Epoch 2:  77%|███████▋  | 1733/2252 [20:29<06:08,  1.41it/s]\u001b[A\n",
      "Epoch 2:  77%|███████▋  | 1734/2252 [20:30<06:07,  1.41it/s]\u001b[A\n",
      "Epoch 2:  77%|███████▋  | 1735/2252 [20:31<06:07,  1.41it/s]\u001b[A\n",
      "Epoch 2:  77%|███████▋  | 1736/2252 [20:31<06:06,  1.41it/s]\u001b[A\n",
      "Epoch 2:  77%|███████▋  | 1737/2252 [20:32<06:06,  1.41it/s]\u001b[A\n",
      "Epoch 2:  77%|███████▋  | 1738/2252 [20:33<06:05,  1.41it/s]\u001b[A\n",
      "Epoch 2:  77%|███████▋  | 1739/2252 [20:34<06:04,  1.41it/s]\u001b[A\n",
      "Epoch 2:  77%|███████▋  | 1740/2252 [20:34<06:03,  1.41it/s]\u001b[A"
     ]
    },
    {
     "name": "stdout",
     "output_type": "stream",
     "text": [
      "Processed batch 1741/2252\n"
     ]
    },
    {
     "name": "stderr",
     "output_type": "stream",
     "text": [
      "\n",
      "Epoch 2:  77%|███████▋  | 1741/2252 [20:35<06:03,  1.41it/s]\u001b[A\n",
      "Epoch 2:  77%|███████▋  | 1742/2252 [20:36<06:02,  1.41it/s]\u001b[A\n",
      "Epoch 2:  77%|███████▋  | 1743/2252 [20:36<06:01,  1.41it/s]\u001b[A\n",
      "Epoch 2:  77%|███████▋  | 1744/2252 [20:37<06:00,  1.41it/s]\u001b[A\n",
      "Epoch 2:  77%|███████▋  | 1745/2252 [20:38<05:59,  1.41it/s]\u001b[A\n",
      "Epoch 2:  78%|███████▊  | 1746/2252 [20:39<05:59,  1.41it/s]\u001b[A\n",
      "Epoch 2:  78%|███████▊  | 1747/2252 [20:39<05:58,  1.41it/s]\u001b[A\n",
      "Epoch 2:  78%|███████▊  | 1748/2252 [20:40<05:57,  1.41it/s]\u001b[A\n",
      "Epoch 2:  78%|███████▊  | 1749/2252 [20:41<05:57,  1.41it/s]\u001b[A\n",
      "Epoch 2:  78%|███████▊  | 1750/2252 [20:41<05:56,  1.41it/s]\u001b[A"
     ]
    },
    {
     "name": "stdout",
     "output_type": "stream",
     "text": [
      "Processed batch 1751/2252\n"
     ]
    },
    {
     "name": "stderr",
     "output_type": "stream",
     "text": [
      "\n",
      "Epoch 2:  78%|███████▊  | 1751/2252 [20:42<05:55,  1.41it/s]\u001b[A\n",
      "Epoch 2:  78%|███████▊  | 1752/2252 [20:43<05:54,  1.41it/s]\u001b[A\n",
      "Epoch 2:  78%|███████▊  | 1753/2252 [20:44<05:53,  1.41it/s]\u001b[A\n",
      "Epoch 2:  78%|███████▊  | 1754/2252 [20:44<05:52,  1.41it/s]\u001b[A\n",
      "Epoch 2:  78%|███████▊  | 1755/2252 [20:45<05:52,  1.41it/s]\u001b[A\n",
      "Epoch 2:  78%|███████▊  | 1756/2252 [20:46<05:51,  1.41it/s]\u001b[A\n",
      "Epoch 2:  78%|███████▊  | 1757/2252 [20:46<05:51,  1.41it/s]\u001b[A\n",
      "Epoch 2:  78%|███████▊  | 1758/2252 [20:47<05:51,  1.40it/s]\u001b[A\n",
      "Epoch 2:  78%|███████▊  | 1759/2252 [20:48<05:49,  1.41it/s]\u001b[A\n",
      "Epoch 2:  78%|███████▊  | 1760/2252 [20:49<05:48,  1.41it/s]\u001b[A"
     ]
    },
    {
     "name": "stdout",
     "output_type": "stream",
     "text": [
      "Processed batch 1761/2252\n"
     ]
    },
    {
     "name": "stderr",
     "output_type": "stream",
     "text": [
      "\n",
      "Epoch 2:  78%|███████▊  | 1761/2252 [20:49<05:47,  1.41it/s]\u001b[A\n",
      "Epoch 2:  78%|███████▊  | 1762/2252 [20:50<05:47,  1.41it/s]\u001b[A\n",
      "Epoch 2:  78%|███████▊  | 1763/2252 [20:51<05:46,  1.41it/s]\u001b[A\n",
      "Epoch 2:  78%|███████▊  | 1764/2252 [20:51<05:45,  1.41it/s]\u001b[A\n",
      "Epoch 2:  78%|███████▊  | 1765/2252 [20:52<05:44,  1.41it/s]\u001b[A\n",
      "Epoch 2:  78%|███████▊  | 1766/2252 [20:53<05:44,  1.41it/s]\u001b[A\n",
      "Epoch 2:  78%|███████▊  | 1767/2252 [20:53<05:43,  1.41it/s]\u001b[A\n",
      "Epoch 2:  79%|███████▊  | 1768/2252 [20:54<05:43,  1.41it/s]\u001b[A\n",
      "Epoch 2:  79%|███████▊  | 1769/2252 [20:55<05:42,  1.41it/s]\u001b[A\n",
      "Epoch 2:  79%|███████▊  | 1770/2252 [20:56<05:41,  1.41it/s]\u001b[A"
     ]
    },
    {
     "name": "stdout",
     "output_type": "stream",
     "text": [
      "Processed batch 1771/2252\n"
     ]
    },
    {
     "name": "stderr",
     "output_type": "stream",
     "text": [
      "\n",
      "Epoch 2:  79%|███████▊  | 1771/2252 [20:56<05:40,  1.41it/s]\u001b[A\n",
      "Epoch 2:  79%|███████▊  | 1772/2252 [20:57<05:40,  1.41it/s]\u001b[A\n",
      "Epoch 2:  79%|███████▊  | 1773/2252 [20:58<05:39,  1.41it/s]\u001b[A\n",
      "Epoch 2:  79%|███████▉  | 1774/2252 [20:58<05:38,  1.41it/s]\u001b[A\n",
      "Epoch 2:  79%|███████▉  | 1775/2252 [20:59<05:37,  1.41it/s]\u001b[A\n",
      "Epoch 2:  79%|███████▉  | 1776/2252 [21:00<05:37,  1.41it/s]\u001b[A\n",
      "Epoch 2:  79%|███████▉  | 1777/2252 [21:01<05:37,  1.41it/s]\u001b[A\n",
      "Epoch 2:  79%|███████▉  | 1778/2252 [21:01<05:37,  1.41it/s]\u001b[A\n",
      "Epoch 2:  79%|███████▉  | 1779/2252 [21:02<05:36,  1.41it/s]\u001b[A\n",
      "Epoch 2:  79%|███████▉  | 1780/2252 [21:03<05:35,  1.41it/s]\u001b[A"
     ]
    },
    {
     "name": "stdout",
     "output_type": "stream",
     "text": [
      "Processed batch 1781/2252\n"
     ]
    },
    {
     "name": "stderr",
     "output_type": "stream",
     "text": [
      "\n",
      "Epoch 2:  79%|███████▉  | 1781/2252 [21:03<05:34,  1.41it/s]\u001b[A\n",
      "Epoch 2:  79%|███████▉  | 1782/2252 [21:04<05:33,  1.41it/s]\u001b[A\n",
      "Epoch 2:  79%|███████▉  | 1783/2252 [21:05<05:32,  1.41it/s]\u001b[A\n",
      "Epoch 2:  79%|███████▉  | 1784/2252 [21:06<05:31,  1.41it/s]\u001b[A\n",
      "Epoch 2:  79%|███████▉  | 1785/2252 [21:06<05:31,  1.41it/s]\u001b[A\n",
      "Epoch 2:  79%|███████▉  | 1786/2252 [21:07<05:30,  1.41it/s]\u001b[A\n",
      "Epoch 2:  79%|███████▉  | 1787/2252 [21:08<05:30,  1.41it/s]\u001b[A\n",
      "Epoch 2:  79%|███████▉  | 1788/2252 [21:08<05:29,  1.41it/s]\u001b[A\n",
      "Epoch 2:  79%|███████▉  | 1789/2252 [21:09<05:28,  1.41it/s]\u001b[A\n",
      "Epoch 2:  79%|███████▉  | 1790/2252 [21:10<05:28,  1.41it/s]\u001b[A"
     ]
    },
    {
     "name": "stdout",
     "output_type": "stream",
     "text": [
      "Processed batch 1791/2252\n"
     ]
    },
    {
     "name": "stderr",
     "output_type": "stream",
     "text": [
      "\n",
      "Epoch 2:  80%|███████▉  | 1791/2252 [21:11<05:27,  1.41it/s]\u001b[A\n",
      "Epoch 2:  80%|███████▉  | 1792/2252 [21:11<05:26,  1.41it/s]\u001b[A\n",
      "Epoch 2:  80%|███████▉  | 1793/2252 [21:12<05:25,  1.41it/s]\u001b[A\n",
      "Epoch 2:  80%|███████▉  | 1794/2252 [21:13<05:25,  1.41it/s]\u001b[A\n",
      "Epoch 2:  80%|███████▉  | 1795/2252 [21:13<05:24,  1.41it/s]\u001b[A\n",
      "Epoch 2:  80%|███████▉  | 1796/2252 [21:14<05:23,  1.41it/s]\u001b[A\n",
      "Epoch 2:  80%|███████▉  | 1797/2252 [21:15<05:22,  1.41it/s]\u001b[A\n",
      "Epoch 2:  80%|███████▉  | 1798/2252 [21:15<05:21,  1.41it/s]\u001b[A\n",
      "Epoch 2:  80%|███████▉  | 1799/2252 [21:16<05:20,  1.41it/s]\u001b[A\n",
      "Epoch 2:  80%|███████▉  | 1800/2252 [21:17<05:20,  1.41it/s]\u001b[A"
     ]
    },
    {
     "name": "stdout",
     "output_type": "stream",
     "text": [
      "Processed batch 1801/2252\n"
     ]
    },
    {
     "name": "stderr",
     "output_type": "stream",
     "text": [
      "\n",
      "Epoch 2:  80%|███████▉  | 1801/2252 [21:18<05:19,  1.41it/s]\u001b[A\n",
      "Epoch 2:  80%|████████  | 1802/2252 [21:18<05:19,  1.41it/s]\u001b[A\n",
      "Epoch 2:  80%|████████  | 1803/2252 [21:19<05:18,  1.41it/s]\u001b[A\n",
      "Epoch 2:  80%|████████  | 1804/2252 [21:20<05:17,  1.41it/s]\u001b[A\n",
      "Epoch 2:  80%|████████  | 1805/2252 [21:20<05:16,  1.41it/s]\u001b[A\n",
      "Epoch 2:  80%|████████  | 1806/2252 [21:21<05:15,  1.41it/s]\u001b[A\n",
      "Epoch 2:  80%|████████  | 1807/2252 [21:22<05:14,  1.41it/s]\u001b[A\n",
      "Epoch 2:  80%|████████  | 1808/2252 [21:23<05:14,  1.41it/s]\u001b[A\n",
      "Epoch 2:  80%|████████  | 1809/2252 [21:23<05:13,  1.41it/s]\u001b[A\n",
      "Epoch 2:  80%|████████  | 1810/2252 [21:24<05:12,  1.41it/s]\u001b[A"
     ]
    },
    {
     "name": "stdout",
     "output_type": "stream",
     "text": [
      "Processed batch 1811/2252\n"
     ]
    },
    {
     "name": "stderr",
     "output_type": "stream",
     "text": [
      "\n",
      "Epoch 2:  80%|████████  | 1811/2252 [21:25<05:12,  1.41it/s]\u001b[A\n",
      "Epoch 2:  80%|████████  | 1812/2252 [21:25<05:11,  1.41it/s]\u001b[A\n",
      "Epoch 2:  81%|████████  | 1813/2252 [21:26<05:11,  1.41it/s]\u001b[A\n",
      "Epoch 2:  81%|████████  | 1814/2252 [21:27<05:10,  1.41it/s]\u001b[A\n",
      "Epoch 2:  81%|████████  | 1815/2252 [21:28<05:10,  1.41it/s]\u001b[A\n",
      "Epoch 2:  81%|████████  | 1816/2252 [21:28<05:09,  1.41it/s]\u001b[A\n",
      "Epoch 2:  81%|████████  | 1817/2252 [21:29<05:08,  1.41it/s]\u001b[A\n",
      "Epoch 2:  81%|████████  | 1818/2252 [21:30<05:08,  1.41it/s]\u001b[A\n",
      "Epoch 2:  81%|████████  | 1819/2252 [21:30<05:07,  1.41it/s]\u001b[A\n",
      "Epoch 2:  81%|████████  | 1820/2252 [21:31<05:06,  1.41it/s]\u001b[A"
     ]
    },
    {
     "name": "stdout",
     "output_type": "stream",
     "text": [
      "Processed batch 1821/2252\n"
     ]
    },
    {
     "name": "stderr",
     "output_type": "stream",
     "text": [
      "\n",
      "Epoch 2:  81%|████████  | 1821/2252 [21:32<05:05,  1.41it/s]\u001b[A\n",
      "Epoch 2:  81%|████████  | 1822/2252 [21:32<05:04,  1.41it/s]\u001b[A\n",
      "Epoch 2:  81%|████████  | 1823/2252 [21:33<05:03,  1.41it/s]\u001b[A\n",
      "Epoch 2:  81%|████████  | 1824/2252 [21:34<05:03,  1.41it/s]\u001b[A\n",
      "Epoch 2:  81%|████████  | 1825/2252 [21:35<05:02,  1.41it/s]\u001b[A\n",
      "Epoch 2:  81%|████████  | 1826/2252 [21:35<05:01,  1.41it/s]\u001b[A\n",
      "Epoch 2:  81%|████████  | 1827/2252 [21:36<05:00,  1.41it/s]\u001b[A\n",
      "Epoch 2:  81%|████████  | 1828/2252 [21:37<04:59,  1.42it/s]\u001b[A\n",
      "Epoch 2:  81%|████████  | 1829/2252 [21:37<04:59,  1.41it/s]\u001b[A\n",
      "Epoch 2:  81%|████████▏ | 1830/2252 [21:38<04:58,  1.41it/s]\u001b[A"
     ]
    },
    {
     "name": "stdout",
     "output_type": "stream",
     "text": [
      "Processed batch 1831/2252\n"
     ]
    },
    {
     "name": "stderr",
     "output_type": "stream",
     "text": [
      "\n",
      "Epoch 2:  81%|████████▏ | 1831/2252 [21:39<04:58,  1.41it/s]\u001b[A\n",
      "Epoch 2:  81%|████████▏ | 1832/2252 [21:40<04:57,  1.41it/s]\u001b[A\n",
      "Epoch 2:  81%|████████▏ | 1833/2252 [21:40<04:57,  1.41it/s]\u001b[A\n",
      "Epoch 2:  81%|████████▏ | 1834/2252 [21:41<04:56,  1.41it/s]\u001b[A\n",
      "Epoch 2:  81%|████████▏ | 1835/2252 [21:42<04:56,  1.41it/s]\u001b[A\n",
      "Epoch 2:  82%|████████▏ | 1836/2252 [21:42<04:55,  1.41it/s]\u001b[A\n",
      "Epoch 2:  82%|████████▏ | 1837/2252 [21:43<04:54,  1.41it/s]\u001b[A\n",
      "Epoch 2:  82%|████████▏ | 1838/2252 [21:44<04:53,  1.41it/s]\u001b[A\n",
      "Epoch 2:  82%|████████▏ | 1839/2252 [21:45<04:52,  1.41it/s]\u001b[A\n",
      "Epoch 2:  82%|████████▏ | 1840/2252 [21:45<04:51,  1.41it/s]\u001b[A"
     ]
    },
    {
     "name": "stdout",
     "output_type": "stream",
     "text": [
      "Processed batch 1841/2252\n"
     ]
    },
    {
     "name": "stderr",
     "output_type": "stream",
     "text": [
      "\n",
      "Epoch 2:  82%|████████▏ | 1841/2252 [21:46<04:51,  1.41it/s]\u001b[A\n",
      "Epoch 2:  82%|████████▏ | 1842/2252 [21:47<04:51,  1.41it/s]\u001b[A\n",
      "Epoch 2:  82%|████████▏ | 1843/2252 [21:47<04:50,  1.41it/s]\u001b[A\n",
      "Epoch 2:  82%|████████▏ | 1844/2252 [21:48<04:49,  1.41it/s]\u001b[A\n",
      "Epoch 2:  82%|████████▏ | 1845/2252 [21:49<04:48,  1.41it/s]\u001b[A\n",
      "Epoch 2:  82%|████████▏ | 1846/2252 [21:49<04:48,  1.41it/s]\u001b[A\n",
      "Epoch 2:  82%|████████▏ | 1847/2252 [21:50<04:48,  1.40it/s]\u001b[A\n",
      "Epoch 2:  82%|████████▏ | 1848/2252 [21:51<04:47,  1.40it/s]\u001b[A\n",
      "Epoch 2:  82%|████████▏ | 1849/2252 [21:52<04:46,  1.41it/s]\u001b[A\n",
      "Epoch 2:  82%|████████▏ | 1850/2252 [21:52<04:45,  1.41it/s]\u001b[A"
     ]
    },
    {
     "name": "stdout",
     "output_type": "stream",
     "text": [
      "Processed batch 1851/2252\n"
     ]
    },
    {
     "name": "stderr",
     "output_type": "stream",
     "text": [
      "\n",
      "Epoch 2:  82%|████████▏ | 1851/2252 [21:53<04:45,  1.41it/s]\u001b[A\n",
      "Epoch 2:  82%|████████▏ | 1852/2252 [21:54<04:44,  1.41it/s]\u001b[A\n",
      "Epoch 2:  82%|████████▏ | 1853/2252 [21:54<04:43,  1.41it/s]\u001b[A\n",
      "Epoch 2:  82%|████████▏ | 1854/2252 [21:55<04:42,  1.41it/s]\u001b[A\n",
      "Epoch 2:  82%|████████▏ | 1855/2252 [21:56<04:41,  1.41it/s]\u001b[A\n",
      "Epoch 2:  82%|████████▏ | 1856/2252 [21:57<04:41,  1.41it/s]\u001b[A\n",
      "Epoch 2:  82%|████████▏ | 1857/2252 [21:57<04:40,  1.41it/s]\u001b[A\n",
      "Epoch 2:  83%|████████▎ | 1858/2252 [21:58<04:39,  1.41it/s]\u001b[A\n",
      "Epoch 2:  83%|████████▎ | 1859/2252 [21:59<04:39,  1.40it/s]\u001b[A\n",
      "Epoch 2:  83%|████████▎ | 1860/2252 [21:59<04:38,  1.41it/s]\u001b[A"
     ]
    },
    {
     "name": "stdout",
     "output_type": "stream",
     "text": [
      "Processed batch 1861/2252\n"
     ]
    },
    {
     "name": "stderr",
     "output_type": "stream",
     "text": [
      "\n",
      "Epoch 2:  83%|████████▎ | 1861/2252 [22:00<04:38,  1.41it/s]\u001b[A\n",
      "Epoch 2:  83%|████████▎ | 1862/2252 [22:01<04:37,  1.41it/s]\u001b[A\n",
      "Epoch 2:  83%|████████▎ | 1863/2252 [22:02<04:36,  1.41it/s]\u001b[A\n",
      "Epoch 2:  83%|████████▎ | 1864/2252 [22:02<04:35,  1.41it/s]\u001b[A\n",
      "Epoch 2:  83%|████████▎ | 1865/2252 [22:03<04:35,  1.41it/s]\u001b[A\n",
      "Epoch 2:  83%|████████▎ | 1866/2252 [22:04<04:34,  1.41it/s]\u001b[A\n",
      "Epoch 2:  83%|████████▎ | 1867/2252 [22:04<04:33,  1.41it/s]\u001b[A\n",
      "Epoch 2:  83%|████████▎ | 1868/2252 [22:05<04:32,  1.41it/s]\u001b[A\n",
      "Epoch 2:  83%|████████▎ | 1869/2252 [22:06<04:31,  1.41it/s]\u001b[A\n",
      "Epoch 2:  83%|████████▎ | 1870/2252 [22:07<04:31,  1.40it/s]\u001b[A"
     ]
    },
    {
     "name": "stdout",
     "output_type": "stream",
     "text": [
      "Processed batch 1871/2252\n"
     ]
    },
    {
     "name": "stderr",
     "output_type": "stream",
     "text": [
      "\n",
      "Epoch 2:  83%|████████▎ | 1871/2252 [22:07<04:30,  1.41it/s]\u001b[A\n",
      "Epoch 2:  83%|████████▎ | 1872/2252 [22:08<04:30,  1.41it/s]\u001b[A\n",
      "Epoch 2:  83%|████████▎ | 1873/2252 [22:09<04:30,  1.40it/s]\u001b[A\n",
      "Epoch 2:  83%|████████▎ | 1874/2252 [22:09<04:29,  1.40it/s]\u001b[A\n",
      "Epoch 2:  83%|████████▎ | 1875/2252 [22:10<04:28,  1.40it/s]\u001b[A\n",
      "Epoch 2:  83%|████████▎ | 1876/2252 [22:11<04:27,  1.40it/s]\u001b[A\n",
      "Epoch 2:  83%|████████▎ | 1877/2252 [22:12<04:27,  1.40it/s]\u001b[A\n",
      "Epoch 2:  83%|████████▎ | 1878/2252 [22:12<04:25,  1.41it/s]\u001b[A\n",
      "Epoch 2:  83%|████████▎ | 1879/2252 [22:13<04:25,  1.41it/s]\u001b[A\n",
      "Epoch 2:  83%|████████▎ | 1880/2252 [22:14<04:24,  1.41it/s]\u001b[A"
     ]
    },
    {
     "name": "stdout",
     "output_type": "stream",
     "text": [
      "Processed batch 1881/2252\n"
     ]
    },
    {
     "name": "stderr",
     "output_type": "stream",
     "text": [
      "\n",
      "Epoch 2:  84%|████████▎ | 1881/2252 [22:14<04:23,  1.41it/s]\u001b[A\n",
      "Epoch 2:  84%|████████▎ | 1882/2252 [22:15<04:23,  1.41it/s]\u001b[A\n",
      "Epoch 2:  84%|████████▎ | 1883/2252 [22:16<04:22,  1.41it/s]\u001b[A\n",
      "Epoch 2:  84%|████████▎ | 1884/2252 [22:17<04:21,  1.41it/s]\u001b[A\n",
      "Epoch 2:  84%|████████▎ | 1885/2252 [22:17<04:20,  1.41it/s]\u001b[A\n",
      "Epoch 2:  84%|████████▎ | 1886/2252 [22:18<04:20,  1.41it/s]\u001b[A\n",
      "Epoch 2:  84%|████████▍ | 1887/2252 [22:19<04:19,  1.40it/s]\u001b[A\n",
      "Epoch 2:  84%|████████▍ | 1888/2252 [22:19<04:19,  1.41it/s]\u001b[A\n",
      "Epoch 2:  84%|████████▍ | 1889/2252 [22:20<04:18,  1.41it/s]\u001b[A\n",
      "Epoch 2:  84%|████████▍ | 1890/2252 [22:21<04:17,  1.41it/s]\u001b[A"
     ]
    },
    {
     "name": "stdout",
     "output_type": "stream",
     "text": [
      "Processed batch 1891/2252\n"
     ]
    },
    {
     "name": "stderr",
     "output_type": "stream",
     "text": [
      "\n",
      "Epoch 2:  84%|████████▍ | 1891/2252 [22:22<04:17,  1.40it/s]\u001b[A\n",
      "Epoch 2:  84%|████████▍ | 1892/2252 [22:22<04:16,  1.41it/s]\u001b[A\n",
      "Epoch 2:  84%|████████▍ | 1893/2252 [22:23<04:15,  1.40it/s]\u001b[A\n",
      "Epoch 2:  84%|████████▍ | 1894/2252 [22:24<04:14,  1.40it/s]\u001b[A\n",
      "Epoch 2:  84%|████████▍ | 1895/2252 [22:24<04:14,  1.41it/s]\u001b[A\n",
      "Epoch 2:  84%|████████▍ | 1896/2252 [22:25<04:13,  1.41it/s]\u001b[A\n",
      "Epoch 2:  84%|████████▍ | 1897/2252 [22:26<04:12,  1.41it/s]\u001b[A\n",
      "Epoch 2:  84%|████████▍ | 1898/2252 [22:26<04:11,  1.41it/s]\u001b[A\n",
      "Epoch 2:  84%|████████▍ | 1899/2252 [22:27<04:10,  1.41it/s]\u001b[A\n",
      "Epoch 2:  84%|████████▍ | 1900/2252 [22:28<04:10,  1.41it/s]\u001b[A"
     ]
    },
    {
     "name": "stdout",
     "output_type": "stream",
     "text": [
      "Processed batch 1901/2252\n"
     ]
    },
    {
     "name": "stderr",
     "output_type": "stream",
     "text": [
      "\n",
      "Epoch 2:  84%|████████▍ | 1901/2252 [22:29<04:09,  1.41it/s]\u001b[A"
     ]
    }
   ],
   "source": [
    "print(\"Starting Training\")\n",
    "num_epochs = 10\n",
    "\n",
    "# Initialize tqdm for epochs\n",
    "for epoch in tqdm(range(num_epochs), desc=\"Epochs\"):\n",
    "    Swav_model.train()  # Set model to training mode\n",
    "    total_loss = 0\n",
    "\n",
    "    # Initialize tqdm for batches within each epoch\n",
    "    for batch_idx, batch in enumerate(tqdm(train_loader, desc=f\"Epoch {epoch+1}\", leave=False)):\n",
    "        # Unpack batch (views, dummy_label)\n",
    "        views, _ = batch  \n",
    "\n",
    "        # Diagnostic Prints\n",
    "        #print(f\"\\nEpoch {epoch+1}, Batch {batch_idx+1}\")\n",
    "        #print(f\"Type of views: {type(views)}\")\n",
    "\n",
    "       \n",
    "\n",
    "        # Progress Logging\n",
    "        if batch_idx % 10 == 0:\n",
    "            print(f'Processed batch {batch_idx+1}/{len(train_loader)}')\n",
    "\n",
    "        # Normalize prototypes\n",
    "        Swav_model.prototypes.normalize()\n",
    "\n",
    "        # Extract features\n",
    "        multi_crop_features = []\n",
    "        if isinstance(views, list) or isinstance(views, tuple):\n",
    "            for view in views:\n",
    "                feature = Swav_model(view.to(device))\n",
    "                multi_crop_features.append(feature)\n",
    "        else:\n",
    "            multi_crop_features = [Swav_model(views.to(device))]\n",
    "\n",
    "        #print(f\"Extracted {len(multi_crop_features)} multi-crop features.\")\n",
    "\n",
    "        # Split features into high-resolution and low-resolution\n",
    "        # For n_views=8: first 2 high-res, remaining 6 low-res\n",
    "        high_resolution = multi_crop_features[:2]  # First 2 views as high-res\n",
    "        low_resolution = multi_crop_features[2:]   # Remaining 6 views as low-res\n",
    "\n",
    "        #print(f\"High-res features: {[f.shape for f in high_resolution]}\")\n",
    "        #print(f\"Low-res features: {[f.shape for f in low_resolution]}\")\n",
    "\n",
    "        # Compute loss\n",
    "        try:\n",
    "            loss = criterion(high_resolution, low_resolution)\n",
    "        except ZeroDivisionError as e:\n",
    "            print(f\"ZeroDivisionError encountered: {e}\")\n",
    "            print(\"Ensure that n_crops >= 2 and that low_resolution is not empty.\")\n",
    "            continue  # Skips this batch\n",
    "        except Exception as e:\n",
    "            print(f\"Error computing loss: {e}\")\n",
    "            continue  # Skips this batch\n",
    "\n",
    "        #print(f\"Computed loss: {loss.item()}\")\n",
    "        total_loss += loss.detach()\n",
    "\n",
    "        # Backward pass and optimization\n",
    "        loss.backward()\n",
    "\n",
    "        # Gradient Clipping \n",
    "        torch.nn.utils.clip_grad_norm_(Swav_model.parameters(), max_norm=1.0)\n",
    "\n",
    "        optimizer.step()\n",
    "        optimizer.zero_grad()\n",
    "        #print(\"Performed backward pass and optimizer step.\")\n",
    "\n",
    "       \n",
    "\n",
    "    # Compute average loss for the epoch\n",
    "    avg_loss = total_loss / len(train_loader)\n",
    "    print(f\"Epoch: {epoch+1:>02}, Loss: {avg_loss:.5f}\")"
   ]
  },
  {
   "cell_type": "code",
   "execution_count": null,
   "metadata": {
    "trusted": true
   },
   "outputs": [],
   "source": [
    "import torch\n",
    "import numpy as np\n",
    "from tqdm import tqdm\n",
    "\n",
    "def extract_features_and_clusters(model, dataloader, device):\n",
    "    \"\"\"\n",
    "    Extract features and SwAV prototype assignments for the dataset.\n",
    "    \n",
    "    Args:\n",
    "        model (SwAV): The trained SwAV model.\n",
    "        dataloader (DataLoader): DataLoader for the dataset.\n",
    "        device (torch.device): The device to run the model on.\n",
    "    \n",
    "    Returns:\n",
    "        tuple: Numpy arrays of features (N, feature_dim), cluster assignments (N,), and ground-truth labels (N,)\n",
    "    \"\"\"\n",
    "    features = []\n",
    "    cluster_assignments = []\n",
    "    labels = []\n",
    "    \n",
    "    model.eval()\n",
    "    with torch.no_grad():\n",
    "        for batch_idx, (images, targets) in enumerate(tqdm(dataloader, desc=\"Extracting Features\")):\n",
    "            images = images.to(device)\n",
    "    \n",
    "            # Extract features\n",
    "            features_batch = model.get_features(images)  # [batch_size, feature_dim]\n",
    "    \n",
    "            # Cluster assignments\n",
    "            logits = model.prototypes(features_batch)  # [batch_size, n_prototypes]\n",
    "            cluster_ids = torch.argmax(logits, dim=1)  # [batch_size]\n",
    "    \n",
    "            # Store results\n",
    "            features.append(features_batch.cpu().numpy())\n",
    "            cluster_assignments.append(cluster_ids.cpu().numpy())\n",
    "            labels.append(targets.cpu().numpy())\n",
    "    \n",
    "            if (batch_idx + 1) % 10 == 0:\n",
    "                print(f'Processed batch {batch_idx+1}/{len(dataloader)}')\n",
    "    \n",
    "    features = np.concatenate(features, axis=0)\n",
    "    cluster_assignments = np.concatenate(cluster_assignments, axis=0)\n",
    "    labels = np.concatenate(labels, axis=0)\n",
    "    return features, cluster_assignments, labels\n"
   ]
  },
  {
   "cell_type": "code",
   "execution_count": null,
   "metadata": {
    "trusted": true
   },
   "outputs": [],
   "source": [
    "for batch_idx, (images, labels) in enumerate(feature_loader):\n",
    "    print(f\"Feature Extraction Batch {batch_idx+1}\")\n",
    "    print(f\"Type of images: {type(images)}\")  # <class 'torch.Tensor'>\n",
    "    print(f\"Shape of images: {images.shape}\")  # [20, 3, 224, 224]\n",
    "    break"
   ]
  },
  {
   "cell_type": "code",
   "execution_count": null,
   "metadata": {
    "trusted": true
   },
   "outputs": [],
   "source": [
    "features, cluster_assignments, labels = extract_features_and_clusters(Swav_model,feature_loader , device)\n",
    "np.save('features.npy', features)\n",
    "np.save('cluster_assignments.npy', cluster_assignments)\n",
    "np.save('labels.npy', labels)  # If labels are available and meaningful"
   ]
  },
  {
   "cell_type": "code",
   "execution_count": null,
   "metadata": {
    "trusted": true
   },
   "outputs": [],
   "source": [
    "from sklearn.manifold import TSNE\n",
    "import matplotlib.pyplot as plt\n",
    "import seaborn as sns\n",
    "\n",
    "# Optional: For better aesthetics\n",
    "sns.set(style='darkgrid')\n",
    "\n",
    "# Initialize t-SNE\n",
    "tsne = TSNE(n_components=2, random_state=42, perplexity=30, n_iter=1000, verbose=1)\n",
    "\n",
    "# Fit and transform the features\n",
    "features_tsne = tsne.fit_transform(features)\n",
    "print(f\"t-SNE transformed features shape: {features_tsne.shape}\")\n"
   ]
  },
  {
   "cell_type": "code",
   "execution_count": null,
   "metadata": {
    "trusted": true
   },
   "outputs": [],
   "source": [
    "# Number of unique clusters\n",
    "num_clusters = len(np.unique(cluster_assignments))\n",
    "print(f\"Number of unique clusters: {num_clusters}\")\n",
    "\n",
    "\n",
    "\n",
    "# Create a scatter plot\n",
    "plt.figure(figsize=(12, 10))\n",
    "palette = sns.color_palette(\"hsv\", num_clusters)\n",
    "\n",
    "sns.scatterplot(\n",
    "    x=features_tsne[:,0], y=features_tsne[:,1],\n",
    "    hue=cluster_assignments,\n",
    "    palette=palette,\n",
    "    legend='full',\n",
    "    alpha=0.7,\n",
    "    s=50\n",
    ")\n",
    "\n",
    "plt.title('SwAV Clustering Visualization with t-SNE')\n",
    "plt.xlabel('t-SNE Dimension 1')\n",
    "plt.ylabel('t-SNE Dimension 2')\n",
    "plt.legend(title='Cluster', bbox_to_anchor=(1.05, 1), loc='upper left')\n",
    "plt.show()\n"
   ]
  },
  {
   "cell_type": "code",
   "execution_count": null,
   "metadata": {
    "trusted": true
   },
   "outputs": [],
   "source": [
    "unique_clusters, counts = np.unique(cluster_assignments, return_counts=True)\n",
    "print(\"Number of images per cluster:\")\n",
    "for cluster_id, count in zip(unique_clusters, counts):\n",
    "    print(f\"Cluster {cluster_id}: {count} images\")"
   ]
  },
  {
   "cell_type": "code",
   "execution_count": null,
   "metadata": {
    "trusted": true
   },
   "outputs": [],
   "source": [
    "PARENT_DIR = '/kaggle/working/clusters'\n",
    "#image_paths=np.load('image_path.npy')\n",
    "os.makedirs(PARENT_DIR, exist_ok=True)\n",
    "for idx, (cluster_id, img_path) in enumerate(zip(cluster_assignments, image_paths)):\n",
    "    try:\n",
    "        cluster_dir = os.path.join(PARENT_DIR, str(cluster_id))\n",
    "        os.makedirs(cluster_dir, exist_ok=True)  # Ensure the directory exists\n",
    "        \n",
    "        # Define save path\n",
    "        original_filename = os.path.basename(img_path)\n",
    "        save_path = os.path.join(cluster_dir, original_filename)\n",
    "        \n",
    "        # Open and save the image\n",
    "        img = Image.open(img_path).convert(\"RGB\")\n",
    "        img.save(save_path, format='TIFF')  # Change format if needed\n",
    "        \n",
    "    except Exception as e:\n",
    "        print(f\"Error processing image {img_path}: {e}\")"
   ]
  },
  {
   "cell_type": "code",
   "execution_count": null,
   "metadata": {
    "trusted": true
   },
   "outputs": [],
   "source": [
    "import shutil\n",
    "import os\n",
    "\n",
    "# Define the path to the clusters directory\n",
    "clusters_dir = '/kaggle/working/clusters'\n",
    "\n",
    "# Define the path for the output zip file\n",
    "output_zip = '/kaggle/working/clusters.zip'\n",
    "\n",
    "# Check if the clusters directory exists\n",
    "if os.path.exists(clusters_dir):\n",
    "    # Create a zip archive of the clusters directory\n",
    "    shutil.make_archive('/kaggle/working/clusters', 'zip', clusters_dir)\n",
    "    print(\"Clusters directory has been compressed successfully.\")\n",
    "else:\n",
    "    print(f\"The directory {clusters_dir} does not exist.\")"
   ]
  },
  {
   "cell_type": "code",
   "execution_count": null,
   "metadata": {
    "trusted": true
   },
   "outputs": [],
   "source": [
    "import matplotlib.pyplot as plt\n",
    "from PIL import Image\n",
    "import os\n",
    "import math\n",
    "\n",
    "# Load cluster assignments and features\n",
    "cluster_assignments = np.load('cluster_assignments.npy')\n",
    "image_paths = feature_dataset.image_paths  # Paths from the dataset\n",
    "\n",
    "# Function to visualize tiles for a specific cluster\n",
    "def visualize_cluster(cluster_id, num_images=9):\n",
    "    indices = np.where(cluster_assignments == cluster_id)[0]\n",
    "    selected_indices = indices[:num_images]  # Select up to num_images from the cluster\n",
    "\n",
    "    # Dynamically calculate rows and columns\n",
    "    cols = 5  # You can adjust this to your preference\n",
    "    rows = math.ceil(len(selected_indices) / cols)\n",
    "\n",
    "    plt.figure(figsize=(cols * 3, rows * 3))\n",
    "    plt.suptitle(f\"Cluster {cluster_id}\", fontsize=16)\n",
    "\n",
    "    for i, idx in enumerate(selected_indices):\n",
    "        img_path = image_paths[idx]\n",
    "        img = Image.open(img_path).convert(\"RGB\")\n",
    "\n",
    "        plt.subplot(rows, cols, i + 1)  # Adjust grid dynamically\n",
    "        plt.imshow(img)\n",
    "        plt.axis('off')\n",
    "        plt.title(f\"Image {idx}\")\n",
    "    \n",
    "    plt.tight_layout()\n",
    "    plt.show()\n",
    "\n",
    "# Visualize cluster 0\n",
    "visualize_cluster(cluster_id=2973, num_images=50)\n",
    "\n",
    "# Visualize more clusters as needed\n",
    "# visualize_cluster(cluster_id=1, num_images=9)\n"
   ]
  },
  {
   "cell_type": "code",
   "execution_count": null,
   "metadata": {
    "trusted": true
   },
   "outputs": [],
   "source": [
    "import numpy as np\n",
    "import matplotlib.pyplot as plt\n",
    "from sklearn.metrics import roc_curve, auc\n",
    "from sklearn.preprocessing import label_binarize\n",
    "from sklearn.model_selection import train_test_split\n",
    "from sklearn.linear_model import LogisticRegression\n",
    "\n",
    "# Load extracted features and labels\n",
    "features = np.load('features.npy')             # Shape: [N, feature_dim]\n",
    "labels = np.load('labels.npy')                 # Shape: [N]\n",
    "cluster_assignments = np.load('cluster_assignments.npy')  # Shape: [N]\n",
    "\n",
    "# Define the unique classes\n",
    "classes = np.unique(cluster_assignments)\n",
    "\n",
    "# Train-Test Split using original 1D labels\n",
    "X_train, X_test, y_train, y_test = train_test_split(\n",
    "    features,\n",
    "    cluster_assignments,        # Use 1D labels here\n",
    "    test_size=0.3,\n",
    "    random_state=42\n",
    ")\n",
    "\n",
    "# Train a Logistic Regression Classifier\n",
    "clf = LogisticRegression(\n",
    "    max_iter=1000,\n",
    "    multi_class='ovr',          # One-vs-Rest strategy for multi-class\n",
    "    solver='lbfgs',\n",
    "    class_weight='balanced'\n",
    ")\n",
    "clf.fit(X_train, y_train)\n",
    "\n",
    "# Predict probabilities\n",
    "y_prob = clf.predict_proba(X_test)  # Shape: [N_test, num_classes]\n",
    "\n",
    "# Binarize y_test for ROC Curve (after prediction)\n",
    "y_test_binarized = label_binarize(y_test, classes=classes)  # Shape: [N_test, num_classes]\n",
    "unique_train_classes = np.unique(y_train)\n",
    "missing_classes = set(classes) - set(unique_train_classes)\n",
    "\n",
    "if missing_classes:\n",
    "    print(f\"The following classes are missing in the training set: {missing_classes}\")\n",
    "    # Handle missing classes as needed\n",
    "else:\n",
    "    print(\"All classes are represented in the training set.\")\n",
    "# Plot the ROC Curve\n",
    "plt.figure(figsize=(10, 8))\n",
    "\n",
    "for i, class_label in enumerate(classes):\n",
    "    # Compute ROC curve and AUC for each class\n",
    "    fpr, tpr, _ = roc_curve(y_test_binarized[:, i], y_prob[:, i])\n",
    "    roc_auc = auc(fpr, tpr)\n",
    "    \n",
    "    plt.plot(fpr, tpr, label=f'Class {class_label} (AUC = {roc_auc:.2f})')\n",
    "\n",
    "# Plot settings\n",
    "plt.plot([0, 1], [0, 1], color='gray', linestyle='--', label='Random Guessing')  # Diagonal line\n",
    "plt.xlabel('False Positive Rate')\n",
    "plt.ylabel('True Positive Rate')\n",
    "plt.title('Receiver Operating Characteristic (ROC) Curve')\n",
    "plt.legend(loc='lower right')\n",
    "plt.grid(alpha=0.5)\n",
    "plt.show()\n"
   ]
  }
 ],
 "metadata": {
  "kaggle": {
   "accelerator": "nvidiaTeslaT4",
   "dataSources": [
    {
     "datasetId": 6281351,
     "sourceId": 10170673,
     "sourceType": "datasetVersion"
    },
    {
     "datasetId": 6294905,
     "sourceId": 10188945,
     "sourceType": "datasetVersion"
    },
    {
     "datasetId": 6296741,
     "sourceId": 10191352,
     "sourceType": "datasetVersion"
    }
   ],
   "dockerImageVersionId": 30805,
   "isGpuEnabled": true,
   "isInternetEnabled": true,
   "language": "python",
   "sourceType": "notebook"
  },
  "kernelspec": {
   "display_name": ".venv",
   "language": "python",
   "name": "python3"
  },
  "language_info": {
   "codemirror_mode": {
    "name": "ipython",
    "version": 3
   },
   "file_extension": ".py",
   "mimetype": "text/x-python",
   "name": "python",
   "nbconvert_exporter": "python",
   "pygments_lexer": "ipython3",
   "version": "3.12.4"
  }
 },
 "nbformat": 4,
 "nbformat_minor": 4
}
