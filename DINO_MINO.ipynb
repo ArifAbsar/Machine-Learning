{
 "cells": [
  {
   "cell_type": "code",
   "execution_count": 1,
   "metadata": {},
   "outputs": [
    {
     "name": "stderr",
     "output_type": "stream",
     "text": [
      "f:\\Machine learning\\.venv\\Lib\\site-packages\\tqdm\\auto.py:21: TqdmWarning: IProgress not found. Please update jupyter and ipywidgets. See https://ipywidgets.readthedocs.io/en/stable/user_install.html\n",
      "  from .autonotebook import tqdm as notebook_tqdm\n"
     ]
    }
   ],
   "source": [
    "import matplotlib.pyplot as plt\n",
    "import numpy as np\n",
    "import torch\n",
    "from PIL import Image\n",
    "from torchvision import transforms\n",
    "from torch.utils.data import Dataset, DataLoader\n",
    "import torch\n",
    "import torch.nn as nn\n",
    "import argparse\n",
    "import glob\n",
    "import os\n",
    "import pickle\n",
    "import my_utils\n",
    "from tqdm import tqdm\n",
    "from torch import nn, einsum\n",
    "from torch.optim import AdamW\n",
    "from torch.optim import SGD\n",
    "from torchmetrics import Accuracy\n",
    "from torch.optim import Adam\n",
    "from torchvision import datasets, transforms\n",
    "from sklearn.cluster import KMeans\n",
    "import torch.nn.functional as F\n",
    "from torch.utils.data import random_split\n",
    "from sklearn.decomposition import PCA\n",
    "from einops import rearrange, repeat\n",
    "from vision_transformer_cp import DINOHead, vit_small, vit_tiny, vit_base, vit_tinyer, vit_tiniest\n"
   ]
  },
  {
   "cell_type": "code",
   "execution_count": 2,
   "metadata": {},
   "outputs": [],
   "source": [
    "class DINO(nn.Module):\n",
    "    def __init__(self, out_dim=768, use_bn=False, model_type=\"tiny\"):\n",
    "        super().__init__()\n",
    "        model_map = {'tiny':vit_tiny(), 'small':vit_small(), 'base':vit_base(),\n",
    "                     'vit_tinyer':vit_tinyer()\n",
    "                    }\n",
    "        # Student network\n",
    "        self.student = model_map[model_type]\n",
    "        embed_dim = self.student.embed_dim\n",
    "        \n",
    "        self.student = nn.Sequential(\n",
    "            self.student,\n",
    "            DINOHead(embed_dim, out_dim, use_bn)\n",
    "        )\n",
    "        # Teacher network\n",
    "        self.teacher = model_map[model_type]\n",
    "        self.teacher = nn.Sequential(\n",
    "            self.teacher,\n",
    "            DINOHead(embed_dim, out_dim, use_bn)\n",
    "        )\n",
    "        # Initialize teacher and student with same weights\n",
    "        self.teacher.load_state_dict(self.student.state_dict())\n",
    "        # Turn off gradients for teacher network\n",
    "        for param in self.teacher.parameters():\n",
    "            param.requires_grad = False\n",
    "\n",
    "    def forward(self, x, is_teacher=False):\n",
    "        # Forward pass through Perceiver\n",
    "        batch_size = x.shape[0]\n",
    "        x = self.student[0](x) if not is_teacher else self.teacher[0](x)\n",
    "        # combine latents\n",
    "        x = x.view(batch_size, 1, -1)\n",
    "        x = self.student[1](x) if not is_teacher else self.teacher[1](x)\n",
    "        return x\n",
    "    def update_teacher(self, momentum=0.996):\n",
    "        # EMA update\n",
    "        for param_q, param_k in zip(self.student.parameters(), self.teacher.parameters()):\n",
    "            param_k.data = param_k.data * momentum + param_q.data * (1. - momentum)\n",
    "    def get_last_selfattention(self, x):\n",
    "        return self.student[0].get_last_selfattention(x)\n",
    "    def extract_features(self, x, is_teacher=False):\n",
    "        # Use forward to get embeddings\n",
    "        with torch.no_grad():\n",
    "            x = self.forward(x, is_teacher=is_teacher)  # (B, 1, out_dim)\n",
    "        # Remove the extra dimension\n",
    "        return x.squeeze(1)  # shape: (B, out_dim)\n"
   ]
  },
  {
   "cell_type": "code",
   "execution_count": 3,
   "metadata": {},
   "outputs": [],
   "source": [
    "class DINOLoss(nn.Module):\n",
    "    def __init__(self, out_dim, ncrops, warmup_teacher_temp, teacher_temp,\n",
    "                 warmup_teacher_temp_epochs, nepochs, student_temp=0.1,\n",
    "                 center_momentum=0.9):\n",
    "        super().__init__()\n",
    "        self.student_temp = student_temp\n",
    "        self.center_momentum = center_momentum\n",
    "        self.ncrops = ncrops\n",
    "        self.register_buffer(\"center\", torch.zeros(1, out_dim))\n",
    "        self.teacher_temp_schedule = np.concatenate((\n",
    "            np.linspace(warmup_teacher_temp, teacher_temp, warmup_teacher_temp_epochs),\n",
    "            np.ones(nepochs - warmup_teacher_temp_epochs) * teacher_temp\n",
    "        ))\n",
    "\n",
    "    def forward(self, student_output, teacher_output, epoch):\n",
    "        dino_loss = self.compute_dino_loss(student_output, teacher_output, epoch)\n",
    "        # Combine the DINO loss and the energy loss\n",
    "        total_loss = dino_loss\n",
    "        self.update_center(teacher_output)\n",
    "        return total_loss\n",
    "\n",
    "    def compute_dino_loss(self, student_output, teacher_output, epoch):\n",
    "        self.center = self.center.to(student_output.device)\n",
    "        student_out = student_output / self.student_temp\n",
    "        student_out = student_out.chunk(self.ncrops)\n",
    "        temp = self.teacher_temp_schedule[epoch]\n",
    "        teacher_out = F.softmax((teacher_output - self.center) / temp, dim=-1)\n",
    "        teacher_out = teacher_out.detach().chunk(2)\n",
    "        total_loss = 0\n",
    "        n_loss_terms = 0\n",
    "        for iq, q in enumerate(teacher_out):\n",
    "            for v in range(len(student_out)):\n",
    "                if v == iq:\n",
    "                    continue\n",
    "                loss = torch.sum(-q * F.log_softmax(student_out[v], dim=-1), dim=-1)\n",
    "                total_loss += loss.mean()\n",
    "                n_loss_terms += 1\n",
    "        total_loss /= n_loss_terms\n",
    "        return total_loss\n",
    "\n",
    "    @torch.no_grad()\n",
    "    def update_center(self, teacher_output):\n",
    "        batch_center = torch.sum(teacher_output, dim=0, keepdim=True)\n",
    "        batch_center = batch_center / len(teacher_output)\n",
    "        self.center = self.center * self.center_momentum + batch_center * (1 - self.center_momentum)"
   ]
  },
  {
   "cell_type": "code",
   "execution_count": 5,
   "metadata": {},
   "outputs": [],
   "source": [
    "class DataAugmentationDINO(object):\n",
    "    def __init__(self, global_crops_scale, local_crops_scale, local_crops_number, image_size=28):\n",
    "        flip_and_color_jitter = transforms.Compose([\n",
    "            transforms.RandomHorizontalFlip(p=0.5),\n",
    "            transforms.RandomApply(\n",
    "                [transforms.ColorJitter(brightness=0.4, contrast=0.4, saturation=0.2, hue=0.1)],\n",
    "                p=0.8\n",
    "            ),\n",
    "            transforms.RandomGrayscale(p=0.2),\n",
    "        ])\n",
    "        self.image_size = image_size\n",
    "\n",
    "        self.normalize = transforms.Compose([\n",
    "            transforms.ToTensor(),\n",
    "            transforms.Normalize((0.1307,), (0.3081,)),  # MNIST normalization\n",
    "        ])\n",
    "\n",
    "        # first global crop\n",
    "        self.global_transfo1 = transforms.Compose([\n",
    "            transforms.RandomResizedCrop(image_size, scale=global_crops_scale),\n",
    "            flip_and_color_jitter,\n",
    "            self.normalize,\n",
    "        ])\n",
    "        # second global crop\n",
    "        self.global_transfo2 = transforms.Compose([\n",
    "            transforms.RandomResizedCrop(image_size, scale=global_crops_scale),\n",
    "            flip_and_color_jitter,\n",
    "            self.normalize,\n",
    "        ])\n",
    "        # transformation for the local small crops\n",
    "        self.local_crops_number = local_crops_number\n",
    "        self.local_transfo = transforms.Compose([\n",
    "            transforms.RandomResizedCrop(image_size, scale=local_crops_scale),\n",
    "            flip_and_color_jitter,\n",
    "            self.normalize,\n",
    "        ])\n",
    "\n",
    "    def __call__(self, image):\n",
    "        crops = []\n",
    "        crops.append(self.global_transfo1(image))\n",
    "        crops.append(self.global_transfo2(image))\n",
    "        for _ in range(self.local_crops_number):\n",
    "            crops.append(self.local_transfo(image))\n",
    "        # Transform the original image to tensor\n",
    "        unaugmented_image = image.resize((self.image_size, self.image_size))\n",
    "        unaugmented_image = self.normalize(unaugmented_image)\n",
    "        #print(f\"Unaugmented image shape: {unaugmented_image.shape}\")\n",
    "        return (unaugmented_image, crops)  # Return a tuple of unaugmented image and list of crops\n"
   ]
  },
  {
   "cell_type": "code",
   "execution_count": 6,
   "metadata": {},
   "outputs": [],
   "source": [
    "class WSITileDataset(Dataset):\n",
    "    def __init__(self, tiles_dir=\"tiles\", transform=None):\n",
    "        super().__init__()\n",
    "        self.tiles_dir = tiles_dir\n",
    "        self.transform = transform\n",
    "        self.filepaths = []\n",
    "        for fname in os.listdir(tiles_dir):\n",
    "            if fname.lower().endswith(('.png', '.jpg', '.jpeg', '.tif')):\n",
    "                # Assuming a filename format: tile_x_y.png\n",
    "                # Modify this pattern if your filenames differ\n",
    "                base, ext = os.path.splitext(fname)\n",
    "                # e.g., base = \"tile_3_5\"\n",
    "                parts = base.split('_')\n",
    "                if len(parts) >= 3:\n",
    "                    # The last two parts are x and y coordinates\n",
    "                    x_idx = int(parts[-2])\n",
    "                    y_idx = int(parts[-1])\n",
    "                    fpath = os.path.join(tiles_dir, fname)\n",
    "                    self.filepaths.append((fpath, x_idx, y_idx))\n",
    "                else:\n",
    "                    # If the filename doesn't follow the pattern,\n",
    "                    # either skip it or handle differently.\n",
    "                    pass\n",
    "\n",
    "        # Sort by coordinates if desired (optional)\n",
    "        self.filepaths.sort(key=lambda x: (x[2], x[1]))  # sort by y, then x\n",
    "\n",
    "    def __len__(self):\n",
    "        return len(self.filepaths)\n",
    "\n",
    "    def __getitem__(self, idx):\n",
    "        fpath, x_idx, y_idx = self.filepaths[idx]\n",
    "        img = Image.open(fpath).convert(\"RGB\")\n",
    "        if self.transform:\n",
    "            img = self.transform(img)\n",
    "        # Return image and coordinates\n",
    "        return img, (x_idx, y_idx)"
   ]
  },
  {
   "cell_type": "code",
   "execution_count": 7,
   "metadata": {},
   "outputs": [],
   "source": [
    "image_size = 224  # Adjust as needed\n",
    "global_crops_scale = (0.4, 1.0)\n",
    "local_crops_scale = (0.05, 0.4)\n",
    "local_crops_number = 4\n",
    "\n",
    "dino_transform = DataAugmentationDINO(global_crops_scale, local_crops_scale, local_crops_number, image_size=image_size)\n",
    "dataset = WSITileDataset(\"F:/Machine learning/basic_normalized_tiles\", transform=dino_transform)\n",
    "loader = DataLoader(dataset, batch_size=32, shuffle=True, drop_last=True,pin_memory=True)"
   ]
  },
  {
   "cell_type": "code",
   "execution_count": 4,
   "metadata": {},
   "outputs": [
    {
     "name": "stderr",
     "output_type": "stream",
     "text": [
      "f:\\Machine learning\\.venv\\Lib\\site-packages\\torch\\nn\\utils\\weight_norm.py:143: FutureWarning: `torch.nn.utils.weight_norm` is deprecated in favor of `torch.nn.utils.parametrizations.weight_norm`.\n",
      "  WeightNorm.apply(module, name, dim)\n"
     ]
    },
    {
     "data": {
      "text/plain": [
       "DINO(\n",
       "  (student): Sequential(\n",
       "    (0): VisionTransformer(\n",
       "      (patch_embed): PatchEmbed(\n",
       "        (proj): Conv2d(3, 768, kernel_size=(16, 16), stride=(16, 16))\n",
       "      )\n",
       "      (pos_drop): Dropout(p=0.0, inplace=False)\n",
       "      (blocks): ModuleList(\n",
       "        (0-11): 12 x Block(\n",
       "          (norm1): LayerNorm((768,), eps=1e-06, elementwise_affine=True)\n",
       "          (attn): Attention(\n",
       "            (qkv): Linear(in_features=768, out_features=2304, bias=True)\n",
       "            (attn_drop): Dropout(p=0.0, inplace=False)\n",
       "            (proj): Linear(in_features=768, out_features=768, bias=True)\n",
       "            (proj_drop): Dropout(p=0.0, inplace=False)\n",
       "          )\n",
       "          (drop_path): Identity()\n",
       "          (norm2): LayerNorm((768,), eps=1e-06, elementwise_affine=True)\n",
       "          (mlp): Mlp(\n",
       "            (fc1): Linear(in_features=768, out_features=3072, bias=True)\n",
       "            (act): GELU(approximate='none')\n",
       "            (fc2): Linear(in_features=3072, out_features=768, bias=True)\n",
       "            (drop): Dropout(p=0.0, inplace=False)\n",
       "          )\n",
       "        )\n",
       "      )\n",
       "      (norm): LayerNorm((768,), eps=1e-06, elementwise_affine=True)\n",
       "      (head): Identity()\n",
       "    )\n",
       "    (1): DINOHead(\n",
       "      (mlp): Sequential(\n",
       "        (0): Linear(in_features=768, out_features=2048, bias=True)\n",
       "        (1): GELU(approximate='none')\n",
       "        (2): Linear(in_features=2048, out_features=2048, bias=True)\n",
       "        (3): GELU(approximate='none')\n",
       "        (4): Linear(in_features=2048, out_features=256, bias=True)\n",
       "      )\n",
       "      (last_layer): Linear(in_features=256, out_features=768, bias=False)\n",
       "    )\n",
       "  )\n",
       "  (teacher): Sequential(\n",
       "    (0): VisionTransformer(\n",
       "      (patch_embed): PatchEmbed(\n",
       "        (proj): Conv2d(3, 768, kernel_size=(16, 16), stride=(16, 16))\n",
       "      )\n",
       "      (pos_drop): Dropout(p=0.0, inplace=False)\n",
       "      (blocks): ModuleList(\n",
       "        (0-11): 12 x Block(\n",
       "          (norm1): LayerNorm((768,), eps=1e-06, elementwise_affine=True)\n",
       "          (attn): Attention(\n",
       "            (qkv): Linear(in_features=768, out_features=2304, bias=True)\n",
       "            (attn_drop): Dropout(p=0.0, inplace=False)\n",
       "            (proj): Linear(in_features=768, out_features=768, bias=True)\n",
       "            (proj_drop): Dropout(p=0.0, inplace=False)\n",
       "          )\n",
       "          (drop_path): Identity()\n",
       "          (norm2): LayerNorm((768,), eps=1e-06, elementwise_affine=True)\n",
       "          (mlp): Mlp(\n",
       "            (fc1): Linear(in_features=768, out_features=3072, bias=True)\n",
       "            (act): GELU(approximate='none')\n",
       "            (fc2): Linear(in_features=3072, out_features=768, bias=True)\n",
       "            (drop): Dropout(p=0.0, inplace=False)\n",
       "          )\n",
       "        )\n",
       "      )\n",
       "      (norm): LayerNorm((768,), eps=1e-06, elementwise_affine=True)\n",
       "      (head): Identity()\n",
       "    )\n",
       "    (1): DINOHead(\n",
       "      (mlp): Sequential(\n",
       "        (0): Linear(in_features=768, out_features=2048, bias=True)\n",
       "        (1): GELU(approximate='none')\n",
       "        (2): Linear(in_features=2048, out_features=2048, bias=True)\n",
       "        (3): GELU(approximate='none')\n",
       "        (4): Linear(in_features=2048, out_features=256, bias=True)\n",
       "      )\n",
       "      (last_layer): Linear(in_features=256, out_features=768, bias=False)\n",
       "    )\n",
       "  )\n",
       ")"
      ]
     },
     "execution_count": 4,
     "metadata": {},
     "output_type": "execute_result"
    }
   ],
   "source": [
    "device = torch.device(\"cuda\" if torch.cuda.is_available() else \"cpu\")\n",
    "model = DINO(out_dim=768, model_type='base').to(device)\n",
    "optimizer = torch.optim.Adam(model.student.parameters(), lr=0.0005)\n",
    "model.eval()"
   ]
  },
  {
   "cell_type": "code",
   "execution_count": 9,
   "metadata": {},
   "outputs": [],
   "source": [
    "epochs = 2\n",
    "ncrops = 2 + local_crops_number # 2 global + local_crops_number local\n",
    "criterion = DINOLoss(out_dim=768, ncrops=ncrops, warmup_teacher_temp=0.04, \n",
    "                     teacher_temp=0.07, warmup_teacher_temp_epochs=1, \n",
    "                     nepochs=epochs, student_temp=0.1, center_momentum=0.9)"
   ]
  },
  {
   "cell_type": "code",
   "execution_count": 10,
   "metadata": {},
   "outputs": [
    {
     "name": "stdout",
     "output_type": "stream",
     "text": [
      "Epoch [1/2], Step [0/65], Loss: 6.0651\n",
      "Epoch [1/2], Step [10/65], Loss: 6.4180\n",
      "Epoch [1/2], Step [20/65], Loss: 6.5769\n",
      "Epoch [1/2], Step [30/65], Loss: 6.6245\n",
      "Epoch [1/2], Step [40/65], Loss: 6.6355\n",
      "Epoch [1/2], Step [50/65], Loss: 6.6373\n",
      "Epoch [1/2], Step [60/65], Loss: 6.6387\n",
      "Epoch [2/2], Step [0/65], Loss: 6.6429\n",
      "Epoch [2/2], Step [10/65], Loss: 6.6427\n",
      "Epoch [2/2], Step [20/65], Loss: 6.6426\n",
      "Epoch [2/2], Step [30/65], Loss: 6.6422\n",
      "Epoch [2/2], Step [40/65], Loss: 6.6423\n",
      "Epoch [2/2], Step [50/65], Loss: 6.6426\n",
      "Epoch [2/2], Step [60/65], Loss: 6.6423\n",
      "Training complete.\n"
     ]
    }
   ],
   "source": [
    "model.train()\n",
    "for epoch in range(epochs):\n",
    "    for i, (data_tuple, _) in enumerate(loader):\n",
    "        unaugmented_image, crops = data_tuple\n",
    "        # crops: list of length ncrops with tensors of shape (B, C, H, W)\n",
    "        # Concatenate all crops for student\n",
    "        all_crops = torch.cat(crops, dim=0).to(device)   # (B*ncrops, C, H, W)\n",
    "        teacher_inp = torch.cat(crops[:2], dim=0).to(device) # 2 global crops for teacher\n",
    "\n",
    "        student_output = model(all_crops, is_teacher=False).squeeze(1)  # (B*ncrops, out_dim)\n",
    "        teacher_output = model(teacher_inp, is_teacher=True).squeeze(1) # (B*2, out_dim)\n",
    "\n",
    "        loss = criterion(student_output, teacher_output, epoch)\n",
    "        optimizer.zero_grad()\n",
    "        loss.backward()\n",
    "        optimizer.step()\n",
    "\n",
    "        model.update_teacher(momentum=0.996)\n",
    "\n",
    "        if i % 10 == 0:\n",
    "            print(f\"Epoch [{epoch+1}/{epochs}], Step [{i}/{len(loader)}], Loss: {loss.item():.4f}\")\n",
    "\n",
    "print(\"Training complete.\")"
   ]
  },
  {
   "cell_type": "code",
   "execution_count": null,
   "metadata": {},
   "outputs": [],
   "source": [
    "model.eval()  # Put the model in evaluation mode\n",
    "inference_transform = transforms.Compose([\n",
    "    transforms.Resize((224,224)),\n",
    "    transforms.ToTensor(),\n",
    "    transforms.Normalize([0.485,0.456,0.406],[0.229,0.224,0.225])\n",
    "])\n",
    "# Prepare a dataset (same transforms as needed) for inference\n",
    "inference_dataset = WSITileDataset(\"F:/Machine learning/basic_normalized_tiles\", transform=inference_transform)\n",
    "inference_loader = DataLoader(inference_dataset, batch_size=32, shuffle=False)\n",
    "\n",
    "all_embeddings = []\n",
    "tile_coords = []\n",
    "\n",
    "# Disable gradient computation for inference\n",
    "with torch.no_grad():\n",
    "    for batch_idx, (images, coords) in enumerate(inference_loader):\n",
    "        # Move images to the designated device (GPU)\n",
    "        images = images.to(device)\n",
    "        \n",
    "        # Extract features using the student model (set is_teacher=True if using the teacher model)\n",
    "        emb = model.extract_features(images, is_teacher=True)  # Shape: (B, out_dim)\n",
    "        \n",
    "        # Process coordinates\n",
    "        if isinstance(coords, torch.Tensor):\n",
    "            # Case 1: coords is a single tensor, likely of shape (2, B) or (B, 2)\n",
    "            if coords.ndim == 2:\n",
    "                if coords.size(0) == 2:\n",
    "                    # Shape: (2, B) - First row is x, second row is y\n",
    "                    x_tensor, y_tensor = coords\n",
    "                    x_coords = x_tensor.tolist()\n",
    "                    y_coords = y_tensor.tolist()\n",
    "                elif coords.size(1) == 2:\n",
    "                    # Shape: (B, 2) - Each row is [x, y]\n",
    "                    x_coords = coords[:, 0].tolist()\n",
    "                    y_coords = coords[:, 1].tolist()\n",
    "                else:\n",
    "                    print(f\"Batch {batch_idx}: Unexpected tensor shape for coords: {coords.shape}\")\n",
    "                    continue  # Skip this batch\n",
    "            else:\n",
    "                print(f\"Batch {batch_idx}: Unexpected tensor dimensionality for coords: {coords.ndim}\")\n",
    "                continue  # Skip this batch\n",
    "            \n",
    "            # Pair x and y coordinates\n",
    "            coords_list = list(zip(x_coords, y_coords))\n",
    "        \n",
    "        elif isinstance(coords, (list, tuple)) and len(coords) == 2 and all(isinstance(t, torch.Tensor) for t in coords):\n",
    "            # Case 2: coords is a list or tuple of two tensors: [x_tensor, y_tensor]\n",
    "            x_tensor, y_tensor = coords\n",
    "            x_coords = x_tensor.tolist()\n",
    "            y_coords = y_tensor.tolist()\n",
    "            \n",
    "            # Ensure both tensors have the same length\n",
    "            if len(x_coords) != len(y_coords):\n",
    "                print(f\"Batch {batch_idx}: Mismatch in number of x and y coordinates ({len(x_coords)} vs {len(y_coords)})\")\n",
    "                continue  # Skip this batch\n",
    "            \n",
    "            # Pair x and y coordinates\n",
    "            coords_list = list(zip(x_coords, y_coords))\n",
    "        \n",
    "        elif isinstance(coords, (list, tuple)) and len(coords) == 2 and all(isinstance(c, int) for c in coords):\n",
    "            # Case 3: coords is a single (x, y) pair\n",
    "            coords_list = [tuple(coords)]\n",
    "        \n",
    "        else:\n",
    "            # Case 4: Unexpected format\n",
    "            print(f\"Batch {batch_idx}: Unexpected coords format:\", coords)\n",
    "            continue  # Skip this batch or handle as needed\n",
    "        \n",
    "        # Extend the tile_coords with the paired (x, y) tuples\n",
    "        tile_coords.extend(coords_list)\n",
    "        \n",
    "        # Append the embeddings to the all_embeddings list\n",
    "        all_embeddings.append(emb.cpu())\n",
    "\n",
    "# Concatenate all embeddings into a single NumPy array\n",
    "all_embeddings = torch.cat(all_embeddings, dim=0).numpy()  # Shape: (N, out_dim)\n",
    "\n",
    "\n",
    "# For example, using a specific dimension from the embeddings\n",
    "meaningful_dim = 0  # Replace with the actual dimension you're interested in\n",
    "feature_values = np.mean(all_embeddings, axis=1)\n",
    "feature=all_embeddings[:, meaningful_dim] \n",
    "#pca = PCA(n_components=2)\n",
    "#feature_values = pca.fit_transform(all_embeddings).ravel()  # should give (2106,)"
   ]
  },
  {
   "cell_type": "code",
   "execution_count": 27,
   "metadata": {},
   "outputs": [
    {
     "name": "stdout",
     "output_type": "stream",
     "text": [
      "After PCA: (2106,)\n",
      "After scaling: (2106,)\n"
     ]
    },
    {
     "data": {
      "image/png": "[encoded data removed]",
      "text/plain": [
       "<Figure size 1000x800 with 2 Axes>"
      ]
     },
     "metadata": {},
     "output_type": "display_data"
    }
   ],
   "source": [
    "from sklearn.preprocessing import MinMaxScaler\n",
    "scaler = MinMaxScaler()\n",
    "feature_values_scaled = scaler.fit_transform(feature_values.reshape(-1, 1)).ravel()  # still (2106,)\n",
    "# 5. Map the feature values back onto the WSI layout\n",
    "W = max(x for x,y in tile_coords) + 1\n",
    "H = max(y for x,y in tile_coords) + 1\n",
    "print(\"After PCA:\", feature_values.shape)    # should be (2106,)\n",
    "print(\"After scaling:\", feature_values_scaled.shape)  # should be (2106,)\n",
    "feature_map = np.zeros((H, W))\n",
    "for i, (x_idx, y_idx) in enumerate(tile_coords):\n",
    "    feature_map[y_idx, x_idx] = feature_values_scaled[i]\n",
    "\n",
    "# 6. Visualize the heatmap\n",
    "plt.figure(figsize=(10,8))\n",
    "plt.imshow(feature_map, cmap='viridis')\n",
    "plt.colorbar(label=f'Feature Dim {meaningful_dim} (scaled)')\n",
    "plt.title('WSI Feature Heatmap')\n",
    "plt.xlabel('Tile X index')\n",
    "plt.ylabel('Tile Y index')\n",
    "plt.show()\n",
    "\n"
   ]
  },
  {
   "cell_type": "code",
   "execution_count": 13,
   "metadata": {},
   "outputs": [
    {
     "name": "stdout",
     "output_type": "stream",
     "text": [
      "Number of embeddings: 2106\n",
      "Number of coordinates: 2106\n",
      "Number of feature values: 2106\n"
     ]
    }
   ],
   "source": [
    "print(\"Number of embeddings:\", all_embeddings.shape[0])\n",
    "print(\"Number of coordinates:\", len(tile_coords))\n",
    "print(\"Number of feature values:\", len(feature_values_scaled))\n"
   ]
  },
  {
   "cell_type": "code",
   "execution_count": 14,
   "metadata": {},
   "outputs": [],
   "source": [
    "assert len(tile_coords) == all_embeddings.shape[0], \"Mismatch in number of tiles and embeddings\"\n",
    "assert len(feature_values_scaled) == all_embeddings.shape[0], \"Mismatch in feature values and embeddings\""
   ]
  },
  {
   "cell_type": "code",
   "execution_count": 15,
   "metadata": {},
   "outputs": [
    {
     "name": "stdout",
     "output_type": "stream",
     "text": [
      "Top-2 feature coordinates:\n",
      "(24, 106)\n",
      "(58, 69)\n"
     ]
    }
   ],
   "source": [
    "# Define the number of top features to highlight\n",
    "top_n = 2  # You can adjust this number\n",
    "\n",
    "# Get the indices of the top-N feature values\n",
    "top_indices = np.argsort(feature_values_scaled)[-top_n:]\n",
    "\n",
    "# Retrieve the corresponding (x, y) coordinates\n",
    "top_coords = [tile_coords[i] for i in top_indices]\n",
    "\n",
    "print(f\"Top-{top_n} feature coordinates:\")\n",
    "for coord in top_coords:\n",
    "    print(coord)"
   ]
  },
  {
   "cell_type": "code",
   "execution_count": 16,
   "metadata": {},
   "outputs": [
    {
     "data": {
      "image/png": "[encoded data removed]",
      "text/plain": [
       "<Figure size 1000x800 with 2 Axes>"
      ]
     },
     "metadata": {},
     "output_type": "display_data"
    }
   ],
   "source": [
    "import matplotlib.pyplot as plt\n",
    "import matplotlib.patches as patches\n",
    "\n",
    "# Plot the heatmap\n",
    "plt.figure(figsize=(10, 8))\n",
    "plt.imshow(feature_map, cmap='viridis')\n",
    "plt.colorbar(label=f'Feature Dim {meaningful_dim} (scaled)')\n",
    "plt.title('WSI Feature Heatmap with Top-N Highlights')\n",
    "plt.xlabel('Tile X index')\n",
    "plt.ylabel('Tile Y index')\n",
    "\n",
    "# Get the current axes\n",
    "ax = plt.gca()\n",
    "\n",
    "# Define the radius of the circles (adjust based on your tile size and heatmap resolution)\n",
    "circle_radius = 3  # Adjust as necessary\n",
    "\n",
    "# Draw circles around top-N features\n",
    "for (x, y) in top_coords:\n",
    "    circ = patches.Circle((x, y), radius=circle_radius, linewidth=1, edgecolor='red', facecolor='none')\n",
    "    ax.add_patch(circ)\n",
    "\n",
    "plt.show()\n"
   ]
  },
  {
   "cell_type": "code",
   "execution_count": 17,
   "metadata": {},
   "outputs": [
    {
     "name": "stdout",
     "output_type": "stream",
     "text": [
      "Top tiles with highest feature dimension values:\n",
      "Tile at (x=38, y=63) with feature value: 0.0144\n",
      "Tile at (x=30, y=54) with feature value: 0.0144\n",
      "Tile at (x=22, y=5) with feature value: 0.0144\n",
      "Tile at (x=24, y=106) with feature value: 0.0144\n",
      "Tile at (x=58, y=69) with feature value: 0.0144\n"
     ]
    }
   ],
   "source": [
    "# (Optional) Pinpoint tiles with top feature values\n",
    "# For example, find top 5 tiles that have the highest feature values\n",
    "top_k = 5\n",
    "top_indices = np.argsort(feature_values)[-top_k:]\n",
    "print(\"Top tiles with highest feature dimension values:\")\n",
    "for idx in top_indices:\n",
    "    x_idx, y_idx = tile_coords[idx]\n",
    "    print(f\"Tile at (x={x_idx}, y={y_idx}) with feature value: {feature_values[idx]:.4f}\")"
   ]
  },
  {
   "cell_type": "code",
   "execution_count": 18,
   "metadata": {},
   "outputs": [
    {
     "data": {
      "text/plain": [
       "5250"
      ]
     },
     "execution_count": 18,
     "metadata": {},
     "output_type": "execute_result"
    }
   ],
   "source": [
    "import gc\n",
    "gc.collect()\n"
   ]
  },
  {
   "cell_type": "code",
   "execution_count": 19,
   "metadata": {},
   "outputs": [],
   "source": [
    "import openslide\n",
    "from PIL import Image\n",
    "\n",
    "# Replace with your WSI file path\n",
    "wsi_path = \"006388_0.tif\"\n",
    "slide = openslide.OpenSlide(wsi_path)\n",
    "\n",
    "# Read a region or the whole slide (be cautious with memory)\n",
    "# Here, we'll read a downsampled version for visualization\n",
    "level = 0 # Level 0 is the highest resolution\n",
    "slide_dimensions = slide.level_dimensions[level]\n",
    "wsi_image = slide.read_region((0, 0), level, slide_dimensions).convert('RGB')\n",
    "\n",
    "# Convert to NumPy array\n",
    "wsi_np = np.array(wsi_image)\n"
   ]
  },
  {
   "cell_type": "code",
   "execution_count": 20,
   "metadata": {},
   "outputs": [
    {
     "data": {
      "text/plain": [
       "7"
      ]
     },
     "execution_count": 20,
     "metadata": {},
     "output_type": "execute_result"
    }
   ],
   "source": [
    "gc.collect()"
   ]
  }
 ],
 "metadata": {
  "kernelspec": {
   "display_name": ".venv",
   "language": "python",
   "name": "python3"
  },
  "language_info": {
   "codemirror_mode": {
    "name": "ipython",
    "version": 3
   },
   "file_extension": ".py",
   "mimetype": "text/x-python",
   "name": "python",
   "nbconvert_exporter": "python",
   "pygments_lexer": "ipython3",
   "version": "3.12.4"
  }
 },
 "nbformat": 4,
 "nbformat_minor": 2
}
